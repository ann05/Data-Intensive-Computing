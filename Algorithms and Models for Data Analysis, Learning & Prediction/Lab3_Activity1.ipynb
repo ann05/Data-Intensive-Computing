{
 "cells": [
  {
   "cell_type": "code",
   "execution_count": 28,
   "metadata": {
    "collapsed": false
   },
   "outputs": [],
   "source": [
    "library(readxl)\n",
    "data <- read_excel(\"NHLTop100.xlsx\")"
   ]
  },
  {
   "cell_type": "code",
   "execution_count": 29,
   "metadata": {
    "collapsed": false
   },
   "outputs": [
    {
     "data": {
      "text/html": [
       "<table>\n",
       "<thead><tr><th scope=col>Rank</th><th scope=col>Player</th><th scope=col>Team</th><th scope=col>Pos</th><th scope=col>1st NHL Season</th><th scope=col>Last NHL Season</th><th scope=col>GP</th><th scope=col>G</th><th scope=col>A</th><th scope=col>P</th><th scope=col>+/-</th><th scope=col>PIM</th><th scope=col>PP</th><th scope=col>SH</th><th scope=col>GW</th><th scope=col>GT</th><th scope=col>OT</th><th scope=col>Shots</th></tr></thead>\n",
       "<tbody>\n",
       "\t<tr><td>1            </td><td>Wayne Gretzky</td><td>NA           </td><td>C            </td><td>1979-1980    </td><td>1998-1999    </td><td>1487         </td><td>894          </td><td>1963         </td><td>2857         </td><td>518          </td><td> 577         </td><td>204          </td><td>73           </td><td>91           </td><td>12           </td><td> 1           </td><td>5089         </td></tr>\n",
       "\t<tr><td>2            </td><td>Mark Messier </td><td>NA           </td><td>C            </td><td>1979-1980    </td><td>2003-2004    </td><td>1756         </td><td>694          </td><td>1193         </td><td>1887         </td><td>210          </td><td>1910         </td><td>179          </td><td>63           </td><td>92           </td><td>15           </td><td> 7           </td><td>4219         </td></tr>\n",
       "\t<tr><td>3            </td><td>Gordie Howe  </td><td>NA           </td><td>R            </td><td>1946-1947    </td><td>1979-1980    </td><td>1767         </td><td>801          </td><td>1049         </td><td>1850         </td><td> 87          </td><td>1685         </td><td> 39          </td><td> 5           </td><td>18           </td><td>NA           </td><td>NA           </td><td>  NA         </td></tr>\n",
       "\t<tr><td>4            </td><td>Ron Francis  </td><td>NA           </td><td>C            </td><td>1981-1982    </td><td>2003-2004    </td><td>1731         </td><td>549          </td><td>1249         </td><td>1798         </td><td>-10          </td><td> 979         </td><td>188          </td><td>12           </td><td>79           </td><td>13           </td><td> 3           </td><td>3754         </td></tr>\n",
       "\t<tr><td>5            </td><td>Marcel Dionne</td><td>NA           </td><td>C            </td><td>1971-1972    </td><td>1988-1989    </td><td>1348         </td><td>731          </td><td>1040         </td><td>1771         </td><td> 28          </td><td> 600         </td><td>234          </td><td>19           </td><td>74           </td><td> 1           </td><td> 2           </td><td>5366         </td></tr>\n",
       "\t<tr><td>6            </td><td>Steve Yzerman</td><td>NA           </td><td>C            </td><td>1983-1984    </td><td>2005-2006    </td><td>1514         </td><td>692          </td><td>1063         </td><td>1755         </td><td>202          </td><td> 924         </td><td>202          </td><td>50           </td><td>94           </td><td>12           </td><td> 8           </td><td>4602         </td></tr>\n",
       "</tbody>\n",
       "</table>\n"
      ],
      "text/latex": [
       "\\begin{tabular}{r|llllllllllllllllll}\n",
       " Rank & Player & Team & Pos & 1st NHL Season & Last NHL Season & GP & G & A & P & +/- & PIM & PP & SH & GW & GT & OT & Shots\\\\\n",
       "\\hline\n",
       "\t 1             & Wayne Gretzky & NA            & C             & 1979-1980     & 1998-1999     & 1487          & 894           & 1963          & 2857          & 518           &  577          & 204           & 73            & 91            & 12            &  1            & 5089         \\\\\n",
       "\t 2             & Mark Messier  & NA            & C             & 1979-1980     & 2003-2004     & 1756          & 694           & 1193          & 1887          & 210           & 1910          & 179           & 63            & 92            & 15            &  7            & 4219         \\\\\n",
       "\t 3             & Gordie Howe   & NA            & R             & 1946-1947     & 1979-1980     & 1767          & 801           & 1049          & 1850          &  87           & 1685          &  39           &  5            & 18            & NA            & NA            &   NA         \\\\\n",
       "\t 4             & Ron Francis   & NA            & C             & 1981-1982     & 2003-2004     & 1731          & 549           & 1249          & 1798          & -10           &  979          & 188           & 12            & 79            & 13            &  3            & 3754         \\\\\n",
       "\t 5             & Marcel Dionne & NA            & C             & 1971-1972     & 1988-1989     & 1348          & 731           & 1040          & 1771          &  28           &  600          & 234           & 19            & 74            &  1            &  2            & 5366         \\\\\n",
       "\t 6             & Steve Yzerman & NA            & C             & 1983-1984     & 2005-2006     & 1514          & 692           & 1063          & 1755          & 202           &  924          & 202           & 50            & 94            & 12            &  8            & 4602         \\\\\n",
       "\\end{tabular}\n"
      ],
      "text/markdown": [
       "\n",
       "Rank | Player | Team | Pos | 1st NHL Season | Last NHL Season | GP | G | A | P | +/- | PIM | PP | SH | GW | GT | OT | Shots | \n",
       "|---|---|---|---|---|---|\n",
       "| 1             | Wayne Gretzky | NA            | C             | 1979-1980     | 1998-1999     | 1487          | 894           | 1963          | 2857          | 518           |  577          | 204           | 73            | 91            | 12            |  1            | 5089          | \n",
       "| 2             | Mark Messier  | NA            | C             | 1979-1980     | 2003-2004     | 1756          | 694           | 1193          | 1887          | 210           | 1910          | 179           | 63            | 92            | 15            |  7            | 4219          | \n",
       "| 3             | Gordie Howe   | NA            | R             | 1946-1947     | 1979-1980     | 1767          | 801           | 1049          | 1850          |  87           | 1685          |  39           |  5            | 18            | NA            | NA            |   NA          | \n",
       "| 4             | Ron Francis   | NA            | C             | 1981-1982     | 2003-2004     | 1731          | 549           | 1249          | 1798          | -10           |  979          | 188           | 12            | 79            | 13            |  3            | 3754          | \n",
       "| 5             | Marcel Dionne | NA            | C             | 1971-1972     | 1988-1989     | 1348          | 731           | 1040          | 1771          |  28           |  600          | 234           | 19            | 74            |  1            |  2            | 5366          | \n",
       "| 6             | Steve Yzerman | NA            | C             | 1983-1984     | 2005-2006     | 1514          | 692           | 1063          | 1755          | 202           |  924          | 202           | 50            | 94            | 12            |  8            | 4602          | \n",
       "\n",
       "\n"
      ],
      "text/plain": [
       "  Rank Player        Team Pos 1st NHL Season Last NHL Season GP   G   A    P   \n",
       "1 1    Wayne Gretzky NA   C   1979-1980      1998-1999       1487 894 1963 2857\n",
       "2 2    Mark Messier  NA   C   1979-1980      2003-2004       1756 694 1193 1887\n",
       "3 3    Gordie Howe   NA   R   1946-1947      1979-1980       1767 801 1049 1850\n",
       "4 4    Ron Francis   NA   C   1981-1982      2003-2004       1731 549 1249 1798\n",
       "5 5    Marcel Dionne NA   C   1971-1972      1988-1989       1348 731 1040 1771\n",
       "6 6    Steve Yzerman NA   C   1983-1984      2005-2006       1514 692 1063 1755\n",
       "  +/- PIM  PP  SH GW GT OT Shots\n",
       "1 518  577 204 73 91 12  1 5089 \n",
       "2 210 1910 179 63 92 15  7 4219 \n",
       "3  87 1685  39  5 18 NA NA   NA \n",
       "4 -10  979 188 12 79 13  3 3754 \n",
       "5  28  600 234 19 74  1  2 5366 \n",
       "6 202  924 202 50 94 12  8 4602 "
      ]
     },
     "metadata": {},
     "output_type": "display_data"
    }
   ],
   "source": [
    "head(data)"
   ]
  },
  {
   "cell_type": "code",
   "execution_count": 30,
   "metadata": {
    "collapsed": false
   },
   "outputs": [
    {
     "data": {
      "text/html": [
       "<ol class=list-inline>\n",
       "\t<li>'Rank'</li>\n",
       "\t<li>'Player'</li>\n",
       "\t<li>'Team'</li>\n",
       "\t<li>'Pos'</li>\n",
       "\t<li>'1st NHL Season'</li>\n",
       "\t<li>'Last NHL Season'</li>\n",
       "\t<li>'GP'</li>\n",
       "\t<li>'G'</li>\n",
       "\t<li>'A'</li>\n",
       "\t<li>'P'</li>\n",
       "\t<li>'+/-'</li>\n",
       "\t<li>'PIM'</li>\n",
       "\t<li>'PP'</li>\n",
       "\t<li>'SH'</li>\n",
       "\t<li>'GW'</li>\n",
       "\t<li>'GT'</li>\n",
       "\t<li>'OT'</li>\n",
       "\t<li>'Shots'</li>\n",
       "</ol>\n"
      ],
      "text/latex": [
       "\\begin{enumerate*}\n",
       "\\item 'Rank'\n",
       "\\item 'Player'\n",
       "\\item 'Team'\n",
       "\\item 'Pos'\n",
       "\\item '1st NHL Season'\n",
       "\\item 'Last NHL Season'\n",
       "\\item 'GP'\n",
       "\\item 'G'\n",
       "\\item 'A'\n",
       "\\item 'P'\n",
       "\\item '+/-'\n",
       "\\item 'PIM'\n",
       "\\item 'PP'\n",
       "\\item 'SH'\n",
       "\\item 'GW'\n",
       "\\item 'GT'\n",
       "\\item 'OT'\n",
       "\\item 'Shots'\n",
       "\\end{enumerate*}\n"
      ],
      "text/markdown": [
       "1. 'Rank'\n",
       "2. 'Player'\n",
       "3. 'Team'\n",
       "4. 'Pos'\n",
       "5. '1st NHL Season'\n",
       "6. 'Last NHL Season'\n",
       "7. 'GP'\n",
       "8. 'G'\n",
       "9. 'A'\n",
       "10. 'P'\n",
       "11. '+/-'\n",
       "12. 'PIM'\n",
       "13. 'PP'\n",
       "14. 'SH'\n",
       "15. 'GW'\n",
       "16. 'GT'\n",
       "17. 'OT'\n",
       "18. 'Shots'\n",
       "\n",
       "\n"
      ],
      "text/plain": [
       " [1] \"Rank\"            \"Player\"          \"Team\"            \"Pos\"            \n",
       " [5] \"1st NHL Season\"  \"Last NHL Season\" \"GP\"              \"G\"              \n",
       " [9] \"A\"               \"P\"               \"+/-\"             \"PIM\"            \n",
       "[13] \"PP\"              \"SH\"              \"GW\"              \"GT\"             \n",
       "[17] \"OT\"              \"Shots\"          "
      ]
     },
     "metadata": {},
     "output_type": "display_data"
    }
   ],
   "source": [
    "names(data)"
   ]
  },
  {
   "cell_type": "markdown",
   "metadata": {},
   "source": [
    "<p> Bit (a)"
   ]
  },
  {
   "cell_type": "code",
   "execution_count": 31,
   "metadata": {
    "collapsed": false
   },
   "outputs": [],
   "source": [
    "lmfit<-lm(A~G, data=data)"
   ]
  },
  {
   "cell_type": "code",
   "execution_count": 32,
   "metadata": {
    "collapsed": false
   },
   "outputs": [
    {
     "data": {
      "image/png": "[encoded data removed]",
      "text/plain": [
       "plot without title"
      ]
     },
     "metadata": {},
     "output_type": "display_data"
    }
   ],
   "source": [
    "with(data,plot(G, A))\n",
    "abline(lmfit)"
   ]
  },
  {
   "cell_type": "markdown",
   "metadata": {},
   "source": [
    "<p> Initial fitting of the data"
   ]
  },
  {
   "cell_type": "code",
   "execution_count": 33,
   "metadata": {
    "collapsed": false
   },
   "outputs": [],
   "source": [
    "lm<-summary(lmfit)"
   ]
  },
  {
   "cell_type": "code",
   "execution_count": 34,
   "metadata": {
    "collapsed": false
   },
   "outputs": [
    {
     "data": {
      "text/plain": [
       "\n",
       "Call:\n",
       "lm(formula = A ~ G, data = data)\n",
       "\n",
       "Residuals:\n",
       "    Min      1Q  Median      3Q     Max \n",
       "-356.51 -158.59  -10.29  125.08 1003.42 \n",
       "\n",
       "Coefficients:\n",
       "            Estimate Std. Error t value Pr(>|t|)    \n",
       "(Intercept) 494.5135    74.6410   6.625 1.88e-09 ***\n",
       "G             0.5202     0.1508   3.449 0.000832 ***\n",
       "---\n",
       "Signif. codes:  0 '***' 0.001 '**' 0.01 '*' 0.05 '.' 0.1 ' ' 1\n",
       "\n",
       "Residual standard error: 207 on 98 degrees of freedom\n",
       "Multiple R-squared:  0.1082,\tAdjusted R-squared:  0.09913 \n",
       "F-statistic: 11.89 on 1 and 98 DF,  p-value: 0.0008317\n"
      ]
     },
     "metadata": {},
     "output_type": "display_data"
    }
   ],
   "source": [
    "lm"
   ]
  },
  {
   "cell_type": "code",
   "execution_count": 35,
   "metadata": {
    "collapsed": false
   },
   "outputs": [],
   "source": [
    "r_square<-lm$r.squared\n",
    "p_value<-0.0008317"
   ]
  },
  {
   "cell_type": "markdown",
   "metadata": {},
   "source": [
    "<p> R-square and p values After the initial fitting"
   ]
  },
  {
   "cell_type": "code",
   "execution_count": 36,
   "metadata": {
    "collapsed": false
   },
   "outputs": [
    {
     "name": "stdout",
     "output_type": "stream",
     "text": [
      "[1] \"r-squared:\"\n"
     ]
    },
    {
     "data": {
      "text/html": [
       "0.10823050447434"
      ],
      "text/latex": [
       "0.10823050447434"
      ],
      "text/markdown": [
       "0.10823050447434"
      ],
      "text/plain": [
       "[1] 0.1082305"
      ]
     },
     "metadata": {},
     "output_type": "display_data"
    },
    {
     "name": "stdout",
     "output_type": "stream",
     "text": [
      "[1] \"P value: \"\n"
     ]
    },
    {
     "data": {
      "text/html": [
       "0.0008317"
      ],
      "text/latex": [
       "0.0008317"
      ],
      "text/markdown": [
       "0.0008317"
      ],
      "text/plain": [
       "[1] 0.0008317"
      ]
     },
     "metadata": {},
     "output_type": "display_data"
    }
   ],
   "source": [
    "print(\"r-squared:\")\n",
    "r_square\n",
    "print(\"P value: \")\n",
    "p_value"
   ]
  },
  {
   "cell_type": "markdown",
   "metadata": {},
   "source": [
    "<p> Bit (b)"
   ]
  },
  {
   "cell_type": "code",
   "execution_count": 37,
   "metadata": {
    "collapsed": false
   },
   "outputs": [
    {
     "data": {
      "text/plain": [
       "\n",
       "Call:\n",
       "lm(formula = I(A - 1963) ~ I(G - 894), data = data)\n",
       "\n",
       "Coefficients:\n",
       "(Intercept)   I(G - 894)  \n",
       " -1003.4220       0.5202  \n"
      ]
     },
     "metadata": {},
     "output_type": "display_data"
    }
   ],
   "source": [
    "lmfit2<-lm(I(A-1963) ~ I(G-894), data=data)\n",
    "lmfit2"
   ]
  },
  {
   "cell_type": "code",
   "execution_count": 38,
   "metadata": {
    "collapsed": false
   },
   "outputs": [
    {
     "data": {
      "image/png": "[encoded data removed]",
      "text/plain": [
       "plot without title"
      ]
     },
     "metadata": {},
     "output_type": "display_data"
    }
   ],
   "source": [
    "c=-1003.\n",
    "m=(1963-c)/894\n",
    "with(data,plot(G, A))\n",
    "abline(c,m)\n",
    "lm2<-summary(lmfit2)\n"
   ]
  },
  {
   "cell_type": "markdown",
   "metadata": {},
   "source": [
    "<p> model so that it line is forced through Wayne Gretzky"
   ]
  },
  {
   "cell_type": "code",
   "execution_count": 39,
   "metadata": {
    "collapsed": false
   },
   "outputs": [
    {
     "data": {
      "text/plain": [
       "\n",
       "Call:\n",
       "lm(formula = I(A - 1963) ~ I(G - 894), data = data)\n",
       "\n",
       "Residuals:\n",
       "    Min      1Q  Median      3Q     Max \n",
       "-356.51 -158.59  -10.29  125.08 1003.42 \n",
       "\n",
       "Coefficients:\n",
       "              Estimate Std. Error t value Pr(>|t|)    \n",
       "(Intercept) -1003.4220    66.4463 -15.101  < 2e-16 ***\n",
       "I(G - 894)      0.5202     0.1508   3.449 0.000832 ***\n",
       "---\n",
       "Signif. codes:  0 '***' 0.001 '**' 0.01 '*' 0.05 '.' 0.1 ' ' 1\n",
       "\n",
       "Residual standard error: 207 on 98 degrees of freedom\n",
       "Multiple R-squared:  0.1082,\tAdjusted R-squared:  0.09913 \n",
       "F-statistic: 11.89 on 1 and 98 DF,  p-value: 0.0008317\n"
      ]
     },
     "metadata": {},
     "output_type": "display_data"
    }
   ],
   "source": [
    "lm2"
   ]
  },
  {
   "cell_type": "markdown",
   "metadata": {},
   "source": [
    "r-square and p values after the model is forced through Wayne Gretzky"
   ]
  },
  {
   "cell_type": "code",
   "execution_count": 40,
   "metadata": {
    "collapsed": false
   },
   "outputs": [
    {
     "name": "stdout",
     "output_type": "stream",
     "text": [
      "[1] \"r-squared:\"\n"
     ]
    },
    {
     "data": {
      "text/html": [
       "0.10823050447434"
      ],
      "text/latex": [
       "0.10823050447434"
      ],
      "text/markdown": [
       "0.10823050447434"
      ],
      "text/plain": [
       "[1] 0.1082305"
      ]
     },
     "metadata": {},
     "output_type": "display_data"
    },
    {
     "name": "stdout",
     "output_type": "stream",
     "text": [
      "[1] \"P value: \"\n"
     ]
    },
    {
     "data": {
      "text/html": [
       "0.0008317"
      ],
      "text/latex": [
       "0.0008317"
      ],
      "text/markdown": [
       "0.0008317"
      ],
      "text/plain": [
       "[1] 0.0008317"
      ]
     },
     "metadata": {},
     "output_type": "display_data"
    }
   ],
   "source": [
    "r_square2<-lm2$r.squared\n",
    "p_value2<-0.0008317\n",
    "print(\"r-squared:\")\n",
    "r_square2\n",
    "print(\"P value: \")\n",
    "p_value2"
   ]
  },
  {
   "cell_type": "markdown",
   "metadata": {},
   "source": [
    "<p> Bit (c)"
   ]
  },
  {
   "cell_type": "code",
   "execution_count": 41,
   "metadata": {
    "collapsed": true
   },
   "outputs": [],
   "source": [
    "data1<- read_excel(\"NHLTop101.xlsx\")"
   ]
  },
  {
   "cell_type": "code",
   "execution_count": 42,
   "metadata": {
    "collapsed": false
   },
   "outputs": [
    {
     "data": {
      "text/plain": [
       "\n",
       "Call:\n",
       "lm(formula = I(A - 465) ~ I(G - 285), data = data1)\n",
       "\n",
       "Coefficients:\n",
       "(Intercept)   I(G - 285)  \n",
       "   172.7210       0.5377  \n"
      ]
     },
     "metadata": {},
     "output_type": "display_data"
    }
   ],
   "source": [
    "lmfit3<-lm(I(A-465) ~ I(G-285), data=data1)\n",
    "lmfit3"
   ]
  },
  {
   "cell_type": "code",
   "execution_count": 43,
   "metadata": {
    "collapsed": false
   },
   "outputs": [],
   "source": [
    "c=172.7210\n",
    "m=(465-c)/285"
   ]
  },
  {
   "cell_type": "code",
   "execution_count": 44,
   "metadata": {
    "collapsed": false
   },
   "outputs": [
    {
     "data": {
      "image/png": "[encoded data removed]",
      "text/plain": [
       "plot without title"
      ]
     },
     "metadata": {},
     "output_type": "display_data"
    }
   ],
   "source": [
    "with(data1,plot(G, A))\n",
    "abline(c,m)\n",
    "lm3<-summary(lmfit3)"
   ]
  },
  {
   "cell_type": "markdown",
   "metadata": {},
   "source": [
    "<p>  After adding the data for another player Patrick Kane"
   ]
  },
  {
   "cell_type": "code",
   "execution_count": 45,
   "metadata": {
    "collapsed": false
   },
   "outputs": [
    {
     "data": {
      "text/plain": [
       "\n",
       "Call:\n",
       "lm(formula = I(A - 465) ~ I(G - 285), data = data1)\n",
       "\n",
       "Residuals:\n",
       "    Min      1Q  Median      3Q     Max \n",
       "-355.98 -172.72   -8.94  126.20  997.84 \n",
       "\n",
       "Coefficients:\n",
       "            Estimate Std. Error t value Pr(>|t|)    \n",
       "(Intercept) 172.7210    34.8505   4.956 2.97e-06 ***\n",
       "I(G - 285)    0.5377     0.1492   3.603 0.000493 ***\n",
       "---\n",
       "Signif. codes:  0 '***' 0.001 '**' 0.01 '*' 0.05 '.' 0.1 ' ' 1\n",
       "\n",
       "Residual standard error: 206.7 on 99 degrees of freedom\n",
       "Multiple R-squared:  0.116,\tAdjusted R-squared:  0.107 \n",
       "F-statistic: 12.98 on 1 and 99 DF,  p-value: 0.0004934\n"
      ]
     },
     "metadata": {},
     "output_type": "display_data"
    }
   ],
   "source": [
    "lm3"
   ]
  },
  {
   "cell_type": "markdown",
   "metadata": {},
   "source": [
    "r-square and p values after adding the data for another player Patrick Kane"
   ]
  },
  {
   "cell_type": "code",
   "execution_count": 46,
   "metadata": {
    "collapsed": false
   },
   "outputs": [
    {
     "name": "stdout",
     "output_type": "stream",
     "text": [
      "[1] \"r-squared:\"\n"
     ]
    },
    {
     "data": {
      "text/html": [
       "0.115951676728681"
      ],
      "text/latex": [
       "0.115951676728681"
      ],
      "text/markdown": [
       "0.115951676728681"
      ],
      "text/plain": [
       "[1] 0.1159517"
      ]
     },
     "metadata": {},
     "output_type": "display_data"
    },
    {
     "name": "stdout",
     "output_type": "stream",
     "text": [
      "[1] \"P value: \"\n"
     ]
    },
    {
     "data": {
      "text/html": [
       "0.0004934"
      ],
      "text/latex": [
       "0.0004934"
      ],
      "text/markdown": [
       "0.0004934"
      ],
      "text/plain": [
       "[1] 0.0004934"
      ]
     },
     "metadata": {},
     "output_type": "display_data"
    }
   ],
   "source": [
    "r_square3<-lm3$r.squared\n",
    "p_value3<-0.0004934\n",
    "print(\"r-squared:\")\n",
    "r_square3\n",
    "print(\"P value: \")\n",
    "p_value3"
   ]
  },
  {
   "cell_type": "markdown",
   "metadata": {},
   "source": [
    "<p> Bit d"
   ]
  },
  {
   "cell_type": "code",
   "execution_count": 47,
   "metadata": {
    "collapsed": false
   },
   "outputs": [
    {
     "data": {
      "text/plain": [
       "\n",
       "Call:\n",
       "lm(formula = A ~ G + 0, data = data)\n",
       "\n",
       "Residuals:\n",
       "    Min      1Q  Median      3Q     Max \n",
       "-446.93 -137.40    1.88  159.73  639.58 \n",
       "\n",
       "Coefficients:\n",
       "  Estimate Std. Error t value Pr(>|t|)    \n",
       "G  1.48033    0.05009   29.55   <2e-16 ***\n",
       "---\n",
       "Signif. codes:  0 '***' 0.001 '**' 0.01 '*' 0.05 '.' 0.1 ' ' 1\n",
       "\n",
       "Residual standard error: 247.9 on 99 degrees of freedom\n",
       "Multiple R-squared:  0.8982,\tAdjusted R-squared:  0.8972 \n",
       "F-statistic: 873.4 on 1 and 99 DF,  p-value: < 2.2e-16\n"
      ]
     },
     "metadata": {},
     "output_type": "display_data"
    },
    {
     "data": {
      "image/png": "[encoded data removed]",
      "text/plain": [
       "plot without title"
      ]
     },
     "metadata": {},
     "output_type": "display_data"
    }
   ],
   "source": [
    "lmfitN<-lm(A~G +0, data=data)\n",
    "with(data,plot(G, A, xlim=range(0:1000),ylim=range(0,2000)))\n",
    "abline(lmfitN)\n",
    "lmN<-summary(lmfitN)\n",
    "lmN\n"
   ]
  },
  {
   "cell_type": "markdown",
   "metadata": {},
   "source": [
    "Initial fit passing through origin"
   ]
  },
  {
   "cell_type": "code",
   "execution_count": 48,
   "metadata": {
    "collapsed": false
   },
   "outputs": [
    {
     "name": "stdout",
     "output_type": "stream",
     "text": [
      "[1] \"r-squared:\"\n"
     ]
    },
    {
     "data": {
      "text/html": [
       "0.89818610880756"
      ],
      "text/latex": [
       "0.89818610880756"
      ],
      "text/markdown": [
       "0.89818610880756"
      ],
      "text/plain": [
       "[1] 0.8981861"
      ]
     },
     "metadata": {},
     "output_type": "display_data"
    },
    {
     "name": "stdout",
     "output_type": "stream",
     "text": [
      "[1] \"P value: \"\n"
     ]
    },
    {
     "data": {
      "text/html": [
       "2.2e-16"
      ],
      "text/latex": [
       "2.2e-16"
      ],
      "text/markdown": [
       "2.2e-16"
      ],
      "text/plain": [
       "[1] 2.2e-16"
      ]
     },
     "metadata": {},
     "output_type": "display_data"
    }
   ],
   "source": [
    "r_square_N<-lmN$r.squared\n",
    "p_value_N<-2.2e-16\n",
    "print(\"r-squared:\")\n",
    "r_square_N\n",
    "print(\"P value: \")\n",
    "p_value_N"
   ]
  },
  {
   "cell_type": "code",
   "execution_count": 49,
   "metadata": {
    "collapsed": false
   },
   "outputs": [
    {
     "data": {
      "text/plain": [
       "\n",
       "Call:\n",
       "lm(formula = I(A - 1963) ~ I(G - 894) + 0, data = data)\n",
       "\n",
       "Residuals:\n",
       "   Min     1Q Median     3Q    Max \n",
       "-902.2 -333.4 -145.4  103.3  703.4 \n",
       "\n",
       "Coefficients:\n",
       "           Estimate Std. Error t value Pr(>|t|)    \n",
       "I(G - 894)   2.6847     0.0853   31.48   <2e-16 ***\n",
       "---\n",
       "Signif. codes:  0 '***' 0.001 '**' 0.01 '*' 0.05 '.' 0.1 ' ' 1\n",
       "\n",
       "Residual standard error: 375.7 on 99 degrees of freedom\n",
       "Multiple R-squared:  0.9091,\tAdjusted R-squared:  0.9082 \n",
       "F-statistic: 990.7 on 1 and 99 DF,  p-value: < 2.2e-16\n"
      ]
     },
     "metadata": {},
     "output_type": "display_data"
    },
    {
     "data": {
      "image/png": "[encoded data removed]",
      "text/plain": [
       "plot without title"
      ]
     },
     "metadata": {},
     "output_type": "display_data"
    }
   ],
   "source": [
    "lmfit2_N<-lm(I(A-1963) ~ I(G-894)+0, data=data)\n",
    "with(data,plot(G, A, xlim=range(0:1000),ylim=range(0,2000)))\n",
    "m<-1963/894\n",
    "abline(0,m)\n",
    "lm2_N<-summary(lmfit2_N)\n",
    "lm2_N"
   ]
  },
  {
   "cell_type": "markdown",
   "metadata": {},
   "source": [
    "<p> Fit passing through origin and Wayne Gretzky."
   ]
  },
  {
   "cell_type": "code",
   "execution_count": 50,
   "metadata": {
    "collapsed": false
   },
   "outputs": [
    {
     "name": "stdout",
     "output_type": "stream",
     "text": [
      "[1] \"r-squared:\"\n"
     ]
    },
    {
     "data": {
      "text/html": [
       "0.909145627591712"
      ],
      "text/latex": [
       "0.909145627591712"
      ],
      "text/markdown": [
       "0.909145627591712"
      ],
      "text/plain": [
       "[1] 0.9091456"
      ]
     },
     "metadata": {},
     "output_type": "display_data"
    },
    {
     "name": "stdout",
     "output_type": "stream",
     "text": [
      "[1] \"P value: \"\n"
     ]
    },
    {
     "data": {
      "text/html": [
       "2.2e-16"
      ],
      "text/latex": [
       "2.2e-16"
      ],
      "text/markdown": [
       "2.2e-16"
      ],
      "text/plain": [
       "[1] 2.2e-16"
      ]
     },
     "metadata": {},
     "output_type": "display_data"
    }
   ],
   "source": [
    "r_square2_N<-lm2_N$r.squared\n",
    "p_value2_N<-2.2e-16\n",
    "print(\"r-squared:\")\n",
    "r_square2_N\n",
    "print(\"P value: \")\n",
    "p_value2_N"
   ]
  },
  {
   "cell_type": "code",
   "execution_count": 51,
   "metadata": {
    "collapsed": false
   },
   "outputs": [
    {
     "data": {
      "text/plain": [
       "\n",
       "Call:\n",
       "lm(formula = I(A - 465) ~ I(G - 285) + 0, data = data1)\n",
       "\n",
       "Residuals:\n",
       "    Min      1Q  Median      3Q     Max \n",
       "-337.85 -114.55   40.53  165.99  807.05 \n",
       "\n",
       "Coefficients:\n",
       "           Estimate Std. Error t value Pr(>|t|)    \n",
       "I(G - 285)   1.1346     0.0979   11.59   <2e-16 ***\n",
       "---\n",
       "Signif. codes:  0 '***' 0.001 '**' 0.01 '*' 0.05 '.' 0.1 ' ' 1\n",
       "\n",
       "Residual standard error: 229.8 on 100 degrees of freedom\n",
       "Multiple R-squared:  0.5732,\tAdjusted R-squared:  0.5689 \n",
       "F-statistic: 134.3 on 1 and 100 DF,  p-value: < 2.2e-16\n"
      ]
     },
     "metadata": {},
     "output_type": "display_data"
    },
    {
     "data": {
      "image/png": "[encoded data removed]",
      "text/plain": [
       "plot without title"
      ]
     },
     "metadata": {},
     "output_type": "display_data"
    }
   ],
   "source": [
    "lmfit3_N<-lm(I(A-465) ~ I(G-285)+0, data=data1)\n",
    "with(data1,plot(G, A, xlim=range(0:1000),ylim=range(0,2000)))\n",
    "m<-465/285\n",
    "abline(0,m)\n",
    "lm3_N<-summary(lmfit3_N)\n",
    "lm3_N"
   ]
  },
  {
   "cell_type": "markdown",
   "metadata": {},
   "source": [
    "<p> Fit passing through origin and Patrick Kane"
   ]
  },
  {
   "cell_type": "code",
   "execution_count": 52,
   "metadata": {
    "collapsed": false
   },
   "outputs": [
    {
     "name": "stdout",
     "output_type": "stream",
     "text": [
      "[1] \"r-squared:\"\n"
     ]
    },
    {
     "data": {
      "text/html": [
       "0.573181712694336"
      ],
      "text/latex": [
       "0.573181712694336"
      ],
      "text/markdown": [
       "0.573181712694336"
      ],
      "text/plain": [
       "[1] 0.5731817"
      ]
     },
     "metadata": {},
     "output_type": "display_data"
    },
    {
     "name": "stdout",
     "output_type": "stream",
     "text": [
      "[1] \"P value: \"\n"
     ]
    },
    {
     "data": {
      "text/html": [
       "2.2e-16"
      ],
      "text/latex": [
       "2.2e-16"
      ],
      "text/markdown": [
       "2.2e-16"
      ],
      "text/plain": [
       "[1] 2.2e-16"
      ]
     },
     "metadata": {},
     "output_type": "display_data"
    }
   ],
   "source": [
    "r_square3_N<-lm3_N$r.squared\n",
    "p_value3_N<-2.2e-16\n",
    "print(\"r-squared:\")\n",
    "r_square3_N\n",
    "print(\"P value: \")\n",
    "p_value3_N"
   ]
  },
  {
   "cell_type": "code",
   "execution_count": 53,
   "metadata": {
    "collapsed": false
   },
   "outputs": [],
   "source": [
    "Model_Names <-c('Initial fit','Wayne Gretzky fit','Patrick Kane', 'origin-Initial fit', 'origin -Wayne Gretzky','origin- Patrick Kane')\n",
    "R_squared <- c(r_square,r_square2,r_square3,r_square_N,r_square2_N,r_square3_N)\n",
    "P_value<-c(p_value,p_value2,p_value3,p_value_N,p_value2_N,p_value3_N)\n",
    "table<-data.frame(Model_Names,R_squared,P_value)"
   ]
  },
  {
   "cell_type": "code",
   "execution_count": 54,
   "metadata": {
    "collapsed": false
   },
   "outputs": [
    {
     "data": {
      "text/html": [
       "<table>\n",
       "<thead><tr><th scope=col>Model_Names</th><th scope=col>R_squared</th><th scope=col>P_value</th></tr></thead>\n",
       "<tbody>\n",
       "\t<tr><td>Initial fit          </td><td>0.1082305            </td><td>8.317e-04            </td></tr>\n",
       "\t<tr><td>Wayne Gretzky fit    </td><td>0.1082305            </td><td>8.317e-04            </td></tr>\n",
       "\t<tr><td>Patrick Kane         </td><td>0.1159517            </td><td>4.934e-04            </td></tr>\n",
       "\t<tr><td>origin-Initial fit   </td><td>0.8981861            </td><td>2.200e-16            </td></tr>\n",
       "\t<tr><td>origin -Wayne Gretzky</td><td>0.9091456            </td><td>2.200e-16            </td></tr>\n",
       "\t<tr><td>origin- Patrick Kane </td><td>0.5731817            </td><td>2.200e-16            </td></tr>\n",
       "</tbody>\n",
       "</table>\n"
      ],
      "text/latex": [
       "\\begin{tabular}{r|lll}\n",
       " Model\\_Names & R\\_squared & P\\_value\\\\\n",
       "\\hline\n",
       "\t Initial fit           & 0.1082305             & 8.317e-04            \\\\\n",
       "\t Wayne Gretzky fit     & 0.1082305             & 8.317e-04            \\\\\n",
       "\t Patrick Kane          & 0.1159517             & 4.934e-04            \\\\\n",
       "\t origin-Initial fit    & 0.8981861             & 2.200e-16            \\\\\n",
       "\t origin -Wayne Gretzky & 0.9091456             & 2.200e-16            \\\\\n",
       "\t origin- Patrick Kane  & 0.5731817             & 2.200e-16            \\\\\n",
       "\\end{tabular}\n"
      ],
      "text/markdown": [
       "\n",
       "Model_Names | R_squared | P_value | \n",
       "|---|---|---|---|---|---|\n",
       "| Initial fit           | 0.1082305             | 8.317e-04             | \n",
       "| Wayne Gretzky fit     | 0.1082305             | 8.317e-04             | \n",
       "| Patrick Kane          | 0.1159517             | 4.934e-04             | \n",
       "| origin-Initial fit    | 0.8981861             | 2.200e-16             | \n",
       "| origin -Wayne Gretzky | 0.9091456             | 2.200e-16             | \n",
       "| origin- Patrick Kane  | 0.5731817             | 2.200e-16             | \n",
       "\n",
       "\n"
      ],
      "text/plain": [
       "  Model_Names           R_squared P_value  \n",
       "1 Initial fit           0.1082305 8.317e-04\n",
       "2 Wayne Gretzky fit     0.1082305 8.317e-04\n",
       "3 Patrick Kane          0.1159517 4.934e-04\n",
       "4 origin-Initial fit    0.8981861 2.200e-16\n",
       "5 origin -Wayne Gretzky 0.9091456 2.200e-16\n",
       "6 origin- Patrick Kane  0.5731817 2.200e-16"
      ]
     },
     "metadata": {},
     "output_type": "display_data"
    }
   ],
   "source": [
    "table"
   ]
  },
  {
   "cell_type": "markdown",
   "metadata": {},
   "source": [
    "<p> As it can be seen for the above table th r-square and p-values are high and low respectivley ensuring that the fit is good.\n",
    "1. The r-square and p-values are the same for the initial fit and the fit passed through Wayne Gretzky have the same values.\n",
    "2. From the above data it can be seen that the most ideal fit is the one passing through the origin and Wayne Gretzky"
   ]
  },
  {
   "cell_type": "code",
   "execution_count": null,
   "metadata": {
    "collapsed": true
   },
   "outputs": [],
   "source": []
  }
 ],
 "metadata": {
  "kernelspec": {
   "display_name": "R",
   "language": "R",
   "name": "ir"
  },
  "language_info": {
   "codemirror_mode": "r",
   "file_extension": ".r",
   "mimetype": "text/x-r-source",
   "name": "R",
   "pygments_lexer": "r",
   "version": "3.3.1"
  }
 },
 "nbformat": 4,
 "nbformat_minor": 0
}
