{
 "cells": [
  {
   "cell_type": "code",
   "execution_count": 1,
   "metadata": {
    "collapsed": false
   },
   "outputs": [],
   "source": [
    "data<-read.csv(\"german_credit_data1.csv\")"
   ]
  },
  {
   "cell_type": "code",
   "execution_count": 2,
   "metadata": {
    "collapsed": false
   },
   "outputs": [
    {
     "data": {
      "text/html": [
       "<table>\n",
       "<thead><tr><th scope=col>X.</th><th scope=col>Age</th><th scope=col>Sex</th><th scope=col>Job</th><th scope=col>Housing</th><th scope=col>Saving.accounts</th><th scope=col>Checking.account</th><th scope=col>Credit.amount</th><th scope=col>Duration</th><th scope=col>Purpose</th><th scope=col>Credit.Risks</th></tr></thead>\n",
       "<tbody>\n",
       "\t<tr><td>0                  </td><td>67                 </td><td>male               </td><td>2                  </td><td>own                </td><td>NA                 </td><td>little             </td><td>1169               </td><td> 6                 </td><td>radio/TV           </td><td>1                  </td></tr>\n",
       "\t<tr><td>1                  </td><td>22                 </td><td>female             </td><td>2                  </td><td>own                </td><td>little             </td><td>moderate           </td><td>5951               </td><td>48                 </td><td>radio/TV           </td><td>2                  </td></tr>\n",
       "\t<tr><td>2                  </td><td>49                 </td><td>male               </td><td>1                  </td><td>own                </td><td>little             </td><td>NA                 </td><td>2096               </td><td>12                 </td><td>education          </td><td>1                  </td></tr>\n",
       "\t<tr><td>3                  </td><td>45                 </td><td>male               </td><td>2                  </td><td>free               </td><td>little             </td><td>little             </td><td>7882               </td><td>42                 </td><td>furniture/equipment</td><td>1                  </td></tr>\n",
       "\t<tr><td>4                  </td><td>53                 </td><td>male               </td><td>2                  </td><td>free               </td><td>little             </td><td>little             </td><td>4870               </td><td>24                 </td><td>car                </td><td>2                  </td></tr>\n",
       "\t<tr><td>5                  </td><td>35                 </td><td>male               </td><td>1                  </td><td>free               </td><td>NA                 </td><td>NA                 </td><td>9055               </td><td>36                 </td><td>education          </td><td>1                  </td></tr>\n",
       "</tbody>\n",
       "</table>\n"
      ],
      "text/latex": [
       "\\begin{tabular}{r|lllllllllll}\n",
       " X. & Age & Sex & Job & Housing & Saving.accounts & Checking.account & Credit.amount & Duration & Purpose & Credit.Risks\\\\\n",
       "\\hline\n",
       "\t 0                   & 67                  & male                & 2                   & own                 & NA                  & little              & 1169                &  6                  & radio/TV            & 1                  \\\\\n",
       "\t 1                   & 22                  & female              & 2                   & own                 & little              & moderate            & 5951                & 48                  & radio/TV            & 2                  \\\\\n",
       "\t 2                   & 49                  & male                & 1                   & own                 & little              & NA                  & 2096                & 12                  & education           & 1                  \\\\\n",
       "\t 3                   & 45                  & male                & 2                   & free                & little              & little              & 7882                & 42                  & furniture/equipment & 1                  \\\\\n",
       "\t 4                   & 53                  & male                & 2                   & free                & little              & little              & 4870                & 24                  & car                 & 2                  \\\\\n",
       "\t 5                   & 35                  & male                & 1                   & free                & NA                  & NA                  & 9055                & 36                  & education           & 1                  \\\\\n",
       "\\end{tabular}\n"
      ],
      "text/markdown": [
       "\n",
       "X. | Age | Sex | Job | Housing | Saving.accounts | Checking.account | Credit.amount | Duration | Purpose | Credit.Risks | \n",
       "|---|---|---|---|---|---|\n",
       "| 0                   | 67                  | male                | 2                   | own                 | NA                  | little              | 1169                |  6                  | radio/TV            | 1                   | \n",
       "| 1                   | 22                  | female              | 2                   | own                 | little              | moderate            | 5951                | 48                  | radio/TV            | 2                   | \n",
       "| 2                   | 49                  | male                | 1                   | own                 | little              | NA                  | 2096                | 12                  | education           | 1                   | \n",
       "| 3                   | 45                  | male                | 2                   | free                | little              | little              | 7882                | 42                  | furniture/equipment | 1                   | \n",
       "| 4                   | 53                  | male                | 2                   | free                | little              | little              | 4870                | 24                  | car                 | 2                   | \n",
       "| 5                   | 35                  | male                | 1                   | free                | NA                  | NA                  | 9055                | 36                  | education           | 1                   | \n",
       "\n",
       "\n"
      ],
      "text/plain": [
       "  X. Age Sex    Job Housing Saving.accounts Checking.account Credit.amount\n",
       "1 0  67  male   2   own     NA              little           1169         \n",
       "2 1  22  female 2   own     little          moderate         5951         \n",
       "3 2  49  male   1   own     little          NA               2096         \n",
       "4 3  45  male   2   free    little          little           7882         \n",
       "5 4  53  male   2   free    little          little           4870         \n",
       "6 5  35  male   1   free    NA              NA               9055         \n",
       "  Duration Purpose             Credit.Risks\n",
       "1  6       radio/TV            1           \n",
       "2 48       radio/TV            2           \n",
       "3 12       education           1           \n",
       "4 42       furniture/equipment 1           \n",
       "5 24       car                 2           \n",
       "6 36       education           1           "
      ]
     },
     "metadata": {},
     "output_type": "display_data"
    }
   ],
   "source": [
    "head(data)"
   ]
  },
  {
   "cell_type": "code",
   "execution_count": 3,
   "metadata": {
    "collapsed": false
   },
   "outputs": [
    {
     "data": {
      "text/html": [
       "<ol class=list-inline>\n",
       "\t<li>'X.'</li>\n",
       "\t<li>'Age'</li>\n",
       "\t<li>'Sex'</li>\n",
       "\t<li>'Job'</li>\n",
       "\t<li>'Housing'</li>\n",
       "\t<li>'Saving.accounts'</li>\n",
       "\t<li>'Checking.account'</li>\n",
       "\t<li>'Credit.amount'</li>\n",
       "\t<li>'Duration'</li>\n",
       "\t<li>'Purpose'</li>\n",
       "\t<li>'Credit.Risks'</li>\n",
       "</ol>\n"
      ],
      "text/latex": [
       "\\begin{enumerate*}\n",
       "\\item 'X.'\n",
       "\\item 'Age'\n",
       "\\item 'Sex'\n",
       "\\item 'Job'\n",
       "\\item 'Housing'\n",
       "\\item 'Saving.accounts'\n",
       "\\item 'Checking.account'\n",
       "\\item 'Credit.amount'\n",
       "\\item 'Duration'\n",
       "\\item 'Purpose'\n",
       "\\item 'Credit.Risks'\n",
       "\\end{enumerate*}\n"
      ],
      "text/markdown": [
       "1. 'X.'\n",
       "2. 'Age'\n",
       "3. 'Sex'\n",
       "4. 'Job'\n",
       "5. 'Housing'\n",
       "6. 'Saving.accounts'\n",
       "7. 'Checking.account'\n",
       "8. 'Credit.amount'\n",
       "9. 'Duration'\n",
       "10. 'Purpose'\n",
       "11. 'Credit.Risks'\n",
       "\n",
       "\n"
      ],
      "text/plain": [
       " [1] \"X.\"               \"Age\"              \"Sex\"              \"Job\"             \n",
       " [5] \"Housing\"          \"Saving.accounts\"  \"Checking.account\" \"Credit.amount\"   \n",
       " [9] \"Duration\"         \"Purpose\"          \"Credit.Risks\"    "
      ]
     },
     "metadata": {},
     "output_type": "display_data"
    }
   ],
   "source": [
    "names(data)"
   ]
  },
  {
   "cell_type": "code",
   "execution_count": 4,
   "metadata": {
    "collapsed": true
   },
   "outputs": [],
   "source": [
    "data$Sex<-as.numeric(data$Sex)\n",
    "data$Housing<-as.numeric(data$Housing)\n",
    "data$Purpose<-as.numeric(data$Purpose)"
   ]
  },
  {
   "cell_type": "code",
   "execution_count": 5,
   "metadata": {
    "collapsed": true
   },
   "outputs": [],
   "source": [
    "n.points <- 1000 \n",
    "sampling.rate <- 0.8\n",
    "num.test.set.labels <- n.points * (1 - sampling.rate)"
   ]
  },
  {
   "cell_type": "code",
   "execution_count": 6,
   "metadata": {
    "collapsed": false
   },
   "outputs": [],
   "source": [
    "#library(Hmisc)\n",
    "#impute(data, mean) \n",
    "#library(DMwR)\n",
    "#data<-knnImputation(data, 5)"
   ]
  },
  {
   "cell_type": "code",
   "execution_count": 7,
   "metadata": {
    "collapsed": false
   },
   "outputs": [],
   "source": [
    "training <- sample(1:n.points, sampling.rate * n.points,\n",
    "replace=FALSE)"
   ]
  },
  {
   "cell_type": "code",
   "execution_count": 8,
   "metadata": {
    "collapsed": false
   },
   "outputs": [],
   "source": [
    "train<-subset(data[training, ], select = c(Age,Sex,Housing,Purpose,Job,Credit.amount,Duration))"
   ]
  },
  {
   "cell_type": "code",
   "execution_count": 9,
   "metadata": {
    "collapsed": true
   },
   "outputs": [],
   "source": [
    "testing <- setdiff(1:n.points, training)"
   ]
  },
  {
   "cell_type": "code",
   "execution_count": 10,
   "metadata": {
    "collapsed": true
   },
   "outputs": [],
   "source": [
    "test<-subset(data[testing, ], select = c(Age,Sex,Housing,Purpose,Job,Credit.amount,Duration))"
   ]
  },
  {
   "cell_type": "code",
   "execution_count": 11,
   "metadata": {
    "collapsed": false
   },
   "outputs": [
    {
     "data": {
      "text/html": [
       "<ol class=list-inline>\n",
       "\t<li>800</li>\n",
       "\t<li>7</li>\n",
       "</ol>\n"
      ],
      "text/latex": [
       "\\begin{enumerate*}\n",
       "\\item 800\n",
       "\\item 7\n",
       "\\end{enumerate*}\n"
      ],
      "text/markdown": [
       "1. 800\n",
       "2. 7\n",
       "\n",
       "\n"
      ],
      "text/plain": [
       "[1] 800   7"
      ]
     },
     "metadata": {},
     "output_type": "display_data"
    }
   ],
   "source": [
    "dim(train)"
   ]
  },
  {
   "cell_type": "code",
   "execution_count": 12,
   "metadata": {
    "collapsed": false
   },
   "outputs": [
    {
     "data": {
      "text/html": [
       "<ol class=list-inline>\n",
       "\t<li>200</li>\n",
       "\t<li>7</li>\n",
       "</ol>\n"
      ],
      "text/latex": [
       "\\begin{enumerate*}\n",
       "\\item 200\n",
       "\\item 7\n",
       "\\end{enumerate*}\n"
      ],
      "text/markdown": [
       "1. 200\n",
       "2. 7\n",
       "\n",
       "\n"
      ],
      "text/plain": [
       "[1] 200   7"
      ]
     },
     "metadata": {},
     "output_type": "display_data"
    }
   ],
   "source": [
    "dim(test)"
   ]
  },
  {
   "cell_type": "code",
   "execution_count": 13,
   "metadata": {
    "collapsed": true
   },
   "outputs": [],
   "source": [
    "cl <- data$Credit.Risks[training]"
   ]
  },
  {
   "cell_type": "code",
   "execution_count": 14,
   "metadata": {
    "collapsed": true
   },
   "outputs": [],
   "source": [
    "true.labels <- data$Credit.Risks[testing]"
   ]
  },
  {
   "cell_type": "code",
   "execution_count": 15,
   "metadata": {
    "collapsed": false
   },
   "outputs": [],
   "source": [
    "#install.packages(\"DMwR\",repos=\"https://cran.r-project.org/\")"
   ]
  },
  {
   "cell_type": "code",
   "execution_count": 16,
   "metadata": {
    "collapsed": false
   },
   "outputs": [],
   "source": [
    "for_80_20<-rep(NA,20)\n",
    "for_70_30<-rep(NA,20)\n",
    "for_85_15<-rep(NA,20)"
   ]
  },
  {
   "cell_type": "markdown",
   "metadata": {},
   "source": [
    "<p> Training the data sample selected randomly for 80% of the data, and predicting it for different values of k, also calculatting the misclassification rate for every value of k"
   ]
  },
  {
   "cell_type": "code",
   "execution_count": 17,
   "metadata": {
    "collapsed": false
   },
   "outputs": [
    {
     "name": "stderr",
     "output_type": "stream",
     "text": [
      "Warning message:\n",
      "\"package 'class' was built under R version 3.3.3\""
     ]
    },
    {
     "name": "stdout",
     "output_type": "stream",
     "text": [
      "[1] 1\n",
      "[1] 37.5\n",
      "[1] 2\n",
      "[1] 34.5\n",
      "[1] 3\n",
      "[1] 36.5\n",
      "[1] 4\n",
      "[1] 35.5\n",
      "[1] 5\n",
      "[1] 32\n",
      "[1] 6\n",
      "[1] 33.5\n",
      "[1] 7\n",
      "[1] 31.5\n",
      "[1] 8\n",
      "[1] 33.5\n",
      "[1] 9\n",
      "[1] 30\n",
      "[1] 10\n",
      "[1] 30.5\n",
      "[1] 11\n",
      "[1] 31.5\n",
      "[1] 12\n",
      "[1] 31\n",
      "[1] 13\n",
      "[1] 30.5\n",
      "[1] 14\n",
      "[1] 33\n",
      "[1] 15\n",
      "[1] 33\n",
      "[1] 16\n",
      "[1] 32.5\n",
      "[1] 17\n",
      "[1] 33.5\n",
      "[1] 18\n",
      "[1] 32\n",
      "[1] 19\n",
      "[1] 31.5\n",
      "[1] 20\n",
      "[1] 32.5\n"
     ]
    }
   ],
   "source": [
    "library('class')\n",
    "for (k in 1:20) {\n",
    "print(k)\n",
    "predicted.labels <- knn(train,test,cl, k)\n",
    "num.incorrect.labels <- sum(predicted.labels != true.labels)\n",
    "misclassification.rate <- num.incorrect.labels /\n",
    "num.test.set.labels\n",
    "misclassification.rate<-misclassification.rate*100\n",
    "for_80_20[k]<-(misclassification.rate)\n",
    "print(misclassification.rate)\n",
    "\n",
    "}"
   ]
  },
  {
   "cell_type": "markdown",
   "metadata": {},
   "source": [
    "<p> Selecting a traing data set of 70% of the data and classifying the rest 30% based on this data. Also calculating the misclassification rate for 20 different values of k"
   ]
  },
  {
   "cell_type": "code",
   "execution_count": 18,
   "metadata": {
    "collapsed": false
   },
   "outputs": [
    {
     "name": "stdout",
     "output_type": "stream",
     "text": [
      "[1] 1\n",
      "[1] 41\n",
      "[1] 2\n",
      "[1] 38.66667\n",
      "[1] 3\n",
      "[1] 34\n",
      "[1] 4\n",
      "[1] 36\n",
      "[1] 5\n",
      "[1] 34\n",
      "[1] 6\n",
      "[1] 34.66667\n",
      "[1] 7\n",
      "[1] 32.66667\n",
      "[1] 8\n",
      "[1] 34.66667\n",
      "[1] 9\n",
      "[1] 32\n",
      "[1] 10\n",
      "[1] 31.33333\n",
      "[1] 11\n",
      "[1] 30.66667\n",
      "[1] 12\n",
      "[1] 31.66667\n",
      "[1] 13\n",
      "[1] 31.33333\n",
      "[1] 14\n",
      "[1] 33\n",
      "[1] 15\n",
      "[1] 30.66667\n",
      "[1] 16\n",
      "[1] 30\n",
      "[1] 17\n",
      "[1] 31\n",
      "[1] 18\n",
      "[1] 30.66667\n",
      "[1] 19\n",
      "[1] 30\n",
      "[1] 20\n",
      "[1] 29.66667\n"
     ]
    }
   ],
   "source": [
    "sampling.rate <- 0.7\n",
    "num.test.set.labels <- n.points * (1 - sampling.rate)\n",
    "training <- sample(1:n.points, sampling.rate * n.points,\n",
    "replace=FALSE)\n",
    "train<-subset(data[training, ], select = c(Age,Sex,Housing,Purpose,Job,Credit.amount,Duration))\n",
    "testing <- setdiff(1:n.points, training)\n",
    "test<-subset(data[testing, ], select = c(Age,Sex,Housing,Purpose,Job,Credit.amount,Duration))\n",
    "cl <- data$Credit.Risks[training]\n",
    "true.labels <- data$Credit.Risks[testing]\n",
    "#library('class')\n",
    "for (k in 1:20) {\n",
    "print(k)\n",
    "predicted.labels <- knn(train,test,cl, k)\n",
    "num.incorrect.labels <- sum(predicted.labels != true.labels)\n",
    "misclassification.rate <- num.incorrect.labels /\n",
    "num.test.set.labels\n",
    "misclassification.rate<-misclassification.rate*100\n",
    "for_70_30[k]<-(misclassification.rate)\n",
    "print(misclassification.rate)\n",
    "}"
   ]
  },
  {
   "cell_type": "markdown",
   "metadata": {},
   "source": [
    "<p> Tranining dataset contains of over 85% of the data and classifying on the class label. The misclassification rate has been calculated"
   ]
  },
  {
   "cell_type": "code",
   "execution_count": 19,
   "metadata": {
    "collapsed": false
   },
   "outputs": [
    {
     "name": "stdout",
     "output_type": "stream",
     "text": [
      "[1] 1\n",
      "[1] 38\n",
      "[1] 2\n",
      "[1] 41.33333\n",
      "[1] 3\n",
      "[1] 33.33333\n",
      "[1] 4\n",
      "[1] 30.66667\n",
      "[1] 5\n",
      "[1] 32\n",
      "[1] 6\n",
      "[1] 32\n",
      "[1] 7\n",
      "[1] 32.66667\n",
      "[1] 8\n",
      "[1] 30\n",
      "[1] 9\n",
      "[1] 30\n",
      "[1] 10\n",
      "[1] 32\n",
      "[1] 11\n",
      "[1] 30.66667\n",
      "[1] 12\n",
      "[1] 34\n",
      "[1] 13\n",
      "[1] 26.66667\n",
      "[1] 14\n",
      "[1] 32\n",
      "[1] 15\n",
      "[1] 28\n",
      "[1] 16\n",
      "[1] 29.33333\n",
      "[1] 17\n",
      "[1] 28\n",
      "[1] 18\n",
      "[1] 29.33333\n",
      "[1] 19\n",
      "[1] 29.33333\n",
      "[1] 20\n",
      "[1] 28.66667\n"
     ]
    }
   ],
   "source": [
    "sampling.rate <- 0.85\n",
    "num.test.set.labels <- n.points * (1 - sampling.rate)\n",
    "training <- sample(1:n.points, sampling.rate * n.points,\n",
    "replace=FALSE)\n",
    "train<-subset(data[training, ], select = c(Age,Sex,Housing,Purpose,Job,Credit.amount,Duration))\n",
    "testing <- setdiff(1:n.points, training)\n",
    "test<-subset(data[testing, ], select = c(Age,Sex,Housing,Purpose,Job,Credit.amount,Duration))\n",
    "cl <- data$Credit.Risks[training]\n",
    "true.labels <- data$Credit.Risks[testing]\n",
    "#library('class')\n",
    "for (k in 1:20) {\n",
    "print(k)\n",
    "predicted.labels <- knn(train,test,cl, k)\n",
    "num.incorrect.labels <- sum(predicted.labels != true.labels)\n",
    "misclassification.rate <- num.incorrect.labels /\n",
    "num.test.set.labels\n",
    "misclassification.rate<-misclassification.rate*100\n",
    "for_85_15[k]<-(misclassification.rate)\n",
    "print(misclassification.rate)\n",
    "}"
   ]
  },
  {
   "cell_type": "markdown",
   "metadata": {},
   "source": [
    "<p> All the misclassification values for different train-test ratios have been found and collected in a table below. Depending on the lowest misclassificaton rate the value of k must be selected"
   ]
  },
  {
   "cell_type": "code",
   "execution_count": 20,
   "metadata": {
    "collapsed": false
   },
   "outputs": [
    {
     "data": {
      "text/html": [
       "<table>\n",
       "<thead><tr><th scope=col>k</th><th scope=col>for_80_20</th><th scope=col>for_70_30</th><th scope=col>for_85_15</th></tr></thead>\n",
       "<tbody>\n",
       "\t<tr><td> 1      </td><td>37.5    </td><td>41.00000</td><td>38.00000</td></tr>\n",
       "\t<tr><td> 2      </td><td>34.5    </td><td>38.66667</td><td>41.33333</td></tr>\n",
       "\t<tr><td> 3      </td><td>36.5    </td><td>34.00000</td><td>33.33333</td></tr>\n",
       "\t<tr><td> 4      </td><td>35.5    </td><td>36.00000</td><td>30.66667</td></tr>\n",
       "\t<tr><td> 5      </td><td>32.0    </td><td>34.00000</td><td>32.00000</td></tr>\n",
       "\t<tr><td> 6      </td><td>33.5    </td><td>34.66667</td><td>32.00000</td></tr>\n",
       "\t<tr><td> 7      </td><td>31.5    </td><td>32.66667</td><td>32.66667</td></tr>\n",
       "\t<tr><td> 8      </td><td>33.5    </td><td>34.66667</td><td>30.00000</td></tr>\n",
       "\t<tr><td> 9      </td><td>30.0    </td><td>32.00000</td><td>30.00000</td></tr>\n",
       "\t<tr><td>10      </td><td>30.5    </td><td>31.33333</td><td>32.00000</td></tr>\n",
       "\t<tr><td>11      </td><td>31.5    </td><td>30.66667</td><td>30.66667</td></tr>\n",
       "\t<tr><td>12      </td><td>31.0    </td><td>31.66667</td><td>34.00000</td></tr>\n",
       "\t<tr><td>13      </td><td>30.5    </td><td>31.33333</td><td>26.66667</td></tr>\n",
       "\t<tr><td>14      </td><td>33.0    </td><td>33.00000</td><td>32.00000</td></tr>\n",
       "\t<tr><td>15      </td><td>33.0    </td><td>30.66667</td><td>28.00000</td></tr>\n",
       "\t<tr><td>16      </td><td>32.5    </td><td>30.00000</td><td>29.33333</td></tr>\n",
       "\t<tr><td>17      </td><td>33.5    </td><td>31.00000</td><td>28.00000</td></tr>\n",
       "\t<tr><td>18      </td><td>32.0    </td><td>30.66667</td><td>29.33333</td></tr>\n",
       "\t<tr><td>19      </td><td>31.5    </td><td>30.00000</td><td>29.33333</td></tr>\n",
       "\t<tr><td>20      </td><td>32.5    </td><td>29.66667</td><td>28.66667</td></tr>\n",
       "</tbody>\n",
       "</table>\n"
      ],
      "text/latex": [
       "\\begin{tabular}{r|llll}\n",
       " k & for\\_80\\_20 & for\\_70\\_30 & for\\_85\\_15\\\\\n",
       "\\hline\n",
       "\t  1       & 37.5     & 41.00000 & 38.00000\\\\\n",
       "\t  2       & 34.5     & 38.66667 & 41.33333\\\\\n",
       "\t  3       & 36.5     & 34.00000 & 33.33333\\\\\n",
       "\t  4       & 35.5     & 36.00000 & 30.66667\\\\\n",
       "\t  5       & 32.0     & 34.00000 & 32.00000\\\\\n",
       "\t  6       & 33.5     & 34.66667 & 32.00000\\\\\n",
       "\t  7       & 31.5     & 32.66667 & 32.66667\\\\\n",
       "\t  8       & 33.5     & 34.66667 & 30.00000\\\\\n",
       "\t  9       & 30.0     & 32.00000 & 30.00000\\\\\n",
       "\t 10       & 30.5     & 31.33333 & 32.00000\\\\\n",
       "\t 11       & 31.5     & 30.66667 & 30.66667\\\\\n",
       "\t 12       & 31.0     & 31.66667 & 34.00000\\\\\n",
       "\t 13       & 30.5     & 31.33333 & 26.66667\\\\\n",
       "\t 14       & 33.0     & 33.00000 & 32.00000\\\\\n",
       "\t 15       & 33.0     & 30.66667 & 28.00000\\\\\n",
       "\t 16       & 32.5     & 30.00000 & 29.33333\\\\\n",
       "\t 17       & 33.5     & 31.00000 & 28.00000\\\\\n",
       "\t 18       & 32.0     & 30.66667 & 29.33333\\\\\n",
       "\t 19       & 31.5     & 30.00000 & 29.33333\\\\\n",
       "\t 20       & 32.5     & 29.66667 & 28.66667\\\\\n",
       "\\end{tabular}\n"
      ],
      "text/markdown": [
       "\n",
       "k | for_80_20 | for_70_30 | for_85_15 | \n",
       "|---|---|---|---|---|---|---|---|---|---|---|---|---|---|---|---|---|---|---|---|\n",
       "|  1       | 37.5     | 41.00000 | 38.00000 | \n",
       "|  2       | 34.5     | 38.66667 | 41.33333 | \n",
       "|  3       | 36.5     | 34.00000 | 33.33333 | \n",
       "|  4       | 35.5     | 36.00000 | 30.66667 | \n",
       "|  5       | 32.0     | 34.00000 | 32.00000 | \n",
       "|  6       | 33.5     | 34.66667 | 32.00000 | \n",
       "|  7       | 31.5     | 32.66667 | 32.66667 | \n",
       "|  8       | 33.5     | 34.66667 | 30.00000 | \n",
       "|  9       | 30.0     | 32.00000 | 30.00000 | \n",
       "| 10       | 30.5     | 31.33333 | 32.00000 | \n",
       "| 11       | 31.5     | 30.66667 | 30.66667 | \n",
       "| 12       | 31.0     | 31.66667 | 34.00000 | \n",
       "| 13       | 30.5     | 31.33333 | 26.66667 | \n",
       "| 14       | 33.0     | 33.00000 | 32.00000 | \n",
       "| 15       | 33.0     | 30.66667 | 28.00000 | \n",
       "| 16       | 32.5     | 30.00000 | 29.33333 | \n",
       "| 17       | 33.5     | 31.00000 | 28.00000 | \n",
       "| 18       | 32.0     | 30.66667 | 29.33333 | \n",
       "| 19       | 31.5     | 30.00000 | 29.33333 | \n",
       "| 20       | 32.5     | 29.66667 | 28.66667 | \n",
       "\n",
       "\n"
      ],
      "text/plain": [
       "   k  for_80_20 for_70_30 for_85_15\n",
       "1   1 37.5      41.00000  38.00000 \n",
       "2   2 34.5      38.66667  41.33333 \n",
       "3   3 36.5      34.00000  33.33333 \n",
       "4   4 35.5      36.00000  30.66667 \n",
       "5   5 32.0      34.00000  32.00000 \n",
       "6   6 33.5      34.66667  32.00000 \n",
       "7   7 31.5      32.66667  32.66667 \n",
       "8   8 33.5      34.66667  30.00000 \n",
       "9   9 30.0      32.00000  30.00000 \n",
       "10 10 30.5      31.33333  32.00000 \n",
       "11 11 31.5      30.66667  30.66667 \n",
       "12 12 31.0      31.66667  34.00000 \n",
       "13 13 30.5      31.33333  26.66667 \n",
       "14 14 33.0      33.00000  32.00000 \n",
       "15 15 33.0      30.66667  28.00000 \n",
       "16 16 32.5      30.00000  29.33333 \n",
       "17 17 33.5      31.00000  28.00000 \n",
       "18 18 32.0      30.66667  29.33333 \n",
       "19 19 31.5      30.00000  29.33333 \n",
       "20 20 32.5      29.66667  28.66667 "
      ]
     },
     "metadata": {},
     "output_type": "display_data"
    }
   ],
   "source": [
    "k<-c(1:20)\n",
    "table<-data.frame(k,for_80_20,for_70_30,for_85_15)\n",
    "table"
   ]
  },
  {
   "cell_type": "markdown",
   "metadata": {},
   "source": [
    "<p> The credit_risk was calculated for every test case and checked against the true label to calculate the misclassification rate, so that we can select the optimal value for k and the train- test ratio."
   ]
  }
 ],
 "metadata": {
  "kernelspec": {
   "display_name": "R",
   "language": "R",
   "name": "ir"
  },
  "language_info": {
   "codemirror_mode": "r",
   "file_extension": ".r",
   "mimetype": "text/x-r-source",
   "name": "R",
   "pygments_lexer": "r",
   "version": "3.3.1"
  }
 },
 "nbformat": 4,
 "nbformat_minor": 0
}
