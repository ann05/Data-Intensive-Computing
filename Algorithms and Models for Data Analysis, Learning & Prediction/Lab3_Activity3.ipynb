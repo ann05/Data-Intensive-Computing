{
 "cells": [
  {
   "cell_type": "code",
   "execution_count": 1,
   "metadata": {
    "collapsed": true
   },
   "outputs": [],
   "source": [
    "data<-read.csv('June 10-July 12, 2015 - Gaming, Jobs and Broadband - CSV.csv')"
   ]
  },
  {
   "cell_type": "code",
   "execution_count": 2,
   "metadata": {
    "collapsed": false
   },
   "outputs": [
    {
     "data": {
      "text/html": [
       "<table>\n",
       "<thead><tr><th scope=col>ï..psraid</th><th scope=col>sample</th><th scope=col>int_date</th><th scope=col>lang</th><th scope=col>usr</th><th scope=col>cregion</th><th scope=col>state</th><th scope=col>form</th><th scope=col>sex</th><th scope=col>q1</th><th scope=col>...</th><th scope=col>ideo</th><th scope=col>hisp</th><th scope=col>birth_hisp</th><th scope=col>race</th><th scope=col>inc</th><th scope=col>ql1a</th><th scope=col>qc1</th><th scope=col>zipcode</th><th scope=col>weight</th><th scope=col>standwt</th></tr></thead>\n",
       "<tbody>\n",
       "\t<tr><td>100006   </td><td>1        </td><td>61015    </td><td>1        </td><td>S        </td><td>3        </td><td>51       </td><td>1        </td><td>2        </td><td>1        </td><td>...      </td><td>1        </td><td>2        </td><td>NA       </td><td>1        </td><td>99       </td><td>NA       </td><td>NA       </td><td>20112    </td><td>2.258065 </td><td>0.7209406</td></tr>\n",
       "\t<tr><td>100009   </td><td>1        </td><td>61015    </td><td>1        </td><td>U        </td><td>3        </td><td>24       </td><td>2        </td><td>2        </td><td>2        </td><td>...      </td><td>3        </td><td>2        </td><td>NA       </td><td>2        </td><td> 6       </td><td>NA       </td><td>NA       </td><td>21239    </td><td>2.548387 </td><td>0.8136330</td></tr>\n",
       "\t<tr><td>100011   </td><td>1        </td><td>61015    </td><td>1        </td><td>S        </td><td>2        </td><td>39       </td><td>2        </td><td>2        </td><td>1        </td><td>...      </td><td>1        </td><td>2        </td><td>NA       </td><td>1        </td><td> 3       </td><td>NA       </td><td>NA       </td><td>44730    </td><td>1.806452 </td><td>0.5767525</td></tr>\n",
       "\t<tr><td>100039   </td><td>1        </td><td>61015    </td><td>1        </td><td>S        </td><td>3        </td><td>37       </td><td>2        </td><td>2        </td><td>1        </td><td>...      </td><td>2        </td><td>2        </td><td>NA       </td><td>1        </td><td> 6       </td><td>NA       </td><td>NA       </td><td>27028    </td><td>5.032258 </td><td>1.6066676</td></tr>\n",
       "\t<tr><td>100040   </td><td>1        </td><td>61015    </td><td>1        </td><td>U        </td><td>3        </td><td>21       </td><td>1        </td><td>2        </td><td>1        </td><td>...      </td><td>1        </td><td>2        </td><td>NA       </td><td>1        </td><td> 3       </td><td> 2       </td><td>NA       </td><td>40511    </td><td>7.161290 </td><td>2.2864116</td></tr>\n",
       "\t<tr><td>100043   </td><td>1        </td><td>62215    </td><td>1        </td><td>R        </td><td>2        </td><td>20       </td><td>1        </td><td>2        </td><td>1        </td><td>...      </td><td>3        </td><td>2        </td><td>NA       </td><td>1        </td><td> 8       </td><td>NA       </td><td>NA       </td><td>67601    </td><td>1.000000 </td><td>0.3192737</td></tr>\n",
       "</tbody>\n",
       "</table>\n"
      ],
      "text/latex": [
       "\\begin{tabular}{r|llllllllllllllllllllllllllllllllllllllllllllllllllllllllllllllllllllllllllllllllllllllllllllllllllllllllllllllllllllllllllllllllllllllllllll}\n",
       " ï..psraid & sample & int\\_date & lang & usr & cregion & state & form & sex & q1 & ... & ideo & hisp & birth\\_hisp & race & inc & ql1a & qc1 & zipcode & weight & standwt\\\\\n",
       "\\hline\n",
       "\t 100006    & 1         & 61015     & 1         & S         & 3         & 51        & 1         & 2         & 1         & ...       & 1         & 2         & NA        & 1         & 99        & NA        & NA        & 20112     & 2.258065  & 0.7209406\\\\\n",
       "\t 100009    & 1         & 61015     & 1         & U         & 3         & 24        & 2         & 2         & 2         & ...       & 3         & 2         & NA        & 2         &  6        & NA        & NA        & 21239     & 2.548387  & 0.8136330\\\\\n",
       "\t 100011    & 1         & 61015     & 1         & S         & 2         & 39        & 2         & 2         & 1         & ...       & 1         & 2         & NA        & 1         &  3        & NA        & NA        & 44730     & 1.806452  & 0.5767525\\\\\n",
       "\t 100039    & 1         & 61015     & 1         & S         & 3         & 37        & 2         & 2         & 1         & ...       & 2         & 2         & NA        & 1         &  6        & NA        & NA        & 27028     & 5.032258  & 1.6066676\\\\\n",
       "\t 100040    & 1         & 61015     & 1         & U         & 3         & 21        & 1         & 2         & 1         & ...       & 1         & 2         & NA        & 1         &  3        &  2        & NA        & 40511     & 7.161290  & 2.2864116\\\\\n",
       "\t 100043    & 1         & 62215     & 1         & R         & 2         & 20        & 1         & 2         & 1         & ...       & 3         & 2         & NA        & 1         &  8        & NA        & NA        & 67601     & 1.000000  & 0.3192737\\\\\n",
       "\\end{tabular}\n"
      ],
      "text/markdown": [
       "\n",
       "ï..psraid | sample | int_date | lang | usr | cregion | state | form | sex | q1 | ... | ideo | hisp | birth_hisp | race | inc | ql1a | qc1 | zipcode | weight | standwt | \n",
       "|---|---|---|---|---|---|\n",
       "| 100006    | 1         | 61015     | 1         | S         | 3         | 51        | 1         | 2         | 1         | ...       | 1         | 2         | NA        | 1         | 99        | NA        | NA        | 20112     | 2.258065  | 0.7209406 | \n",
       "| 100009    | 1         | 61015     | 1         | U         | 3         | 24        | 2         | 2         | 2         | ...       | 3         | 2         | NA        | 2         |  6        | NA        | NA        | 21239     | 2.548387  | 0.8136330 | \n",
       "| 100011    | 1         | 61015     | 1         | S         | 2         | 39        | 2         | 2         | 1         | ...       | 1         | 2         | NA        | 1         |  3        | NA        | NA        | 44730     | 1.806452  | 0.5767525 | \n",
       "| 100039    | 1         | 61015     | 1         | S         | 3         | 37        | 2         | 2         | 1         | ...       | 2         | 2         | NA        | 1         |  6        | NA        | NA        | 27028     | 5.032258  | 1.6066676 | \n",
       "| 100040    | 1         | 61015     | 1         | U         | 3         | 21        | 1         | 2         | 1         | ...       | 1         | 2         | NA        | 1         |  3        |  2        | NA        | 40511     | 7.161290  | 2.2864116 | \n",
       "| 100043    | 1         | 62215     | 1         | R         | 2         | 20        | 1         | 2         | 1         | ...       | 3         | 2         | NA        | 1         |  8        | NA        | NA        | 67601     | 1.000000  | 0.3192737 | \n",
       "\n",
       "\n"
      ],
      "text/plain": [
       "  ï..psraid sample int_date lang usr cregion state form sex q1 ... ideo hisp\n",
       "1 100006    1      61015    1    S   3       51    1    2   1  ... 1    2   \n",
       "2 100009    1      61015    1    U   3       24    2    2   2  ... 3    2   \n",
       "3 100011    1      61015    1    S   2       39    2    2   1  ... 1    2   \n",
       "4 100039    1      61015    1    S   3       37    2    2   1  ... 2    2   \n",
       "5 100040    1      61015    1    U   3       21    1    2   1  ... 1    2   \n",
       "6 100043    1      62215    1    R   2       20    1    2   1  ... 3    2   \n",
       "  birth_hisp race inc ql1a qc1 zipcode weight   standwt  \n",
       "1 NA         1    99  NA   NA  20112   2.258065 0.7209406\n",
       "2 NA         2     6  NA   NA  21239   2.548387 0.8136330\n",
       "3 NA         1     3  NA   NA  44730   1.806452 0.5767525\n",
       "4 NA         1     6  NA   NA  27028   5.032258 1.6066676\n",
       "5 NA         1     3   2   NA  40511   7.161290 2.2864116\n",
       "6 NA         1     8  NA   NA  67601   1.000000 0.3192737"
      ]
     },
     "metadata": {},
     "output_type": "display_data"
    }
   ],
   "source": [
    "head(data)"
   ]
  },
  {
   "cell_type": "code",
   "execution_count": 3,
   "metadata": {
    "collapsed": false
   },
   "outputs": [
    {
     "data": {
      "text/html": [
       "<ol class=list-inline>\n",
       "\t<li>'ï..psraid'</li>\n",
       "\t<li>'sample'</li>\n",
       "\t<li>'int_date'</li>\n",
       "\t<li>'lang'</li>\n",
       "\t<li>'usr'</li>\n",
       "\t<li>'cregion'</li>\n",
       "\t<li>'state'</li>\n",
       "\t<li>'form'</li>\n",
       "\t<li>'sex'</li>\n",
       "\t<li>'q1'</li>\n",
       "\t<li>'q3'</li>\n",
       "\t<li>'eminuse'</li>\n",
       "\t<li>'intmob'</li>\n",
       "\t<li>'intfreq'</li>\n",
       "\t<li>'home4nw'</li>\n",
       "\t<li>'bbhome1'</li>\n",
       "\t<li>'bbhome2'</li>\n",
       "\t<li>'bbhome3a'</li>\n",
       "\t<li>'bbhome3b'</li>\n",
       "\t<li>'bbhome3c'</li>\n",
       "\t<li>'bbhome3d'</li>\n",
       "\t<li>'bbhome3e'</li>\n",
       "\t<li>'device1a'</li>\n",
       "\t<li>'smart1'</li>\n",
       "\t<li>'q4'</li>\n",
       "\t<li>'bbsmart1'</li>\n",
       "\t<li>'bbsmart2'</li>\n",
       "\t<li>'bbsmart3a'</li>\n",
       "\t<li>'bbsmart3b'</li>\n",
       "\t<li>'bbsmart3c'</li>\n",
       "\t<li>'bbsmart3d'</li>\n",
       "\t<li>'bbsmart3e'</li>\n",
       "\t<li>'bbsmart3f'</li>\n",
       "\t<li>'bbsmart4'</li>\n",
       "\t<li>'cable1'</li>\n",
       "\t<li>'cable2'</li>\n",
       "\t<li>'cable3a'</li>\n",
       "\t<li>'cable3b'</li>\n",
       "\t<li>'cable3c'</li>\n",
       "\t<li>'act19'</li>\n",
       "\t<li>'act87a'</li>\n",
       "\t<li>'act87b'</li>\n",
       "\t<li>'act137'</li>\n",
       "\t<li>'q5a'</li>\n",
       "\t<li>'q5b'</li>\n",
       "\t<li>'q5c'</li>\n",
       "\t<li>'q5d'</li>\n",
       "\t<li>'q5e'</li>\n",
       "\t<li>'q5f'</li>\n",
       "\t<li>'date1a'</li>\n",
       "\t<li>'date2a'</li>\n",
       "\t<li>'date3a'</li>\n",
       "\t<li>'date3b'</li>\n",
       "\t<li>'date4a'</li>\n",
       "\t<li>'date4b'</li>\n",
       "\t<li>'date4c'</li>\n",
       "\t<li>'date4d'</li>\n",
       "\t<li>'date4e'</li>\n",
       "\t<li>'date4f'</li>\n",
       "\t<li>'game1'</li>\n",
       "\t<li>'game2a'</li>\n",
       "\t<li>'game2b'</li>\n",
       "\t<li>'game2c'</li>\n",
       "\t<li>'game2d'</li>\n",
       "\t<li>'game2e'</li>\n",
       "\t<li>'game2f'</li>\n",
       "\t<li>'game3a'</li>\n",
       "\t<li>'game3b'</li>\n",
       "\t<li>'game4'</li>\n",
       "\t<li>'emplnw'</li>\n",
       "\t<li>'emptype1'</li>\n",
       "\t<li>'emptype2'</li>\n",
       "\t<li>'emptype3'</li>\n",
       "\t<li>'stud'</li>\n",
       "\t<li>'job1a'</li>\n",
       "\t<li>'job1b'</li>\n",
       "\t<li>'job1c'</li>\n",
       "\t<li>'job1d'</li>\n",
       "\t<li>'job1e'</li>\n",
       "\t<li>'job1f'</li>\n",
       "\t<li>'job2'</li>\n",
       "\t<li>'job3a'</li>\n",
       "\t<li>'job3b'</li>\n",
       "\t<li>'job3c'</li>\n",
       "\t<li>'job3d'</li>\n",
       "\t<li>'job3e'</li>\n",
       "\t<li>'job3f'</li>\n",
       "\t<li>'job3g'</li>\n",
       "\t<li>'job3h'</li>\n",
       "\t<li>'job4'</li>\n",
       "\t<li>'smjob1'</li>\n",
       "\t<li>'smjob2a'</li>\n",
       "\t<li>'smjob2b'</li>\n",
       "\t<li>'smjob2c'</li>\n",
       "\t<li>'smjob2d'</li>\n",
       "\t<li>'smjob2e'</li>\n",
       "\t<li>'smjob3'</li>\n",
       "\t<li>'smjob4a'</li>\n",
       "\t<li>'smjob4b'</li>\n",
       "\t<li>'smjob4c'</li>\n",
       "\t<li>'smjob4d'</li>\n",
       "\t<li>'smjob4e'</li>\n",
       "\t<li>'snsjob1a'</li>\n",
       "\t<li>'snsjob1b'</li>\n",
       "\t<li>'snsjob1c'</li>\n",
       "\t<li>'snsjob2a'</li>\n",
       "\t<li>'snsjob2b'</li>\n",
       "\t<li>'job5a'</li>\n",
       "\t<li>'job5b'</li>\n",
       "\t<li>'job5c'</li>\n",
       "\t<li>'job5d'</li>\n",
       "\t<li>'auto1a'</li>\n",
       "\t<li>'auto1b'</li>\n",
       "\t<li>'auto1c'</li>\n",
       "\t<li>'auto1d'</li>\n",
       "\t<li>'auto1e'</li>\n",
       "\t<li>'auto2'</li>\n",
       "\t<li>'auto3'</li>\n",
       "\t<li>'age'</li>\n",
       "\t<li>'marital'</li>\n",
       "\t<li>'hh1'</li>\n",
       "\t<li>'par'</li>\n",
       "\t<li>'kidage1'</li>\n",
       "\t<li>'kidage2'</li>\n",
       "\t<li>'kidage3'</li>\n",
       "\t<li>'educ2'</li>\n",
       "\t<li>'edinst'</li>\n",
       "\t<li>'disa'</li>\n",
       "\t<li>'party'</li>\n",
       "\t<li>'partyln'</li>\n",
       "\t<li>'ideo'</li>\n",
       "\t<li>'hisp'</li>\n",
       "\t<li>'birth_hisp'</li>\n",
       "\t<li>'race'</li>\n",
       "\t<li>'inc'</li>\n",
       "\t<li>'ql1a'</li>\n",
       "\t<li>'qc1'</li>\n",
       "\t<li>'zipcode'</li>\n",
       "\t<li>'weight'</li>\n",
       "\t<li>'standwt'</li>\n",
       "</ol>\n"
      ],
      "text/latex": [
       "\\begin{enumerate*}\n",
       "\\item 'ï..psraid'\n",
       "\\item 'sample'\n",
       "\\item 'int\\_date'\n",
       "\\item 'lang'\n",
       "\\item 'usr'\n",
       "\\item 'cregion'\n",
       "\\item 'state'\n",
       "\\item 'form'\n",
       "\\item 'sex'\n",
       "\\item 'q1'\n",
       "\\item 'q3'\n",
       "\\item 'eminuse'\n",
       "\\item 'intmob'\n",
       "\\item 'intfreq'\n",
       "\\item 'home4nw'\n",
       "\\item 'bbhome1'\n",
       "\\item 'bbhome2'\n",
       "\\item 'bbhome3a'\n",
       "\\item 'bbhome3b'\n",
       "\\item 'bbhome3c'\n",
       "\\item 'bbhome3d'\n",
       "\\item 'bbhome3e'\n",
       "\\item 'device1a'\n",
       "\\item 'smart1'\n",
       "\\item 'q4'\n",
       "\\item 'bbsmart1'\n",
       "\\item 'bbsmart2'\n",
       "\\item 'bbsmart3a'\n",
       "\\item 'bbsmart3b'\n",
       "\\item 'bbsmart3c'\n",
       "\\item 'bbsmart3d'\n",
       "\\item 'bbsmart3e'\n",
       "\\item 'bbsmart3f'\n",
       "\\item 'bbsmart4'\n",
       "\\item 'cable1'\n",
       "\\item 'cable2'\n",
       "\\item 'cable3a'\n",
       "\\item 'cable3b'\n",
       "\\item 'cable3c'\n",
       "\\item 'act19'\n",
       "\\item 'act87a'\n",
       "\\item 'act87b'\n",
       "\\item 'act137'\n",
       "\\item 'q5a'\n",
       "\\item 'q5b'\n",
       "\\item 'q5c'\n",
       "\\item 'q5d'\n",
       "\\item 'q5e'\n",
       "\\item 'q5f'\n",
       "\\item 'date1a'\n",
       "\\item 'date2a'\n",
       "\\item 'date3a'\n",
       "\\item 'date3b'\n",
       "\\item 'date4a'\n",
       "\\item 'date4b'\n",
       "\\item 'date4c'\n",
       "\\item 'date4d'\n",
       "\\item 'date4e'\n",
       "\\item 'date4f'\n",
       "\\item 'game1'\n",
       "\\item 'game2a'\n",
       "\\item 'game2b'\n",
       "\\item 'game2c'\n",
       "\\item 'game2d'\n",
       "\\item 'game2e'\n",
       "\\item 'game2f'\n",
       "\\item 'game3a'\n",
       "\\item 'game3b'\n",
       "\\item 'game4'\n",
       "\\item 'emplnw'\n",
       "\\item 'emptype1'\n",
       "\\item 'emptype2'\n",
       "\\item 'emptype3'\n",
       "\\item 'stud'\n",
       "\\item 'job1a'\n",
       "\\item 'job1b'\n",
       "\\item 'job1c'\n",
       "\\item 'job1d'\n",
       "\\item 'job1e'\n",
       "\\item 'job1f'\n",
       "\\item 'job2'\n",
       "\\item 'job3a'\n",
       "\\item 'job3b'\n",
       "\\item 'job3c'\n",
       "\\item 'job3d'\n",
       "\\item 'job3e'\n",
       "\\item 'job3f'\n",
       "\\item 'job3g'\n",
       "\\item 'job3h'\n",
       "\\item 'job4'\n",
       "\\item 'smjob1'\n",
       "\\item 'smjob2a'\n",
       "\\item 'smjob2b'\n",
       "\\item 'smjob2c'\n",
       "\\item 'smjob2d'\n",
       "\\item 'smjob2e'\n",
       "\\item 'smjob3'\n",
       "\\item 'smjob4a'\n",
       "\\item 'smjob4b'\n",
       "\\item 'smjob4c'\n",
       "\\item 'smjob4d'\n",
       "\\item 'smjob4e'\n",
       "\\item 'snsjob1a'\n",
       "\\item 'snsjob1b'\n",
       "\\item 'snsjob1c'\n",
       "\\item 'snsjob2a'\n",
       "\\item 'snsjob2b'\n",
       "\\item 'job5a'\n",
       "\\item 'job5b'\n",
       "\\item 'job5c'\n",
       "\\item 'job5d'\n",
       "\\item 'auto1a'\n",
       "\\item 'auto1b'\n",
       "\\item 'auto1c'\n",
       "\\item 'auto1d'\n",
       "\\item 'auto1e'\n",
       "\\item 'auto2'\n",
       "\\item 'auto3'\n",
       "\\item 'age'\n",
       "\\item 'marital'\n",
       "\\item 'hh1'\n",
       "\\item 'par'\n",
       "\\item 'kidage1'\n",
       "\\item 'kidage2'\n",
       "\\item 'kidage3'\n",
       "\\item 'educ2'\n",
       "\\item 'edinst'\n",
       "\\item 'disa'\n",
       "\\item 'party'\n",
       "\\item 'partyln'\n",
       "\\item 'ideo'\n",
       "\\item 'hisp'\n",
       "\\item 'birth\\_hisp'\n",
       "\\item 'race'\n",
       "\\item 'inc'\n",
       "\\item 'ql1a'\n",
       "\\item 'qc1'\n",
       "\\item 'zipcode'\n",
       "\\item 'weight'\n",
       "\\item 'standwt'\n",
       "\\end{enumerate*}\n"
      ],
      "text/markdown": [
       "1. 'ï..psraid'\n",
       "2. 'sample'\n",
       "3. 'int_date'\n",
       "4. 'lang'\n",
       "5. 'usr'\n",
       "6. 'cregion'\n",
       "7. 'state'\n",
       "8. 'form'\n",
       "9. 'sex'\n",
       "10. 'q1'\n",
       "11. 'q3'\n",
       "12. 'eminuse'\n",
       "13. 'intmob'\n",
       "14. 'intfreq'\n",
       "15. 'home4nw'\n",
       "16. 'bbhome1'\n",
       "17. 'bbhome2'\n",
       "18. 'bbhome3a'\n",
       "19. 'bbhome3b'\n",
       "20. 'bbhome3c'\n",
       "21. 'bbhome3d'\n",
       "22. 'bbhome3e'\n",
       "23. 'device1a'\n",
       "24. 'smart1'\n",
       "25. 'q4'\n",
       "26. 'bbsmart1'\n",
       "27. 'bbsmart2'\n",
       "28. 'bbsmart3a'\n",
       "29. 'bbsmart3b'\n",
       "30. 'bbsmart3c'\n",
       "31. 'bbsmart3d'\n",
       "32. 'bbsmart3e'\n",
       "33. 'bbsmart3f'\n",
       "34. 'bbsmart4'\n",
       "35. 'cable1'\n",
       "36. 'cable2'\n",
       "37. 'cable3a'\n",
       "38. 'cable3b'\n",
       "39. 'cable3c'\n",
       "40. 'act19'\n",
       "41. 'act87a'\n",
       "42. 'act87b'\n",
       "43. 'act137'\n",
       "44. 'q5a'\n",
       "45. 'q5b'\n",
       "46. 'q5c'\n",
       "47. 'q5d'\n",
       "48. 'q5e'\n",
       "49. 'q5f'\n",
       "50. 'date1a'\n",
       "51. 'date2a'\n",
       "52. 'date3a'\n",
       "53. 'date3b'\n",
       "54. 'date4a'\n",
       "55. 'date4b'\n",
       "56. 'date4c'\n",
       "57. 'date4d'\n",
       "58. 'date4e'\n",
       "59. 'date4f'\n",
       "60. 'game1'\n",
       "61. 'game2a'\n",
       "62. 'game2b'\n",
       "63. 'game2c'\n",
       "64. 'game2d'\n",
       "65. 'game2e'\n",
       "66. 'game2f'\n",
       "67. 'game3a'\n",
       "68. 'game3b'\n",
       "69. 'game4'\n",
       "70. 'emplnw'\n",
       "71. 'emptype1'\n",
       "72. 'emptype2'\n",
       "73. 'emptype3'\n",
       "74. 'stud'\n",
       "75. 'job1a'\n",
       "76. 'job1b'\n",
       "77. 'job1c'\n",
       "78. 'job1d'\n",
       "79. 'job1e'\n",
       "80. 'job1f'\n",
       "81. 'job2'\n",
       "82. 'job3a'\n",
       "83. 'job3b'\n",
       "84. 'job3c'\n",
       "85. 'job3d'\n",
       "86. 'job3e'\n",
       "87. 'job3f'\n",
       "88. 'job3g'\n",
       "89. 'job3h'\n",
       "90. 'job4'\n",
       "91. 'smjob1'\n",
       "92. 'smjob2a'\n",
       "93. 'smjob2b'\n",
       "94. 'smjob2c'\n",
       "95. 'smjob2d'\n",
       "96. 'smjob2e'\n",
       "97. 'smjob3'\n",
       "98. 'smjob4a'\n",
       "99. 'smjob4b'\n",
       "100. 'smjob4c'\n",
       "101. 'smjob4d'\n",
       "102. 'smjob4e'\n",
       "103. 'snsjob1a'\n",
       "104. 'snsjob1b'\n",
       "105. 'snsjob1c'\n",
       "106. 'snsjob2a'\n",
       "107. 'snsjob2b'\n",
       "108. 'job5a'\n",
       "109. 'job5b'\n",
       "110. 'job5c'\n",
       "111. 'job5d'\n",
       "112. 'auto1a'\n",
       "113. 'auto1b'\n",
       "114. 'auto1c'\n",
       "115. 'auto1d'\n",
       "116. 'auto1e'\n",
       "117. 'auto2'\n",
       "118. 'auto3'\n",
       "119. 'age'\n",
       "120. 'marital'\n",
       "121. 'hh1'\n",
       "122. 'par'\n",
       "123. 'kidage1'\n",
       "124. 'kidage2'\n",
       "125. 'kidage3'\n",
       "126. 'educ2'\n",
       "127. 'edinst'\n",
       "128. 'disa'\n",
       "129. 'party'\n",
       "130. 'partyln'\n",
       "131. 'ideo'\n",
       "132. 'hisp'\n",
       "133. 'birth_hisp'\n",
       "134. 'race'\n",
       "135. 'inc'\n",
       "136. 'ql1a'\n",
       "137. 'qc1'\n",
       "138. 'zipcode'\n",
       "139. 'weight'\n",
       "140. 'standwt'\n",
       "\n",
       "\n"
      ],
      "text/plain": [
       "  [1] \"ï..psraid\"  \"sample\"     \"int_date\"   \"lang\"       \"usr\"       \n",
       "  [6] \"cregion\"    \"state\"      \"form\"       \"sex\"        \"q1\"        \n",
       " [11] \"q3\"         \"eminuse\"    \"intmob\"     \"intfreq\"    \"home4nw\"   \n",
       " [16] \"bbhome1\"    \"bbhome2\"    \"bbhome3a\"   \"bbhome3b\"   \"bbhome3c\"  \n",
       " [21] \"bbhome3d\"   \"bbhome3e\"   \"device1a\"   \"smart1\"     \"q4\"        \n",
       " [26] \"bbsmart1\"   \"bbsmart2\"   \"bbsmart3a\"  \"bbsmart3b\"  \"bbsmart3c\" \n",
       " [31] \"bbsmart3d\"  \"bbsmart3e\"  \"bbsmart3f\"  \"bbsmart4\"   \"cable1\"    \n",
       " [36] \"cable2\"     \"cable3a\"    \"cable3b\"    \"cable3c\"    \"act19\"     \n",
       " [41] \"act87a\"     \"act87b\"     \"act137\"     \"q5a\"        \"q5b\"       \n",
       " [46] \"q5c\"        \"q5d\"        \"q5e\"        \"q5f\"        \"date1a\"    \n",
       " [51] \"date2a\"     \"date3a\"     \"date3b\"     \"date4a\"     \"date4b\"    \n",
       " [56] \"date4c\"     \"date4d\"     \"date4e\"     \"date4f\"     \"game1\"     \n",
       " [61] \"game2a\"     \"game2b\"     \"game2c\"     \"game2d\"     \"game2e\"    \n",
       " [66] \"game2f\"     \"game3a\"     \"game3b\"     \"game4\"      \"emplnw\"    \n",
       " [71] \"emptype1\"   \"emptype2\"   \"emptype3\"   \"stud\"       \"job1a\"     \n",
       " [76] \"job1b\"      \"job1c\"      \"job1d\"      \"job1e\"      \"job1f\"     \n",
       " [81] \"job2\"       \"job3a\"      \"job3b\"      \"job3c\"      \"job3d\"     \n",
       " [86] \"job3e\"      \"job3f\"      \"job3g\"      \"job3h\"      \"job4\"      \n",
       " [91] \"smjob1\"     \"smjob2a\"    \"smjob2b\"    \"smjob2c\"    \"smjob2d\"   \n",
       " [96] \"smjob2e\"    \"smjob3\"     \"smjob4a\"    \"smjob4b\"    \"smjob4c\"   \n",
       "[101] \"smjob4d\"    \"smjob4e\"    \"snsjob1a\"   \"snsjob1b\"   \"snsjob1c\"  \n",
       "[106] \"snsjob2a\"   \"snsjob2b\"   \"job5a\"      \"job5b\"      \"job5c\"     \n",
       "[111] \"job5d\"      \"auto1a\"     \"auto1b\"     \"auto1c\"     \"auto1d\"    \n",
       "[116] \"auto1e\"     \"auto2\"      \"auto3\"      \"age\"        \"marital\"   \n",
       "[121] \"hh1\"        \"par\"        \"kidage1\"    \"kidage2\"    \"kidage3\"   \n",
       "[126] \"educ2\"      \"edinst\"     \"disa\"       \"party\"      \"partyln\"   \n",
       "[131] \"ideo\"       \"hisp\"       \"birth_hisp\" \"race\"       \"inc\"       \n",
       "[136] \"ql1a\"       \"qc1\"        \"zipcode\"    \"weight\"     \"standwt\"   "
      ]
     },
     "metadata": {},
     "output_type": "display_data"
    }
   ],
   "source": [
    "names(data)"
   ]
  },
  {
   "cell_type": "code",
   "execution_count": 4,
   "metadata": {
    "collapsed": false
   },
   "outputs": [
    {
     "name": "stderr",
     "output_type": "stream",
     "text": [
      "Warning message:\n",
      "\"package 'dplyr' was built under R version 3.3.2\"\n",
      "Attaching package: 'dplyr'\n",
      "\n",
      "The following objects are masked from 'package:stats':\n",
      "\n",
      "    filter, lag\n",
      "\n",
      "The following objects are masked from 'package:base':\n",
      "\n",
      "    intersect, setdiff, setequal, union\n",
      "\n"
     ]
    }
   ],
   "source": [
    "library(dplyr)\n",
    "x<-select(data,age,sex,state,race,marital)\n",
    "y<-data$date4c"
   ]
  },
  {
   "cell_type": "code",
   "execution_count": 5,
   "metadata": {
    "collapsed": false
   },
   "outputs": [],
   "source": [
    "kc <- kmeans(x,3)"
   ]
  },
  {
   "cell_type": "code",
   "execution_count": 6,
   "metadata": {
    "collapsed": false
   },
   "outputs": [
    {
     "data": {
      "text/plain": [
       "   \n",
       "y     1   2   3\n",
       "  1 175 146 124\n",
       "  2 463 426 531\n",
       "  8  45  43  29\n",
       "  9   8  10   1"
      ]
     },
     "metadata": {},
     "output_type": "display_data"
    }
   ],
   "source": [
    "table(y,kc$cluster)"
   ]
  },
  {
   "cell_type": "code",
   "execution_count": 7,
   "metadata": {
    "collapsed": false
   },
   "outputs": [
    {
     "data": {
      "image/png": "[encoded data removed]",
      "text/plain": [
       "plot without title"
      ]
     },
     "metadata": {},
     "output_type": "display_data"
    }
   ],
   "source": [
    "plot(x[c(\"age\", \"marital\")], col=kc$cluster)\n",
    "points(kc$centers[,c(\"age\", \"marital\")], col=1:3, pch=23, cex=3)"
   ]
  },
  {
   "cell_type": "markdown",
   "metadata": {},
   "source": [
    "<p> The clusters are not well formed, hence selecting other variables"
   ]
  },
  {
   "cell_type": "code",
   "execution_count": 8,
   "metadata": {
    "collapsed": false
   },
   "outputs": [
    {
     "data": {
      "text/plain": [
       "   \n",
       "y1    1   2   3\n",
       "  1 139 409 274\n",
       "  2 126 385 335\n",
       "  3  26 104 126\n",
       "  4   7  28  28\n",
       "  8   5   6   0\n",
       "  9   2   1   0"
      ]
     },
     "metadata": {},
     "output_type": "display_data"
    },
    {
     "data": {
      "image/png": "[encoded data removed]",
      "text/plain": [
       "plot without title"
      ]
     },
     "metadata": {},
     "output_type": "display_data"
    }
   ],
   "source": [
    "x1<-select(data,age,sex,state,race,inc)\n",
    "y1<-data$q1\n",
    "kc <- kmeans(x1,3)\n",
    "table(y1,kc$cluster)\n",
    "plot(x1[c(\"inc\", \"age\")], col=kc$cluster)\n",
    "points(kc$centers[,c(\"inc\", \"age\")], col=1:3, pch=23, cex=3)"
   ]
  },
  {
   "cell_type": "code",
   "execution_count": 9,
   "metadata": {
    "collapsed": false
   },
   "outputs": [
    {
     "data": {
      "text/plain": [
       "   \n",
       "y1    1   2   3\n",
       "  1  81  64  30\n",
       "  2 424 360 148\n",
       "  3 287 267  77\n",
       "  4  97  94  34\n",
       "  8   9  12  15\n",
       "  9   0   1   1"
      ]
     },
     "metadata": {},
     "output_type": "display_data"
    },
    {
     "data": {
      "image/png": "[encoded data removed]",
      "text/plain": [
       "plot without title"
      ]
     },
     "metadata": {},
     "output_type": "display_data"
    }
   ],
   "source": [
    "x1<-select(data,age,sex,state,race,inc)\n",
    "y1<-data$q3\n",
    "kc <- kmeans(x1,3)\n",
    "table(y1,kc$cluster)\n",
    "plot(x1[c(\"inc\", \"age\")], col=kc$cluster)\n",
    "points(kc$centers[,c(\"inc\", \"age\")], col=1:3, pch=23, cex=3)"
   ]
  },
  {
   "cell_type": "code",
   "execution_count": 10,
   "metadata": {
    "collapsed": false
   },
   "outputs": [
    {
     "data": {
      "text/plain": [
       "   \n",
       "y1    1   2   3   4   5\n",
       "  1  30  39  26  42  38\n",
       "  2 148 207 164 181 232\n",
       "  3  77 163 113 122 156\n",
       "  4  34  51  45  47  48\n",
       "  8  15   8   4   3   6\n",
       "  9   1   1   0   0   0"
      ]
     },
     "metadata": {},
     "output_type": "display_data"
    },
    {
     "data": {
      "image/png": "[encoded data removed]",
      "text/plain": [
       "plot without title"
      ]
     },
     "metadata": {},
     "output_type": "display_data"
    }
   ],
   "source": [
    "kc <- kmeans(x1,5)\n",
    "table(y1,kc$cluster)\n",
    "plot(x1[c(\"inc\", \"age\")], col=kc$cluster)\n",
    "points(kc$centers[,c(\"inc\", \"age\")], col=1:3, pch=23, cex=3)"
   ]
  },
  {
   "cell_type": "code",
   "execution_count": 11,
   "metadata": {
    "collapsed": false
   },
   "outputs": [
    {
     "data": {
      "text/plain": [
       "   \n",
       "y1    1   2   3   4   5   6   7\n",
       "  1  19  30  24  34  17  26  25\n",
       "  2  97 148 120 142 147 149 129\n",
       "  3  57  77  97  87  97 107 109\n",
       "  4  12  34  27  33  44  41  34\n",
       "  8   4  15   2   3   1   4   7\n",
       "  9   1   1   0   0   0   0   0"
      ]
     },
     "metadata": {},
     "output_type": "display_data"
    },
    {
     "data": {
      "image/png": "[encoded data removed]",
      "text/plain": [
       "plot without title"
      ]
     },
     "metadata": {},
     "output_type": "display_data"
    }
   ],
   "source": [
    "kc <- kmeans(x1,7)\n",
    "table(y1,kc$cluster)\n",
    "plot(x1[c(\"inc\", \"age\")], col=kc$cluster)\n",
    "points(kc$centers[,c(\"inc\", \"age\")], col=1:3, pch=23, cex=3)"
   ]
  },
  {
   "cell_type": "markdown",
   "metadata": {},
   "source": [
    "<p> For all the above clusters, the clusters are well formed for k=3 but not for other values of k"
   ]
  },
  {
   "cell_type": "code",
   "execution_count": 12,
   "metadata": {
    "collapsed": false
   },
   "outputs": [
    {
     "data": {
      "text/plain": [
       "   \n",
       "y1    1   2   3\n",
       "  1  66  79  30\n",
       "  2 371 413 148\n",
       "  3 275 279  77\n",
       "  4  99  92  34\n",
       "  8  12   9  15\n",
       "  9   1   0   1"
      ]
     },
     "metadata": {},
     "output_type": "display_data"
    },
    {
     "data": {
      "image/png": "[encoded data removed]",
      "text/plain": [
       "plot without title"
      ]
     },
     "metadata": {},
     "output_type": "display_data"
    }
   ],
   "source": [
    "x1<-select(data,cregion,sex,state,race,inc)\n",
    "y1<-data$q3\n",
    "kc <- kmeans(x1,3)\n",
    "table(y1,kc$cluster)\n",
    "plot(x1[c(\"state\", \"inc\")], col=kc$cluster)\n",
    "points(kc$centers[,c(\"state\", \"inc\")], col=1:3, pch=23, cex=3)"
   ]
  },
  {
   "cell_type": "code",
   "execution_count": 13,
   "metadata": {
    "collapsed": false
   },
   "outputs": [
    {
     "data": {
      "text/plain": [
       "   \n",
       "y1    1   2   3   4   5\n",
       "  1  35  30  26  23  61\n",
       "  2 232 148 137 146 269\n",
       "  3 128  77 107 126 193\n",
       "  4  65  34  33  42  51\n",
       "  8   4  15   6   5   6\n",
       "  9   0   1   0   1   0"
      ]
     },
     "metadata": {},
     "output_type": "display_data"
    },
    {
     "data": {
      "image/png": "[encoded data removed]",
      "text/plain": [
       "plot without title"
      ]
     },
     "metadata": {},
     "output_type": "display_data"
    }
   ],
   "source": [
    "kc <- kmeans(x1,5)\n",
    "table(y1,kc$cluster)\n",
    "plot(x1[c(\"state\", \"inc\")], col=kc$cluster)\n",
    "points(kc$centers[,c(\"state\", \"inc\")], col=1:3, pch=23, cex=3)"
   ]
  },
  {
   "cell_type": "code",
   "execution_count": 14,
   "metadata": {
    "collapsed": false
   },
   "outputs": [
    {
     "data": {
      "text/plain": [
       "   \n",
       "y1    1   2   3   4   5   6   7\n",
       "  1  29  23  16  21  46  26  14\n",
       "  2 200 144  88 120 183 137  60\n",
       "  3 147  76  35 108 116 107  42\n",
       "  4  53  45  19  31  29  33  15\n",
       "  8   6   3  10   4   2   6   5\n",
       "  9   0   0   1   1   0   0   0"
      ]
     },
     "metadata": {},
     "output_type": "display_data"
    },
    {
     "data": {
      "image/png": "[encoded data removed]",
      "text/plain": [
       "plot without title"
      ]
     },
     "metadata": {},
     "output_type": "display_data"
    }
   ],
   "source": [
    "kc <- kmeans(x1,7)\n",
    "table(y1,kc$cluster)\n",
    "plot(x1[c(\"state\", \"inc\")], col=kc$cluster)\n",
    "points(kc$centers[,c(\"state\", \"inc\")], col=1:3, pch=23, cex=3)"
   ]
  },
  {
   "cell_type": "markdown",
   "metadata": {},
   "source": [
    "<p> For the given variables cregion,sex,state,race,inc and the to predict variable q3, for all values of k the clusters are well defined and formed, hence this is the final data on which I performed the k-means algorithm"
   ]
  },
  {
   "cell_type": "code",
   "execution_count": null,
   "metadata": {
    "collapsed": true
   },
   "outputs": [],
   "source": []
  }
 ],
 "metadata": {
  "anaconda-cloud": {},
  "kernelspec": {
   "display_name": "R",
   "language": "R",
   "name": "ir"
  },
  "language_info": {
   "codemirror_mode": "r",
   "file_extension": ".r",
   "mimetype": "text/x-r-source",
   "name": "R",
   "pygments_lexer": "r",
   "version": "3.3.1"
  }
 },
 "nbformat": 4,
 "nbformat_minor": 0
}
