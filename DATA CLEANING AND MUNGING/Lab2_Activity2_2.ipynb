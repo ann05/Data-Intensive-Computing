{
 "cells": [
  {
   "cell_type": "code",
   "execution_count": 1,
   "metadata": {
    "collapsed": true
   },
   "outputs": [],
   "source": [
    "Team_table<-read.csv(\"Team.csv\")"
   ]
  },
  {
   "cell_type": "code",
   "execution_count": 2,
   "metadata": {
    "collapsed": true
   },
   "outputs": [],
   "source": [
    "Player_table<-read.csv(\"Players_1.csv\")"
   ]
  },
  {
   "cell_type": "code",
   "execution_count": 3,
   "metadata": {
    "collapsed": false
   },
   "outputs": [
    {
     "data": {
      "text/html": [
       "<table>\n",
       "<thead><tr><th scope=col>X</th><th scope=col>id</th><th scope=col>team_api_id</th><th scope=col>team_fifa_api_id</th><th scope=col>team_long_name</th><th scope=col>team_short_name</th><th scope=col>max_build</th><th scope=col>max_chance</th><th scope=col>max_defence</th><th scope=col>goal</th></tr></thead>\n",
       "<tbody>\n",
       "\t<tr><td>1                </td><td>1                </td><td> 9987            </td><td>  673            </td><td>KRC Genk         </td><td>GEN              </td><td>148              </td><td>182              </td><td>205              </td><td>348              </td></tr>\n",
       "\t<tr><td>2                </td><td>2                </td><td> 9993            </td><td>  675            </td><td>Beerschot AC     </td><td>BAC              </td><td> NA              </td><td>185              </td><td>210              </td><td>174              </td></tr>\n",
       "\t<tr><td>3                </td><td>3                </td><td>10000            </td><td>15005            </td><td>SV Zulte-Waregem </td><td>ZUL              </td><td>147              </td><td>153              </td><td>200              </td><td>306              </td></tr>\n",
       "\t<tr><td>4                </td><td>4                </td><td> 9994            </td><td> 2007            </td><td>Sporting Lokeren </td><td>LOK              </td><td>159              </td><td>154              </td><td>200              </td><td>279              </td></tr>\n",
       "\t<tr><td>5                </td><td>5                </td><td> 9984            </td><td> 1750            </td><td>KSV Cercle Brugge</td><td>CEB              </td><td>145              </td><td>200              </td><td>195              </td><td>213              </td></tr>\n",
       "\t<tr><td>6                </td><td>6                </td><td> 8635            </td><td>  229            </td><td>RSC Anderlecht   </td><td>AND              </td><td>149              </td><td>182              </td><td>190              </td><td>427              </td></tr>\n",
       "</tbody>\n",
       "</table>\n"
      ],
      "text/latex": [
       "\\begin{tabular}{r|llllllllll}\n",
       " X & id & team\\_api\\_id & team\\_fifa\\_api\\_id & team\\_long\\_name & team\\_short\\_name & max\\_build & max\\_chance & max\\_defence & goal\\\\\n",
       "\\hline\n",
       "\t 1                 & 1                 &  9987             &   673             & KRC Genk          & GEN               & 148               & 182               & 205               & 348              \\\\\n",
       "\t 2                 & 2                 &  9993             &   675             & Beerschot AC      & BAC               &  NA               & 185               & 210               & 174              \\\\\n",
       "\t 3                 & 3                 & 10000             & 15005             & SV Zulte-Waregem  & ZUL               & 147               & 153               & 200               & 306              \\\\\n",
       "\t 4                 & 4                 &  9994             &  2007             & Sporting Lokeren  & LOK               & 159               & 154               & 200               & 279              \\\\\n",
       "\t 5                 & 5                 &  9984             &  1750             & KSV Cercle Brugge & CEB               & 145               & 200               & 195               & 213              \\\\\n",
       "\t 6                 & 6                 &  8635             &   229             & RSC Anderlecht    & AND               & 149               & 182               & 190               & 427              \\\\\n",
       "\\end{tabular}\n"
      ],
      "text/markdown": [
       "\n",
       "X | id | team_api_id | team_fifa_api_id | team_long_name | team_short_name | max_build | max_chance | max_defence | goal | \n",
       "|---|---|---|---|---|---|\n",
       "| 1                 | 1                 |  9987             |   673             | KRC Genk          | GEN               | 148               | 182               | 205               | 348               | \n",
       "| 2                 | 2                 |  9993             |   675             | Beerschot AC      | BAC               |  NA               | 185               | 210               | 174               | \n",
       "| 3                 | 3                 | 10000             | 15005             | SV Zulte-Waregem  | ZUL               | 147               | 153               | 200               | 306               | \n",
       "| 4                 | 4                 |  9994             |  2007             | Sporting Lokeren  | LOK               | 159               | 154               | 200               | 279               | \n",
       "| 5                 | 5                 |  9984             |  1750             | KSV Cercle Brugge | CEB               | 145               | 200               | 195               | 213               | \n",
       "| 6                 | 6                 |  8635             |   229             | RSC Anderlecht    | AND               | 149               | 182               | 190               | 427               | \n",
       "\n",
       "\n"
      ],
      "text/plain": [
       "  X id team_api_id team_fifa_api_id team_long_name    team_short_name max_build\n",
       "1 1 1   9987         673            KRC Genk          GEN             148      \n",
       "2 2 2   9993         675            Beerschot AC      BAC              NA      \n",
       "3 3 3  10000       15005            SV Zulte-Waregem  ZUL             147      \n",
       "4 4 4   9994        2007            Sporting Lokeren  LOK             159      \n",
       "5 5 5   9984        1750            KSV Cercle Brugge CEB             145      \n",
       "6 6 6   8635         229            RSC Anderlecht    AND             149      \n",
       "  max_chance max_defence goal\n",
       "1 182        205         348 \n",
       "2 185        210         174 \n",
       "3 153        200         306 \n",
       "4 154        200         279 \n",
       "5 200        195         213 \n",
       "6 182        190         427 "
      ]
     },
     "metadata": {},
     "output_type": "display_data"
    }
   ],
   "source": [
    "head(Team_table)"
   ]
  },
  {
   "cell_type": "code",
   "execution_count": 4,
   "metadata": {
    "collapsed": false
   },
   "outputs": [
    {
     "data": {
      "text/html": [
       "<table>\n",
       "<thead><tr><th scope=col>X</th><th scope=col>player_api_id</th><th scope=col>overall_rate</th><th scope=col>gk_rate</th><th scope=col>player_name</th><th scope=col>appear</th><th scope=col>league</th></tr></thead>\n",
       "<tbody>\n",
       "\t<tr><td>1                </td><td>2625             </td><td>63               </td><td>153              </td><td>Patryk Rachwal,18</td><td>90               </td><td>1                </td></tr>\n",
       "\t<tr><td>2                </td><td>2752             </td><td>72               </td><td> 53              </td><td>Diego Mainz      </td><td>81               </td><td>1                </td></tr>\n",
       "\t<tr><td>3                </td><td>2768             </td><td>75               </td><td>128              </td><td>Jose Dorado      </td><td>71               </td><td>1                </td></tr>\n",
       "\t<tr><td>4                </td><td>2770             </td><td>74               </td><td>148              </td><td>Ignacio Gonzalez </td><td>16               </td><td>2                </td></tr>\n",
       "\t<tr><td>5                </td><td>2790             </td><td>73               </td><td>144              </td><td>Alberto Rey      </td><td>50               </td><td>1                </td></tr>\n",
       "\t<tr><td>6                </td><td>2796             </td><td>69               </td><td>340              </td><td>Javier Jimenez   </td><td> 1               </td><td>1                </td></tr>\n",
       "</tbody>\n",
       "</table>\n"
      ],
      "text/latex": [
       "\\begin{tabular}{r|lllllll}\n",
       " X & player\\_api\\_id & overall\\_rate & gk\\_rate & player\\_name & appear & league\\\\\n",
       "\\hline\n",
       "\t 1                 & 2625              & 63                & 153               & Patryk Rachwal,18 & 90                & 1                \\\\\n",
       "\t 2                 & 2752              & 72                &  53               & Diego Mainz       & 81                & 1                \\\\\n",
       "\t 3                 & 2768              & 75                & 128               & Jose Dorado       & 71                & 1                \\\\\n",
       "\t 4                 & 2770              & 74                & 148               & Ignacio Gonzalez  & 16                & 2                \\\\\n",
       "\t 5                 & 2790              & 73                & 144               & Alberto Rey       & 50                & 1                \\\\\n",
       "\t 6                 & 2796              & 69                & 340               & Javier Jimenez    &  1                & 1                \\\\\n",
       "\\end{tabular}\n"
      ],
      "text/markdown": [
       "\n",
       "X | player_api_id | overall_rate | gk_rate | player_name | appear | league | \n",
       "|---|---|---|---|---|---|\n",
       "| 1                 | 2625              | 63                | 153               | Patryk Rachwal,18 | 90                | 1                 | \n",
       "| 2                 | 2752              | 72                |  53               | Diego Mainz       | 81                | 1                 | \n",
       "| 3                 | 2768              | 75                | 128               | Jose Dorado       | 71                | 1                 | \n",
       "| 4                 | 2770              | 74                | 148               | Ignacio Gonzalez  | 16                | 2                 | \n",
       "| 5                 | 2790              | 73                | 144               | Alberto Rey       | 50                | 1                 | \n",
       "| 6                 | 2796              | 69                | 340               | Javier Jimenez    |  1                | 1                 | \n",
       "\n",
       "\n"
      ],
      "text/plain": [
       "  X player_api_id overall_rate gk_rate player_name       appear league\n",
       "1 1 2625          63           153     Patryk Rachwal,18 90     1     \n",
       "2 2 2752          72            53     Diego Mainz       81     1     \n",
       "3 3 2768          75           128     Jose Dorado       71     1     \n",
       "4 4 2770          74           148     Ignacio Gonzalez  16     2     \n",
       "5 5 2790          73           144     Alberto Rey       50     1     \n",
       "6 6 2796          69           340     Javier Jimenez     1     1     "
      ]
     },
     "metadata": {},
     "output_type": "display_data"
    }
   ],
   "source": [
    "head(Player_table)"
   ]
  },
  {
   "cell_type": "code",
   "execution_count": 7,
   "metadata": {
    "collapsed": false
   },
   "outputs": [
    {
     "data": {
      "text/html": [
       "<ol class=list-inline>\n",
       "\t<li>'X'</li>\n",
       "\t<li>'player_api_id'</li>\n",
       "\t<li>'overall_rate'</li>\n",
       "\t<li>'gk_rate'</li>\n",
       "\t<li>'player_name'</li>\n",
       "\t<li>'appear'</li>\n",
       "\t<li>'league'</li>\n",
       "</ol>\n"
      ],
      "text/latex": [
       "\\begin{enumerate*}\n",
       "\\item 'X'\n",
       "\\item 'player\\_api\\_id'\n",
       "\\item 'overall\\_rate'\n",
       "\\item 'gk\\_rate'\n",
       "\\item 'player\\_name'\n",
       "\\item 'appear'\n",
       "\\item 'league'\n",
       "\\end{enumerate*}\n"
      ],
      "text/markdown": [
       "1. 'X'\n",
       "2. 'player_api_id'\n",
       "3. 'overall_rate'\n",
       "4. 'gk_rate'\n",
       "5. 'player_name'\n",
       "6. 'appear'\n",
       "7. 'league'\n",
       "\n",
       "\n"
      ],
      "text/plain": [
       "[1] \"X\"             \"player_api_id\" \"overall_rate\"  \"gk_rate\"      \n",
       "[5] \"player_name\"   \"appear\"        \"league\"       "
      ]
     },
     "metadata": {},
     "output_type": "display_data"
    }
   ],
   "source": [
    "names(Player_table)"
   ]
  },
  {
   "cell_type": "code",
   "execution_count": 18,
   "metadata": {
    "collapsed": false
   },
   "outputs": [],
   "source": [
    "attach(Player_table)"
   ]
  },
  {
   "cell_type": "code",
   "execution_count": 19,
   "metadata": {
    "collapsed": false
   },
   "outputs": [],
   "source": [
    "t1<-Player_table[order(-overall_rate),]"
   ]
  },
  {
   "cell_type": "code",
   "execution_count": 41,
   "metadata": {
    "collapsed": false
   },
   "outputs": [],
   "source": [
    "t2<-subset(t1,select=c(player_name,overall_rate))"
   ]
  },
  {
   "cell_type": "code",
   "execution_count": 42,
   "metadata": {
    "collapsed": false
   },
   "outputs": [
    {
     "data": {
      "text/html": [
       "<table>\n",
       "<thead><tr><th></th><th scope=col>player_name</th><th scope=col>overall_rate</th></tr></thead>\n",
       "<tbody>\n",
       "\t<tr><th scope=row>1891</th><td>Gianluigi Buffon </td><td>93               </td></tr>\n",
       "\t<tr><th scope=row>3796</th><td>Gregory Coupet   </td><td>92               </td></tr>\n",
       "\t<tr><th scope=row>1959</th><td>Petr Cech        </td><td>89               </td></tr>\n",
       "\t<tr><th scope=row>1847</th><td>Iker Casillas    </td><td>91               </td></tr>\n",
       "\t<tr><th scope=row>1496</th><td>Manuel Neuer     </td><td>90               </td></tr>\n",
       "\t<tr><th scope=row>2044</th><td>Julio Cesar      </td><td>89               </td></tr>\n",
       "\t<tr><th scope=row>835</th><td>Sebastian Frey   </td><td>87               </td></tr>\n",
       "\t<tr><th scope=row>1898</th><td>Edwin van der Sar</td><td>87               </td></tr>\n",
       "\t<tr><th scope=row>7550</th><td>David De Gea     </td><td>87               </td></tr>\n",
       "\t<tr><th scope=row>1849</th><td>Pepe Reina       </td><td>85               </td></tr>\n",
       "</tbody>\n",
       "</table>\n"
      ],
      "text/latex": [
       "\\begin{tabular}{r|ll}\n",
       "  & player\\_name & overall\\_rate\\\\\n",
       "\\hline\n",
       "\t1891 & Gianluigi Buffon  & 93               \\\\\n",
       "\t3796 & Gregory Coupet    & 92               \\\\\n",
       "\t1959 & Petr Cech         & 89               \\\\\n",
       "\t1847 & Iker Casillas     & 91               \\\\\n",
       "\t1496 & Manuel Neuer      & 90               \\\\\n",
       "\t2044 & Julio Cesar       & 89               \\\\\n",
       "\t835 & Sebastian Frey    & 87               \\\\\n",
       "\t1898 & Edwin van der Sar & 87               \\\\\n",
       "\t7550 & David De Gea      & 87               \\\\\n",
       "\t1849 & Pepe Reina        & 85               \\\\\n",
       "\\end{tabular}\n"
      ],
      "text/markdown": [
       "\n",
       "| <!--/--> | player_name | overall_rate | \n",
       "|---|---|---|---|---|---|---|---|---|---|\n",
       "| 1891 | Gianluigi Buffon  | 93                | \n",
       "| 3796 | Gregory Coupet    | 92                | \n",
       "| 1959 | Petr Cech         | 89                | \n",
       "| 1847 | Iker Casillas     | 91                | \n",
       "| 1496 | Manuel Neuer      | 90                | \n",
       "| 2044 | Julio Cesar       | 89                | \n",
       "| 835 | Sebastian Frey    | 87                | \n",
       "| 1898 | Edwin van der Sar | 87                | \n",
       "| 7550 | David De Gea      | 87                | \n",
       "| 1849 | Pepe Reina        | 85                | \n",
       "\n",
       "\n"
      ],
      "text/plain": [
       "     player_name       overall_rate\n",
       "1891 Gianluigi Buffon  93          \n",
       "3796 Gregory Coupet    92          \n",
       "1959 Petr Cech         89          \n",
       "1847 Iker Casillas     91          \n",
       "1496 Manuel Neuer      90          \n",
       "2044 Julio Cesar       89          \n",
       "835  Sebastian Frey    87          \n",
       "1898 Edwin van der Sar 87          \n",
       "7550 David De Gea      87          \n",
       "1849 Pepe Reina        85          "
      ]
     },
     "metadata": {},
     "output_type": "display_data"
    }
   ],
   "source": [
    "head(t2,n=10)"
   ]
  },
  {
   "cell_type": "code",
   "execution_count": 40,
   "metadata": {
    "collapsed": false
   },
   "outputs": [
    {
     "data": {
      "text/html": [
       "<table>\n",
       "<thead><tr><th></th><th scope=col>player_name</th><th scope=col>gk_rate</th></tr></thead>\n",
       "<tbody>\n",
       "\t<tr><th scope=row>1891</th><td>Gianluigi Buffon </td><td>449              </td></tr>\n",
       "\t<tr><th scope=row>3796</th><td>Gregory Coupet   </td><td>447              </td></tr>\n",
       "\t<tr><th scope=row>1959</th><td>Petr Cech        </td><td>445              </td></tr>\n",
       "\t<tr><th scope=row>1847</th><td>Iker Casillas    </td><td>442              </td></tr>\n",
       "\t<tr><th scope=row>1496</th><td>Manuel Neuer     </td><td>440              </td></tr>\n",
       "\t<tr><th scope=row>2044</th><td>Julio Cesar      </td><td>438              </td></tr>\n",
       "\t<tr><th scope=row>835</th><td>Sebastian Frey   </td><td>437              </td></tr>\n",
       "\t<tr><th scope=row>1898</th><td>Edwin van der Sar</td><td>436              </td></tr>\n",
       "\t<tr><th scope=row>7550</th><td>David De Gea     </td><td>429              </td></tr>\n",
       "\t<tr><th scope=row>1849</th><td>Pepe Reina       </td><td>428              </td></tr>\n",
       "</tbody>\n",
       "</table>\n"
      ],
      "text/latex": [
       "\\begin{tabular}{r|ll}\n",
       "  & player\\_name & gk\\_rate\\\\\n",
       "\\hline\n",
       "\t1891 & Gianluigi Buffon  & 449              \\\\\n",
       "\t3796 & Gregory Coupet    & 447              \\\\\n",
       "\t1959 & Petr Cech         & 445              \\\\\n",
       "\t1847 & Iker Casillas     & 442              \\\\\n",
       "\t1496 & Manuel Neuer      & 440              \\\\\n",
       "\t2044 & Julio Cesar       & 438              \\\\\n",
       "\t835 & Sebastian Frey    & 437              \\\\\n",
       "\t1898 & Edwin van der Sar & 436              \\\\\n",
       "\t7550 & David De Gea      & 429              \\\\\n",
       "\t1849 & Pepe Reina        & 428              \\\\\n",
       "\\end{tabular}\n"
      ],
      "text/markdown": [
       "\n",
       "| <!--/--> | player_name | gk_rate | \n",
       "|---|---|---|---|---|---|---|---|---|---|\n",
       "| 1891 | Gianluigi Buffon  | 449               | \n",
       "| 3796 | Gregory Coupet    | 447               | \n",
       "| 1959 | Petr Cech         | 445               | \n",
       "| 1847 | Iker Casillas     | 442               | \n",
       "| 1496 | Manuel Neuer      | 440               | \n",
       "| 2044 | Julio Cesar       | 438               | \n",
       "| 835 | Sebastian Frey    | 437               | \n",
       "| 1898 | Edwin van der Sar | 436               | \n",
       "| 7550 | David De Gea      | 429               | \n",
       "| 1849 | Pepe Reina        | 428               | \n",
       "\n",
       "\n"
      ],
      "text/plain": [
       "     player_name       gk_rate\n",
       "1891 Gianluigi Buffon  449    \n",
       "3796 Gregory Coupet    447    \n",
       "1959 Petr Cech         445    \n",
       "1847 Iker Casillas     442    \n",
       "1496 Manuel Neuer      440    \n",
       "2044 Julio Cesar       438    \n",
       "835  Sebastian Frey    437    \n",
       "1898 Edwin van der Sar 436    \n",
       "7550 David De Gea      429    \n",
       "1849 Pepe Reina        428    "
      ]
     },
     "metadata": {},
     "output_type": "display_data"
    }
   ],
   "source": [
    "t1<-Player_table[order(-gk_rate),]\n",
    "t2<-subset(t1,select=c(player_name,gk_rate))\n",
    "head(t2,n=10)"
   ]
  },
  {
   "cell_type": "code",
   "execution_count": 39,
   "metadata": {
    "collapsed": false
   },
   "outputs": [
    {
     "data": {
      "text/html": [
       "<table>\n",
       "<thead><tr><th></th><th scope=col>player_name</th><th scope=col>appear</th></tr></thead>\n",
       "<tbody>\n",
       "\t<tr><th scope=row>2090</th><td>Steve Mandanda      </td><td>300                 </td></tr>\n",
       "\t<tr><th scope=row>4030</th><td>Stephane Ruffier    </td><td>294                 </td></tr>\n",
       "\t<tr><th scope=row>2483</th><td>Gorka Iraizoz Moreno</td><td>286                 </td></tr>\n",
       "\t<tr><th scope=row>4335</th><td>Samir Handanovic    </td><td>286                 </td></tr>\n",
       "\t<tr><th scope=row>1237</th><td>Hugo Lloris         </td><td>282                 </td></tr>\n",
       "\t<tr><th scope=row>2118</th><td>Tim Howard          </td><td>282                 </td></tr>\n",
       "\t<tr><th scope=row>2111</th><td>Joe Hart            </td><td>275                 </td></tr>\n",
       "\t<tr><th scope=row>1178</th><td>Cedric Carrasso     </td><td>268                 </td></tr>\n",
       "\t<tr><th scope=row>1290</th><td>Daniel Congre       </td><td>262                 </td></tr>\n",
       "\t<tr><th scope=row>5450</th><td>Moussa Sissoko      </td><td>260                 </td></tr>\n",
       "</tbody>\n",
       "</table>\n"
      ],
      "text/latex": [
       "\\begin{tabular}{r|ll}\n",
       "  & player\\_name & appear\\\\\n",
       "\\hline\n",
       "\t2090 & Steve Mandanda       & 300                 \\\\\n",
       "\t4030 & Stephane Ruffier     & 294                 \\\\\n",
       "\t2483 & Gorka Iraizoz Moreno & 286                 \\\\\n",
       "\t4335 & Samir Handanovic     & 286                 \\\\\n",
       "\t1237 & Hugo Lloris          & 282                 \\\\\n",
       "\t2118 & Tim Howard           & 282                 \\\\\n",
       "\t2111 & Joe Hart             & 275                 \\\\\n",
       "\t1178 & Cedric Carrasso      & 268                 \\\\\n",
       "\t1290 & Daniel Congre        & 262                 \\\\\n",
       "\t5450 & Moussa Sissoko       & 260                 \\\\\n",
       "\\end{tabular}\n"
      ],
      "text/markdown": [
       "\n",
       "| <!--/--> | player_name | appear | \n",
       "|---|---|---|---|---|---|---|---|---|---|\n",
       "| 2090 | Steve Mandanda       | 300                  | \n",
       "| 4030 | Stephane Ruffier     | 294                  | \n",
       "| 2483 | Gorka Iraizoz Moreno | 286                  | \n",
       "| 4335 | Samir Handanovic     | 286                  | \n",
       "| 1237 | Hugo Lloris          | 282                  | \n",
       "| 2118 | Tim Howard           | 282                  | \n",
       "| 2111 | Joe Hart             | 275                  | \n",
       "| 1178 | Cedric Carrasso      | 268                  | \n",
       "| 1290 | Daniel Congre        | 262                  | \n",
       "| 5450 | Moussa Sissoko       | 260                  | \n",
       "\n",
       "\n"
      ],
      "text/plain": [
       "     player_name          appear\n",
       "2090 Steve Mandanda       300   \n",
       "4030 Stephane Ruffier     294   \n",
       "2483 Gorka Iraizoz Moreno 286   \n",
       "4335 Samir Handanovic     286   \n",
       "1237 Hugo Lloris          282   \n",
       "2118 Tim Howard           282   \n",
       "2111 Joe Hart             275   \n",
       "1178 Cedric Carrasso      268   \n",
       "1290 Daniel Congre        262   \n",
       "5450 Moussa Sissoko       260   "
      ]
     },
     "metadata": {},
     "output_type": "display_data"
    }
   ],
   "source": [
    "t1<-Player_table[order(-appear),]\n",
    "t2<-subset(t1,select=c(player_name,appear))\n",
    "head(t2,n=10)"
   ]
  },
  {
   "cell_type": "code",
   "execution_count": 38,
   "metadata": {
    "collapsed": false
   },
   "outputs": [
    {
     "data": {
      "text/html": [
       "<table>\n",
       "<thead><tr><th></th><th scope=col>player_name</th><th scope=col>league</th></tr></thead>\n",
       "<tbody>\n",
       "\t<tr><th scope=row>4281</th><td>Gelson Fernandes     </td><td>6                    </td></tr>\n",
       "\t<tr><th scope=row>6104</th><td>Ricky van Wolfswinkel</td><td>5                    </td></tr>\n",
       "\t<tr><th scope=row>7339</th><td>Filip Djuricic       </td><td>5                    </td></tr>\n",
       "\t<tr><th scope=row>485</th><td>Radamel Falcao       </td><td>4                    </td></tr>\n",
       "\t<tr><th scope=row>732</th><td>Jonathan De Guzman   </td><td>4                    </td></tr>\n",
       "\t<tr><th scope=row>1052</th><td>Almen Abdi           </td><td>4                    </td></tr>\n",
       "\t<tr><th scope=row>1304</th><td>Ibrahim Afellay      </td><td>4                    </td></tr>\n",
       "\t<tr><th scope=row>1335</th><td>Edson Braafheid      </td><td>4                    </td></tr>\n",
       "\t<tr><th scope=row>1425</th><td>Eljero Elia          </td><td>4                    </td></tr>\n",
       "\t<tr><th scope=row>1789</th><td>Danijel Pranjic      </td><td>4                    </td></tr>\n",
       "</tbody>\n",
       "</table>\n"
      ],
      "text/latex": [
       "\\begin{tabular}{r|ll}\n",
       "  & player\\_name & league\\\\\n",
       "\\hline\n",
       "\t4281 & Gelson Fernandes      & 6                    \\\\\n",
       "\t6104 & Ricky van Wolfswinkel & 5                    \\\\\n",
       "\t7339 & Filip Djuricic        & 5                    \\\\\n",
       "\t485 & Radamel Falcao        & 4                    \\\\\n",
       "\t732 & Jonathan De Guzman    & 4                    \\\\\n",
       "\t1052 & Almen Abdi            & 4                    \\\\\n",
       "\t1304 & Ibrahim Afellay       & 4                    \\\\\n",
       "\t1335 & Edson Braafheid       & 4                    \\\\\n",
       "\t1425 & Eljero Elia           & 4                    \\\\\n",
       "\t1789 & Danijel Pranjic       & 4                    \\\\\n",
       "\\end{tabular}\n"
      ],
      "text/markdown": [
       "\n",
       "| <!--/--> | player_name | league | \n",
       "|---|---|---|---|---|---|---|---|---|---|\n",
       "| 4281 | Gelson Fernandes      | 6                     | \n",
       "| 6104 | Ricky van Wolfswinkel | 5                     | \n",
       "| 7339 | Filip Djuricic        | 5                     | \n",
       "| 485 | Radamel Falcao        | 4                     | \n",
       "| 732 | Jonathan De Guzman    | 4                     | \n",
       "| 1052 | Almen Abdi            | 4                     | \n",
       "| 1304 | Ibrahim Afellay       | 4                     | \n",
       "| 1335 | Edson Braafheid       | 4                     | \n",
       "| 1425 | Eljero Elia           | 4                     | \n",
       "| 1789 | Danijel Pranjic       | 4                     | \n",
       "\n",
       "\n"
      ],
      "text/plain": [
       "     player_name           league\n",
       "4281 Gelson Fernandes      6     \n",
       "6104 Ricky van Wolfswinkel 5     \n",
       "7339 Filip Djuricic        5     \n",
       "485  Radamel Falcao        4     \n",
       "732  Jonathan De Guzman    4     \n",
       "1052 Almen Abdi            4     \n",
       "1304 Ibrahim Afellay       4     \n",
       "1335 Edson Braafheid       4     \n",
       "1425 Eljero Elia           4     \n",
       "1789 Danijel Pranjic       4     "
      ]
     },
     "metadata": {},
     "output_type": "display_data"
    }
   ],
   "source": [
    "t1<-Player_table[order(-league),]\n",
    "t2<-subset(t1,select=c(player_name,league))\n",
    "head(t2,n=10)"
   ]
  },
  {
   "cell_type": "code",
   "execution_count": 29,
   "metadata": {
    "collapsed": false
   },
   "outputs": [
    {
     "name": "stderr",
     "output_type": "stream",
     "text": [
      "The following object is masked from Player_table:\n",
      "\n",
      "    X\n",
      "\n"
     ]
    }
   ],
   "source": [
    "attach(Team_table)"
   ]
  },
  {
   "cell_type": "code",
   "execution_count": 37,
   "metadata": {
    "collapsed": false
   },
   "outputs": [
    {
     "data": {
      "text/html": [
       "<table>\n",
       "<thead><tr><th></th><th scope=col>team_long_name</th><th scope=col>max_build</th></tr></thead>\n",
       "<tbody>\n",
       "\t<tr><th scope=row>141</th><td>Torino                    </td><td>209                       </td></tr>\n",
       "\t<tr><th scope=row>143</th><td>Udinese                   </td><td>205                       </td></tr>\n",
       "\t<tr><th scope=row>119</th><td>Fortuna Düsseldorf        </td><td>198                       </td></tr>\n",
       "\t<tr><th scope=row>201</th><td>Podbeskidzie Bielsko-Biala</td><td>193                       </td></tr>\n",
       "\t<tr><th scope=row>198</th><td>Korona Kielce             </td><td>192                       </td></tr>\n",
       "\t<tr><th scope=row>156</th><td>Carpi                     </td><td>190                       </td></tr>\n",
       "\t<tr><th scope=row>190</th><td>Widzew Lódz               </td><td>190                       </td></tr>\n",
       "\t<tr><th scope=row>200</th><td>Widzew Lódz               </td><td>190                       </td></tr>\n",
       "\t<tr><th scope=row>61</th><td>FC Nantes                 </td><td>189                       </td></tr>\n",
       "\t<tr><th scope=row>128</th><td>Lazio                     </td><td>188                       </td></tr>\n",
       "</tbody>\n",
       "</table>\n"
      ],
      "text/latex": [
       "\\begin{tabular}{r|ll}\n",
       "  & team\\_long\\_name & max\\_build\\\\\n",
       "\\hline\n",
       "\t141 & Torino                     & 209                       \\\\\n",
       "\t143 & Udinese                    & 205                       \\\\\n",
       "\t119 & Fortuna Düsseldorf         & 198                       \\\\\n",
       "\t201 & Podbeskidzie Bielsko-Biala & 193                       \\\\\n",
       "\t198 & Korona Kielce              & 192                       \\\\\n",
       "\t156 & Carpi                      & 190                       \\\\\n",
       "\t190 & Widzew Lódz                & 190                       \\\\\n",
       "\t200 & Widzew Lódz                & 190                       \\\\\n",
       "\t61 & FC Nantes                  & 189                       \\\\\n",
       "\t128 & Lazio                      & 188                       \\\\\n",
       "\\end{tabular}\n"
      ],
      "text/markdown": [
       "\n",
       "| <!--/--> | team_long_name | max_build | \n",
       "|---|---|---|---|---|---|---|---|---|---|\n",
       "| 141 | Torino                     | 209                        | \n",
       "| 143 | Udinese                    | 205                        | \n",
       "| 119 | Fortuna Düsseldorf         | 198                        | \n",
       "| 201 | Podbeskidzie Bielsko-Biala | 193                        | \n",
       "| 198 | Korona Kielce              | 192                        | \n",
       "| 156 | Carpi                      | 190                        | \n",
       "| 190 | Widzew Lódz                | 190                        | \n",
       "| 200 | Widzew Lódz                | 190                        | \n",
       "| 61 | FC Nantes                  | 189                        | \n",
       "| 128 | Lazio                      | 188                        | \n",
       "\n",
       "\n"
      ],
      "text/plain": [
       "    team_long_name             max_build\n",
       "141 Torino                     209      \n",
       "143 Udinese                    205      \n",
       "119 Fortuna Düsseldorf         198      \n",
       "201 Podbeskidzie Bielsko-Biala 193      \n",
       "198 Korona Kielce              192      \n",
       "156 Carpi                      190      \n",
       "190 Widzew Lódz                190      \n",
       "200 Widzew Lódz                190      \n",
       "61  FC Nantes                  189      \n",
       "128 Lazio                      188      "
      ]
     },
     "metadata": {},
     "output_type": "display_data"
    }
   ],
   "source": [
    "t1<-Team_table[order(-max_build),]\n",
    "t2<-subset(t1,select=c(team_long_name,max_build))\n",
    "head(t2,n=10)"
   ]
  },
  {
   "cell_type": "code",
   "execution_count": 36,
   "metadata": {
    "collapsed": false
   },
   "outputs": [
    {
     "data": {
      "text/html": [
       "<table>\n",
       "<thead><tr><th></th><th scope=col>team_long_name</th><th scope=col>max_chance</th></tr></thead>\n",
       "<tbody>\n",
       "\t<tr><th scope=row>128</th><td>Lazio                  </td><td>220                    </td></tr>\n",
       "\t<tr><th scope=row>106</th><td>SV Werder Bremen       </td><td>216                    </td></tr>\n",
       "\t<tr><th scope=row>138</th><td>Napoli                 </td><td>215                    </td></tr>\n",
       "\t<tr><th scope=row>35</th><td>Manchester City        </td><td>210                    </td></tr>\n",
       "\t<tr><th scope=row>39</th><td>Tottenham Hotspur      </td><td>210                    </td></tr>\n",
       "\t<tr><th scope=row>46</th><td>Birmingham City        </td><td>210                    </td></tr>\n",
       "\t<tr><th scope=row>47</th><td>Wolverhampton Wanderers</td><td>210                    </td></tr>\n",
       "\t<tr><th scope=row>48</th><td>Burnley                </td><td>210                    </td></tr>\n",
       "\t<tr><th scope=row>50</th><td>Swansea City           </td><td>210                    </td></tr>\n",
       "\t<tr><th scope=row>51</th><td>Queens Park Rangers    </td><td>210                    </td></tr>\n",
       "</tbody>\n",
       "</table>\n"
      ],
      "text/latex": [
       "\\begin{tabular}{r|ll}\n",
       "  & team\\_long\\_name & max\\_chance\\\\\n",
       "\\hline\n",
       "\t128 & Lazio                   & 220                    \\\\\n",
       "\t106 & SV Werder Bremen        & 216                    \\\\\n",
       "\t138 & Napoli                  & 215                    \\\\\n",
       "\t35 & Manchester City         & 210                    \\\\\n",
       "\t39 & Tottenham Hotspur       & 210                    \\\\\n",
       "\t46 & Birmingham City         & 210                    \\\\\n",
       "\t47 & Wolverhampton Wanderers & 210                    \\\\\n",
       "\t48 & Burnley                 & 210                    \\\\\n",
       "\t50 & Swansea City            & 210                    \\\\\n",
       "\t51 & Queens Park Rangers     & 210                    \\\\\n",
       "\\end{tabular}\n"
      ],
      "text/markdown": [
       "\n",
       "| <!--/--> | team_long_name | max_chance | \n",
       "|---|---|---|---|---|---|---|---|---|---|\n",
       "| 128 | Lazio                   | 220                     | \n",
       "| 106 | SV Werder Bremen        | 216                     | \n",
       "| 138 | Napoli                  | 215                     | \n",
       "| 35 | Manchester City         | 210                     | \n",
       "| 39 | Tottenham Hotspur       | 210                     | \n",
       "| 46 | Birmingham City         | 210                     | \n",
       "| 47 | Wolverhampton Wanderers | 210                     | \n",
       "| 48 | Burnley                 | 210                     | \n",
       "| 50 | Swansea City            | 210                     | \n",
       "| 51 | Queens Park Rangers     | 210                     | \n",
       "\n",
       "\n"
      ],
      "text/plain": [
       "    team_long_name          max_chance\n",
       "128 Lazio                   220       \n",
       "106 SV Werder Bremen        216       \n",
       "138 Napoli                  215       \n",
       "35  Manchester City         210       \n",
       "39  Tottenham Hotspur       210       \n",
       "46  Birmingham City         210       \n",
       "47  Wolverhampton Wanderers 210       \n",
       "48  Burnley                 210       \n",
       "50  Swansea City            210       \n",
       "51  Queens Park Rangers     210       "
      ]
     },
     "metadata": {},
     "output_type": "display_data"
    }
   ],
   "source": [
    "t1<-Team_table[order(-max_chance),]\n",
    "t2<-subset(t1,select=c(team_long_name,max_chance))\n",
    "head(t2,n=10)"
   ]
  },
  {
   "cell_type": "code",
   "execution_count": 33,
   "metadata": {
    "collapsed": false
   },
   "outputs": [
    {
     "data": {
      "text/html": [
       "<table>\n",
       "<thead><tr><th></th><th scope=col>team_long_name</th><th scope=col>max_defence</th></tr></thead>\n",
       "<tbody>\n",
       "\t<tr><th scope=row>2</th><td>Beerschot AC           </td><td>210                    </td></tr>\n",
       "\t<tr><th scope=row>17</th><td>KVC Westerlo           </td><td>210                    </td></tr>\n",
       "\t<tr><th scope=row>18</th><td>Sporting Charleroi     </td><td>210                    </td></tr>\n",
       "\t<tr><th scope=row>29</th><td>West Bromwich Albion   </td><td>210                    </td></tr>\n",
       "\t<tr><th scope=row>42</th><td>Hull City              </td><td>210                    </td></tr>\n",
       "\t<tr><th scope=row>46</th><td>Birmingham City        </td><td>210                    </td></tr>\n",
       "\t<tr><th scope=row>47</th><td>Wolverhampton Wanderers</td><td>210                    </td></tr>\n",
       "\t<tr><th scope=row>49</th><td>Blackpool              </td><td>210                    </td></tr>\n",
       "\t<tr><th scope=row>50</th><td>Swansea City           </td><td>210                    </td></tr>\n",
       "\t<tr><th scope=row>51</th><td>Queens Park Rangers    </td><td>210                    </td></tr>\n",
       "</tbody>\n",
       "</table>\n"
      ],
      "text/latex": [
       "\\begin{tabular}{r|ll}\n",
       "  & team\\_long\\_name & max\\_defence\\\\\n",
       "\\hline\n",
       "\t2 & Beerschot AC            & 210                    \\\\\n",
       "\t17 & KVC Westerlo            & 210                    \\\\\n",
       "\t18 & Sporting Charleroi      & 210                    \\\\\n",
       "\t29 & West Bromwich Albion    & 210                    \\\\\n",
       "\t42 & Hull City               & 210                    \\\\\n",
       "\t46 & Birmingham City         & 210                    \\\\\n",
       "\t47 & Wolverhampton Wanderers & 210                    \\\\\n",
       "\t49 & Blackpool               & 210                    \\\\\n",
       "\t50 & Swansea City            & 210                    \\\\\n",
       "\t51 & Queens Park Rangers     & 210                    \\\\\n",
       "\\end{tabular}\n"
      ],
      "text/markdown": [
       "\n",
       "| <!--/--> | team_long_name | max_defence | \n",
       "|---|---|---|---|---|---|---|---|---|---|\n",
       "| 2 | Beerschot AC            | 210                     | \n",
       "| 17 | KVC Westerlo            | 210                     | \n",
       "| 18 | Sporting Charleroi      | 210                     | \n",
       "| 29 | West Bromwich Albion    | 210                     | \n",
       "| 42 | Hull City               | 210                     | \n",
       "| 46 | Birmingham City         | 210                     | \n",
       "| 47 | Wolverhampton Wanderers | 210                     | \n",
       "| 49 | Blackpool               | 210                     | \n",
       "| 50 | Swansea City            | 210                     | \n",
       "| 51 | Queens Park Rangers     | 210                     | \n",
       "\n",
       "\n"
      ],
      "text/plain": [
       "   team_long_name          max_defence\n",
       "2  Beerschot AC            210        \n",
       "17 KVC Westerlo            210        \n",
       "18 Sporting Charleroi      210        \n",
       "29 West Bromwich Albion    210        \n",
       "42 Hull City               210        \n",
       "46 Birmingham City         210        \n",
       "47 Wolverhampton Wanderers 210        \n",
       "49 Blackpool               210        \n",
       "50 Swansea City            210        \n",
       "51 Queens Park Rangers     210        "
      ]
     },
     "metadata": {},
     "output_type": "display_data"
    }
   ],
   "source": [
    "t1<-Team_table[order(-max_defence),]\n",
    "t2<-subset(t1,select=c(team_long_name,max_defence))\n",
    "head(t2,n=10)"
   ]
  },
  {
   "cell_type": "code",
   "execution_count": 35,
   "metadata": {
    "collapsed": false
   },
   "outputs": [
    {
     "data": {
      "text/html": [
       "<table>\n",
       "<thead><tr><th></th><th scope=col>team_long_name</th><th scope=col>goal</th></tr></thead>\n",
       "<tbody>\n",
       "\t<tr><th scope=row>259</th><td>FC Barcelona     </td><td>849              </td></tr>\n",
       "\t<tr><th scope=row>257</th><td>Real Madrid CF   </td><td>843              </td></tr>\n",
       "\t<tr><th scope=row>243</th><td>Celtic           </td><td>695              </td></tr>\n",
       "\t<tr><th scope=row>95</th><td>FC Bayern Munich </td><td>653              </td></tr>\n",
       "\t<tr><th scope=row>166</th><td>PSV              </td><td>652              </td></tr>\n",
       "\t<tr><th scope=row>162</th><td>Ajax             </td><td>647              </td></tr>\n",
       "\t<tr><th scope=row>288</th><td>FC Basel         </td><td>619              </td></tr>\n",
       "\t<tr><th scope=row>35</th><td>Manchester City  </td><td>606              </td></tr>\n",
       "\t<tr><th scope=row>44</th><td>Chelsea          </td><td>583              </td></tr>\n",
       "\t<tr><th scope=row>26</th><td>Manchester United</td><td>582              </td></tr>\n",
       "</tbody>\n",
       "</table>\n"
      ],
      "text/latex": [
       "\\begin{tabular}{r|ll}\n",
       "  & team\\_long\\_name & goal\\\\\n",
       "\\hline\n",
       "\t259 & FC Barcelona      & 849              \\\\\n",
       "\t257 & Real Madrid CF    & 843              \\\\\n",
       "\t243 & Celtic            & 695              \\\\\n",
       "\t95 & FC Bayern Munich  & 653              \\\\\n",
       "\t166 & PSV               & 652              \\\\\n",
       "\t162 & Ajax              & 647              \\\\\n",
       "\t288 & FC Basel          & 619              \\\\\n",
       "\t35 & Manchester City   & 606              \\\\\n",
       "\t44 & Chelsea           & 583              \\\\\n",
       "\t26 & Manchester United & 582              \\\\\n",
       "\\end{tabular}\n"
      ],
      "text/markdown": [
       "\n",
       "| <!--/--> | team_long_name | goal | \n",
       "|---|---|---|---|---|---|---|---|---|---|\n",
       "| 259 | FC Barcelona      | 849               | \n",
       "| 257 | Real Madrid CF    | 843               | \n",
       "| 243 | Celtic            | 695               | \n",
       "| 95 | FC Bayern Munich  | 653               | \n",
       "| 166 | PSV               | 652               | \n",
       "| 162 | Ajax              | 647               | \n",
       "| 288 | FC Basel          | 619               | \n",
       "| 35 | Manchester City   | 606               | \n",
       "| 44 | Chelsea           | 583               | \n",
       "| 26 | Manchester United | 582               | \n",
       "\n",
       "\n"
      ],
      "text/plain": [
       "    team_long_name    goal\n",
       "259 FC Barcelona      849 \n",
       "257 Real Madrid CF    843 \n",
       "243 Celtic            695 \n",
       "95  FC Bayern Munich  653 \n",
       "166 PSV               652 \n",
       "162 Ajax              647 \n",
       "288 FC Basel          619 \n",
       "35  Manchester City   606 \n",
       "44  Chelsea           583 \n",
       "26  Manchester United 582 "
      ]
     },
     "metadata": {},
     "output_type": "display_data"
    }
   ],
   "source": [
    "t1<-Team_table[order(-goal),]\n",
    "t2<-subset(t1,select=c(team_long_name,goal))\n",
    "head(t2,n=10)"
   ]
  },
  {
   "cell_type": "code",
   "execution_count": null,
   "metadata": {
    "collapsed": true
   },
   "outputs": [],
   "source": []
  }
 ],
 "metadata": {
  "anaconda-cloud": {},
  "kernelspec": {
   "display_name": "R 3.3",
   "language": "R",
   "name": "ir33"
  },
  "language_info": {
   "codemirror_mode": "r",
   "file_extension": ".r",
   "mimetype": "text/x-r-source",
   "name": "R",
   "pygments_lexer": "r",
   "version": "3.3.1"
  }
 },
 "nbformat": 4,
 "nbformat_minor": 0
}
