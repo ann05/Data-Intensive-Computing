{
 "cells": [
  {
   "cell_type": "markdown",
   "metadata": {},
   "source": [
    "<H1><center> ACTIVITY 3"
   ]
  },
  {
   "cell_type": "code",
   "execution_count": 1,
   "metadata": {
    "collapsed": true
   },
   "outputs": [],
   "source": [
    "input<-read.csv(\"June 10-July 12, 2015 - Gaming, Jobs and Broadband - CSV.csv\")"
   ]
  },
  {
   "cell_type": "code",
   "execution_count": 2,
   "metadata": {
    "collapsed": false
   },
   "outputs": [
    {
     "data": {
      "text/html": [
       "<table>\n",
       "<thead><tr><th scope=col>ï..psraid</th><th scope=col>sample</th><th scope=col>int_date</th><th scope=col>lang</th><th scope=col>usr</th><th scope=col>cregion</th><th scope=col>state</th><th scope=col>form</th><th scope=col>sex</th><th scope=col>q1</th><th scope=col>...</th><th scope=col>ideo</th><th scope=col>hisp</th><th scope=col>birth_hisp</th><th scope=col>race</th><th scope=col>inc</th><th scope=col>ql1a</th><th scope=col>qc1</th><th scope=col>zipcode</th><th scope=col>weight</th><th scope=col>standwt</th></tr></thead>\n",
       "<tbody>\n",
       "\t<tr><td>100006   </td><td>1        </td><td>61015    </td><td>1        </td><td>S        </td><td>3        </td><td>51       </td><td>1        </td><td>2        </td><td>1        </td><td>...      </td><td>1        </td><td>2        </td><td>NA       </td><td>1        </td><td>99       </td><td>NA       </td><td>NA       </td><td>20112    </td><td>2.258065 </td><td>0.7209406</td></tr>\n",
       "\t<tr><td>100009   </td><td>1        </td><td>61015    </td><td>1        </td><td>U        </td><td>3        </td><td>24       </td><td>2        </td><td>2        </td><td>2        </td><td>...      </td><td>3        </td><td>2        </td><td>NA       </td><td>2        </td><td> 6       </td><td>NA       </td><td>NA       </td><td>21239    </td><td>2.548387 </td><td>0.8136330</td></tr>\n",
       "\t<tr><td>100011   </td><td>1        </td><td>61015    </td><td>1        </td><td>S        </td><td>2        </td><td>39       </td><td>2        </td><td>2        </td><td>1        </td><td>...      </td><td>1        </td><td>2        </td><td>NA       </td><td>1        </td><td> 3       </td><td>NA       </td><td>NA       </td><td>44730    </td><td>1.806452 </td><td>0.5767525</td></tr>\n",
       "\t<tr><td>100039   </td><td>1        </td><td>61015    </td><td>1        </td><td>S        </td><td>3        </td><td>37       </td><td>2        </td><td>2        </td><td>1        </td><td>...      </td><td>2        </td><td>2        </td><td>NA       </td><td>1        </td><td> 6       </td><td>NA       </td><td>NA       </td><td>27028    </td><td>5.032258 </td><td>1.6066676</td></tr>\n",
       "\t<tr><td>100040   </td><td>1        </td><td>61015    </td><td>1        </td><td>U        </td><td>3        </td><td>21       </td><td>1        </td><td>2        </td><td>1        </td><td>...      </td><td>1        </td><td>2        </td><td>NA       </td><td>1        </td><td> 3       </td><td> 2       </td><td>NA       </td><td>40511    </td><td>7.161290 </td><td>2.2864116</td></tr>\n",
       "\t<tr><td>100043   </td><td>1        </td><td>62215    </td><td>1        </td><td>R        </td><td>2        </td><td>20       </td><td>1        </td><td>2        </td><td>1        </td><td>...      </td><td>3        </td><td>2        </td><td>NA       </td><td>1        </td><td> 8       </td><td>NA       </td><td>NA       </td><td>67601    </td><td>1.000000 </td><td>0.3192737</td></tr>\n",
       "</tbody>\n",
       "</table>\n"
      ],
      "text/latex": [
       "\\begin{tabular}{r|llllllllllllllllllllllllllllllllllllllllllllllllllllllllllllllllllllllllllllllllllllllllllllllllllllllllllllllllllllllllllllllllllllllllllll}\n",
       " ï..psraid & sample & int\\_date & lang & usr & cregion & state & form & sex & q1 & ... & ideo & hisp & birth\\_hisp & race & inc & ql1a & qc1 & zipcode & weight & standwt\\\\\n",
       "\\hline\n",
       "\t 100006    & 1         & 61015     & 1         & S         & 3         & 51        & 1         & 2         & 1         & ...       & 1         & 2         & NA        & 1         & 99        & NA        & NA        & 20112     & 2.258065  & 0.7209406\\\\\n",
       "\t 100009    & 1         & 61015     & 1         & U         & 3         & 24        & 2         & 2         & 2         & ...       & 3         & 2         & NA        & 2         &  6        & NA        & NA        & 21239     & 2.548387  & 0.8136330\\\\\n",
       "\t 100011    & 1         & 61015     & 1         & S         & 2         & 39        & 2         & 2         & 1         & ...       & 1         & 2         & NA        & 1         &  3        & NA        & NA        & 44730     & 1.806452  & 0.5767525\\\\\n",
       "\t 100039    & 1         & 61015     & 1         & S         & 3         & 37        & 2         & 2         & 1         & ...       & 2         & 2         & NA        & 1         &  6        & NA        & NA        & 27028     & 5.032258  & 1.6066676\\\\\n",
       "\t 100040    & 1         & 61015     & 1         & U         & 3         & 21        & 1         & 2         & 1         & ...       & 1         & 2         & NA        & 1         &  3        &  2        & NA        & 40511     & 7.161290  & 2.2864116\\\\\n",
       "\t 100043    & 1         & 62215     & 1         & R         & 2         & 20        & 1         & 2         & 1         & ...       & 3         & 2         & NA        & 1         &  8        & NA        & NA        & 67601     & 1.000000  & 0.3192737\\\\\n",
       "\\end{tabular}\n"
      ],
      "text/markdown": [
       "\n",
       "ï..psraid | sample | int_date | lang | usr | cregion | state | form | sex | q1 | ... | ideo | hisp | birth_hisp | race | inc | ql1a | qc1 | zipcode | weight | standwt | \n",
       "|---|---|---|---|---|---|\n",
       "| 100006    | 1         | 61015     | 1         | S         | 3         | 51        | 1         | 2         | 1         | ...       | 1         | 2         | NA        | 1         | 99        | NA        | NA        | 20112     | 2.258065  | 0.7209406 | \n",
       "| 100009    | 1         | 61015     | 1         | U         | 3         | 24        | 2         | 2         | 2         | ...       | 3         | 2         | NA        | 2         |  6        | NA        | NA        | 21239     | 2.548387  | 0.8136330 | \n",
       "| 100011    | 1         | 61015     | 1         | S         | 2         | 39        | 2         | 2         | 1         | ...       | 1         | 2         | NA        | 1         |  3        | NA        | NA        | 44730     | 1.806452  | 0.5767525 | \n",
       "| 100039    | 1         | 61015     | 1         | S         | 3         | 37        | 2         | 2         | 1         | ...       | 2         | 2         | NA        | 1         |  6        | NA        | NA        | 27028     | 5.032258  | 1.6066676 | \n",
       "| 100040    | 1         | 61015     | 1         | U         | 3         | 21        | 1         | 2         | 1         | ...       | 1         | 2         | NA        | 1         |  3        |  2        | NA        | 40511     | 7.161290  | 2.2864116 | \n",
       "| 100043    | 1         | 62215     | 1         | R         | 2         | 20        | 1         | 2         | 1         | ...       | 3         | 2         | NA        | 1         |  8        | NA        | NA        | 67601     | 1.000000  | 0.3192737 | \n",
       "\n",
       "\n"
      ],
      "text/plain": [
       "  ï..psraid sample int_date lang usr cregion state form sex q1 ... ideo hisp\n",
       "1 100006    1      61015    1    S   3       51    1    2   1  ... 1    2   \n",
       "2 100009    1      61015    1    U   3       24    2    2   2  ... 3    2   \n",
       "3 100011    1      61015    1    S   2       39    2    2   1  ... 1    2   \n",
       "4 100039    1      61015    1    S   3       37    2    2   1  ... 2    2   \n",
       "5 100040    1      61015    1    U   3       21    1    2   1  ... 1    2   \n",
       "6 100043    1      62215    1    R   2       20    1    2   1  ... 3    2   \n",
       "  birth_hisp race inc ql1a qc1 zipcode weight   standwt  \n",
       "1 NA         1    99  NA   NA  20112   2.258065 0.7209406\n",
       "2 NA         2     6  NA   NA  21239   2.548387 0.8136330\n",
       "3 NA         1     3  NA   NA  44730   1.806452 0.5767525\n",
       "4 NA         1     6  NA   NA  27028   5.032258 1.6066676\n",
       "5 NA         1     3   2   NA  40511   7.161290 2.2864116\n",
       "6 NA         1     8  NA   NA  67601   1.000000 0.3192737"
      ]
     },
     "metadata": {},
     "output_type": "display_data"
    }
   ],
   "source": [
    "head(input)"
   ]
  },
  {
   "cell_type": "code",
   "execution_count": 3,
   "metadata": {
    "collapsed": false
   },
   "outputs": [
    {
     "data": {
      "text/html": [
       "<ol class=list-inline>\n",
       "\t<li>'ï..psraid'</li>\n",
       "\t<li>'sample'</li>\n",
       "\t<li>'int_date'</li>\n",
       "\t<li>'lang'</li>\n",
       "\t<li>'usr'</li>\n",
       "\t<li>'cregion'</li>\n",
       "\t<li>'state'</li>\n",
       "\t<li>'form'</li>\n",
       "\t<li>'sex'</li>\n",
       "\t<li>'q1'</li>\n",
       "\t<li>'q3'</li>\n",
       "\t<li>'eminuse'</li>\n",
       "\t<li>'intmob'</li>\n",
       "\t<li>'intfreq'</li>\n",
       "\t<li>'home4nw'</li>\n",
       "\t<li>'bbhome1'</li>\n",
       "\t<li>'bbhome2'</li>\n",
       "\t<li>'bbhome3a'</li>\n",
       "\t<li>'bbhome3b'</li>\n",
       "\t<li>'bbhome3c'</li>\n",
       "\t<li>'bbhome3d'</li>\n",
       "\t<li>'bbhome3e'</li>\n",
       "\t<li>'device1a'</li>\n",
       "\t<li>'smart1'</li>\n",
       "\t<li>'q4'</li>\n",
       "\t<li>'bbsmart1'</li>\n",
       "\t<li>'bbsmart2'</li>\n",
       "\t<li>'bbsmart3a'</li>\n",
       "\t<li>'bbsmart3b'</li>\n",
       "\t<li>'bbsmart3c'</li>\n",
       "\t<li>'bbsmart3d'</li>\n",
       "\t<li>'bbsmart3e'</li>\n",
       "\t<li>'bbsmart3f'</li>\n",
       "\t<li>'bbsmart4'</li>\n",
       "\t<li>'cable1'</li>\n",
       "\t<li>'cable2'</li>\n",
       "\t<li>'cable3a'</li>\n",
       "\t<li>'cable3b'</li>\n",
       "\t<li>'cable3c'</li>\n",
       "\t<li>'act19'</li>\n",
       "\t<li>'act87a'</li>\n",
       "\t<li>'act87b'</li>\n",
       "\t<li>'act137'</li>\n",
       "\t<li>'q5a'</li>\n",
       "\t<li>'q5b'</li>\n",
       "\t<li>'q5c'</li>\n",
       "\t<li>'q5d'</li>\n",
       "\t<li>'q5e'</li>\n",
       "\t<li>'q5f'</li>\n",
       "\t<li>'date1a'</li>\n",
       "\t<li>'date2a'</li>\n",
       "\t<li>'date3a'</li>\n",
       "\t<li>'date3b'</li>\n",
       "\t<li>'date4a'</li>\n",
       "\t<li>'date4b'</li>\n",
       "\t<li>'date4c'</li>\n",
       "\t<li>'date4d'</li>\n",
       "\t<li>'date4e'</li>\n",
       "\t<li>'date4f'</li>\n",
       "\t<li>'game1'</li>\n",
       "\t<li>'game2a'</li>\n",
       "\t<li>'game2b'</li>\n",
       "\t<li>'game2c'</li>\n",
       "\t<li>'game2d'</li>\n",
       "\t<li>'game2e'</li>\n",
       "\t<li>'game2f'</li>\n",
       "\t<li>'game3a'</li>\n",
       "\t<li>'game3b'</li>\n",
       "\t<li>'game4'</li>\n",
       "\t<li>'emplnw'</li>\n",
       "\t<li>'emptype1'</li>\n",
       "\t<li>'emptype2'</li>\n",
       "\t<li>'emptype3'</li>\n",
       "\t<li>'stud'</li>\n",
       "\t<li>'job1a'</li>\n",
       "\t<li>'job1b'</li>\n",
       "\t<li>'job1c'</li>\n",
       "\t<li>'job1d'</li>\n",
       "\t<li>'job1e'</li>\n",
       "\t<li>'job1f'</li>\n",
       "\t<li>'job2'</li>\n",
       "\t<li>'job3a'</li>\n",
       "\t<li>'job3b'</li>\n",
       "\t<li>'job3c'</li>\n",
       "\t<li>'job3d'</li>\n",
       "\t<li>'job3e'</li>\n",
       "\t<li>'job3f'</li>\n",
       "\t<li>'job3g'</li>\n",
       "\t<li>'job3h'</li>\n",
       "\t<li>'job4'</li>\n",
       "\t<li>'smjob1'</li>\n",
       "\t<li>'smjob2a'</li>\n",
       "\t<li>'smjob2b'</li>\n",
       "\t<li>'smjob2c'</li>\n",
       "\t<li>'smjob2d'</li>\n",
       "\t<li>'smjob2e'</li>\n",
       "\t<li>'smjob3'</li>\n",
       "\t<li>'smjob4a'</li>\n",
       "\t<li>'smjob4b'</li>\n",
       "\t<li>'smjob4c'</li>\n",
       "\t<li>'smjob4d'</li>\n",
       "\t<li>'smjob4e'</li>\n",
       "\t<li>'snsjob1a'</li>\n",
       "\t<li>'snsjob1b'</li>\n",
       "\t<li>'snsjob1c'</li>\n",
       "\t<li>'snsjob2a'</li>\n",
       "\t<li>'snsjob2b'</li>\n",
       "\t<li>'job5a'</li>\n",
       "\t<li>'job5b'</li>\n",
       "\t<li>'job5c'</li>\n",
       "\t<li>'job5d'</li>\n",
       "\t<li>'auto1a'</li>\n",
       "\t<li>'auto1b'</li>\n",
       "\t<li>'auto1c'</li>\n",
       "\t<li>'auto1d'</li>\n",
       "\t<li>'auto1e'</li>\n",
       "\t<li>'auto2'</li>\n",
       "\t<li>'auto3'</li>\n",
       "\t<li>'age'</li>\n",
       "\t<li>'marital'</li>\n",
       "\t<li>'hh1'</li>\n",
       "\t<li>'par'</li>\n",
       "\t<li>'kidage1'</li>\n",
       "\t<li>'kidage2'</li>\n",
       "\t<li>'kidage3'</li>\n",
       "\t<li>'educ2'</li>\n",
       "\t<li>'edinst'</li>\n",
       "\t<li>'disa'</li>\n",
       "\t<li>'party'</li>\n",
       "\t<li>'partyln'</li>\n",
       "\t<li>'ideo'</li>\n",
       "\t<li>'hisp'</li>\n",
       "\t<li>'birth_hisp'</li>\n",
       "\t<li>'race'</li>\n",
       "\t<li>'inc'</li>\n",
       "\t<li>'ql1a'</li>\n",
       "\t<li>'qc1'</li>\n",
       "\t<li>'zipcode'</li>\n",
       "\t<li>'weight'</li>\n",
       "\t<li>'standwt'</li>\n",
       "</ol>\n"
      ],
      "text/latex": [
       "\\begin{enumerate*}\n",
       "\\item 'ï..psraid'\n",
       "\\item 'sample'\n",
       "\\item 'int\\_date'\n",
       "\\item 'lang'\n",
       "\\item 'usr'\n",
       "\\item 'cregion'\n",
       "\\item 'state'\n",
       "\\item 'form'\n",
       "\\item 'sex'\n",
       "\\item 'q1'\n",
       "\\item 'q3'\n",
       "\\item 'eminuse'\n",
       "\\item 'intmob'\n",
       "\\item 'intfreq'\n",
       "\\item 'home4nw'\n",
       "\\item 'bbhome1'\n",
       "\\item 'bbhome2'\n",
       "\\item 'bbhome3a'\n",
       "\\item 'bbhome3b'\n",
       "\\item 'bbhome3c'\n",
       "\\item 'bbhome3d'\n",
       "\\item 'bbhome3e'\n",
       "\\item 'device1a'\n",
       "\\item 'smart1'\n",
       "\\item 'q4'\n",
       "\\item 'bbsmart1'\n",
       "\\item 'bbsmart2'\n",
       "\\item 'bbsmart3a'\n",
       "\\item 'bbsmart3b'\n",
       "\\item 'bbsmart3c'\n",
       "\\item 'bbsmart3d'\n",
       "\\item 'bbsmart3e'\n",
       "\\item 'bbsmart3f'\n",
       "\\item 'bbsmart4'\n",
       "\\item 'cable1'\n",
       "\\item 'cable2'\n",
       "\\item 'cable3a'\n",
       "\\item 'cable3b'\n",
       "\\item 'cable3c'\n",
       "\\item 'act19'\n",
       "\\item 'act87a'\n",
       "\\item 'act87b'\n",
       "\\item 'act137'\n",
       "\\item 'q5a'\n",
       "\\item 'q5b'\n",
       "\\item 'q5c'\n",
       "\\item 'q5d'\n",
       "\\item 'q5e'\n",
       "\\item 'q5f'\n",
       "\\item 'date1a'\n",
       "\\item 'date2a'\n",
       "\\item 'date3a'\n",
       "\\item 'date3b'\n",
       "\\item 'date4a'\n",
       "\\item 'date4b'\n",
       "\\item 'date4c'\n",
       "\\item 'date4d'\n",
       "\\item 'date4e'\n",
       "\\item 'date4f'\n",
       "\\item 'game1'\n",
       "\\item 'game2a'\n",
       "\\item 'game2b'\n",
       "\\item 'game2c'\n",
       "\\item 'game2d'\n",
       "\\item 'game2e'\n",
       "\\item 'game2f'\n",
       "\\item 'game3a'\n",
       "\\item 'game3b'\n",
       "\\item 'game4'\n",
       "\\item 'emplnw'\n",
       "\\item 'emptype1'\n",
       "\\item 'emptype2'\n",
       "\\item 'emptype3'\n",
       "\\item 'stud'\n",
       "\\item 'job1a'\n",
       "\\item 'job1b'\n",
       "\\item 'job1c'\n",
       "\\item 'job1d'\n",
       "\\item 'job1e'\n",
       "\\item 'job1f'\n",
       "\\item 'job2'\n",
       "\\item 'job3a'\n",
       "\\item 'job3b'\n",
       "\\item 'job3c'\n",
       "\\item 'job3d'\n",
       "\\item 'job3e'\n",
       "\\item 'job3f'\n",
       "\\item 'job3g'\n",
       "\\item 'job3h'\n",
       "\\item 'job4'\n",
       "\\item 'smjob1'\n",
       "\\item 'smjob2a'\n",
       "\\item 'smjob2b'\n",
       "\\item 'smjob2c'\n",
       "\\item 'smjob2d'\n",
       "\\item 'smjob2e'\n",
       "\\item 'smjob3'\n",
       "\\item 'smjob4a'\n",
       "\\item 'smjob4b'\n",
       "\\item 'smjob4c'\n",
       "\\item 'smjob4d'\n",
       "\\item 'smjob4e'\n",
       "\\item 'snsjob1a'\n",
       "\\item 'snsjob1b'\n",
       "\\item 'snsjob1c'\n",
       "\\item 'snsjob2a'\n",
       "\\item 'snsjob2b'\n",
       "\\item 'job5a'\n",
       "\\item 'job5b'\n",
       "\\item 'job5c'\n",
       "\\item 'job5d'\n",
       "\\item 'auto1a'\n",
       "\\item 'auto1b'\n",
       "\\item 'auto1c'\n",
       "\\item 'auto1d'\n",
       "\\item 'auto1e'\n",
       "\\item 'auto2'\n",
       "\\item 'auto3'\n",
       "\\item 'age'\n",
       "\\item 'marital'\n",
       "\\item 'hh1'\n",
       "\\item 'par'\n",
       "\\item 'kidage1'\n",
       "\\item 'kidage2'\n",
       "\\item 'kidage3'\n",
       "\\item 'educ2'\n",
       "\\item 'edinst'\n",
       "\\item 'disa'\n",
       "\\item 'party'\n",
       "\\item 'partyln'\n",
       "\\item 'ideo'\n",
       "\\item 'hisp'\n",
       "\\item 'birth\\_hisp'\n",
       "\\item 'race'\n",
       "\\item 'inc'\n",
       "\\item 'ql1a'\n",
       "\\item 'qc1'\n",
       "\\item 'zipcode'\n",
       "\\item 'weight'\n",
       "\\item 'standwt'\n",
       "\\end{enumerate*}\n"
      ],
      "text/markdown": [
       "1. 'ï..psraid'\n",
       "2. 'sample'\n",
       "3. 'int_date'\n",
       "4. 'lang'\n",
       "5. 'usr'\n",
       "6. 'cregion'\n",
       "7. 'state'\n",
       "8. 'form'\n",
       "9. 'sex'\n",
       "10. 'q1'\n",
       "11. 'q3'\n",
       "12. 'eminuse'\n",
       "13. 'intmob'\n",
       "14. 'intfreq'\n",
       "15. 'home4nw'\n",
       "16. 'bbhome1'\n",
       "17. 'bbhome2'\n",
       "18. 'bbhome3a'\n",
       "19. 'bbhome3b'\n",
       "20. 'bbhome3c'\n",
       "21. 'bbhome3d'\n",
       "22. 'bbhome3e'\n",
       "23. 'device1a'\n",
       "24. 'smart1'\n",
       "25. 'q4'\n",
       "26. 'bbsmart1'\n",
       "27. 'bbsmart2'\n",
       "28. 'bbsmart3a'\n",
       "29. 'bbsmart3b'\n",
       "30. 'bbsmart3c'\n",
       "31. 'bbsmart3d'\n",
       "32. 'bbsmart3e'\n",
       "33. 'bbsmart3f'\n",
       "34. 'bbsmart4'\n",
       "35. 'cable1'\n",
       "36. 'cable2'\n",
       "37. 'cable3a'\n",
       "38. 'cable3b'\n",
       "39. 'cable3c'\n",
       "40. 'act19'\n",
       "41. 'act87a'\n",
       "42. 'act87b'\n",
       "43. 'act137'\n",
       "44. 'q5a'\n",
       "45. 'q5b'\n",
       "46. 'q5c'\n",
       "47. 'q5d'\n",
       "48. 'q5e'\n",
       "49. 'q5f'\n",
       "50. 'date1a'\n",
       "51. 'date2a'\n",
       "52. 'date3a'\n",
       "53. 'date3b'\n",
       "54. 'date4a'\n",
       "55. 'date4b'\n",
       "56. 'date4c'\n",
       "57. 'date4d'\n",
       "58. 'date4e'\n",
       "59. 'date4f'\n",
       "60. 'game1'\n",
       "61. 'game2a'\n",
       "62. 'game2b'\n",
       "63. 'game2c'\n",
       "64. 'game2d'\n",
       "65. 'game2e'\n",
       "66. 'game2f'\n",
       "67. 'game3a'\n",
       "68. 'game3b'\n",
       "69. 'game4'\n",
       "70. 'emplnw'\n",
       "71. 'emptype1'\n",
       "72. 'emptype2'\n",
       "73. 'emptype3'\n",
       "74. 'stud'\n",
       "75. 'job1a'\n",
       "76. 'job1b'\n",
       "77. 'job1c'\n",
       "78. 'job1d'\n",
       "79. 'job1e'\n",
       "80. 'job1f'\n",
       "81. 'job2'\n",
       "82. 'job3a'\n",
       "83. 'job3b'\n",
       "84. 'job3c'\n",
       "85. 'job3d'\n",
       "86. 'job3e'\n",
       "87. 'job3f'\n",
       "88. 'job3g'\n",
       "89. 'job3h'\n",
       "90. 'job4'\n",
       "91. 'smjob1'\n",
       "92. 'smjob2a'\n",
       "93. 'smjob2b'\n",
       "94. 'smjob2c'\n",
       "95. 'smjob2d'\n",
       "96. 'smjob2e'\n",
       "97. 'smjob3'\n",
       "98. 'smjob4a'\n",
       "99. 'smjob4b'\n",
       "100. 'smjob4c'\n",
       "101. 'smjob4d'\n",
       "102. 'smjob4e'\n",
       "103. 'snsjob1a'\n",
       "104. 'snsjob1b'\n",
       "105. 'snsjob1c'\n",
       "106. 'snsjob2a'\n",
       "107. 'snsjob2b'\n",
       "108. 'job5a'\n",
       "109. 'job5b'\n",
       "110. 'job5c'\n",
       "111. 'job5d'\n",
       "112. 'auto1a'\n",
       "113. 'auto1b'\n",
       "114. 'auto1c'\n",
       "115. 'auto1d'\n",
       "116. 'auto1e'\n",
       "117. 'auto2'\n",
       "118. 'auto3'\n",
       "119. 'age'\n",
       "120. 'marital'\n",
       "121. 'hh1'\n",
       "122. 'par'\n",
       "123. 'kidage1'\n",
       "124. 'kidage2'\n",
       "125. 'kidage3'\n",
       "126. 'educ2'\n",
       "127. 'edinst'\n",
       "128. 'disa'\n",
       "129. 'party'\n",
       "130. 'partyln'\n",
       "131. 'ideo'\n",
       "132. 'hisp'\n",
       "133. 'birth_hisp'\n",
       "134. 'race'\n",
       "135. 'inc'\n",
       "136. 'ql1a'\n",
       "137. 'qc1'\n",
       "138. 'zipcode'\n",
       "139. 'weight'\n",
       "140. 'standwt'\n",
       "\n",
       "\n"
      ],
      "text/plain": [
       "  [1] \"ï..psraid\"  \"sample\"     \"int_date\"   \"lang\"       \"usr\"       \n",
       "  [6] \"cregion\"    \"state\"      \"form\"       \"sex\"        \"q1\"        \n",
       " [11] \"q3\"         \"eminuse\"    \"intmob\"     \"intfreq\"    \"home4nw\"   \n",
       " [16] \"bbhome1\"    \"bbhome2\"    \"bbhome3a\"   \"bbhome3b\"   \"bbhome3c\"  \n",
       " [21] \"bbhome3d\"   \"bbhome3e\"   \"device1a\"   \"smart1\"     \"q4\"        \n",
       " [26] \"bbsmart1\"   \"bbsmart2\"   \"bbsmart3a\"  \"bbsmart3b\"  \"bbsmart3c\" \n",
       " [31] \"bbsmart3d\"  \"bbsmart3e\"  \"bbsmart3f\"  \"bbsmart4\"   \"cable1\"    \n",
       " [36] \"cable2\"     \"cable3a\"    \"cable3b\"    \"cable3c\"    \"act19\"     \n",
       " [41] \"act87a\"     \"act87b\"     \"act137\"     \"q5a\"        \"q5b\"       \n",
       " [46] \"q5c\"        \"q5d\"        \"q5e\"        \"q5f\"        \"date1a\"    \n",
       " [51] \"date2a\"     \"date3a\"     \"date3b\"     \"date4a\"     \"date4b\"    \n",
       " [56] \"date4c\"     \"date4d\"     \"date4e\"     \"date4f\"     \"game1\"     \n",
       " [61] \"game2a\"     \"game2b\"     \"game2c\"     \"game2d\"     \"game2e\"    \n",
       " [66] \"game2f\"     \"game3a\"     \"game3b\"     \"game4\"      \"emplnw\"    \n",
       " [71] \"emptype1\"   \"emptype2\"   \"emptype3\"   \"stud\"       \"job1a\"     \n",
       " [76] \"job1b\"      \"job1c\"      \"job1d\"      \"job1e\"      \"job1f\"     \n",
       " [81] \"job2\"       \"job3a\"      \"job3b\"      \"job3c\"      \"job3d\"     \n",
       " [86] \"job3e\"      \"job3f\"      \"job3g\"      \"job3h\"      \"job4\"      \n",
       " [91] \"smjob1\"     \"smjob2a\"    \"smjob2b\"    \"smjob2c\"    \"smjob2d\"   \n",
       " [96] \"smjob2e\"    \"smjob3\"     \"smjob4a\"    \"smjob4b\"    \"smjob4c\"   \n",
       "[101] \"smjob4d\"    \"smjob4e\"    \"snsjob1a\"   \"snsjob1b\"   \"snsjob1c\"  \n",
       "[106] \"snsjob2a\"   \"snsjob2b\"   \"job5a\"      \"job5b\"      \"job5c\"     \n",
       "[111] \"job5d\"      \"auto1a\"     \"auto1b\"     \"auto1c\"     \"auto1d\"    \n",
       "[116] \"auto1e\"     \"auto2\"      \"auto3\"      \"age\"        \"marital\"   \n",
       "[121] \"hh1\"        \"par\"        \"kidage1\"    \"kidage2\"    \"kidage3\"   \n",
       "[126] \"educ2\"      \"edinst\"     \"disa\"       \"party\"      \"partyln\"   \n",
       "[131] \"ideo\"       \"hisp\"       \"birth_hisp\" \"race\"       \"inc\"       \n",
       "[136] \"ql1a\"       \"qc1\"        \"zipcode\"    \"weight\"     \"standwt\"   "
      ]
     },
     "metadata": {},
     "output_type": "display_data"
    }
   ],
   "source": [
    "names(input)"
   ]
  },
  {
   "cell_type": "code",
   "execution_count": 2,
   "metadata": {
    "collapsed": false
   },
   "outputs": [
    {
     "name": "stderr",
     "output_type": "stream",
     "text": [
      "Warning message:\n",
      "\"package 'dplyr' was built under R version 3.3.2\"\n",
      "Attaching package: 'dplyr'\n",
      "\n",
      "The following objects are masked from 'package:stats':\n",
      "\n",
      "    filter, lag\n",
      "\n",
      "The following objects are masked from 'package:base':\n",
      "\n",
      "    intersect, setdiff, setequal, union\n",
      "\n"
     ]
    }
   ],
   "source": [
    "library('dplyr')"
   ]
  },
  {
   "cell_type": "markdown",
   "metadata": {},
   "source": [
    "<p>Ques 1:How do people treat dating sites depending on their marital status?\n",
    "Here the emphasis is mainly on the category date4c (i.e.) \"people who use online dating sites are desperate\""
   ]
  },
  {
   "cell_type": "code",
   "execution_count": 3,
   "metadata": {
    "collapsed": true
   },
   "outputs": [],
   "source": [
    "q1_temp<-select(input,date4c,marital)"
   ]
  },
  {
   "cell_type": "markdown",
   "metadata": {},
   "source": [
    "<p>Here the attributes date4c and marital are selected from the input data, using dplyr"
   ]
  },
  {
   "cell_type": "code",
   "execution_count": 7,
   "metadata": {
    "collapsed": false
   },
   "outputs": [
    {
     "data": {
      "text/html": [
       "<table>\n",
       "<thead><tr><th scope=col>date4c</th><th scope=col>marital</th></tr></thead>\n",
       "<tbody>\n",
       "\t<tr><td>2</td><td>1</td></tr>\n",
       "\t<tr><td>2</td><td>1</td></tr>\n",
       "\t<tr><td>8</td><td>5</td></tr>\n",
       "\t<tr><td>2</td><td>1</td></tr>\n",
       "\t<tr><td>2</td><td>9</td></tr>\n",
       "\t<tr><td>2</td><td>1</td></tr>\n",
       "</tbody>\n",
       "</table>\n"
      ],
      "text/latex": [
       "\\begin{tabular}{r|ll}\n",
       " date4c & marital\\\\\n",
       "\\hline\n",
       "\t 2 & 1\\\\\n",
       "\t 2 & 1\\\\\n",
       "\t 8 & 5\\\\\n",
       "\t 2 & 1\\\\\n",
       "\t 2 & 9\\\\\n",
       "\t 2 & 1\\\\\n",
       "\\end{tabular}\n"
      ],
      "text/markdown": [
       "\n",
       "date4c | marital | \n",
       "|---|---|---|---|---|---|\n",
       "| 2 | 1 | \n",
       "| 2 | 1 | \n",
       "| 8 | 5 | \n",
       "| 2 | 1 | \n",
       "| 2 | 9 | \n",
       "| 2 | 1 | \n",
       "\n",
       "\n"
      ],
      "text/plain": [
       "  date4c marital\n",
       "1 2      1      \n",
       "2 2      1      \n",
       "3 8      5      \n",
       "4 2      1      \n",
       "5 2      9      \n",
       "6 2      1      "
      ]
     },
     "metadata": {},
     "output_type": "display_data"
    }
   ],
   "source": [
    "head(q1_temp)"
   ]
  },
  {
   "cell_type": "code",
   "execution_count": 4,
   "metadata": {
    "collapsed": false
   },
   "outputs": [],
   "source": [
    "q1_temp2 <- within(q1_temp, date4c <- factor(date4c, labels = c(\"Agree\", \"Disagree\",\"Don't know\",\"Refused\")))"
   ]
  },
  {
   "cell_type": "markdown",
   "metadata": {},
   "source": [
    "<p> From the obtained table, here the labels are converted from numeric to what the numbers actually represent, for better understanding during plotting."
   ]
  },
  {
   "cell_type": "code",
   "execution_count": 5,
   "metadata": {
    "collapsed": true
   },
   "outputs": [],
   "source": [
    "q1_temp2 <- within(q1_temp2, marital <- factor(marital, labels = c(\"Married\", \"Living with a partner\",\"Divorced\",\"Separated\",\"Widowed\",\"Never been married\",\"Don't know\",\"Refused\")))"
   ]
  },
  {
   "cell_type": "code",
   "execution_count": 6,
   "metadata": {
    "collapsed": false
   },
   "outputs": [
    {
     "name": "stderr",
     "output_type": "stream",
     "text": [
      "Warning message:\n",
      "\"package 'ggplot2' was built under R version 3.3.2\""
     ]
    }
   ],
   "source": [
    "library(ggplot2)"
   ]
  },
  {
   "cell_type": "markdown",
   "metadata": {},
   "source": [
    "<p> using the ggplot2 library, I have plotted a jitter plot for the data obtained earlier"
   ]
  },
  {
   "cell_type": "code",
   "execution_count": 20,
   "metadata": {
    "collapsed": false
   },
   "outputs": [
    {
     "data": {},
     "metadata": {},
     "output_type": "display_data"
    },
    {
     "data": {
      "image/png": "[encoded data removed]",
      "text/plain": [
       "plot without title"
      ]
     },
     "metadata": {},
     "output_type": "display_data"
    }
   ],
   "source": [
    "qplot(date4c, marital, color=date4c, data=q1_temp2, geom=\"jitter\")"
   ]
  },
  {
   "cell_type": "code",
   "execution_count": 24,
   "metadata": {
    "collapsed": false
   },
   "outputs": [
    {
     "ename": "ERROR",
     "evalue": "Error in eval(expr, envir, enclos): object 'x' not found\n",
     "output_type": "error",
     "traceback": [
      "Error in eval(expr, envir, enclos): object 'x' not found\nTraceback:\n",
      "1. qplot(date4c, marital, color = date4c, data = q1_temp2, geom = \"smooth\", \n .     method = \"lm\", formula = x + y)",
      "2. lapply(params, eval, parent.frame())",
      "3. FUN(X[[i]], ...)",
      "4. eval(expr, envir, enclos)"
     ]
    }
   ],
   "source": [
    "qplot(date4c, marital, color=date4c, data=q1_temp2, geom=\"smooth\",method=\"lm\", formula=x+y)"
   ]
  },
  {
   "cell_type": "code",
   "execution_count": 39,
   "metadata": {
    "collapsed": true
   },
   "outputs": [],
   "source": [
    "mydata <- na.omit(q1_temp2)"
   ]
  },
  {
   "cell_type": "markdown",
   "metadata": {},
   "source": [
    "<p> Removing missing values from the data obtained."
   ]
  },
  {
   "cell_type": "code",
   "execution_count": 36,
   "metadata": {
    "collapsed": false
   },
   "outputs": [
    {
     "name": "stderr",
     "output_type": "stream",
     "text": [
      "Installing package into 'C:/Users/ANMISHA/Documents/R/win-library/3.3'\n",
      "(as 'lib' is unspecified)\n",
      "also installing the dependencies 'highr', 'markdown', 'yaml', 'backports', 'knitr', 'checkmate', 'htmlwidgets', 'mnormt', 'survival', 'Formula', 'latticeExtra', 'acepack', 'gridExtra', 'data.table', 'htmlTable', 'viridis', 'htmltools', 'base64enc', 'psych', 'Hmisc'\n",
      "\n"
     ]
    },
    {
     "name": "stdout",
     "output_type": "stream",
     "text": [
      "package 'highr' successfully unpacked and MD5 sums checked\n",
      "package 'markdown' successfully unpacked and MD5 sums checked\n",
      "package 'yaml' successfully unpacked and MD5 sums checked\n",
      "package 'backports' successfully unpacked and MD5 sums checked\n",
      "package 'knitr' successfully unpacked and MD5 sums checked\n",
      "package 'checkmate' successfully unpacked and MD5 sums checked\n",
      "package 'htmlwidgets' successfully unpacked and MD5 sums checked\n",
      "package 'mnormt' successfully unpacked and MD5 sums checked\n",
      "package 'survival' successfully unpacked and MD5 sums checked\n",
      "package 'Formula' successfully unpacked and MD5 sums checked\n",
      "package 'latticeExtra' successfully unpacked and MD5 sums checked\n",
      "package 'acepack' successfully unpacked and MD5 sums checked\n",
      "package 'gridExtra' successfully unpacked and MD5 sums checked\n",
      "package 'data.table' successfully unpacked and MD5 sums checked\n",
      "package 'htmlTable' successfully unpacked and MD5 sums checked\n",
      "package 'viridis' successfully unpacked and MD5 sums checked\n",
      "package 'htmltools' successfully unpacked and MD5 sums checked\n",
      "package 'base64enc' successfully unpacked and MD5 sums checked\n",
      "package 'psych' successfully unpacked and MD5 sums checked\n",
      "package 'Hmisc' successfully unpacked and MD5 sums checked\n",
      "package 'Scale' successfully unpacked and MD5 sums checked\n",
      "\n",
      "The downloaded binary packages are in\n",
      "\tC:\\Users\\ANMISHA\\AppData\\Local\\Temp\\RtmpeAbe5u\\downloaded_packages\n"
     ]
    }
   ],
   "source": [
    "install.packages('Scale',repos='https://cran.r-project.org')"
   ]
  },
  {
   "cell_type": "code",
   "execution_count": 8,
   "metadata": {
    "collapsed": false
   },
   "outputs": [
    {
     "name": "stderr",
     "output_type": "stream",
     "text": [
      "Warning message:\n",
      "\"package 'scales' was built under R version 3.3.3\""
     ]
    }
   ],
   "source": [
    "library(scales)"
   ]
  },
  {
   "cell_type": "code",
   "execution_count": 39,
   "metadata": {
    "collapsed": false
   },
   "outputs": [
    {
     "ename": "ERROR",
     "evalue": "Error in check_breaks_labels(breaks, labels): object 'percent' not found\n",
     "output_type": "error",
     "traceback": [
      "Error in check_breaks_labels(breaks, labels): object 'percent' not found\nTraceback:\n",
      "1. scale_y_continuous(labels = percent)",
      "2. continuous_scale(c(\"y\", \"ymin\", \"ymax\", \"yend\", \"yintercept\", \n .     \"ymin_final\", \"ymax_final\", \"lower\", \"middle\", \"upper\"), \n .     \"position_c\", identity, name = name, breaks = breaks, minor_breaks = minor_breaks, \n .     labels = labels, limits = limits, expand = expand, oob = oob, \n .     na.value = na.value, trans = trans, guide = \"none\", position = position, \n .     super = ScaleContinuousPosition)",
      "3. check_breaks_labels(breaks, labels)"
     ]
    }
   ],
   "source": [
    "qplot(date4c, marital, color=date4c, data=q1_temp2, geom=\"jitter\")+scale_y_continuous(labels=percent)"
   ]
  },
  {
   "cell_type": "markdown",
   "metadata": {},
   "source": [
    "<p> All the above attempts were to categorize the data depending on their status, but was unsuccessful."
   ]
  },
  {
   "cell_type": "code",
   "execution_count": 38,
   "metadata": {
    "collapsed": true
   },
   "outputs": [],
   "source": [
    "library(Scale)"
   ]
  },
  {
   "cell_type": "code",
   "execution_count": 131,
   "metadata": {
    "collapsed": false
   },
   "outputs": [
    {
     "data": {
      "text/html": [
       "<table>\n",
       "<thead><tr><th scope=col>date4c</th><th scope=col>marital</th></tr></thead>\n",
       "<tbody>\n",
       "\t<tr><td>2</td><td>1</td></tr>\n",
       "\t<tr><td>2</td><td>1</td></tr>\n",
       "\t<tr><td>8</td><td>5</td></tr>\n",
       "\t<tr><td>2</td><td>1</td></tr>\n",
       "\t<tr><td>2</td><td>9</td></tr>\n",
       "\t<tr><td>2</td><td>1</td></tr>\n",
       "</tbody>\n",
       "</table>\n"
      ],
      "text/latex": [
       "\\begin{tabular}{r|ll}\n",
       " date4c & marital\\\\\n",
       "\\hline\n",
       "\t 2 & 1\\\\\n",
       "\t 2 & 1\\\\\n",
       "\t 8 & 5\\\\\n",
       "\t 2 & 1\\\\\n",
       "\t 2 & 9\\\\\n",
       "\t 2 & 1\\\\\n",
       "\\end{tabular}\n"
      ],
      "text/markdown": [
       "\n",
       "date4c | marital | \n",
       "|---|---|---|---|---|---|\n",
       "| 2 | 1 | \n",
       "| 2 | 1 | \n",
       "| 8 | 5 | \n",
       "| 2 | 1 | \n",
       "| 2 | 9 | \n",
       "| 2 | 1 | \n",
       "\n",
       "\n"
      ],
      "text/plain": [
       "  date4c marital\n",
       "1 2      1      \n",
       "2 2      1      \n",
       "3 8      5      \n",
       "4 2      1      \n",
       "5 2      9      \n",
       "6 2      1      "
      ]
     },
     "metadata": {},
     "output_type": "display_data"
    }
   ],
   "source": [
    "head(q1_temp)"
   ]
  },
  {
   "cell_type": "code",
   "execution_count": 40,
   "metadata": {
    "collapsed": false
   },
   "outputs": [],
   "source": [
    "mydata <-mydata %>% group_by(date4c, marital) %>%\n",
    "  summarise(count=n())\n"
   ]
  },
  {
   "cell_type": "markdown",
   "metadata": {},
   "source": [
    "<p> Using group by on the 2 attributes date4c and marital_status and also summarising it based on the count."
   ]
  },
  {
   "cell_type": "code",
   "execution_count": 44,
   "metadata": {
    "collapsed": false
   },
   "outputs": [
    {
     "data": {
      "text/html": [
       "<table>\n",
       "<thead><tr><th scope=col>date4c</th><th scope=col>marital</th><th scope=col>count</th><th scope=col>percent</th></tr></thead>\n",
       "<tbody>\n",
       "\t<tr><td>Agree                </td><td>Married              </td><td>209                  </td><td>46.966292            </td></tr>\n",
       "\t<tr><td>Agree                </td><td>Living with a partner</td><td> 27                  </td><td> 6.067416            </td></tr>\n",
       "\t<tr><td>Agree                </td><td>Divorced             </td><td> 41                  </td><td> 9.213483            </td></tr>\n",
       "\t<tr><td>Agree                </td><td>Separated            </td><td> 13                  </td><td> 2.921348            </td></tr>\n",
       "\t<tr><td>Agree                </td><td>Widowed              </td><td> 65                  </td><td>14.606742            </td></tr>\n",
       "\t<tr><td>Agree                </td><td>Never been married   </td><td> 85                  </td><td>19.101124            </td></tr>\n",
       "</tbody>\n",
       "</table>\n"
      ],
      "text/latex": [
       "\\begin{tabular}{r|llll}\n",
       " date4c & marital & count & percent\\\\\n",
       "\\hline\n",
       "\t Agree                 & Married               & 209                   & 46.966292            \\\\\n",
       "\t Agree                 & Living with a partner &  27                   &  6.067416            \\\\\n",
       "\t Agree                 & Divorced              &  41                   &  9.213483            \\\\\n",
       "\t Agree                 & Separated             &  13                   &  2.921348            \\\\\n",
       "\t Agree                 & Widowed               &  65                   & 14.606742            \\\\\n",
       "\t Agree                 & Never been married    &  85                   & 19.101124            \\\\\n",
       "\\end{tabular}\n"
      ],
      "text/markdown": [
       "\n",
       "date4c | marital | count | percent | \n",
       "|---|---|---|---|---|---|\n",
       "| Agree                 | Married               | 209                   | 46.966292             | \n",
       "| Agree                 | Living with a partner |  27                   |  6.067416             | \n",
       "| Agree                 | Divorced              |  41                   |  9.213483             | \n",
       "| Agree                 | Separated             |  13                   |  2.921348             | \n",
       "| Agree                 | Widowed               |  65                   | 14.606742             | \n",
       "| Agree                 | Never been married    |  85                   | 19.101124             | \n",
       "\n",
       "\n"
      ],
      "text/plain": [
       "  date4c marital               count percent  \n",
       "1 Agree  Married               209   46.966292\n",
       "2 Agree  Living with a partner  27    6.067416\n",
       "3 Agree  Divorced               41    9.213483\n",
       "4 Agree  Separated              13    2.921348\n",
       "5 Agree  Widowed                65   14.606742\n",
       "6 Agree  Never been married     85   19.101124"
      ]
     },
     "metadata": {},
     "output_type": "display_data"
    }
   ],
   "source": [
    "head(mydata)"
   ]
  },
  {
   "cell_type": "code",
   "execution_count": 122,
   "metadata": {
    "collapsed": true
   },
   "outputs": [],
   "source": [
    "mydata<-mutate(mydata, percent=(count/sum(count))*100)\n",
    "max<-max(mydata$percent)"
   ]
  },
  {
   "cell_type": "markdown",
   "metadata": {},
   "source": [
    "<p> From the count obtained earlier the percentages are obtained and a new column is added to the previously obtained data. &nbsp; Also the maximum percentage value is found for future use in the graphs."
   ]
  },
  {
   "cell_type": "code",
   "execution_count": 59,
   "metadata": {
    "collapsed": true
   },
   "outputs": [],
   "source": [
    "mydata1<-select(mydata,count,marital,date4c)"
   ]
  },
  {
   "cell_type": "code",
   "execution_count": 62,
   "metadata": {
    "collapsed": false
   },
   "outputs": [
    {
     "name": "stderr",
     "output_type": "stream",
     "text": [
      "Warning message in apply(height, 2L, cumsum):\n",
      "\"NAs introduced by coercion\"Warning message in apply(height, 2L, cumsum):\n",
      "\"NAs introduced by coercion\"Warning message in apply(height, 2L, cumsum):\n",
      "\"NAs introduced by coercion\"Warning message in apply(height, 2L, cumsum):\n",
      "\"NAs introduced by coercion\"Warning message in apply(height, 2L, cumsum):\n",
      "\"NAs introduced by coercion\"Warning message in apply(height, 2L, cumsum):\n",
      "\"NAs introduced by coercion\"Warning message in apply(height, 2L, cumsum):\n",
      "\"NAs introduced by coercion\"Warning message in apply(height, 2L, cumsum):\n",
      "\"NAs introduced by coercion\"Warning message in apply(height, 2L, cumsum):\n",
      "\"NAs introduced by coercion\"Warning message in apply(height, 2L, cumsum):\n",
      "\"NAs introduced by coercion\"Warning message in apply(height, 2L, cumsum):\n",
      "\"NAs introduced by coercion\"Warning message in apply(height, 2L, cumsum):\n",
      "\"NAs introduced by coercion\"Warning message in apply(height, 2L, cumsum):\n",
      "\"NAs introduced by coercion\"Warning message in apply(height, 2L, cumsum):\n",
      "\"NAs introduced by coercion\"Warning message in apply(height, 2L, cumsum):\n",
      "\"NAs introduced by coercion\"Warning message in apply(height, 2L, cumsum):\n",
      "\"NAs introduced by coercion\"Warning message in apply(height, 2L, cumsum):\n",
      "\"NAs introduced by coercion\"Warning message in apply(height, 2L, cumsum):\n",
      "\"NAs introduced by coercion\"Warning message in apply(height, 2L, cumsum):\n",
      "\"NAs introduced by coercion\"Warning message in apply(height, 2L, cumsum):\n",
      "\"NAs introduced by coercion\"Warning message in apply(height, 2L, cumsum):\n",
      "\"NAs introduced by coercion\"Warning message in apply(height, 2L, cumsum):\n",
      "\"NAs introduced by coercion\"Warning message in apply(height, 2L, cumsum):\n",
      "\"NAs introduced by coercion\"Warning message in apply(height, 2L, cumsum):\n",
      "\"NAs introduced by coercion\"Warning message in apply(height, 2L, cumsum):\n",
      "\"NAs introduced by coercion\"Warning message in apply(height, 2L, cumsum):\n",
      "\"NAs introduced by coercion\""
     ]
    },
    {
     "data": {
      "image/png": "[encoded data removed]",
      "text/plain": [
       "plot without title"
      ]
     },
     "metadata": {},
     "output_type": "display_data"
    }
   ],
   "source": [
    "barplot(t(mydata1))"
   ]
  },
  {
   "cell_type": "markdown",
   "metadata": {},
   "source": [
    "<p> Tried using the barplot but the plot seemed too simple."
   ]
  },
  {
   "cell_type": "markdown",
   "metadata": {},
   "source": [
    "<p> ggplot and scales packages are used to plot this graph, a bar plot or the normal points representatiion can be got. aes is used for aesthetics, to make the text more viible and understandable."
   ]
  },
  {
   "cell_type": "code",
   "execution_count": 143,
   "metadata": {
    "collapsed": false
   },
   "outputs": [
    {
     "data": {},
     "metadata": {},
     "output_type": "display_data"
    },
    {
     "data": {
      "image/png": "[encoded data removed]",
      "text/plain": [
       "plot without title"
      ]
     },
     "metadata": {},
     "output_type": "display_data"
    }
   ],
   "source": [
    "ggplot(mydata, aes(x=marital, y=percent, colour=marital, fill=marital)) +\n",
    " #geom_bar(stat=\"identity\") +\n",
    "geom_point(aes(size=2))+\n",
    "  facet_grid(. ~ date4c)+\n",
    "geom_text(data=mydata, aes(label=round(percent,1),y=percent+5 ,fontface=\"bold\"),size=2.5)+\n",
    "scale_y_continuous( limits=c(0,max+10))"
   ]
  },
  {
   "cell_type": "code",
   "execution_count": 106,
   "metadata": {
    "collapsed": true
   },
   "outputs": [],
   "source": [
    "write.csv(mydata,file=\"q1_data.csv\")"
   ]
  },
  {
   "cell_type": "code",
   "execution_count": 144,
   "metadata": {
    "collapsed": false
   },
   "outputs": [
    {
     "data": {},
     "metadata": {},
     "output_type": "display_data"
    },
    {
     "data": {
      "image/png": "[encoded data removed]",
      "text/plain": [
       "plot without title"
      ]
     },
     "metadata": {},
     "output_type": "display_data"
    }
   ],
   "source": [
    "ggplot(mydata, aes(x=marital, y=percent, colour=marital, fill=marital)) +\n",
    " geom_bar(stat=\"identity\") +\n",
    "#geom_point(aes(size=2))+\n",
    "  facet_grid(. ~ date4c)+\n",
    "geom_text(data=mydata, aes(label=round(percent,1),y=percent+5 ,fontface=\"bold\"),size=2.5)+\n",
    "scale_y_continuous( limits=c(0,max+10))"
   ]
  },
  {
   "cell_type": "markdown",
   "metadata": {},
   "source": [
    "<p> For this question the stats are as follows:<br/>\n",
    "<table style=\"width:100%\">\n",
    "  \n",
    "  <tc>\n",
    "     <th>Date4c</th>\n",
    "     <th>Married</th>\n",
    "     <th>Living with a partner</th>\n",
    "     <th>Divorced</th>\n",
    "     <th>Separated</th>\n",
    "     <th>Widowed</th>\n",
    "     <th>Never been married</th>\n",
    "     <th>Don't know</th>\n",
    "     <th>Refused</th>\n",
    "  </tc>\n",
    "  <tr>\n",
    "    <td>Agree</td>\n",
    "    <td>47%</td>\n",
    "    <td>6.1%</td>\n",
    "    <td>9.2%</td>\n",
    "    <td>2.9%</td>\n",
    "    <td>14.6%</td>\n",
    "    <td>19.1%</td>\n",
    "    <td>0</td>\n",
    "    <td>1.1%</td>\n",
    "  </tr>\n",
    "  <tr>\n",
    "    <td>Disagree</td>\n",
    "    <td>52.6%</td>\n",
    "    <td>6.5%</td>\n",
    "    <td>8.8%</td>\n",
    "    <td>2.4%</td>\n",
    "    <td>6.8%</td>\n",
    "    <td>21.8%</td>\n",
    "    <td>0.2%</td>\n",
    "    <td>1%</td>\n",
    "  </tr>\n",
    "  <tr>\n",
    "    <td>Don't Know</td>\n",
    "    <td>58.1%</td>\n",
    "    <td>5.1%</td>\n",
    "    <td>8.5%</td>\n",
    "    <td>2.6%</td>\n",
    "    <td>12.8%</td>\n",
    "    <td>7.7%</td>\n",
    "    <td>0</td>\n",
    "    <td>5.1%</td>\n",
    "  </tr>\n",
    "  <tr>\n",
    "    <td>Refused</td>\n",
    "    <td>78.9%</td>\n",
    "    <td>10.5%</td>\n",
    "    <td>5.3%</td>\n",
    "    <td>0</td>\n",
    "    <td>0</td>\n",
    "    <td>0</td>\n",
    "    <td>0</td>\n",
    "    <td>5.3%</td>\n",
    "  </tr>\n",
    "</table>\n"
   ]
  },
  {
   "cell_type": "markdown",
   "metadata": {},
   "source": [
    "<p> Off the total married people :20% of them agree, 22% disagree, 25% answered Don't Know and 33% refused to answer. <br/>\n",
    "Off the total people Living with a partner: 22% agree , 23% disagree, 18% answered Don't Know and 37% refused to answer.<br/>\n",
    "Off the total people Divorced: 29% agree , 28% disagree, 27% answered Don't Know and 17% refused to answer.<br/>\n",
    "Off the total people Seperated: 37% agree , 30% disagree, 33% answered Don't Know and 0% refused to answer.<br/>\n",
    "Off the total people Widowed: 43% agree , 20% disagree, 33% answered Don't Know and 0% refused to answer.<br/>\n",
    "Off the total people Never been married: 39% agree , 45% disagree, 16% answered Don't Know and 0% refused to answer.<br/>\n",
    "Off the total people who Dont Know their marital status: 0% agree , 0% disagree, 100% answered Don't Know and 0% refused to answer.<br/>\n",
    "Off the total people Refused to give their marital: 9% agree , 8% disagree, 41% answered Don't Know and 42% refused to answer.<br/>"
   ]
  },
  {
   "cell_type": "code",
   "execution_count": 171,
   "metadata": {
    "collapsed": false
   },
   "outputs": [
    {
     "data": {
      "text/html": [
       "12.5"
      ],
      "text/latex": [
       "12.5"
      ],
      "text/markdown": [
       "12.5"
      ],
      "text/plain": [
       "[1] 12.5"
      ]
     },
     "metadata": {},
     "output_type": "display_data"
    }
   ],
   "source": [
    "sum(1.1,1,5.1,5.3)"
   ]
  },
  {
   "cell_type": "code",
   "execution_count": 170,
   "metadata": {
    "collapsed": false
   },
   "outputs": [
    {
     "data": {
      "text/html": [
       "0.088"
      ],
      "text/latex": [
       "0.088"
      ],
      "text/markdown": [
       "0.088"
      ],
      "text/plain": [
       "[1] 0.088"
      ]
     },
     "metadata": {},
     "output_type": "display_data"
    },
    {
     "data": {
      "text/html": [
       "0.08"
      ],
      "text/latex": [
       "0.08"
      ],
      "text/markdown": [
       "0.08"
      ],
      "text/plain": [
       "[1] 0.08"
      ]
     },
     "metadata": {},
     "output_type": "display_data"
    },
    {
     "data": {
      "text/html": [
       "0.408"
      ],
      "text/latex": [
       "0.408"
      ],
      "text/markdown": [
       "0.408"
      ],
      "text/plain": [
       "[1] 0.408"
      ]
     },
     "metadata": {},
     "output_type": "display_data"
    },
    {
     "data": {
      "text/html": [
       "0.424"
      ],
      "text/latex": [
       "0.424"
      ],
      "text/markdown": [
       "0.424"
      ],
      "text/plain": [
       "[1] 0.424"
      ]
     },
     "metadata": {},
     "output_type": "display_data"
    }
   ],
   "source": [
    "(1.1/12.5)\n",
    "(1/12.5)\n",
    "(5.1/12.5)\n",
    "(5.3/12.5)"
   ]
  },
  {
   "cell_type": "markdown",
   "metadata": {},
   "source": [
    "<p> Question 2: Which age group has the max people using smart phone to play game?"
   ]
  },
  {
   "cell_type": "code",
   "execution_count": 342,
   "metadata": {
    "collapsed": true
   },
   "outputs": [],
   "source": [
    "q2<-select(input,smart1,age,game1)"
   ]
  },
  {
   "cell_type": "code",
   "execution_count": 343,
   "metadata": {
    "collapsed": false
   },
   "outputs": [
    {
     "data": {
      "text/html": [
       "<table>\n",
       "<thead><tr><th scope=col>smart1</th><th scope=col>age</th><th scope=col>game1</th></tr></thead>\n",
       "<tbody>\n",
       "\t<tr><td> 1</td><td>47</td><td>2 </td></tr>\n",
       "\t<tr><td> 1</td><td>63</td><td>1 </td></tr>\n",
       "\t<tr><td> 2</td><td>86</td><td>9 </td></tr>\n",
       "\t<tr><td> 1</td><td>40</td><td>2 </td></tr>\n",
       "\t<tr><td>NA</td><td>65</td><td>1 </td></tr>\n",
       "\t<tr><td> 1</td><td>69</td><td>2 </td></tr>\n",
       "</tbody>\n",
       "</table>\n"
      ],
      "text/latex": [
       "\\begin{tabular}{r|lll}\n",
       " smart1 & age & game1\\\\\n",
       "\\hline\n",
       "\t  1 & 47 & 2 \\\\\n",
       "\t  1 & 63 & 1 \\\\\n",
       "\t  2 & 86 & 9 \\\\\n",
       "\t  1 & 40 & 2 \\\\\n",
       "\t NA & 65 & 1 \\\\\n",
       "\t  1 & 69 & 2 \\\\\n",
       "\\end{tabular}\n"
      ],
      "text/markdown": [
       "\n",
       "smart1 | age | game1 | \n",
       "|---|---|---|---|---|---|\n",
       "|  1 | 47 | 2  | \n",
       "|  1 | 63 | 1  | \n",
       "|  2 | 86 | 9  | \n",
       "|  1 | 40 | 2  | \n",
       "| NA | 65 | 1  | \n",
       "|  1 | 69 | 2  | \n",
       "\n",
       "\n"
      ],
      "text/plain": [
       "  smart1 age game1\n",
       "1  1     47  2    \n",
       "2  1     63  1    \n",
       "3  2     86  9    \n",
       "4  1     40  2    \n",
       "5 NA     65  1    \n",
       "6  1     69  2    "
      ]
     },
     "metadata": {},
     "output_type": "display_data"
    }
   ],
   "source": [
    "head(q2)"
   ]
  },
  {
   "cell_type": "code",
   "execution_count": 345,
   "metadata": {
    "collapsed": false
   },
   "outputs": [],
   "source": [
    "q2_temp<-(q2)"
   ]
  },
  {
   "cell_type": "markdown",
   "metadata": {},
   "source": [
    "<p> Selecting the age, whether the own a cell phone and play games on devices"
   ]
  },
  {
   "cell_type": "code",
   "execution_count": 179,
   "metadata": {
    "collapsed": false
   },
   "outputs": [
    {
     "data": {
      "text/html": [
       "<table>\n",
       "<thead><tr><th scope=col>marital</th><th scope=col>age</th></tr></thead>\n",
       "<tbody>\n",
       "\t<tr><td>3 </td><td>68</td></tr>\n",
       "\t<tr><td>3 </td><td>56</td></tr>\n",
       "\t<tr><td>3 </td><td>59</td></tr>\n",
       "\t<tr><td>3 </td><td>51</td></tr>\n",
       "\t<tr><td>3 </td><td>51</td></tr>\n",
       "\t<tr><td>3 </td><td>67</td></tr>\n",
       "</tbody>\n",
       "</table>\n"
      ],
      "text/latex": [
       "\\begin{tabular}{r|ll}\n",
       " marital & age\\\\\n",
       "\\hline\n",
       "\t 3  & 68\\\\\n",
       "\t 3  & 56\\\\\n",
       "\t 3  & 59\\\\\n",
       "\t 3  & 51\\\\\n",
       "\t 3  & 51\\\\\n",
       "\t 3  & 67\\\\\n",
       "\\end{tabular}\n"
      ],
      "text/markdown": [
       "\n",
       "marital | age | \n",
       "|---|---|---|---|---|---|\n",
       "| 3  | 68 | \n",
       "| 3  | 56 | \n",
       "| 3  | 59 | \n",
       "| 3  | 51 | \n",
       "| 3  | 51 | \n",
       "| 3  | 67 | \n",
       "\n",
       "\n"
      ],
      "text/plain": [
       "  marital age\n",
       "1 3       68 \n",
       "2 3       56 \n",
       "3 3       59 \n",
       "4 3       51 \n",
       "5 3       51 \n",
       "6 3       67 "
      ]
     },
     "metadata": {},
     "output_type": "display_data"
    }
   ],
   "source": [
    "head(q2_temp)"
   ]
  },
  {
   "cell_type": "code",
   "execution_count": 213,
   "metadata": {
    "collapsed": false
   },
   "outputs": [],
   "source": [
    "q2_temp2<-na.omit(q2_temp)"
   ]
  },
  {
   "cell_type": "code",
   "execution_count": 368,
   "metadata": {
    "collapsed": false
   },
   "outputs": [],
   "source": [
    "q2_temp$agecat1<-cut(q2_temp$age, c(18,20,30,40,50,60,70,80,90,100))"
   ]
  },
  {
   "cell_type": "markdown",
   "metadata": {},
   "source": [
    "<p> Dividing the persons into different age groups based on their age"
   ]
  },
  {
   "cell_type": "code",
   "execution_count": 370,
   "metadata": {
    "collapsed": false
   },
   "outputs": [
    {
     "data": {
      "text/html": [
       "<table>\n",
       "<thead><tr><th scope=col>game1</th><th scope=col>agecat1</th><th scope=col>smart1</th><th scope=col>count</th><th scope=col>percent</th></tr></thead>\n",
       "<tbody>\n",
       "\t<tr><td>Yes       </td><td>(18,20]   </td><td>Yes       </td><td> 33       </td><td>86.842105 </td></tr>\n",
       "\t<tr><td>Yes       </td><td>(18,20]   </td><td>No        </td><td>  2       </td><td> 5.263158 </td></tr>\n",
       "\t<tr><td>Yes       </td><td>(18,20]   </td><td>Don't know</td><td>  2       </td><td> 5.263158 </td></tr>\n",
       "\t<tr><td>Yes       </td><td>(18,20]   </td><td>NA        </td><td>  1       </td><td> 2.631579 </td></tr>\n",
       "\t<tr><td>Yes       </td><td>(20,30]   </td><td>Yes       </td><td>166       </td><td>87.368421 </td></tr>\n",
       "\t<tr><td>Yes       </td><td>(20,30]   </td><td>No        </td><td> 14       </td><td> 7.368421 </td></tr>\n",
       "</tbody>\n",
       "</table>\n"
      ],
      "text/latex": [
       "\\begin{tabular}{r|lllll}\n",
       " game1 & agecat1 & smart1 & count & percent\\\\\n",
       "\\hline\n",
       "\t Yes        & (18,20{]}  & Yes        &  33        & 86.842105 \\\\\n",
       "\t Yes        & (18,20{]}  & No         &   2        &  5.263158 \\\\\n",
       "\t Yes        & (18,20{]}  & Don't know &   2        &  5.263158 \\\\\n",
       "\t Yes        & (18,20{]}  & NA         &   1        &  2.631579 \\\\\n",
       "\t Yes        & (20,30{]}  & Yes        & 166        & 87.368421 \\\\\n",
       "\t Yes        & (20,30{]}  & No         &  14        &  7.368421 \\\\\n",
       "\\end{tabular}\n"
      ],
      "text/markdown": [
       "\n",
       "game1 | agecat1 | smart1 | count | percent | \n",
       "|---|---|---|---|---|---|\n",
       "| Yes        | (18,20]    | Yes        |  33        | 86.842105  | \n",
       "| Yes        | (18,20]    | No         |   2        |  5.263158  | \n",
       "| Yes        | (18,20]    | Don't know |   2        |  5.263158  | \n",
       "| Yes        | (18,20]    | NA         |   1        |  2.631579  | \n",
       "| Yes        | (20,30]    | Yes        | 166        | 87.368421  | \n",
       "| Yes        | (20,30]    | No         |  14        |  7.368421  | \n",
       "\n",
       "\n"
      ],
      "text/plain": [
       "  game1 agecat1 smart1     count percent  \n",
       "1 Yes   (18,20] Yes         33   86.842105\n",
       "2 Yes   (18,20] No           2    5.263158\n",
       "3 Yes   (18,20] Don't know   2    5.263158\n",
       "4 Yes   (18,20] NA           1    2.631579\n",
       "5 Yes   (20,30] Yes        166   87.368421\n",
       "6 Yes   (20,30] No          14    7.368421"
      ]
     },
     "metadata": {},
     "output_type": "display_data"
    }
   ],
   "source": [
    "head(q2_temp1)"
   ]
  },
  {
   "cell_type": "code",
   "execution_count": 369,
   "metadata": {
    "collapsed": false
   },
   "outputs": [],
   "source": [
    "q2_temp1 <-q2_temp %>% group_by(game1,agecat1,smart1) %>%\n",
    "summarise(count=n())\n",
    "q2_temp1<-mutate(q2_temp1, percent=(count/sum(count))*100)\n",
    "max<-max(q2_temp1$percent)"
   ]
  },
  {
   "cell_type": "markdown",
   "metadata": {},
   "source": [
    "<p> Calculating the percent of people having smart phone, and they play games for each age group"
   ]
  },
  {
   "cell_type": "code",
   "execution_count": 354,
   "metadata": {
    "collapsed": false
   },
   "outputs": [],
   "source": [
    "q2_temp <- within(q2_temp, game1 <- factor(game1, labels = c(\"Yes\",\n",
    "\"No\",\n",
    "\"Don't know\",\n",
    "\"Refused\")))"
   ]
  },
  {
   "cell_type": "code",
   "execution_count": 357,
   "metadata": {
    "collapsed": true
   },
   "outputs": [],
   "source": [
    "q2_temp <- within(q2_temp, smart1 <- factor(smart1, labels = c(\"Yes\",\n",
    "\"No\",\n",
    "\"Don't know\",\n",
    "\"Refused\")))\n"
   ]
  },
  {
   "cell_type": "markdown",
   "metadata": {},
   "source": [
    "<p> Changing the factor ie lables from numerics to values"
   ]
  },
  {
   "cell_type": "code",
   "execution_count": 241,
   "metadata": {
    "collapsed": false
   },
   "outputs": [],
   "source": [
    "write.csv(q2_temp1,file=\"q2_data2.csv\")"
   ]
  },
  {
   "cell_type": "code",
   "execution_count": 364,
   "metadata": {
    "collapsed": false
   },
   "outputs": [
    {
     "data": {},
     "metadata": {},
     "output_type": "display_data"
    },
    {
     "data": {
      "image/png": "[encoded data removed]",
      "text/plain": [
       "plot without title"
      ]
     },
     "metadata": {},
     "output_type": "display_data"
    }
   ],
   "source": [
    "qplot(agecat1,game1 , color=smart1, data=q2_temp, geom=\"jitter\")"
   ]
  },
  {
   "cell_type": "code",
   "execution_count": 382,
   "metadata": {
    "collapsed": false
   },
   "outputs": [
    {
     "data": {},
     "metadata": {},
     "output_type": "display_data"
    },
    {
     "data": {
      "image/png": "[encoded data removed]",
      "text/plain": [
       "plot without title"
      ]
     },
     "metadata": {},
     "output_type": "display_data"
    }
   ],
   "source": [
    "ggplot(q2_temp1, aes(x=game1, y=percent, colour=agecat1, fill=agecat1 )) +\n",
    " #geom_bar(stat=\"identity\") +\n",
    "geom_point(aes(size=2))+\n",
    "  facet_grid(. ~ smart1)+\n",
    "geom_text(data=q2_temp1, aes(label=round(percent,1),y=percent+5 ,fontface=\"bold\"),size=2.5)+\n",
    "scale_y_continuous( limits=c(0,max+10))"
   ]
  },
  {
   "cell_type": "code",
   "execution_count": 385,
   "metadata": {
    "collapsed": false
   },
   "outputs": [
    {
     "data": {},
     "metadata": {},
     "output_type": "display_data"
    },
    {
     "data": {
      "image/png": "[encoded data removed]",
      "text/plain": [
       "plot without title"
      ]
     },
     "metadata": {},
     "output_type": "display_data"
    }
   ],
   "source": [
    "qplot(game1, data=q2_temp1, geom=\"bar\", facets = . ~ agecat1, fill=smart1)"
   ]
  },
  {
   "cell_type": "code",
   "execution_count": null,
   "metadata": {
    "collapsed": true
   },
   "outputs": [],
   "source": []
  },
  {
   "cell_type": "markdown",
   "metadata": {},
   "source": [
    "<p> From the above plots it can be seen that the age group from 30-40 & 40-50 have both smart phones and use them to play games,\n",
    "they have a percentage of 88.3 & 86.5 respectively."
   ]
  },
  {
   "cell_type": "code",
   "execution_count": 384,
   "metadata": {
    "collapsed": true
   },
   "outputs": [],
   "source": [
    "q2_temp1<-na.omit(q2_temp1)"
   ]
  },
  {
   "cell_type": "markdown",
   "metadata": {},
   "source": [
    "<p>Question 3: To determine the marital status of the maximum people of different age groups"
   ]
  },
  {
   "cell_type": "code",
   "execution_count": 244,
   "metadata": {
    "collapsed": true
   },
   "outputs": [],
   "source": [
    "q3_temp<-select(input, marital, age)"
   ]
  },
  {
   "cell_type": "code",
   "execution_count": 246,
   "metadata": {
    "collapsed": false
   },
   "outputs": [],
   "source": [
    "q3_temp$agecat1<-cut(q3_temp$age, c(0,10,20,3,40,50,60,70,80,90,100,110))"
   ]
  },
  {
   "cell_type": "markdown",
   "metadata": {},
   "source": [
    "<p>Categorizing the age"
   ]
  },
  {
   "cell_type": "code",
   "execution_count": 249,
   "metadata": {
    "collapsed": false
   },
   "outputs": [
    {
     "data": {
      "text/html": [
       "<table>\n",
       "<thead><tr><th scope=col>marital</th><th scope=col>age</th><th scope=col>agecat1</th></tr></thead>\n",
       "<tbody>\n",
       "\t<tr><td>Married</td><td>47     </td><td>(40,50]</td></tr>\n",
       "\t<tr><td>Married</td><td>63     </td><td>(60,70]</td></tr>\n",
       "\t<tr><td>Widowed</td><td>86     </td><td>(80,90]</td></tr>\n",
       "\t<tr><td>Married</td><td>40     </td><td>(20,40]</td></tr>\n",
       "\t<tr><td>Refused</td><td>65     </td><td>(60,70]</td></tr>\n",
       "\t<tr><td>Married</td><td>69     </td><td>(60,70]</td></tr>\n",
       "</tbody>\n",
       "</table>\n"
      ],
      "text/latex": [
       "\\begin{tabular}{r|lll}\n",
       " marital & age & agecat1\\\\\n",
       "\\hline\n",
       "\t Married   & 47        & (40,50{]}\\\\\n",
       "\t Married   & 63        & (60,70{]}\\\\\n",
       "\t Widowed   & 86        & (80,90{]}\\\\\n",
       "\t Married   & 40        & (20,40{]}\\\\\n",
       "\t Refused   & 65        & (60,70{]}\\\\\n",
       "\t Married   & 69        & (60,70{]}\\\\\n",
       "\\end{tabular}\n"
      ],
      "text/markdown": [
       "\n",
       "marital | age | agecat1 | \n",
       "|---|---|---|---|---|---|\n",
       "| Married | 47      | (40,50] | \n",
       "| Married | 63      | (60,70] | \n",
       "| Widowed | 86      | (80,90] | \n",
       "| Married | 40      | (20,40] | \n",
       "| Refused | 65      | (60,70] | \n",
       "| Married | 69      | (60,70] | \n",
       "\n",
       "\n"
      ],
      "text/plain": [
       "  marital age agecat1\n",
       "1 Married 47  (40,50]\n",
       "2 Married 63  (60,70]\n",
       "3 Widowed 86  (80,90]\n",
       "4 Married 40  (20,40]\n",
       "5 Refused 65  (60,70]\n",
       "6 Married 69  (60,70]"
      ]
     },
     "metadata": {},
     "output_type": "display_data"
    }
   ],
   "source": [
    "head(q3_temp)"
   ]
  },
  {
   "cell_type": "code",
   "execution_count": 248,
   "metadata": {
    "collapsed": true
   },
   "outputs": [],
   "source": [
    "q3_temp <- within(q3_temp, marital <- factor(marital, labels = c(\"Married\", \"Living with a partner\",\"Divorced\",\"Separated\",\"Widowed\",\"Never been married\",\"Don't know\",\"Refused\")))"
   ]
  },
  {
   "cell_type": "code",
   "execution_count": 252,
   "metadata": {
    "collapsed": true
   },
   "outputs": [],
   "source": [
    "q3_temp1 <-q3_temp %>% group_by(agecat1,marital) %>%\n",
    "summarise(count=n())\n",
    "q3_temp1<-mutate(q3_temp1, percent=(count/sum(count))*100)\n",
    "max<-max(q3_temp1$percent)"
   ]
  },
  {
   "cell_type": "code",
   "execution_count": 253,
   "metadata": {
    "collapsed": false
   },
   "outputs": [
    {
     "data": {
      "text/html": [
       "<table>\n",
       "<thead><tr><th scope=col>agecat1</th><th scope=col>marital</th><th scope=col>count</th><th scope=col>percent</th></tr></thead>\n",
       "<tbody>\n",
       "\t<tr><td>(10,20]              </td><td>Married              </td><td>  2                  </td><td> 2.531646            </td></tr>\n",
       "\t<tr><td>(10,20]              </td><td>Living with a partner</td><td>  1                  </td><td> 1.265823            </td></tr>\n",
       "\t<tr><td>(10,20]              </td><td>Never been married   </td><td> 75                  </td><td>94.936709            </td></tr>\n",
       "\t<tr><td>(10,20]              </td><td>Don't know           </td><td>  1                  </td><td> 1.265823            </td></tr>\n",
       "\t<tr><td>(20,40]              </td><td>Married              </td><td>215                  </td><td>40.642722            </td></tr>\n",
       "\t<tr><td>(20,40]              </td><td>Living with a partner</td><td> 67                  </td><td>12.665406            </td></tr>\n",
       "</tbody>\n",
       "</table>\n"
      ],
      "text/latex": [
       "\\begin{tabular}{r|llll}\n",
       " agecat1 & marital & count & percent\\\\\n",
       "\\hline\n",
       "\t (10,20{]}             & Married               &   2                   &  2.531646            \\\\\n",
       "\t (10,20{]}             & Living with a partner &   1                   &  1.265823            \\\\\n",
       "\t (10,20{]}             & Never been married    &  75                   & 94.936709            \\\\\n",
       "\t (10,20{]}             & Don't know            &   1                   &  1.265823            \\\\\n",
       "\t (20,40{]}             & Married               & 215                   & 40.642722            \\\\\n",
       "\t (20,40{]}             & Living with a partner &  67                   & 12.665406            \\\\\n",
       "\\end{tabular}\n"
      ],
      "text/markdown": [
       "\n",
       "agecat1 | marital | count | percent | \n",
       "|---|---|---|---|---|---|\n",
       "| (10,20]               | Married               |   2                   |  2.531646             | \n",
       "| (10,20]               | Living with a partner |   1                   |  1.265823             | \n",
       "| (10,20]               | Never been married    |  75                   | 94.936709             | \n",
       "| (10,20]               | Don't know            |   1                   |  1.265823             | \n",
       "| (20,40]               | Married               | 215                   | 40.642722             | \n",
       "| (20,40]               | Living with a partner |  67                   | 12.665406             | \n",
       "\n",
       "\n"
      ],
      "text/plain": [
       "  agecat1 marital               count percent  \n",
       "1 (10,20] Married                 2    2.531646\n",
       "2 (10,20] Living with a partner   1    1.265823\n",
       "3 (10,20] Never been married     75   94.936709\n",
       "4 (10,20] Don't know              1    1.265823\n",
       "5 (20,40] Married               215   40.642722\n",
       "6 (20,40] Living with a partner  67   12.665406"
      ]
     },
     "metadata": {},
     "output_type": "display_data"
    }
   ],
   "source": [
    "head(q3_temp1)"
   ]
  },
  {
   "cell_type": "code",
   "execution_count": 255,
   "metadata": {
    "collapsed": false
   },
   "outputs": [
    {
     "data": {},
     "metadata": {},
     "output_type": "display_data"
    },
    {
     "data": {
      "image/png": "[encoded data removed]",
      "text/plain": [
       "plot without title"
      ]
     },
     "metadata": {},
     "output_type": "display_data"
    }
   ],
   "source": [
    "qplot(agecat1, marital, color=marital, data=q3_temp1, geom=\"jitter\")"
   ]
  },
  {
   "cell_type": "code",
   "execution_count": 273,
   "metadata": {
    "collapsed": false
   },
   "outputs": [
    {
     "data": {},
     "metadata": {},
     "output_type": "display_data"
    },
    {
     "data": {
      "image/png": "[encoded data removed]",
      "text/plain": [
       "plot without title"
      ]
     },
     "metadata": {},
     "output_type": "display_data"
    }
   ],
   "source": [
    "ggplot(q3_temp1, aes(x=marital, y=percent, colour=marital, fill=marital)) +\n",
    "# geom_bar(stat=\"identity\") +\n",
    "geom_point(aes(size=1))+\n",
    "  facet_grid(. ~ agecat1)+\n",
    "geom_text(data=q3_temp1, aes(label=round(percent,1),y=percent+5 ,fontface=\"bold\"),size=2)+\n",
    "scale_y_continuous( limits=c(0,max+10))+\n",
    " theme(panel.grid.minor =   element_blank(),\n",
    "        panel.grid.major =   element_blank())"
   ]
  },
  {
   "cell_type": "markdown",
   "metadata": {},
   "source": [
    "<p>From the above plot the following colnclusions can be obtained <br/>\n",
    "Highest Population of married persons belong to the age group 51-60 years of age<br/>\n",
    "Highest Population of  persons living with a partner belong to the age group 21-30 years of age<br/>\n",
    "Highest Population of Divorced persons belong to the age group 61-70 years of age<br/>\n",
    "Highest Population of seperated persons belong to the age group 51-60 years of age<br/>\n",
    "Highest Population of widowed persons belong to the age group 81-90 years of age<br/>\n",
    "Highest Population ofpersons who have Never been married persons belong to the age group 11-20 years of age<br/>\n",
    "Highest Population of persons who refused to answer belong to the age group 91-100 years of age<br/>\n",
    "Highest Population of persons who don't know their marital status belong to the age group 11-20 years of age<br/>"
   ]
  },
  {
   "cell_type": "code",
   "execution_count": 292,
   "metadata": {
    "collapsed": false
   },
   "outputs": [],
   "source": [
    "write.csv(q3_temp1,file=\"q3_data.csv\")"
   ]
  },
  {
   "cell_type": "markdown",
   "metadata": {},
   "source": [
    "<p>Question 4: Find which income group do maximum people of a race belong to?"
   ]
  },
  {
   "cell_type": "code",
   "execution_count": 288,
   "metadata": {
    "collapsed": true
   },
   "outputs": [],
   "source": [
    "q4_temp<-select(input, race,inc)"
   ]
  },
  {
   "cell_type": "code",
   "execution_count": 295,
   "metadata": {
    "collapsed": false
   },
   "outputs": [
    {
     "data": {
      "text/html": [
       "<table>\n",
       "<thead><tr><th scope=col>race</th><th scope=col>inc</th><th scope=col>count</th><th scope=col>percent</th></tr></thead>\n",
       "<tbody>\n",
       "\t<tr><td>1        </td><td>1        </td><td> 95      </td><td> 6.278916</td></tr>\n",
       "\t<tr><td>1        </td><td>2        </td><td>125      </td><td> 8.261732</td></tr>\n",
       "\t<tr><td>1        </td><td>3        </td><td>129      </td><td> 8.526107</td></tr>\n",
       "\t<tr><td>1        </td><td>4        </td><td>125      </td><td> 8.261732</td></tr>\n",
       "\t<tr><td>1        </td><td>5        </td><td>129      </td><td> 8.526107</td></tr>\n",
       "\t<tr><td>1        </td><td>6        </td><td>219      </td><td>14.474554</td></tr>\n",
       "</tbody>\n",
       "</table>\n"
      ],
      "text/latex": [
       "\\begin{tabular}{r|llll}\n",
       " race & inc & count & percent\\\\\n",
       "\\hline\n",
       "\t 1         & 1         &  95       &  6.278916\\\\\n",
       "\t 1         & 2         & 125       &  8.261732\\\\\n",
       "\t 1         & 3         & 129       &  8.526107\\\\\n",
       "\t 1         & 4         & 125       &  8.261732\\\\\n",
       "\t 1         & 5         & 129       &  8.526107\\\\\n",
       "\t 1         & 6         & 219       & 14.474554\\\\\n",
       "\\end{tabular}\n"
      ],
      "text/markdown": [
       "\n",
       "race | inc | count | percent | \n",
       "|---|---|---|---|---|---|\n",
       "| 1         | 1         |  95       |  6.278916 | \n",
       "| 1         | 2         | 125       |  8.261732 | \n",
       "| 1         | 3         | 129       |  8.526107 | \n",
       "| 1         | 4         | 125       |  8.261732 | \n",
       "| 1         | 5         | 129       |  8.526107 | \n",
       "| 1         | 6         | 219       | 14.474554 | \n",
       "\n",
       "\n"
      ],
      "text/plain": [
       "  race inc count percent  \n",
       "1 1    1    95    6.278916\n",
       "2 1    2   125    8.261732\n",
       "3 1    3   129    8.526107\n",
       "4 1    4   125    8.261732\n",
       "5 1    5   129    8.526107\n",
       "6 1    6   219   14.474554"
      ]
     },
     "metadata": {},
     "output_type": "display_data"
    }
   ],
   "source": [
    "head(q4_temp1)"
   ]
  },
  {
   "cell_type": "code",
   "execution_count": 293,
   "metadata": {
    "collapsed": true
   },
   "outputs": [],
   "source": [
    "q4_temp1 <-q4_temp %>% group_by(race,inc) %>%\n",
    "summarise(count=n())\n",
    "q4_temp1<-mutate(q4_temp1, percent=(count/sum(count))*100)\n",
    "max<-max(q4_temp1$percent)"
   ]
  },
  {
   "cell_type": "code",
   "execution_count": 337,
   "metadata": {
    "collapsed": false
   },
   "outputs": [],
   "source": [
    "q4_temp <- within(q4_temp, race <- factor(race, labels = c(\"White\",\n",
    "\"Black or African-American\",\n",
    "\"Asian or Pacific Islander\",\n",
    "\"Mixed race\",\n",
    "\"Native American/American Indian\",\n",
    "\"Other\",\n",
    "\"Don't know\",\n",
    "\" Refused\")))"
   ]
  },
  {
   "cell_type": "code",
   "execution_count": 336,
   "metadata": {
    "collapsed": false
   },
   "outputs": [],
   "source": [
    "q4_temp <- within(q4_temp, inc <- factor(inc, labels = c(\"Less than $10,000\",\n",
    "\"10 to under $20,000\",\n",
    "\"20 to under $30,000\",\n",
    "\"30 to under $40,000\",\n",
    "\"40 to under $50,000\",\n",
    "\"50 to under $75,000\",\n",
    "\"75 to under $100,000\",\n",
    "\"100 to under $150,000\",\n",
    "\"$150,000 or more\",\n",
    " \"Don't know\",\n",
    " \"Refused\"\n",
    ")))"
   ]
  },
  {
   "cell_type": "code",
   "execution_count": 303,
   "metadata": {
    "collapsed": false
   },
   "outputs": [
    {
     "data": {
      "text/html": [
       "<table>\n",
       "<thead><tr><th scope=col>race</th><th scope=col>inc</th><th scope=col>count</th><th scope=col>percent</th></tr></thead>\n",
       "<tbody>\n",
       "\t<tr><td>White              </td><td>Less than $10,000  </td><td> 95                </td><td> 6.278916          </td></tr>\n",
       "\t<tr><td>White              </td><td>10 to under $20,000</td><td>125                </td><td> 8.261732          </td></tr>\n",
       "\t<tr><td>White              </td><td>20 to under $30,000</td><td>129                </td><td> 8.526107          </td></tr>\n",
       "\t<tr><td>White              </td><td>30 to under $40,000</td><td>125                </td><td> 8.261732          </td></tr>\n",
       "\t<tr><td>White              </td><td>40 to under $50,000</td><td>129                </td><td> 8.526107          </td></tr>\n",
       "\t<tr><td>White              </td><td>50 to under $75,000</td><td>219                </td><td>14.474554          </td></tr>\n",
       "</tbody>\n",
       "</table>\n"
      ],
      "text/latex": [
       "\\begin{tabular}{r|llll}\n",
       " race & inc & count & percent\\\\\n",
       "\\hline\n",
       "\t White                 & Less than \\$10,000   &  95                   &  6.278916            \\\\\n",
       "\t White                 & 10 to under \\$20,000 & 125                   &  8.261732            \\\\\n",
       "\t White                 & 20 to under \\$30,000 & 129                   &  8.526107            \\\\\n",
       "\t White                 & 30 to under \\$40,000 & 125                   &  8.261732            \\\\\n",
       "\t White                 & 40 to under \\$50,000 & 129                   &  8.526107            \\\\\n",
       "\t White                 & 50 to under \\$75,000 & 219                   & 14.474554            \\\\\n",
       "\\end{tabular}\n"
      ],
      "text/markdown": [
       "\n",
       "race | inc | count | percent | \n",
       "|---|---|---|---|---|---|\n",
       "| White               | Less than $10,000   |  95                 |  6.278916           | \n",
       "| White               | 10 to under $20,000 | 125                 |  8.261732           | \n",
       "| White               | 20 to under $30,000 | 129                 |  8.526107           | \n",
       "| White               | 30 to under $40,000 | 125                 |  8.261732           | \n",
       "| White               | 40 to under $50,000 | 129                 |  8.526107           | \n",
       "| White               | 50 to under $75,000 | 219                 | 14.474554           | \n",
       "\n",
       "\n"
      ],
      "text/plain": [
       "  race  inc                 count percent  \n",
       "1 White Less than $10,000    95    6.278916\n",
       "2 White 10 to under $20,000 125    8.261732\n",
       "3 White 20 to under $30,000 129    8.526107\n",
       "4 White 30 to under $40,000 125    8.261732\n",
       "5 White 40 to under $50,000 129    8.526107\n",
       "6 White 50 to under $75,000 219   14.474554"
      ]
     },
     "metadata": {},
     "output_type": "display_data"
    }
   ],
   "source": [
    "head(q4_temp1)"
   ]
  },
  {
   "cell_type": "code",
   "execution_count": 339,
   "metadata": {
    "collapsed": false
   },
   "outputs": [
    {
     "data": {},
     "metadata": {},
     "output_type": "display_data"
    },
    {
     "data": {
      "image/png": "[encoded data removed]",
      "text/plain": [
       "plot without title"
      ]
     },
     "metadata": {},
     "output_type": "display_data"
    }
   ],
   "source": [
    "qplot(inc, race, color=inc, data=q4_temp, geom=\"jitter\")"
   ]
  },
  {
   "cell_type": "code",
   "execution_count": 302,
   "metadata": {
    "collapsed": false
   },
   "outputs": [
    {
     "data": {
      "text/html": [
       "<table>\n",
       "<thead><tr><th scope=col>race</th><th scope=col>inc</th><th scope=col>count</th><th scope=col>percent</th></tr></thead>\n",
       "<tbody>\n",
       "\t<tr><td>White              </td><td>Less than $10,000  </td><td>1                  </td><td>9.090909           </td></tr>\n",
       "\t<tr><td>White              </td><td>10 to under $20,000</td><td>1                  </td><td>9.090909           </td></tr>\n",
       "\t<tr><td>White              </td><td>20 to under $30,000</td><td>1                  </td><td>9.090909           </td></tr>\n",
       "\t<tr><td>White              </td><td>30 to under $40,000</td><td>1                  </td><td>9.090909           </td></tr>\n",
       "\t<tr><td>White              </td><td>40 to under $50,000</td><td>1                  </td><td>9.090909           </td></tr>\n",
       "\t<tr><td>White              </td><td>50 to under $75,000</td><td>1                  </td><td>9.090909           </td></tr>\n",
       "</tbody>\n",
       "</table>\n"
      ],
      "text/latex": [
       "\\begin{tabular}{r|llll}\n",
       " race & inc & count & percent\\\\\n",
       "\\hline\n",
       "\t White                 & Less than \\$10,000   & 1                     & 9.090909             \\\\\n",
       "\t White                 & 10 to under \\$20,000 & 1                     & 9.090909             \\\\\n",
       "\t White                 & 20 to under \\$30,000 & 1                     & 9.090909             \\\\\n",
       "\t White                 & 30 to under \\$40,000 & 1                     & 9.090909             \\\\\n",
       "\t White                 & 40 to under \\$50,000 & 1                     & 9.090909             \\\\\n",
       "\t White                 & 50 to under \\$75,000 & 1                     & 9.090909             \\\\\n",
       "\\end{tabular}\n"
      ],
      "text/markdown": [
       "\n",
       "race | inc | count | percent | \n",
       "|---|---|---|---|---|---|\n",
       "| White               | Less than $10,000   | 1                   | 9.090909            | \n",
       "| White               | 10 to under $20,000 | 1                   | 9.090909            | \n",
       "| White               | 20 to under $30,000 | 1                   | 9.090909            | \n",
       "| White               | 30 to under $40,000 | 1                   | 9.090909            | \n",
       "| White               | 40 to under $50,000 | 1                   | 9.090909            | \n",
       "| White               | 50 to under $75,000 | 1                   | 9.090909            | \n",
       "\n",
       "\n"
      ],
      "text/plain": [
       "  race  inc                 count percent \n",
       "1 White Less than $10,000   1     9.090909\n",
       "2 White 10 to under $20,000 1     9.090909\n",
       "3 White 20 to under $30,000 1     9.090909\n",
       "4 White 30 to under $40,000 1     9.090909\n",
       "5 White 40 to under $50,000 1     9.090909\n",
       "6 White 50 to under $75,000 1     9.090909"
      ]
     },
     "metadata": {},
     "output_type": "display_data"
    }
   ],
   "source": [
    "head(q4_temp2)"
   ]
  },
  {
   "cell_type": "code",
   "execution_count": 315,
   "metadata": {
    "collapsed": false
   },
   "outputs": [
    {
     "data": {},
     "metadata": {},
     "output_type": "display_data"
    },
    {
     "data": {
      "image/png": "[encoded data removed]",
      "text/plain": [
       "plot without title"
      ]
     },
     "metadata": {},
     "output_type": "display_data"
    }
   ],
   "source": [
    "ggplot(q4_temp1, aes(x=inc, y=percent, colour=inc, fill=inc,alpha=0.25)) +\n",
    "# geom_bar(stat=\"identity\") +\n",
    "geom_point(aes(size=1))+\n",
    "  facet_grid(. ~ race)+\n",
    "geom_text(data=q4_temp1, aes(label=round(percent,1),y=percent+3 ,fontface=\"bold\"),size=2)+\n",
    "scale_y_continuous( limits=c(0,50))+\n",
    " theme(panel.grid.minor =   element_blank(),\n",
    "        panel.grid.major =   element_blank())"
   ]
  },
  {
   "cell_type": "markdown",
   "metadata": {},
   "source": [
    "<p>From the above plot the following can be found: <br\\>\n",
    "Maximum of the White race people belong to \"50,000-under $75,000\" <br\\>\n",
    "Maximum of the Black or African-American race people belong to less than $10,000 <br\\>\n",
    "Maximum of the Asian or Pacific Islander race people belong to less than \"$150,000 or more\" <br\\>\n",
    "Maximum of the Mixed race people belong to less than $75,000 to under $100,000 <br\\>\n",
    "Maximum of the \"Native American/American Indian\" race people belong to less than $150,000 or more <br\\>\n",
    "Maximum of the Other  race people belong to less than $10,000 & under $20,000 <br\\>\n",
    "Maximum of the people whose race we Don't know, did not mention their income  <br\\>\n",
    "Maximum of the people who Refused to reveal their race also refused to reveal their income\n"
   ]
  },
  {
   "cell_type": "markdown",
   "metadata": {},
   "source": [
    "Question 5: Find the relation between income and sex"
   ]
  },
  {
   "cell_type": "code",
   "execution_count": 323,
   "metadata": {
    "collapsed": true
   },
   "outputs": [],
   "source": [
    "q5_temp<-select(input,inc,sex)"
   ]
  },
  {
   "cell_type": "code",
   "execution_count": 326,
   "metadata": {
    "collapsed": false
   },
   "outputs": [
    {
     "data": {
      "text/html": [
       "<table>\n",
       "<thead><tr><th scope=col>inc</th><th scope=col>sex</th></tr></thead>\n",
       "<tbody>\n",
       "\t<tr><td>Refused              </td><td>female               </td></tr>\n",
       "\t<tr><td>50 to under $75,000  </td><td>female               </td></tr>\n",
       "\t<tr><td>20 to under $30,000  </td><td>female               </td></tr>\n",
       "\t<tr><td>50 to under $75,000  </td><td>female               </td></tr>\n",
       "\t<tr><td>20 to under $30,000  </td><td>female               </td></tr>\n",
       "\t<tr><td>100 to under $150,000</td><td>female               </td></tr>\n",
       "</tbody>\n",
       "</table>\n"
      ],
      "text/latex": [
       "\\begin{tabular}{r|ll}\n",
       " inc & sex\\\\\n",
       "\\hline\n",
       "\t Refused               & female               \\\\\n",
       "\t 50 to under \\$75,000   & female                 \\\\\n",
       "\t 20 to under \\$30,000   & female                 \\\\\n",
       "\t 50 to under \\$75,000   & female                 \\\\\n",
       "\t 20 to under \\$30,000   & female                 \\\\\n",
       "\t 100 to under \\$150,000 & female                 \\\\\n",
       "\\end{tabular}\n"
      ],
      "text/markdown": [
       "\n",
       "inc | sex | \n",
       "|---|---|---|---|---|---|\n",
       "| Refused               | female                | \n",
       "| 50 to under $75,000   | female                | \n",
       "| 20 to under $30,000   | female                | \n",
       "| 50 to under $75,000   | female                | \n",
       "| 20 to under $30,000   | female                | \n",
       "| 100 to under $150,000 | female                | \n",
       "\n",
       "\n"
      ],
      "text/plain": [
       "  inc                   sex   \n",
       "1 Refused               female\n",
       "2 50 to under $75,000   female\n",
       "3 20 to under $30,000   female\n",
       "4 50 to under $75,000   female\n",
       "5 20 to under $30,000   female\n",
       "6 100 to under $150,000 female"
      ]
     },
     "metadata": {},
     "output_type": "display_data"
    }
   ],
   "source": [
    "head(q5_temp)"
   ]
  },
  {
   "cell_type": "code",
   "execution_count": 324,
   "metadata": {
    "collapsed": true
   },
   "outputs": [],
   "source": [
    "q5_temp <- within(q5_temp, inc <- factor(inc, labels = c(\"Less than $10,000\",\n",
    "\"10 to under $20,000\",\n",
    "\"20 to under $30,000\",\n",
    "\"30 to under $40,000\",\n",
    "\"40 to under $50,000\",\n",
    "\"50 to under $75,000\",\n",
    "\"75 to under $100,000\",\n",
    "\"100 to under $150,000\",\n",
    "\"$150,000 or more\",\n",
    " \"Don't know\",\n",
    " \"Refused\"\n",
    ")))"
   ]
  },
  {
   "cell_type": "code",
   "execution_count": null,
   "metadata": {
    "collapsed": true
   },
   "outputs": [],
   "source": []
  },
  {
   "cell_type": "code",
   "execution_count": 325,
   "metadata": {
    "collapsed": false
   },
   "outputs": [],
   "source": [
    "q5_temp<-within(q5_temp,sex <- factor(sex, labels=c(\"male\",\"female\")))"
   ]
  },
  {
   "cell_type": "code",
   "execution_count": 329,
   "metadata": {
    "collapsed": false
   },
   "outputs": [
    {
     "name": "stderr",
     "output_type": "stream",
     "text": [
      "Warning message in max(q5_temp$percent):\n",
      "\"no non-missing arguments to max; returning -Inf\""
     ]
    }
   ],
   "source": [
    "q5_temp1 <-q5_temp %>% group_by(sex,inc) %>%\n",
    "summarise(count=n())\n",
    "q5_temp1<-mutate(q5_temp1, percent=(count/sum(count))*100)\n",
    "max<-max(q5_temp$percent)"
   ]
  },
  {
   "cell_type": "code",
   "execution_count": 330,
   "metadata": {
    "collapsed": false
   },
   "outputs": [
    {
     "data": {
      "text/html": [
       "<table>\n",
       "<thead><tr><th scope=col>sex</th><th scope=col>inc</th><th scope=col>count</th><th scope=col>percent</th></tr></thead>\n",
       "<tbody>\n",
       "\t<tr><td>male               </td><td>Less than $10,000  </td><td> 57                </td><td> 5.763397          </td></tr>\n",
       "\t<tr><td>male               </td><td>10 to under $20,000</td><td> 95                </td><td> 9.605662          </td></tr>\n",
       "\t<tr><td>male               </td><td>20 to under $30,000</td><td> 90                </td><td> 9.100101          </td></tr>\n",
       "\t<tr><td>male               </td><td>30 to under $40,000</td><td> 71                </td><td> 7.178969          </td></tr>\n",
       "\t<tr><td>male               </td><td>40 to under $50,000</td><td> 83                </td><td> 8.392315          </td></tr>\n",
       "\t<tr><td>male               </td><td>50 to under $75,000</td><td>147                </td><td>14.863498          </td></tr>\n",
       "</tbody>\n",
       "</table>\n"
      ],
      "text/latex": [
       "\\begin{tabular}{r|llll}\n",
       " sex & inc & count & percent\\\\\n",
       "\\hline\n",
       "\t male                  & Less than \\$10,000   &  57                   &  5.763397            \\\\\n",
       "\t male                  & 10 to under \\$20,000 &  95                   &  9.605662            \\\\\n",
       "\t male                  & 20 to under \\$30,000 &  90                   &  9.100101            \\\\\n",
       "\t male                  & 30 to under \\$40,000 &  71                   &  7.178969            \\\\\n",
       "\t male                  & 40 to under \\$50,000 &  83                   &  8.392315            \\\\\n",
       "\t male                  & 50 to under \\$75,000 & 147                   & 14.863498            \\\\\n",
       "\\end{tabular}\n"
      ],
      "text/markdown": [
       "\n",
       "sex | inc | count | percent | \n",
       "|---|---|---|---|---|---|\n",
       "| male                | Less than $10,000   |  57                 |  5.763397           | \n",
       "| male                | 10 to under $20,000 |  95                 |  9.605662           | \n",
       "| male                | 20 to under $30,000 |  90                 |  9.100101           | \n",
       "| male                | 30 to under $40,000 |  71                 |  7.178969           | \n",
       "| male                | 40 to under $50,000 |  83                 |  8.392315           | \n",
       "| male                | 50 to under $75,000 | 147                 | 14.863498           | \n",
       "\n",
       "\n"
      ],
      "text/plain": [
       "  sex  inc                 count percent  \n",
       "1 male Less than $10,000    57    5.763397\n",
       "2 male 10 to under $20,000  95    9.605662\n",
       "3 male 20 to under $30,000  90    9.100101\n",
       "4 male 30 to under $40,000  71    7.178969\n",
       "5 male 40 to under $50,000  83    8.392315\n",
       "6 male 50 to under $75,000 147   14.863498"
      ]
     },
     "metadata": {},
     "output_type": "display_data"
    }
   ],
   "source": [
    "head(q5_temp1)"
   ]
  },
  {
   "cell_type": "code",
   "execution_count": 334,
   "metadata": {
    "collapsed": false
   },
   "outputs": [
    {
     "data": {},
     "metadata": {},
     "output_type": "display_data"
    },
    {
     "data": {
      "image/png": "[encoded data removed]",
      "text/plain": [
       "plot without title"
      ]
     },
     "metadata": {},
     "output_type": "display_data"
    }
   ],
   "source": [
    "qplot( sex,inc, color=sex, data=q5_temp, geom=\"jitter\")"
   ]
  },
  {
   "cell_type": "code",
   "execution_count": 341,
   "metadata": {
    "collapsed": false
   },
   "outputs": [
    {
     "data": {},
     "metadata": {},
     "output_type": "display_data"
    },
    {
     "data": {
      "image/png": "[encoded data removed]",
      "text/plain": [
       "plot without title"
      ]
     },
     "metadata": {},
     "output_type": "display_data"
    }
   ],
   "source": [
    "ggplot(q5_temp1, aes(x=sex, y=percent, colour=sex, fill=sex,alpha=0.25)) +\n",
    "# geom_bar(stat=\"identity\") +\n",
    "geom_point(aes(size=1))+\n",
    "  facet_grid(. ~ inc)+\n",
    "geom_text(data=q5_temp1, aes(label=round(percent,1),y=percent+3 ,fontface=\"bold\"),size=2)+\n",
    "scale_y_continuous( limits=c(0,50))+\n",
    " theme(panel.grid.minor =   element_blank(),\n",
    "        panel.grid.major =   element_blank())"
   ]
  },
  {
   "cell_type": "markdown",
   "metadata": {},
   "source": [
    "<p> \"In the income group of Less than $10,000 Females dominate by more than 30% \" <br/>\n",
    "     In the income group of 10 to under $20,000 Males dominate by more than 3% \" <br/>\n",
    "     In the income group of 20 to under $30,000 Males dominate by more than 1% \" <br/>\n",
    "     In the income group of 30 to under $40,000 Males dominate by more than 13% \" <br/>\n",
    "     In the income group of 40 to under $50,000 Males dominate by more than 3% \" <br/>\n",
    "     In the income group of 50 to under $75,000 Males dominate by more than 9% \" <br/>\n",
    "     In the income group of 75 to under $100,000 Males dominate by more than 1% \" <br/>\n",
    "     In the income group of 100 to under $150,000 Males dominate by more than 12% \" <br/>\n",
    "     In the income group of $150,000 or more Males dominate by more than 7% \" <br/>"
   ]
  },
  {
   "cell_type": "code",
   "execution_count": 397,
   "metadata": {
    "collapsed": false
   },
   "outputs": [
    {
     "data": {
      "text/html": [
       "0.558375634517767"
      ],
      "text/latex": [
       "0.558375634517767"
      ],
      "text/markdown": [
       "0.558375634517767"
      ],
      "text/plain": [
       "[1] 0.5583756"
      ]
     },
     "metadata": {},
     "output_type": "display_data"
    },
    {
     "data": {
      "text/html": [
       "0.441624365482233"
      ],
      "text/latex": [
       "0.441624365482233"
      ],
      "text/markdown": [
       "0.441624365482233"
      ],
      "text/plain": [
       "[1] 0.4416244"
      ]
     },
     "metadata": {},
     "output_type": "display_data"
    }
   ],
   "source": [
    "11/19.7\n",
    "8.7/19.7"
   ]
  },
  {
   "cell_type": "code",
   "execution_count": 401,
   "metadata": {
    "collapsed": true
   },
   "outputs": [],
   "source": [
    "q6_temp<-select(input, emplnw, smart1, date2a)"
   ]
  },
  {
   "cell_type": "code",
   "execution_count": 432,
   "metadata": {
    "collapsed": false
   },
   "outputs": [
    {
     "data": {
      "text/html": [
       "<table>\n",
       "<thead><tr><th scope=col>emplnw</th><th scope=col>date2a</th><th scope=col>smart1</th><th scope=col>count</th><th scope=col>percent</th></tr></thead>\n",
       "<tbody>\n",
       "\t<tr><td>Employed full-time</td><td>1                 </td><td>Yes               </td><td> 77               </td><td>100               </td></tr>\n",
       "\t<tr><td>Employed full-time</td><td>2                 </td><td>Yes               </td><td>636               </td><td>100               </td></tr>\n",
       "\t<tr><td>Employed full-time</td><td>8                 </td><td>Yes               </td><td>  1               </td><td>100               </td></tr>\n",
       "\t<tr><td>Employed part-time</td><td>1                 </td><td>Yes               </td><td> 23               </td><td>100               </td></tr>\n",
       "\t<tr><td>Employed part-time</td><td>2                 </td><td>Yes               </td><td>139               </td><td>100               </td></tr>\n",
       "\t<tr><td>Retired           </td><td>1                 </td><td>Yes               </td><td> 14               </td><td>100               </td></tr>\n",
       "</tbody>\n",
       "</table>\n"
      ],
      "text/latex": [
       "\\begin{tabular}{r|lllll}\n",
       " emplnw & date2a & smart1 & count & percent\\\\\n",
       "\\hline\n",
       "\t Employed full-time & 1                  & Yes                &  77                & 100               \\\\\n",
       "\t Employed full-time & 2                  & Yes                & 636                & 100               \\\\\n",
       "\t Employed full-time & 8                  & Yes                &   1                & 100               \\\\\n",
       "\t Employed part-time & 1                  & Yes                &  23                & 100               \\\\\n",
       "\t Employed part-time & 2                  & Yes                & 139                & 100               \\\\\n",
       "\t Retired            & 1                  & Yes                &  14                & 100               \\\\\n",
       "\\end{tabular}\n"
      ],
      "text/markdown": [
       "\n",
       "emplnw | date2a | smart1 | count | percent | \n",
       "|---|---|---|---|---|---|\n",
       "| Employed full-time | 1                  | Yes                |  77                | 100                | \n",
       "| Employed full-time | 2                  | Yes                | 636                | 100                | \n",
       "| Employed full-time | 8                  | Yes                |   1                | 100                | \n",
       "| Employed part-time | 1                  | Yes                |  23                | 100                | \n",
       "| Employed part-time | 2                  | Yes                | 139                | 100                | \n",
       "| Retired            | 1                  | Yes                |  14                | 100                | \n",
       "\n",
       "\n"
      ],
      "text/plain": [
       "  emplnw             date2a smart1 count percent\n",
       "1 Employed full-time 1      Yes     77   100    \n",
       "2 Employed full-time 2      Yes    636   100    \n",
       "3 Employed full-time 8      Yes      1   100    \n",
       "4 Employed part-time 1      Yes     23   100    \n",
       "5 Employed part-time 2      Yes    139   100    \n",
       "6 Retired            1      Yes     14   100    "
      ]
     },
     "metadata": {},
     "output_type": "display_data"
    }
   ],
   "source": [
    "head(q6_temp1)"
   ]
  },
  {
   "cell_type": "code",
   "execution_count": 423,
   "metadata": {
    "collapsed": false
   },
   "outputs": [
    {
     "ename": "ERROR",
     "evalue": "Error in factor(date2a, labels = c(\"Yes\", \"No\", \"Don't know\", \"Refused\")): invalid 'labels'; length 4 should be 1 or 3\n",
     "output_type": "error",
     "traceback": [
      "Error in factor(date2a, labels = c(\"Yes\", \"No\", \"Don't know\", \"Refused\")): invalid 'labels'; length 4 should be 1 or 3\nTraceback:\n",
      "1. within(q6_temp1, date2a <- factor(date2a, labels = c(\"Yes\", \"No\", \n .     \"Don't know\", \"Refused\")))",
      "2. within.data.frame(q6_temp1, date2a <- factor(date2a, labels = c(\"Yes\", \n .     \"No\", \"Don't know\", \"Refused\")))",
      "3. eval(substitute(expr), e)",
      "4. eval(expr, envir, enclos)",
      "5. factor(date2a, labels = c(\"Yes\", \"No\", \"Don't know\", \"Refused\"))",
      "6. stop(gettextf(\"invalid 'labels'; length %d should be 1 or %d\", \n .     nl, nL), domain = NA)"
     ]
    }
   ],
   "source": [
    "q6_temp1<-within(q6_temp1 ,date2a <- factor(date2a, labels=c(\"Yes\",\n",
    "\"No\",\n",
    "\"Don't know\",\n",
    "\"Refused\"\n",
    ")))"
   ]
  },
  {
   "cell_type": "code",
   "execution_count": 422,
   "metadata": {
    "collapsed": false
   },
   "outputs": [],
   "source": [
    "q6_temp1<-na.omit(q6_temp1)"
   ]
  },
  {
   "cell_type": "code",
   "execution_count": 417,
   "metadata": {
    "collapsed": false
   },
   "outputs": [],
   "source": [
    "\n",
    "q6_temp1 <-q6_temp %>% group_by(emplnw,date2a,smart1) %>%\n",
    "summarise(count=n())\n",
    "q6_temp1<-mutate(q6_temp1, percent=(count/sum(count))*100)\n",
    "max<-max(q6_temp1$percent)"
   ]
  },
  {
   "cell_type": "code",
   "execution_count": 430,
   "metadata": {
    "collapsed": false
   },
   "outputs": [
    {
     "data": {},
     "metadata": {},
     "output_type": "display_data"
    },
    {
     "data": {
      "image/png": "[encoded data removed]",
      "text/plain": [
       "plot without title"
      ]
     },
     "metadata": {},
     "output_type": "display_data"
    }
   ],
   "source": [
    "qplot(date2a ,smart1 , color=emplnw, data=q6_temp1, geom=\"jitter\")"
   ]
  },
  {
   "cell_type": "code",
   "execution_count": 433,
   "metadata": {
    "collapsed": false
   },
   "outputs": [
    {
     "name": "stderr",
     "output_type": "stream",
     "text": [
      "Warning message:\n",
      "\"Removed 20 rows containing missing values (geom_point).\"Warning message:\n",
      "\"Removed 20 rows containing missing values (geom_text).\""
     ]
    },
    {
     "data": {},
     "metadata": {},
     "output_type": "display_data"
    },
    {
     "data": {
      "image/png": "[encoded data removed]",
      "text/plain": [
       "plot without title"
      ]
     },
     "metadata": {},
     "output_type": "display_data"
    }
   ],
   "source": [
    "ggplot(q6_temp1, aes(x=date2a, y=percent, colour=date2a, fill=date2a,alpha=0.25)) +\n",
    "# geom_bar(stat=\"identity\") +\n",
    "geom_point(aes(size=1))+\n",
    "  facet_grid(. ~ emplnw)+\n",
    "geom_text(data=q6_temp1, aes(label=round(percent,1),y=percent+3 ,fontface=\"bold\"),size=2)+\n",
    "scale_y_continuous( limits=c(0,50))+\n",
    " theme(panel.grid.minor =   element_blank(),\n",
    "        panel.grid.major =   element_blank())"
   ]
  },
  {
   "cell_type": "code",
   "execution_count": null,
   "metadata": {
    "collapsed": true
   },
   "outputs": [],
   "source": []
  },
  {
   "cell_type": "code",
   "execution_count": null,
   "metadata": {
    "collapsed": true
   },
   "outputs": [],
   "source": []
  }
 ],
 "metadata": {
  "kernelspec": {
   "display_name": "R 3.3",
   "language": "R",
   "name": "ir33"
  },
  "language_info": {
   "codemirror_mode": "r",
   "file_extension": ".r",
   "mimetype": "text/x-r-source",
   "name": "R",
   "pygments_lexer": "r",
   "version": "3.3.1"
  }
 },
 "nbformat": 4,
 "nbformat_minor": 0
}
