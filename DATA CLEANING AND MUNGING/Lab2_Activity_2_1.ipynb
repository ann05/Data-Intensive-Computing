{
 "cells": [
  {
   "cell_type": "code",
   "execution_count": 1,
   "metadata": {
    "collapsed": false
   },
   "outputs": [
    {
     "ename": "ERROR",
     "evalue": "Error in eval(expr, envir, enclos): could not find function \"setup_twitter_oauth\"\n",
     "output_type": "error",
     "traceback": [
      "Error in eval(expr, envir, enclos): could not find function \"setup_twitter_oauth\"\nTraceback:\n"
     ]
    }
   ],
   "source": [
    "setup_twitter_oauth(\"dIhjRcszok2R3LyK0VgYSded8\",\"IxujimHa6JJcWS8mzfC57i9GbgQSc7qst49Fvqu0aglyuykecQ\",\"2493349752-ao5qcIqhAga9jdk2N6RJTxeRIuQXaFwRk9RUhRb\",\"T0sYiVKJQsYRShQopO1Kvqwbr7Bx0Ky3DXs8kdRuxEUTZ\")"
   ]
  },
  {
   "cell_type": "code",
   "execution_count": 2,
   "metadata": {
    "collapsed": false
   },
   "outputs": [
    {
     "name": "stderr",
     "output_type": "stream",
     "text": [
      "Warning message:\n",
      "\"package 'twitteR' was built under R version 3.3.2\""
     ]
    }
   ],
   "source": [
    "library('twitteR')"
   ]
  },
  {
   "cell_type": "code",
   "execution_count": 3,
   "metadata": {
    "collapsed": false
   },
   "outputs": [
    {
     "name": "stdout",
     "output_type": "stream",
     "text": [
      "[1] \"Using direct authentication\"\n"
     ]
    }
   ],
   "source": [
    "setup_twitter_oauth(\"dIhjRcszok2R3LyK0VgYSded8\",\"IxujimHa6JJcWS8mzfC57i9GbgQSc7qst49Fvqu0aglyuykecQ\",\"2493349752-ao5qcIqhAga9jdk2N6RJTxeRIuQXaFwRk9RUhRb\",\"T0sYiVKJQsYRShQopO1Kvqwbr7Bx0Ky3DXs8kdRuxEUTZ\")"
   ]
  },
  {
   "cell_type": "code",
   "execution_count": 4,
   "metadata": {
    "collapsed": false
   },
   "outputs": [
    {
     "name": "stderr",
     "output_type": "stream",
     "text": [
      "Warning message:\n",
      "\"package 'dplyr' was built under R version 3.3.2\"\n",
      "Attaching package: 'dplyr'\n",
      "\n",
      "The following objects are masked from 'package:twitteR':\n",
      "\n",
      "    id, location\n",
      "\n",
      "The following objects are masked from 'package:stats':\n",
      "\n",
      "    filter, lag\n",
      "\n",
      "The following objects are masked from 'package:base':\n",
      "\n",
      "    intersect, setdiff, setequal, union\n",
      "\n"
     ]
    }
   ],
   "source": [
    "library('dplyr')"
   ]
  },
  {
   "cell_type": "code",
   "execution_count": 6,
   "metadata": {
    "collapsed": false
   },
   "outputs": [],
   "source": [
    "my_db2 <- src_sqlite(\"database.sqlite\", create = T)"
   ]
  },
  {
   "cell_type": "code",
   "execution_count": 7,
   "metadata": {
    "collapsed": false
   },
   "outputs": [
    {
     "data": {
      "text/plain": [
       "$con\n",
       "<SQLiteConnection>\n",
       "  Path: C:\\Users\\ANMISHA\\database.sqlite\n",
       "  Extensions: TRUE\n",
       "\n",
       "$path\n",
       "[1] \"database.sqlite\"\n"
      ]
     },
     "metadata": {},
     "output_type": "display_data"
    }
   ],
   "source": [
    "head(my_db2)"
   ]
  },
  {
   "cell_type": "code",
   "execution_count": 8,
   "metadata": {
    "collapsed": false
   },
   "outputs": [
    {
     "data": {
      "text/plain": [
       "src:  sqlite 3.11.1 [database.sqlite]\n",
       "tbls: Country, League, Match, Player, Player_Attributes, sqlite_sequence, Team,\n",
       "  Team_Attributes"
      ]
     },
     "metadata": {},
     "output_type": "display_data"
    }
   ],
   "source": [
    "my_db2"
   ]
  },
  {
   "cell_type": "code",
   "execution_count": 9,
   "metadata": {
    "collapsed": false
   },
   "outputs": [
    {
     "ename": "ERROR",
     "evalue": "Error in head(Player): object 'Player' not found\n",
     "output_type": "error",
     "traceback": [
      "Error in head(Player): object 'Player' not found\nTraceback:\n",
      "1. head(Player)"
     ]
    }
   ],
   "source": [
    "head(Player)"
   ]
  },
  {
   "cell_type": "code",
   "execution_count": 10,
   "metadata": {
    "collapsed": true
   },
   "outputs": [],
   "source": [
    "Player<- tbl(my_db2, \"Player\")"
   ]
  },
  {
   "cell_type": "code",
   "execution_count": 11,
   "metadata": {
    "collapsed": false
   },
   "outputs": [
    {
     "data": {
      "text/plain": [
       "Source:   query [?? x 7]\n",
       "Database: sqlite 3.11.1 [database.sqlite]\n",
       "\n",
       "     id player_api_id        player_name player_fifa_api_id            birthday\n",
       "  <int>         <int>              <chr>              <int>               <chr>\n",
       "1     1        505942 Aaron Appindangoye             218353 1992-02-29 00:00:00\n",
       "2     2        155782    Aaron Cresswell             189615 1989-12-15 00:00:00\n",
       "3     3        162549        Aaron Doran             186170 1991-05-13 00:00:00\n",
       "4     4         30572      Aaron Galindo             140161 1982-05-08 00:00:00\n",
       "5     5         23780       Aaron Hughes              17725 1979-11-08 00:00:00\n",
       "6     6         27316         Aaron Hunt             158138 1986-09-04 00:00:00\n",
       "# ... with 2 more variables: height <dbl>, weight <int>"
      ]
     },
     "metadata": {},
     "output_type": "display_data"
    }
   ],
   "source": [
    "head(Player)"
   ]
  },
  {
   "cell_type": "code",
   "execution_count": 13,
   "metadata": {
    "collapsed": false
   },
   "outputs": [],
   "source": [
    "Player_Attributes<-tbl(my_db2, \"Player_Attributes\")"
   ]
  },
  {
   "cell_type": "code",
   "execution_count": 14,
   "metadata": {
    "collapsed": false
   },
   "outputs": [
    {
     "data": {
      "text/plain": [
       "Source:   query [?? x 42]\n",
       "Database: sqlite 3.11.1 [database.sqlite]\n",
       "\n",
       "     id player_fifa_api_id player_api_id                date overall_rating\n",
       "  <int>              <int>         <int>               <chr>          <int>\n",
       "1     1             218353        505942 2016-02-18 00:00:00             67\n",
       "2     2             218353        505942 2015-11-19 00:00:00             67\n",
       "3     3             218353        505942 2015-09-21 00:00:00             62\n",
       "4     4             218353        505942 2015-03-20 00:00:00             61\n",
       "5     5             218353        505942 2007-02-22 00:00:00             61\n",
       "6     6             189615        155782 2016-04-21 00:00:00             74\n",
       "# ... with 37 more variables: potential <int>, preferred_foot <chr>,\n",
       "#   attacking_work_rate <chr>, defensive_work_rate <chr>, crossing <int>,\n",
       "#   finishing <int>, heading_accuracy <int>, short_passing <int>,\n",
       "#   volleys <int>, dribbling <int>, curve <int>, free_kick_accuracy <int>,\n",
       "#   long_passing <int>, ball_control <int>, acceleration <int>,\n",
       "#   sprint_speed <int>, agility <int>, reactions <int>, balance <int>,\n",
       "#   shot_power <int>, jumping <int>, stamina <int>, strength <int>,\n",
       "#   long_shots <int>, aggression <int>, interceptions <int>, positioning <int>,\n",
       "#   vision <int>, penalties <int>, marking <int>, standing_tackle <int>,\n",
       "#   sliding_tackle <int>, gk_diving <int>, gk_handling <int>, gk_kicking <int>,\n",
       "#   gk_positioning <int>, gk_reflexes <int>"
      ]
     },
     "metadata": {},
     "output_type": "display_data"
    }
   ],
   "source": [
    "head(Player_Attributes)"
   ]
  },
  {
   "cell_type": "code",
   "execution_count": 15,
   "metadata": {
    "collapsed": true
   },
   "outputs": [],
   "source": [
    "League<-tbl(my_db2,\"League\")"
   ]
  },
  {
   "cell_type": "code",
   "execution_count": 16,
   "metadata": {
    "collapsed": false
   },
   "outputs": [
    {
     "data": {
      "text/plain": [
       "Source:   query [?? x 3]\n",
       "Database: sqlite 3.11.1 [database.sqlite]\n",
       "\n",
       "     id country_id                   name\n",
       "  <int>      <int>                  <chr>\n",
       "1     1          1 Belgium Jupiler League\n",
       "2  1729       1729 England Premier League\n",
       "3  4769       4769         France Ligue 1\n",
       "4  7809       7809  Germany 1. Bundesliga\n",
       "5 10257      10257          Italy Serie A\n",
       "6 13274      13274 Netherlands Eredivisie"
      ]
     },
     "metadata": {},
     "output_type": "display_data"
    }
   ],
   "source": [
    "head(League)"
   ]
  },
  {
   "cell_type": "code",
   "execution_count": 17,
   "metadata": {
    "collapsed": true
   },
   "outputs": [],
   "source": [
    "Match<-tbl(my_db2,\"MAtch\")"
   ]
  },
  {
   "cell_type": "code",
   "execution_count": 18,
   "metadata": {
    "collapsed": false
   },
   "outputs": [
    {
     "data": {
      "text/plain": [
       "Source:   query [?? x 115]\n",
       "Database: sqlite 3.11.1 [database.sqlite]\n",
       "\n",
       "     id country_id league_id    season stage                date match_api_id\n",
       "  <int>      <int>     <int>     <chr> <int>               <chr>        <int>\n",
       "1     1          1         1 2008/2009     1 2008-08-17 00:00:00       492473\n",
       "2     2          1         1 2008/2009     1 2008-08-16 00:00:00       492474\n",
       "3     3          1         1 2008/2009     1 2008-08-16 00:00:00       492475\n",
       "4     4          1         1 2008/2009     1 2008-08-17 00:00:00       492476\n",
       "5     5          1         1 2008/2009     1 2008-08-16 00:00:00       492477\n",
       "6     6          1         1 2008/2009     1 2008-09-24 00:00:00       492478\n",
       "# ... with 108 more variables: home_team_api_id <int>, away_team_api_id <int>,\n",
       "#   home_team_goal <int>, away_team_goal <int>, home_player_X1 <int>,\n",
       "#   home_player_X2 <int>, home_player_X3 <int>, home_player_X4 <int>,\n",
       "#   home_player_X5 <int>, home_player_X6 <int>, home_player_X7 <int>,\n",
       "#   home_player_X8 <int>, home_player_X9 <int>, home_player_X10 <int>,\n",
       "#   home_player_X11 <int>, away_player_X1 <int>, away_player_X2 <int>,\n",
       "#   away_player_X3 <int>, away_player_X4 <int>, away_player_X5 <int>,\n",
       "#   away_player_X6 <int>, away_player_X7 <int>, away_player_X8 <int>,\n",
       "#   away_player_X9 <int>, away_player_X10 <int>, away_player_X11 <int>,\n",
       "#   home_player_Y1 <int>, home_player_Y2 <int>, home_player_Y3 <int>,\n",
       "#   home_player_Y4 <int>, home_player_Y5 <int>, home_player_Y6 <int>,\n",
       "#   home_player_Y7 <int>, home_player_Y8 <int>, home_player_Y9 <int>,\n",
       "#   home_player_Y10 <int>, home_player_Y11 <int>, away_player_Y1 <int>,\n",
       "#   away_player_Y2 <int>, away_player_Y3 <int>, away_player_Y4 <int>,\n",
       "#   away_player_Y5 <int>, away_player_Y6 <int>, away_player_Y7 <int>,\n",
       "#   away_player_Y8 <int>, away_player_Y9 <int>, away_player_Y10 <int>,\n",
       "#   away_player_Y11 <int>, home_player_1 <int>, home_player_2 <int>,\n",
       "#   home_player_3 <int>, home_player_4 <int>, home_player_5 <int>,\n",
       "#   home_player_6 <int>, home_player_7 <int>, home_player_8 <int>,\n",
       "#   home_player_9 <int>, home_player_10 <int>, home_player_11 <int>,\n",
       "#   away_player_1 <int>, away_player_2 <int>, away_player_3 <int>,\n",
       "#   away_player_4 <int>, away_player_5 <int>, away_player_6 <int>,\n",
       "#   away_player_7 <int>, away_player_8 <int>, away_player_9 <int>,\n",
       "#   away_player_10 <int>, away_player_11 <int>, goal <chr>, shoton <chr>,\n",
       "#   shotoff <chr>, foulcommit <chr>, card <chr>, cross <chr>, corner <chr>,\n",
       "#   possession <chr>, B365H <dbl>, B365D <dbl>, B365A <int>, BWH <dbl>,\n",
       "#   BWD <dbl>, BWA <dbl>, IWH <dbl>, IWD <dbl>, IWA <dbl>, LBH <dbl>,\n",
       "#   LBD <dbl>, LBA <dbl>, PSH <dbl>, PSD <dbl>, PSA <dbl>, WHH <dbl>,\n",
       "#   WHD <dbl>, WHA <dbl>, SJH <dbl>, SJD <dbl>, SJA <int>, VCH <dbl>, ..."
      ]
     },
     "metadata": {},
     "output_type": "display_data"
    }
   ],
   "source": [
    "head(Match)"
   ]
  },
  {
   "cell_type": "code",
   "execution_count": 19,
   "metadata": {
    "collapsed": true
   },
   "outputs": [],
   "source": [
    "sqlite_sequence<-tbl(my_db2,\"sqlite_sequence\")"
   ]
  },
  {
   "cell_type": "code",
   "execution_count": 20,
   "metadata": {
    "collapsed": false
   },
   "outputs": [
    {
     "data": {
      "text/plain": [
       "Source:   query [?? x 2]\n",
       "Database: sqlite 3.11.1 [database.sqlite]\n",
       "\n",
       "               name    seq\n",
       "              <chr>  <int>\n",
       "1              Team 103916\n",
       "2           Country  51958\n",
       "3            League  51958\n",
       "4             Match  51958\n",
       "5            Player  11075\n",
       "6 Player_Attributes 183978\n",
       "7   Team_Attributes   1458"
      ]
     },
     "metadata": {},
     "output_type": "display_data"
    }
   ],
   "source": [
    "sqlite_sequence"
   ]
  },
  {
   "cell_type": "code",
   "execution_count": 21,
   "metadata": {
    "collapsed": true
   },
   "outputs": [],
   "source": [
    "Team<-tbl(my_db2,\"Team\")"
   ]
  },
  {
   "cell_type": "code",
   "execution_count": 22,
   "metadata": {
    "collapsed": false
   },
   "outputs": [
    {
     "data": {
      "text/plain": [
       "Source:   query [?? x 5]\n",
       "Database: sqlite 3.11.1 [database.sqlite]\n",
       "\n",
       "     id team_api_id team_fifa_api_id    team_long_name team_short_name\n",
       "  <int>       <int>            <int>             <chr>           <chr>\n",
       "1     1        9987              673          KRC Genk             GEN\n",
       "2     2        9993              675      Beerschot AC             BAC\n",
       "3     3       10000            15005  SV Zulte-Waregem             ZUL\n",
       "4     4        9994             2007  Sporting Lokeren             LOK\n",
       "5     5        9984             1750 KSV Cercle Brugge             CEB\n",
       "6     6        8635              229    RSC Anderlecht             AND"
      ]
     },
     "metadata": {},
     "output_type": "display_data"
    }
   ],
   "source": [
    "head(Team)"
   ]
  },
  {
   "cell_type": "code",
   "execution_count": 23,
   "metadata": {
    "collapsed": true
   },
   "outputs": [],
   "source": [
    "Team_attributes<-tbl(my_db2,\"Team_attributes\")"
   ]
  },
  {
   "cell_type": "code",
   "execution_count": 24,
   "metadata": {
    "collapsed": false
   },
   "outputs": [
    {
     "data": {
      "text/plain": [
       "Source:   query [?? x 25]\n",
       "Database: sqlite 3.11.1 [database.sqlite]\n",
       "\n",
       "     id team_fifa_api_id team_api_id                date buildUpPlaySpeed\n",
       "  <int>            <int>       <int>               <chr>            <int>\n",
       "1     1              434        9930 2010-02-22 00:00:00               60\n",
       "2     2              434        9930 2014-09-19 00:00:00               52\n",
       "3     3              434        9930 2015-09-10 00:00:00               47\n",
       "4     4               77        8485 2010-02-22 00:00:00               70\n",
       "5     5               77        8485 2011-02-22 00:00:00               47\n",
       "6     6               77        8485 2012-02-22 00:00:00               58\n",
       "# ... with 20 more variables: buildUpPlaySpeedClass <chr>,\n",
       "#   buildUpPlayDribbling <int>, buildUpPlayDribblingClass <chr>,\n",
       "#   buildUpPlayPassing <int>, buildUpPlayPassingClass <chr>,\n",
       "#   buildUpPlayPositioningClass <chr>, chanceCreationPassing <int>,\n",
       "#   chanceCreationPassingClass <chr>, chanceCreationCrossing <int>,\n",
       "#   chanceCreationCrossingClass <chr>, chanceCreationShooting <int>,\n",
       "#   chanceCreationShootingClass <chr>, chanceCreationPositioningClass <chr>,\n",
       "#   defencePressure <int>, defencePressureClass <chr>, defenceAggression <int>,\n",
       "#   defenceAggressionClass <chr>, defenceTeamWidth <int>,\n",
       "#   defenceTeamWidthClass <chr>, defenceDefenderLineClass <chr>"
      ]
     },
     "metadata": {},
     "output_type": "display_data"
    }
   ],
   "source": [
    "head(Team_attributes)"
   ]
  },
  {
   "cell_type": "code",
   "execution_count": 25,
   "metadata": {
    "collapsed": false
   },
   "outputs": [
    {
     "ename": "ERROR",
     "evalue": "Error in eval(expr, envir, enclos): object 'Player_attributes' not found\n",
     "output_type": "error",
     "traceback": [
      "Error in eval(expr, envir, enclos): object 'Player_attributes' not found\nTraceback:\n"
     ]
    }
   ],
   "source": [
    "Player_attributes"
   ]
  },
  {
   "cell_type": "code",
   "execution_count": 26,
   "metadata": {
    "collapsed": false
   },
   "outputs": [
    {
     "data": {
      "text/plain": [
       "Source:   query [?? x 42]\n",
       "Database: sqlite 3.11.1 [database.sqlite]\n",
       "\n",
       "      id player_fifa_api_id player_api_id                date overall_rating\n",
       "   <int>              <int>         <int>               <chr>          <int>\n",
       "1      1             218353        505942 2016-02-18 00:00:00             67\n",
       "2      2             218353        505942 2015-11-19 00:00:00             67\n",
       "3      3             218353        505942 2015-09-21 00:00:00             62\n",
       "4      4             218353        505942 2015-03-20 00:00:00             61\n",
       "5      5             218353        505942 2007-02-22 00:00:00             61\n",
       "6      6             189615        155782 2016-04-21 00:00:00             74\n",
       "7      7             189615        155782 2016-04-07 00:00:00             74\n",
       "8      8             189615        155782 2016-01-07 00:00:00             73\n",
       "9      9             189615        155782 2015-12-24 00:00:00             73\n",
       "10    10             189615        155782 2015-12-17 00:00:00             73\n",
       "# ... with more rows, and 37 more variables: potential <int>,\n",
       "#   preferred_foot <chr>, attacking_work_rate <chr>, defensive_work_rate <chr>,\n",
       "#   crossing <int>, finishing <int>, heading_accuracy <int>,\n",
       "#   short_passing <int>, volleys <int>, dribbling <int>, curve <int>,\n",
       "#   free_kick_accuracy <int>, long_passing <int>, ball_control <int>,\n",
       "#   acceleration <int>, sprint_speed <int>, agility <int>, reactions <int>,\n",
       "#   balance <int>, shot_power <int>, jumping <int>, stamina <int>,\n",
       "#   strength <int>, long_shots <int>, aggression <int>, interceptions <int>,\n",
       "#   positioning <int>, vision <int>, penalties <int>, marking <int>,\n",
       "#   standing_tackle <int>, sliding_tackle <int>, gk_diving <int>,\n",
       "#   gk_handling <int>, gk_kicking <int>, gk_positioning <int>,\n",
       "#   gk_reflexes <int>"
      ]
     },
     "metadata": {},
     "output_type": "display_data"
    }
   ],
   "source": [
    "Player_Attributes"
   ]
  },
  {
   "cell_type": "code",
   "execution_count": 27,
   "metadata": {
    "collapsed": false
   },
   "outputs": [
    {
     "ename": "ERROR",
     "evalue": "Error in eval(expr, envir, enclos): could not find function \"Player_Attributes.attribute\"\n",
     "output_type": "error",
     "traceback": [
      "Error in eval(expr, envir, enclos): could not find function \"Player_Attributes.attribute\"\nTraceback:\n"
     ]
    }
   ],
   "source": [
    "Player_Attributes.attribute()"
   ]
  },
  {
   "cell_type": "code",
   "execution_count": 28,
   "metadata": {
    "collapsed": true
   },
   "outputs": [],
   "source": [
    "Bplay<-select(Team_attributes, buildUpPlaySpeedClass,\n",
    "   buildUpPlayDribbling , buildUpPlayDribblingClass ,\n",
    "   buildUpPlayPassing , buildUpPlayPassingClass ,\n",
    "   buildUpPlayPositioningClass )"
   ]
  },
  {
   "cell_type": "code",
   "execution_count": 29,
   "metadata": {
    "collapsed": false
   },
   "outputs": [
    {
     "data": {
      "text/plain": [
       "Source:   query [?? x 6]\n",
       "Database: sqlite 3.11.1 [database.sqlite]\n",
       "\n",
       "  buildUpPlaySpeedClass buildUpPlayDribbling buildUpPlayDribblingClass\n",
       "                  <chr>                <int>                     <chr>\n",
       "1              Balanced                   NA                    Little\n",
       "2              Balanced                   48                    Normal\n",
       "3              Balanced                   41                    Normal\n",
       "4                  Fast                   NA                    Little\n",
       "5              Balanced                   NA                    Little\n",
       "6              Balanced                   NA                    Little\n",
       "# ... with 3 more variables: buildUpPlayPassing <int>,\n",
       "#   buildUpPlayPassingClass <chr>, buildUpPlayPositioningClass <chr>"
      ]
     },
     "metadata": {},
     "output_type": "display_data"
    }
   ],
   "source": [
    "head(Bplay)"
   ]
  },
  {
   "cell_type": "code",
   "execution_count": 36,
   "metadata": {
    "collapsed": false
   },
   "outputs": [
    {
     "ename": "ERROR",
     "evalue": "Error in t < select(Team_attributes, sum(buildUpPlaySpeedClass, buildUpPlayDribbling, : comparison (3) is possible only for atomic and list types\n",
     "output_type": "error",
     "traceback": [
      "Error in t < select(Team_attributes, sum(buildUpPlaySpeedClass, buildUpPlayDribbling, : comparison (3) is possible only for atomic and list types\nTraceback:\n"
     ]
    }
   ],
   "source": [
    "t<select(Team_attributes,sum(buildUpPlaySpeedClass,\n",
    "   buildUpPlayDribbling , buildUpPlayDribblingClass ,\n",
    "   buildUpPlayPassing , buildUpPlayPassingClass ,\n",
    "   buildUpPlayPositioningClass))"
   ]
  },
  {
   "cell_type": "code",
   "execution_count": 31,
   "metadata": {
    "collapsed": false
   },
   "outputs": [
    {
     "ename": "ERROR",
     "evalue": "Error in eval(expr, envir, enclos): could not find function \"%like%\"\n",
     "output_type": "error",
     "traceback": [
      "Error in eval(expr, envir, enclos): could not find function \"%like%\"\nTraceback:\n"
     ]
    }
   ],
   "source": [
    "Team_attributes %like% \"buildUpPlay*\""
   ]
  },
  {
   "cell_type": "code",
   "execution_count": 37,
   "metadata": {
    "collapsed": false
   },
   "outputs": [
    {
     "data": {
      "text/plain": [
       "Source:   query [?? x 1]\n",
       "Database: sqlite 3.11.1 [database.sqlite]\n",
       "\n",
       "   overall_rating\n",
       "            <int>\n",
       "1              67\n",
       "2              67\n",
       "3              62\n",
       "4              61\n",
       "5              61\n",
       "6              74\n",
       "7              74\n",
       "8              73\n",
       "9              73\n",
       "10             73\n",
       "# ... with more rows"
      ]
     },
     "metadata": {},
     "output_type": "display_data"
    }
   ],
   "source": [
    "select(Player_Attributes, overall_rating)"
   ]
  },
  {
   "cell_type": "code",
   "execution_count": 38,
   "metadata": {
    "collapsed": false
   },
   "outputs": [
    {
     "data": {
      "text/plain": [
       "Source:   query [?? x 1]\n",
       "Database: sqlite 3.11.1 [database.sqlite]\n",
       "\n",
       "   overall_rating\n",
       "            <int>\n",
       "1              67\n",
       "2              67\n",
       "3              62\n",
       "4              61\n",
       "5              61\n",
       "6              74\n",
       "7              74\n",
       "8              73\n",
       "9              73\n",
       "10             73\n",
       "# ... with more rows"
      ]
     },
     "metadata": {},
     "output_type": "display_data"
    }
   ],
   "source": [
    "select(Player_Attributes, max(overall_rating))"
   ]
  },
  {
   "cell_type": "code",
   "execution_count": 39,
   "metadata": {
    "collapsed": false
   },
   "outputs": [
    {
     "data": {
      "text/plain": [
       "Source:   query [?? x 2]\n",
       "Database: sqlite 3.11.1 [database.sqlite]\n",
       "\n",
       "   player_fifa_api_id overall_rating\n",
       "                <int>          <int>\n",
       "1              218353             67\n",
       "2              218353             67\n",
       "3              218353             62\n",
       "4              218353             61\n",
       "5              218353             61\n",
       "6              189615             74\n",
       "7              189615             74\n",
       "8              189615             73\n",
       "9              189615             73\n",
       "10             189615             73\n",
       "# ... with more rows"
      ]
     },
     "metadata": {},
     "output_type": "display_data"
    }
   ],
   "source": [
    "select(Player_Attributes, player_fifa_api_id, max(overall_rating))"
   ]
  },
  {
   "cell_type": "code",
   "execution_count": 42,
   "metadata": {
    "collapsed": false
   },
   "outputs": [
    {
     "data": {
      "text/plain": [
       "Source:   query [?? x 1]\n",
       "Database: sqlite 3.11.1 [database.sqlite]\n",
       "\n",
       "   player_fifa_api_id\n",
       "                <int>\n",
       "1              218353\n",
       "2              218353\n",
       "3              218353\n",
       "4              218353\n",
       "5              218353\n",
       "6              189615\n",
       "7              189615\n",
       "8              189615\n",
       "9              189615\n",
       "10             189615\n",
       "# ... with more rows"
      ]
     },
     "metadata": {},
     "output_type": "display_data"
    }
   ],
   "source": [
    "select(Player_Attributes, unique(player_fifa_api_id, max(overall_rating)))"
   ]
  },
  {
   "cell_type": "code",
   "execution_count": 45,
   "metadata": {
    "collapsed": false
   },
   "outputs": [
    {
     "ename": "ERROR",
     "evalue": "Error in parse(text = x, srcfile = src): <text>:1:22: unexpected symbol\n1: translate_sql(select player_fifa_api_id\n                         ^\n",
     "output_type": "error",
     "traceback": [
      "Error in parse(text = x, srcfile = src): <text>:1:22: unexpected symbol\n1: translate_sql(select player_fifa_api_id\n                         ^\nTraceback:\n"
     ]
    }
   ],
   "source": [
    "translate_sql(select player_fifa_api_id FROM Player_Attributes WHERE overall_rating=max(overall_rating))"
   ]
  },
  {
   "cell_type": "code",
   "execution_count": 63,
   "metadata": {
    "collapsed": false
   },
   "outputs": [],
   "source": [
    "gk<-select(Player_Attributes,gk_diving ,\n",
    "   gk_handling , gk_kicking , gk_positioning ,\n",
    "   gk_reflexes )"
   ]
  },
  {
   "cell_type": "code",
   "execution_count": 51,
   "metadata": {
    "collapsed": false
   },
   "outputs": [
    {
     "data": {},
     "metadata": {},
     "output_type": "display_data"
    }
   ],
   "source": [
    "select(Player_Attributes,player_api_id,(gk_diving +\n",
    "   gk_handling + gk_kicking + gk_positioning ,\n",
    "   gk_reflexes))"
   ]
  },
  {
   "cell_type": "code",
   "execution_count": 49,
   "metadata": {
    "collapsed": false
   },
   "outputs": [
    {
     "data": {},
     "metadata": {},
     "output_type": "display_data"
    }
   ],
   "source": [
    "head(gk)"
   ]
  },
  {
   "cell_type": "code",
   "execution_count": 53,
   "metadata": {
    "collapsed": false
   },
   "outputs": [
    {
     "data": {
      "text/plain": [
       "Source:   query [?? x 5]\n",
       "Database: sqlite 3.11.1 [database.sqlite]\n",
       "\n",
       "   gk_diving gk_handling gk_kicking gk_positioning gk_reflexes\n",
       "       <int>       <int>      <int>          <int>       <int>\n",
       "1          6          11         10              8           8\n",
       "2          6          11         10              8           8\n",
       "3          6          11         10              8           8\n",
       "4          5          10          9              7           7\n",
       "5          5          10          9              7           7\n",
       "6         14           7          9              9          12\n",
       "7         14           7          9              9          12\n",
       "8         14           7          9              9          12\n",
       "9         14           7          9              9          12\n",
       "10        14           7          9              9          12\n",
       "# ... with more rows"
      ]
     },
     "metadata": {},
     "output_type": "display_data"
    }
   ],
   "source": [
    "gk"
   ]
  },
  {
   "cell_type": "code",
   "execution_count": 66,
   "metadata": {
    "collapsed": false
   },
   "outputs": [],
   "source": [
    "gk1<-mutate(gk, gk_sum=(gk_diving+gk_handling+gk_kicking+gk_positioning+gk_reflexes))"
   ]
  },
  {
   "cell_type": "code",
   "execution_count": 67,
   "metadata": {
    "collapsed": false
   },
   "outputs": [
    {
     "data": {
      "text/plain": [
       "Source:   query [?? x 6]\n",
       "Database: sqlite 3.11.1 [database.sqlite]\n",
       "\n",
       "   gk_diving gk_handling gk_kicking gk_positioning gk_reflexes gk_sum\n",
       "       <int>       <int>      <int>          <int>       <int>  <int>\n",
       "1          6          11         10              8           8     43\n",
       "2          6          11         10              8           8     43\n",
       "3          6          11         10              8           8     43\n",
       "4          5          10          9              7           7     38\n",
       "5          5          10          9              7           7     38\n",
       "6         14           7          9              9          12     51\n",
       "7         14           7          9              9          12     51\n",
       "8         14           7          9              9          12     51\n",
       "9         14           7          9              9          12     51\n",
       "10        14           7          9              9          12     51\n",
       "# ... with more rows"
      ]
     },
     "metadata": {},
     "output_type": "display_data"
    }
   ],
   "source": [
    "gk1"
   ]
  },
  {
   "cell_type": "code",
   "execution_count": 68,
   "metadata": {
    "collapsed": false
   },
   "outputs": [
    {
     "data": {
      "text/plain": [
       "Source:   query [?? x 42]\n",
       "Database: sqlite 3.11.1 [database.sqlite]\n",
       "\n",
       "      id player_fifa_api_id player_api_id                date overall_rating\n",
       "   <int>              <int>         <int>               <chr>          <int>\n",
       "1      1             218353        505942 2016-02-18 00:00:00             67\n",
       "2      2             218353        505942 2015-11-19 00:00:00             67\n",
       "3      3             218353        505942 2015-09-21 00:00:00             62\n",
       "4      4             218353        505942 2015-03-20 00:00:00             61\n",
       "5      5             218353        505942 2007-02-22 00:00:00             61\n",
       "6      6             189615        155782 2016-04-21 00:00:00             74\n",
       "7      7             189615        155782 2016-04-07 00:00:00             74\n",
       "8      8             189615        155782 2016-01-07 00:00:00             73\n",
       "9      9             189615        155782 2015-12-24 00:00:00             73\n",
       "10    10             189615        155782 2015-12-17 00:00:00             73\n",
       "# ... with more rows, and 37 more variables: potential <int>,\n",
       "#   preferred_foot <chr>, attacking_work_rate <chr>, defensive_work_rate <chr>,\n",
       "#   crossing <int>, finishing <int>, heading_accuracy <int>,\n",
       "#   short_passing <int>, volleys <int>, dribbling <int>, curve <int>,\n",
       "#   free_kick_accuracy <int>, long_passing <int>, ball_control <int>,\n",
       "#   acceleration <int>, sprint_speed <int>, agility <int>, reactions <int>,\n",
       "#   balance <int>, shot_power <int>, jumping <int>, stamina <int>,\n",
       "#   strength <int>, long_shots <int>, aggression <int>, interceptions <int>,\n",
       "#   positioning <int>, vision <int>, penalties <int>, marking <int>,\n",
       "#   standing_tackle <int>, sliding_tackle <int>, gk_diving <int>,\n",
       "#   gk_handling <int>, gk_kicking <int>, gk_positioning <int>,\n",
       "#   gk_reflexes <int>"
      ]
     },
     "metadata": {},
     "output_type": "display_data"
    }
   ],
   "source": [
    "Player_Attributes\n"
   ]
  },
  {
   "cell_type": "code",
   "execution_count": 69,
   "metadata": {
    "collapsed": true
   },
   "outputs": [],
   "source": [
    "Player_test<-select(Player_Attributes, id, player_fifa_api_id, player_api_id, overall_rating,gk_diving,\n",
    "   gk_handling, gk_kicking, gk_positioning, gk_reflexes)"
   ]
  },
  {
   "cell_type": "code",
   "execution_count": 70,
   "metadata": {
    "collapsed": false
   },
   "outputs": [
    {
     "data": {
      "text/plain": [
       "Source:   query [?? x 9]\n",
       "Database: sqlite 3.11.1 [database.sqlite]\n",
       "\n",
       "      id player_fifa_api_id player_api_id overall_rating gk_diving gk_handling\n",
       "   <int>              <int>         <int>          <int>     <int>       <int>\n",
       "1      1             218353        505942             67         6          11\n",
       "2      2             218353        505942             67         6          11\n",
       "3      3             218353        505942             62         6          11\n",
       "4      4             218353        505942             61         5          10\n",
       "5      5             218353        505942             61         5          10\n",
       "6      6             189615        155782             74        14           7\n",
       "7      7             189615        155782             74        14           7\n",
       "8      8             189615        155782             73        14           7\n",
       "9      9             189615        155782             73        14           7\n",
       "10    10             189615        155782             73        14           7\n",
       "# ... with more rows, and 3 more variables: gk_kicking <int>,\n",
       "#   gk_positioning <int>, gk_reflexes <int>"
      ]
     },
     "metadata": {},
     "output_type": "display_data"
    }
   ],
   "source": [
    "Player_test"
   ]
  },
  {
   "cell_type": "code",
   "execution_count": 78,
   "metadata": {
    "collapsed": false
   },
   "outputs": [],
   "source": [
    "Player_test2<-mutate(Player_test, gk_sum=(gk_diving+gk_handling+gk_kicking+ gk_positioning+ gk_reflexes))"
   ]
  },
  {
   "cell_type": "code",
   "execution_count": 81,
   "metadata": {
    "collapsed": false
   },
   "outputs": [
    {
     "data": {
      "text/plain": [
       "Source:   query [?? x 3]\n",
       "Database: sqlite 3.11.1 [database.sqlite]\n",
       "\n",
       "      id player_fifa_api_id gk_sum\n",
       "   <int>              <int>  <int>\n",
       "1      1             218353     43\n",
       "2      2             218353     43\n",
       "3      3             218353     43\n",
       "4      4             218353     38\n",
       "5      5             218353     38\n",
       "6      6             189615     51\n",
       "7      7             189615     51\n",
       "8      8             189615     51\n",
       "9      9             189615     51\n",
       "10    10             189615     51\n",
       "# ... with more rows"
      ]
     },
     "metadata": {},
     "output_type": "display_data"
    }
   ],
   "source": [
    "select(Player_test2, id, player_fifa_api_id, gk_sum )"
   ]
  },
  {
   "cell_type": "code",
   "execution_count": 82,
   "metadata": {
    "collapsed": false
   },
   "outputs": [],
   "source": [
    "Player_test2<-select(Player_test2, id, player_fifa_api_id, player_api_id, overall_rating, gk_sum)"
   ]
  },
  {
   "cell_type": "code",
   "execution_count": 83,
   "metadata": {
    "collapsed": false
   },
   "outputs": [
    {
     "data": {
      "text/plain": [
       "Source:   query [?? x 5]\n",
       "Database: sqlite 3.11.1 [database.sqlite]\n",
       "\n",
       "      id player_fifa_api_id player_api_id overall_rating gk_sum\n",
       "   <int>              <int>         <int>          <int>  <int>\n",
       "1      1             218353        505942             67     43\n",
       "2      2             218353        505942             67     43\n",
       "3      3             218353        505942             62     43\n",
       "4      4             218353        505942             61     38\n",
       "5      5             218353        505942             61     38\n",
       "6      6             189615        155782             74     51\n",
       "7      7             189615        155782             74     51\n",
       "8      8             189615        155782             73     51\n",
       "9      9             189615        155782             73     51\n",
       "10    10             189615        155782             73     51\n",
       "# ... with more rows"
      ]
     },
     "metadata": {},
     "output_type": "display_data"
    }
   ],
   "source": [
    "Player_test2"
   ]
  },
  {
   "cell_type": "code",
   "execution_count": 85,
   "metadata": {
    "collapsed": false
   },
   "outputs": [
    {
     "name": "stderr",
     "output_type": "stream",
     "text": [
      "Joining, by = c(\"id\", \"player_api_id\", \"player_fifa_api_id\")\n"
     ]
    }
   ],
   "source": [
    "Player_test3<-left_join(Player ,Player_test2)"
   ]
  },
  {
   "cell_type": "code",
   "execution_count": 87,
   "metadata": {
    "collapsed": false
   },
   "outputs": [],
   "source": [
    "Player_test3<-select(Player_test3, id, player_api_id, player_name,player_fifa_api_id, overall_rating, gk_sum  )"
   ]
  },
  {
   "cell_type": "code",
   "execution_count": 88,
   "metadata": {
    "collapsed": false
   },
   "outputs": [
    {
     "data": {
      "text/plain": [
       "Source:   query [?? x 6]\n",
       "Database: sqlite 3.11.1 [database.sqlite]\n",
       "\n",
       "      id player_api_id        player_name player_fifa_api_id overall_rating\n",
       "   <int>         <int>              <chr>              <int>          <int>\n",
       "1      1        505942 Aaron Appindangoye             218353             67\n",
       "2      2        155782    Aaron Cresswell             189615             NA\n",
       "3      3        162549        Aaron Doran             186170             NA\n",
       "4      4         30572      Aaron Galindo             140161             NA\n",
       "5      5         23780       Aaron Hughes              17725             NA\n",
       "6      6         27316         Aaron Hunt             158138             NA\n",
       "7      7        564793         Aaron Kuhl             221280             NA\n",
       "8      8         30895       Aaron Lennon             152747             NA\n",
       "9      9        528212       Aaron Lennox             206592             NA\n",
       "10    10        101042      Aaron Meijers             188621             NA\n",
       "# ... with more rows, and 1 more variables: gk_sum <int>"
      ]
     },
     "metadata": {},
     "output_type": "display_data"
    }
   ],
   "source": [
    "Player_test3"
   ]
  },
  {
   "cell_type": "code",
   "execution_count": 98,
   "metadata": {
    "collapsed": false
   },
   "outputs": [],
   "source": [
    "t<-select(Match , home_player_7)"
   ]
  },
  {
   "cell_type": "code",
   "execution_count": 99,
   "metadata": {
    "collapsed": false
   },
   "outputs": [
    {
     "data": {
      "text/plain": [
       "Source:   query [?? x 1]\n",
       "Database: sqlite 3.11.1 [database.sqlite]\n",
       "\n",
       "   home_player_7\n",
       "           <int>\n",
       "1             NA\n",
       "2             NA\n",
       "3             NA\n",
       "4             NA\n",
       "5             NA\n",
       "6             NA\n",
       "7             NA\n",
       "8             NA\n",
       "9             NA\n",
       "10            NA\n",
       "# ... with more rows"
      ]
     },
     "metadata": {},
     "output_type": "display_data"
    }
   ],
   "source": [
    "head(t,n=40)"
   ]
  },
  {
   "cell_type": "code",
   "execution_count": 101,
   "metadata": {
    "collapsed": false
   },
   "outputs": [],
   "source": [
    "team_test<-select(Team_attributes,id, team_fifa_api_id, team_api_id, buildUpPlaySpeed, buildUpPlayDribbling, buildUpPlayPassing,\n",
    "                  chanceCreationPassing, chanceCreationCrossing ,\n",
    " chanceCreationShooting ,defencePressure, defenceAggression, defenceTeamWidth)"
   ]
  },
  {
   "cell_type": "code",
   "execution_count": 103,
   "metadata": {
    "collapsed": false
   },
   "outputs": [
    {
     "data": {
      "text/plain": [
       "Source:   query [?? x 12]\n",
       "Database: sqlite 3.11.1 [database.sqlite]\n",
       "\n",
       "      id team_fifa_api_id team_api_id buildUpPlaySpeed buildUpPlayDribbling\n",
       "   <int>            <int>       <int>            <int>                <int>\n",
       "1      1              434        9930               60                   NA\n",
       "2      2              434        9930               52                   48\n",
       "3      3              434        9930               47                   41\n",
       "4      4               77        8485               70                   NA\n",
       "5      5               77        8485               47                   NA\n",
       "6      6               77        8485               58                   NA\n",
       "7      7               77        8485               62                   NA\n",
       "8      8               77        8485               58                   64\n",
       "9      9               77        8485               59                   64\n",
       "10    10              614        8576               60                   NA\n",
       "# ... with more rows, and 7 more variables: buildUpPlayPassing <int>,\n",
       "#   chanceCreationPassing <int>, chanceCreationCrossing <int>,\n",
       "#   chanceCreationShooting <int>, defencePressure <int>,\n",
       "#   defenceAggression <int>, defenceTeamWidth <int>"
      ]
     },
     "metadata": {},
     "output_type": "display_data"
    }
   ],
   "source": [
    "team_test"
   ]
  },
  {
   "cell_type": "code",
   "execution_count": 104,
   "metadata": {
    "collapsed": true
   },
   "outputs": [],
   "source": [
    "team_test<-mutate(team_test,buildUpPlay_sum=(buildUpPlaySpeed+buildUpPlayDribbling+buildUpPlayPassing))"
   ]
  },
  {
   "cell_type": "code",
   "execution_count": 109,
   "metadata": {
    "collapsed": false
   },
   "outputs": [
    {
     "data": {
      "text/plain": [
       "Source:   query [?? x 15]\n",
       "Database: sqlite 3.11.1 [database.sqlite]\n",
       "\n",
       "      id team_fifa_api_id team_api_id buildUpPlaySpeed buildUpPlayDribbling\n",
       "   <int>            <int>       <int>            <int>                <int>\n",
       "1      1              434        9930               60                   NA\n",
       "2      2              434        9930               52                   48\n",
       "3      3              434        9930               47                   41\n",
       "4      4               77        8485               70                   NA\n",
       "5      5               77        8485               47                   NA\n",
       "6      6               77        8485               58                   NA\n",
       "7      7               77        8485               62                   NA\n",
       "8      8               77        8485               58                   64\n",
       "9      9               77        8485               59                   64\n",
       "10    10              614        8576               60                   NA\n",
       "# ... with more rows, and 10 more variables: buildUpPlayPassing <int>,\n",
       "#   chanceCreationPassing <int>, chanceCreationCrossing <int>,\n",
       "#   chanceCreationShooting <int>, defencePressure <int>,\n",
       "#   defenceAggression <int>, defenceTeamWidth <int>, buildUpPlay_sum <int>,\n",
       "#   chanceCreation_sum <int>, defence_sum <int>"
      ]
     },
     "metadata": {},
     "output_type": "display_data"
    }
   ],
   "source": [
    "team_test"
   ]
  },
  {
   "cell_type": "code",
   "execution_count": 106,
   "metadata": {
    "collapsed": true
   },
   "outputs": [],
   "source": [
    "team_test<-mutate(team_test,chanceCreation_sum=(chanceCreationPassing + chanceCreationCrossing +chanceCreationShooting ))"
   ]
  },
  {
   "cell_type": "code",
   "execution_count": 108,
   "metadata": {
    "collapsed": true
   },
   "outputs": [],
   "source": [
    "team_test<-mutate(team_test,defence_sum=(defencePressure +defenceAggression +defenceTeamWidth ))"
   ]
  },
  {
   "cell_type": "code",
   "execution_count": 110,
   "metadata": {
    "collapsed": true
   },
   "outputs": [],
   "source": [
    "team_test2<-select(team_test,id, team_fifa_api_id, team_api_id, buildUpPlay_sum, chanceCreation_sum, defence_sum)"
   ]
  },
  {
   "cell_type": "code",
   "execution_count": 111,
   "metadata": {
    "collapsed": false
   },
   "outputs": [
    {
     "data": {
      "text/plain": [
       "Source:   query [?? x 6]\n",
       "Database: sqlite 3.11.1 [database.sqlite]\n",
       "\n",
       "      id team_fifa_api_id team_api_id buildUpPlay_sum chanceCreation_sum\n",
       "   <int>            <int>       <int>           <int>              <int>\n",
       "1      1              434        9930              NA                180\n",
       "2      2              434        9930             156                181\n",
       "3      3              434        9930             142                181\n",
       "4      4               77        8485              NA                210\n",
       "5      5               77        8485              NA                153\n",
       "6      6               77        8485              NA                170\n",
       "7      7               77        8485              NA                145\n",
       "8      8               77        8485             184                181\n",
       "9      9               77        8485             176                186\n",
       "10    10              614        8576              NA                135\n",
       "# ... with more rows, and 1 more variables: defence_sum <int>"
      ]
     },
     "metadata": {},
     "output_type": "display_data"
    }
   ],
   "source": [
    "team_test2"
   ]
  },
  {
   "cell_type": "code",
   "execution_count": 120,
   "metadata": {
    "collapsed": false
   },
   "outputs": [
    {
     "name": "stderr",
     "output_type": "stream",
     "text": [
      "Joining, by = c(\"id\", \"team_api_id\", \"team_fifa_api_id\")\n"
     ]
    }
   ],
   "source": [
    "team_test4<-left_join(Team,team_test2)"
   ]
  },
  {
   "cell_type": "code",
   "execution_count": 115,
   "metadata": {
    "collapsed": false
   },
   "outputs": [
    {
     "data": {
      "text/plain": [
       "Source:   query [?? x 8]\n",
       "Database: sqlite 3.11.1 [database.sqlite]\n",
       "\n",
       "      id team_api_id team_fifa_api_id    team_long_name team_short_name\n",
       "   <int>       <int>            <int>             <chr>           <chr>\n",
       "1      1        9987              673          KRC Genk             GEN\n",
       "2      2        9993              675      Beerschot AC             BAC\n",
       "3      3       10000            15005  SV Zulte-Waregem             ZUL\n",
       "4      4        9994             2007  Sporting Lokeren             LOK\n",
       "5      5        9984             1750 KSV Cercle Brugge             CEB\n",
       "6      6        8635              229    RSC Anderlecht             AND\n",
       "7      7        9991              674          KAA Gent             GEN\n",
       "8      8        9998             1747         RAEC Mons             MON\n",
       "9      9        7947               NA     FCV Dender EH             DEN\n",
       "10    10        9985              232 Standard de Liège             STL\n",
       "# ... with more rows, and 3 more variables: buildUpPlay_sum <lgl>,\n",
       "#   chanceCreation_sum <lgl>, defence_sum <lgl>"
      ]
     },
     "metadata": {},
     "output_type": "display_data"
    }
   ],
   "source": [
    "team_test3"
   ]
  },
  {
   "cell_type": "code",
   "execution_count": 116,
   "metadata": {
    "collapsed": false
   },
   "outputs": [
    {
     "data": {
      "text/html": [
       "<table>\n",
       "<thead><tr><th scope=col>id</th><th scope=col>team_api_id</th><th scope=col>team_fifa_api_id</th><th scope=col>team_long_name</th><th scope=col>team_short_name</th><th scope=col>buildUpPlay_sum</th><th scope=col>chanceCreation_sum</th><th scope=col>defence_sum</th></tr></thead>\n",
       "<tbody>\n",
       "\t<tr><td>   1                </td><td>  9987              </td><td>   673              </td><td>KRC Genk            </td><td>GEN                 </td><td>NA                  </td><td>NA                  </td><td>NA                  </td></tr>\n",
       "\t<tr><td>   2                </td><td>  9993              </td><td>   675              </td><td>Beerschot AC        </td><td>BAC                 </td><td>NA                  </td><td>NA                  </td><td>NA                  </td></tr>\n",
       "\t<tr><td>   3                </td><td> 10000              </td><td> 15005              </td><td>SV Zulte-Waregem    </td><td>ZUL                 </td><td>NA                  </td><td>NA                  </td><td>NA                  </td></tr>\n",
       "\t<tr><td>   4                </td><td>  9994              </td><td>  2007              </td><td>Sporting Lokeren    </td><td>LOK                 </td><td>NA                  </td><td>NA                  </td><td>NA                  </td></tr>\n",
       "\t<tr><td>   5                </td><td>  9984              </td><td>  1750              </td><td>KSV Cercle Brugge   </td><td>CEB                 </td><td>NA                  </td><td>NA                  </td><td>NA                  </td></tr>\n",
       "\t<tr><td>   6                </td><td>  8635              </td><td>   229              </td><td>RSC Anderlecht      </td><td>AND                 </td><td>NA                  </td><td>NA                  </td><td>NA                  </td></tr>\n",
       "\t<tr><td>   7                </td><td>  9991              </td><td>   674              </td><td>KAA Gent            </td><td>GEN                 </td><td>NA                  </td><td>NA                  </td><td>NA                  </td></tr>\n",
       "\t<tr><td>   8                </td><td>  9998              </td><td>  1747              </td><td>RAEC Mons           </td><td>MON                 </td><td>NA                  </td><td>NA                  </td><td>NA                  </td></tr>\n",
       "\t<tr><td>   9                </td><td>  7947              </td><td>    NA              </td><td>FCV Dender EH       </td><td>DEN                 </td><td>NA                  </td><td>NA                  </td><td>NA                  </td></tr>\n",
       "\t<tr><td>  10                </td><td>  9985              </td><td>   232              </td><td>Standard de Liège   </td><td>STL                 </td><td>NA                  </td><td>NA                  </td><td>NA                  </td></tr>\n",
       "\t<tr><td>  11                </td><td>  8203              </td><td>110724              </td><td>KV Mechelen         </td><td>MEC                 </td><td>NA                  </td><td>NA                  </td><td>NA                  </td></tr>\n",
       "\t<tr><td>  12                </td><td>  8342              </td><td>   231              </td><td>Club Brugge KV      </td><td>CLB                 </td><td>NA                  </td><td>NA                  </td><td>NA                  </td></tr>\n",
       "\t<tr><td>  13                </td><td>  9999              </td><td>   546              </td><td>KSV Roeselare       </td><td>ROS                 </td><td>NA                  </td><td>NA                  </td><td>NA                  </td></tr>\n",
       "\t<tr><td>  14                </td><td>  8571              </td><td>100081              </td><td>KV Kortrijk         </td><td>KOR                 </td><td>NA                  </td><td>NA                  </td><td>NA                  </td></tr>\n",
       "\t<tr><td>  15                </td><td>  4049              </td><td>    NA              </td><td>Tubize              </td><td>TUB                 </td><td>NA                  </td><td>NA                  </td><td>NA                  </td></tr>\n",
       "\t<tr><td>  16                </td><td>  9996              </td><td>111560              </td><td>Royal Excel Mouscron</td><td>MOU                 </td><td>NA                  </td><td>NA                  </td><td>NA                  </td></tr>\n",
       "\t<tr><td>  17                </td><td> 10001              </td><td>   681              </td><td>KVC Westerlo        </td><td>WES                 </td><td>NA                  </td><td>NA                  </td><td>NA                  </td></tr>\n",
       "\t<tr><td>  18                </td><td>  9986              </td><td>   670              </td><td>Sporting Charleroi  </td><td>CHA                 </td><td>NA                  </td><td>NA                  </td><td>NA                  </td></tr>\n",
       "\t<tr><td> 614                </td><td>  9997              </td><td>   680              </td><td>Sint-Truidense VV   </td><td>STT                 </td><td>NA                  </td><td>NA                  </td><td>NA                  </td></tr>\n",
       "\t<tr><td>1034                </td><td>  9989              </td><td>   239              </td><td>Lierse SK           </td><td>LIE                 </td><td>NA                  </td><td>NA                  </td><td>NA                  </td></tr>\n",
       "\t<tr><td>1042                </td><td>  6351              </td><td>  2013              </td><td>KAS Eupen           </td><td>EUP                 </td><td>NA                  </td><td>NA                  </td><td>NA                  </td></tr>\n",
       "\t<tr><td>1513                </td><td>  1773              </td><td>100087              </td><td>Oud-Heverlee Leuven </td><td>O-H                 </td><td>NA                  </td><td>NA                  </td><td>NA                  </td></tr>\n",
       "\t<tr><td>2004                </td><td>  8475              </td><td>110913              </td><td>Waasland-Beveren    </td><td>WAA                 </td><td>NA                  </td><td>NA                  </td><td>NA                  </td></tr>\n",
       "\t<tr><td>2476                </td><td>  8573              </td><td>   682              </td><td>KV Oostende         </td><td>OOS                 </td><td>NA                  </td><td>NA                  </td><td>NA                  </td></tr>\n",
       "\t<tr><td>2510                </td><td>274581              </td><td>111560              </td><td>Royal Excel Mouscron</td><td>MOP                 </td><td>NA                  </td><td>NA                  </td><td>NA                  </td></tr>\n",
       "\t<tr><td>3457                </td><td> 10260              </td><td>    11              </td><td>Manchester United   </td><td>MUN                 </td><td>NA                  </td><td>NA                  </td><td>NA                  </td></tr>\n",
       "\t<tr><td>3458                </td><td> 10261              </td><td>    13              </td><td>Newcastle United    </td><td>NEW                 </td><td>NA                  </td><td>NA                  </td><td>NA                  </td></tr>\n",
       "\t<tr><td>3459                </td><td>  9825              </td><td>     1              </td><td>Arsenal             </td><td>ARS                 </td><td>NA                  </td><td>NA                  </td><td>NA                  </td></tr>\n",
       "\t<tr><td>3460                </td><td>  8659              </td><td>   109              </td><td>West Bromwich Albion</td><td>WBA                 </td><td>NA                  </td><td>NA                  </td><td>NA                  </td></tr>\n",
       "\t<tr><td>3461                </td><td>  8472              </td><td>   106              </td><td>Sunderland          </td><td>SUN                 </td><td>NA                  </td><td>NA                  </td><td>NA                  </td></tr>\n",
       "\t<tr><td>...</td><td>...</td><td>...</td><td>...</td><td>...</td><td>...</td><td>...</td><td>...</td></tr>\n",
       "\t<tr><td>43053                  </td><td> 9906                  </td><td>   240                 </td><td>Atlético Madrid        </td><td>AMA                    </td><td>NA                     </td><td>NA                     </td><td>NA                     </td></tr>\n",
       "\t<tr><td>43054                  </td><td> 9864                  </td><td>   573                 </td><td>Málaga CF              </td><td>MAL                    </td><td>NA                     </td><td>NA                     </td><td>NA                     </td></tr>\n",
       "\t<tr><td>43800                  </td><td> 9868                  </td><td>  1742                 </td><td>Xerez Club Deportivo   </td><td>XER                    </td><td>NA                     </td><td>NA                     </td><td>NA                     </td></tr>\n",
       "\t<tr><td>43803                  </td><td> 8394                  </td><td>   244                 </td><td>Real Zaragoza          </td><td>ZAR                    </td><td>NA                     </td><td>NA                     </td><td>NA                     </td></tr>\n",
       "\t<tr><td>43804                  </td><td> 9867                  </td><td>   260                 </td><td>CD Tenerife            </td><td>TEN                    </td><td>NA                     </td><td>NA                     </td><td>NA                     </td></tr>\n",
       "\t<tr><td>44557                  </td><td>10278                  </td><td>100879                 </td><td>Hércules Club de Fútbol</td><td>HER                    </td><td>NA                     </td><td>NA                     </td><td>NA                     </td></tr>\n",
       "\t<tr><td>44565                  </td><td> 8581                  </td><td>  1853                 </td><td>Levante UD             </td><td>LEV                    </td><td>NA                     </td><td>NA                     </td><td>NA                     </td></tr>\n",
       "\t<tr><td>44569                  </td><td> 8560                  </td><td>   457                 </td><td>Real Sociedad          </td><td>SOC                    </td><td>NA                     </td><td>NA                     </td><td>NA                     </td></tr>\n",
       "\t<tr><td>45330                  </td><td> 7878                  </td><td>110832                 </td><td>Granada CF             </td><td>GRA                    </td><td>NA                     </td><td>NA                     </td><td>NA                     </td></tr>\n",
       "\t<tr><td>45333                  </td><td> 8370                  </td><td>   480                 </td><td>Rayo Vallecano         </td><td>RAY                    </td><td>NA                     </td><td>NA                     </td><td>NA                     </td></tr>\n",
       "\t<tr><td>46087                  </td><td> 9910                  </td><td>   450                 </td><td>RC Celta de Vigo       </td><td>CEL                    </td><td>NA                     </td><td>NA                     </td><td>NA                     </td></tr>\n",
       "\t<tr><td>46848                  </td><td>10268                  </td><td>   468                 </td><td>Elche CF               </td><td>ELC                    </td><td>NA                     </td><td>NA                     </td><td>NA                     </td></tr>\n",
       "\t<tr><td>47605                  </td><td> 8372                  </td><td>   467                 </td><td>SD Eibar               </td><td>EIB                    </td><td>NA                     </td><td>NA                     </td><td>NA                     </td></tr>\n",
       "\t<tr><td>47612                  </td><td> 7869                  </td><td>  1867                 </td><td>Córdoba CF             </td><td>COR                    </td><td>NA                     </td><td>NA                     </td><td>NA                     </td></tr>\n",
       "\t<tr><td>48358                  </td><td> 8306                  </td><td>   472                 </td><td>UD Las Palmas          </td><td>LAS                    </td><td>NA                     </td><td>NA                     </td><td>NA                     </td></tr>\n",
       "\t<tr><td>49115                  </td><td> 9956                  </td><td>   322                 </td><td>Grasshopper Club Zürich</td><td>GRA                    </td><td>NA                     </td><td>NA                     </td><td>NA                     </td></tr>\n",
       "\t<tr><td>49116                  </td><td> 6493                  </td><td>  1714                 </td><td>AC Bellinzona          </td><td>BEL                    </td><td>NA                     </td><td>NA                     </td><td>NA                     </td></tr>\n",
       "\t<tr><td>49117                  </td><td>10192                  </td><td>   900                 </td><td>BSC Young Boys         </td><td>YB                     </td><td>NA                     </td><td>NA                     </td><td>NA                     </td></tr>\n",
       "\t<tr><td>49118                  </td><td> 9931                  </td><td>   896                 </td><td>FC Basel               </td><td>BAS                    </td><td>NA                     </td><td>NA                     </td><td>NA                     </td></tr>\n",
       "\t<tr><td>49119                  </td><td> 9930                  </td><td>   434                 </td><td>FC Aarau               </td><td>AAR                    </td><td>NA                     </td><td>NA                     </td><td>NA                     </td></tr>\n",
       "\t<tr><td>49120                  </td><td>10179                  </td><td>110770                 </td><td>FC Sion                </td><td>SIO                    </td><td>NA                     </td><td>NA                     </td><td>NA                     </td></tr>\n",
       "\t<tr><td>49121                  </td><td>10199                  </td><td>   897                 </td><td>FC Luzern              </td><td>LUZ                    </td><td>NA                     </td><td>NA                     </td><td>NA                     </td></tr>\n",
       "\t<tr><td>49122                  </td><td> 9824                  </td><td>   286                 </td><td>FC Vaduz               </td><td>VAD                    </td><td>NA                     </td><td>NA                     </td><td>NA                     </td></tr>\n",
       "\t<tr><td>49123                  </td><td> 7955                  </td><td>   435                 </td><td>Neuchâtel Xamax        </td><td>XAM                    </td><td>NA                     </td><td>NA                     </td><td>NA                     </td></tr>\n",
       "\t<tr><td>49124                  </td><td>10243                  </td><td>   894                 </td><td>FC Zürich              </td><td>ZUR                    </td><td>NA                     </td><td>NA                     </td><td>NA                     </td></tr>\n",
       "\t<tr><td>49479                  </td><td>10190                  </td><td>   898                 </td><td>FC St. Gallen          </td><td>GAL                    </td><td>NA                     </td><td>NA                     </td><td>NA                     </td></tr>\n",
       "\t<tr><td>49837                  </td><td>10191                  </td><td>  1715                 </td><td>FC Thun                </td><td>THU                    </td><td>NA                     </td><td>NA                     </td><td>NA                     </td></tr>\n",
       "\t<tr><td>50201                  </td><td> 9777                  </td><td>   324                 </td><td>Servette FC            </td><td>SER                    </td><td>NA                     </td><td>NA                     </td><td>NA                     </td></tr>\n",
       "\t<tr><td>50204                  </td><td> 7730                  </td><td>  1862                 </td><td>FC Lausanne-Sports     </td><td>LAU                    </td><td>NA                     </td><td>NA                     </td><td>NA                     </td></tr>\n",
       "\t<tr><td>51606                  </td><td> 7896                  </td><td>    NA                 </td><td>Lugano                 </td><td>LUG                    </td><td>NA                     </td><td>NA                     </td><td>NA                     </td></tr>\n",
       "</tbody>\n",
       "</table>\n"
      ],
      "text/latex": [
       "\\begin{tabular}{r|llllllll}\n",
       " id & team\\_api\\_id & team\\_fifa\\_api\\_id & team\\_long\\_name & team\\_short\\_name & buildUpPlay\\_sum & chanceCreation\\_sum & defence\\_sum\\\\\n",
       "\\hline\n",
       "\t    1                 &   9987               &    673               & KRC Genk             & GEN                  & NA                   & NA                   & NA                  \\\\\n",
       "\t    2                 &   9993               &    675               & Beerschot AC         & BAC                  & NA                   & NA                   & NA                  \\\\\n",
       "\t    3                 &  10000               &  15005               & SV Zulte-Waregem     & ZUL                  & NA                   & NA                   & NA                  \\\\\n",
       "\t    4                 &   9994               &   2007               & Sporting Lokeren     & LOK                  & NA                   & NA                   & NA                  \\\\\n",
       "\t    5                 &   9984               &   1750               & KSV Cercle Brugge    & CEB                  & NA                   & NA                   & NA                  \\\\\n",
       "\t    6                 &   8635               &    229               & RSC Anderlecht       & AND                  & NA                   & NA                   & NA                  \\\\\n",
       "\t    7                 &   9991               &    674               & KAA Gent             & GEN                  & NA                   & NA                   & NA                  \\\\\n",
       "\t    8                 &   9998               &   1747               & RAEC Mons            & MON                  & NA                   & NA                   & NA                  \\\\\n",
       "\t    9                 &   7947               &     NA               & FCV Dender EH        & DEN                  & NA                   & NA                   & NA                  \\\\\n",
       "\t   10                 &   9985               &    232               & Standard de Liège    & STL                  & NA                   & NA                   & NA                  \\\\\n",
       "\t   11                 &   8203               & 110724               & KV Mechelen          & MEC                  & NA                   & NA                   & NA                  \\\\\n",
       "\t   12                 &   8342               &    231               & Club Brugge KV       & CLB                  & NA                   & NA                   & NA                  \\\\\n",
       "\t   13                 &   9999               &    546               & KSV Roeselare        & ROS                  & NA                   & NA                   & NA                  \\\\\n",
       "\t   14                 &   8571               & 100081               & KV Kortrijk          & KOR                  & NA                   & NA                   & NA                  \\\\\n",
       "\t   15                 &   4049               &     NA               & Tubize               & TUB                  & NA                   & NA                   & NA                  \\\\\n",
       "\t   16                 &   9996               & 111560               & Royal Excel Mouscron & MOU                  & NA                   & NA                   & NA                  \\\\\n",
       "\t   17                 &  10001               &    681               & KVC Westerlo         & WES                  & NA                   & NA                   & NA                  \\\\\n",
       "\t   18                 &   9986               &    670               & Sporting Charleroi   & CHA                  & NA                   & NA                   & NA                  \\\\\n",
       "\t  614                 &   9997               &    680               & Sint-Truidense VV    & STT                  & NA                   & NA                   & NA                  \\\\\n",
       "\t 1034                 &   9989               &    239               & Lierse SK            & LIE                  & NA                   & NA                   & NA                  \\\\\n",
       "\t 1042                 &   6351               &   2013               & KAS Eupen            & EUP                  & NA                   & NA                   & NA                  \\\\\n",
       "\t 1513                 &   1773               & 100087               & Oud-Heverlee Leuven  & O-H                  & NA                   & NA                   & NA                  \\\\\n",
       "\t 2004                 &   8475               & 110913               & Waasland-Beveren     & WAA                  & NA                   & NA                   & NA                  \\\\\n",
       "\t 2476                 &   8573               &    682               & KV Oostende          & OOS                  & NA                   & NA                   & NA                  \\\\\n",
       "\t 2510                 & 274581               & 111560               & Royal Excel Mouscron & MOP                  & NA                   & NA                   & NA                  \\\\\n",
       "\t 3457                 &  10260               &     11               & Manchester United    & MUN                  & NA                   & NA                   & NA                  \\\\\n",
       "\t 3458                 &  10261               &     13               & Newcastle United     & NEW                  & NA                   & NA                   & NA                  \\\\\n",
       "\t 3459                 &   9825               &      1               & Arsenal              & ARS                  & NA                   & NA                   & NA                  \\\\\n",
       "\t 3460                 &   8659               &    109               & West Bromwich Albion & WBA                  & NA                   & NA                   & NA                  \\\\\n",
       "\t 3461                 &   8472               &    106               & Sunderland           & SUN                  & NA                   & NA                   & NA                  \\\\\n",
       "\t ... & ... & ... & ... & ... & ... & ... & ...\\\\\n",
       "\t 43053                   &  9906                   &    240                  & Atlético Madrid         & AMA                     & NA                      & NA                      & NA                     \\\\\n",
       "\t 43054                   &  9864                   &    573                  & Málaga CF               & MAL                     & NA                      & NA                      & NA                     \\\\\n",
       "\t 43800                   &  9868                   &   1742                  & Xerez Club Deportivo    & XER                     & NA                      & NA                      & NA                     \\\\\n",
       "\t 43803                   &  8394                   &    244                  & Real Zaragoza           & ZAR                     & NA                      & NA                      & NA                     \\\\\n",
       "\t 43804                   &  9867                   &    260                  & CD Tenerife             & TEN                     & NA                      & NA                      & NA                     \\\\\n",
       "\t 44557                   & 10278                   & 100879                  & Hércules Club de Fútbol & HER                     & NA                      & NA                      & NA                     \\\\\n",
       "\t 44565                   &  8581                   &   1853                  & Levante UD              & LEV                     & NA                      & NA                      & NA                     \\\\\n",
       "\t 44569                   &  8560                   &    457                  & Real Sociedad           & SOC                     & NA                      & NA                      & NA                     \\\\\n",
       "\t 45330                   &  7878                   & 110832                  & Granada CF              & GRA                     & NA                      & NA                      & NA                     \\\\\n",
       "\t 45333                   &  8370                   &    480                  & Rayo Vallecano          & RAY                     & NA                      & NA                      & NA                     \\\\\n",
       "\t 46087                   &  9910                   &    450                  & RC Celta de Vigo        & CEL                     & NA                      & NA                      & NA                     \\\\\n",
       "\t 46848                   & 10268                   &    468                  & Elche CF                & ELC                     & NA                      & NA                      & NA                     \\\\\n",
       "\t 47605                   &  8372                   &    467                  & SD Eibar                & EIB                     & NA                      & NA                      & NA                     \\\\\n",
       "\t 47612                   &  7869                   &   1867                  & Córdoba CF              & COR                     & NA                      & NA                      & NA                     \\\\\n",
       "\t 48358                   &  8306                   &    472                  & UD Las Palmas           & LAS                     & NA                      & NA                      & NA                     \\\\\n",
       "\t 49115                   &  9956                   &    322                  & Grasshopper Club Zürich & GRA                     & NA                      & NA                      & NA                     \\\\\n",
       "\t 49116                   &  6493                   &   1714                  & AC Bellinzona           & BEL                     & NA                      & NA                      & NA                     \\\\\n",
       "\t 49117                   & 10192                   &    900                  & BSC Young Boys          & YB                      & NA                      & NA                      & NA                     \\\\\n",
       "\t 49118                   &  9931                   &    896                  & FC Basel                & BAS                     & NA                      & NA                      & NA                     \\\\\n",
       "\t 49119                   &  9930                   &    434                  & FC Aarau                & AAR                     & NA                      & NA                      & NA                     \\\\\n",
       "\t 49120                   & 10179                   & 110770                  & FC Sion                 & SIO                     & NA                      & NA                      & NA                     \\\\\n",
       "\t 49121                   & 10199                   &    897                  & FC Luzern               & LUZ                     & NA                      & NA                      & NA                     \\\\\n",
       "\t 49122                   &  9824                   &    286                  & FC Vaduz                & VAD                     & NA                      & NA                      & NA                     \\\\\n",
       "\t 49123                   &  7955                   &    435                  & Neuchâtel Xamax         & XAM                     & NA                      & NA                      & NA                     \\\\\n",
       "\t 49124                   & 10243                   &    894                  & FC Zürich               & ZUR                     & NA                      & NA                      & NA                     \\\\\n",
       "\t 49479                   & 10190                   &    898                  & FC St. Gallen           & GAL                     & NA                      & NA                      & NA                     \\\\\n",
       "\t 49837                   & 10191                   &   1715                  & FC Thun                 & THU                     & NA                      & NA                      & NA                     \\\\\n",
       "\t 50201                   &  9777                   &    324                  & Servette FC             & SER                     & NA                      & NA                      & NA                     \\\\\n",
       "\t 50204                   &  7730                   &   1862                  & FC Lausanne-Sports      & LAU                     & NA                      & NA                      & NA                     \\\\\n",
       "\t 51606                   &  7896                   &     NA                  & Lugano                  & LUG                     & NA                      & NA                      & NA                     \\\\\n",
       "\\end{tabular}\n"
      ],
      "text/markdown": [
       "\n",
       "id | team_api_id | team_fifa_api_id | team_long_name | team_short_name | buildUpPlay_sum | chanceCreation_sum | defence_sum | \n",
       "|---|---|---|---|---|---|---|---|---|---|---|---|---|---|---|---|---|---|---|---|---|---|---|---|---|---|---|---|---|---|---|---|---|---|---|---|---|---|---|---|---|---|---|---|---|---|---|---|---|---|---|---|---|---|---|---|---|---|---|---|---|\n",
       "|    1                 |   9987               |    673               | KRC Genk             | GEN                  | NA                   | NA                   | NA                   | \n",
       "|    2                 |   9993               |    675               | Beerschot AC         | BAC                  | NA                   | NA                   | NA                   | \n",
       "|    3                 |  10000               |  15005               | SV Zulte-Waregem     | ZUL                  | NA                   | NA                   | NA                   | \n",
       "|    4                 |   9994               |   2007               | Sporting Lokeren     | LOK                  | NA                   | NA                   | NA                   | \n",
       "|    5                 |   9984               |   1750               | KSV Cercle Brugge    | CEB                  | NA                   | NA                   | NA                   | \n",
       "|    6                 |   8635               |    229               | RSC Anderlecht       | AND                  | NA                   | NA                   | NA                   | \n",
       "|    7                 |   9991               |    674               | KAA Gent             | GEN                  | NA                   | NA                   | NA                   | \n",
       "|    8                 |   9998               |   1747               | RAEC Mons            | MON                  | NA                   | NA                   | NA                   | \n",
       "|    9                 |   7947               |     NA               | FCV Dender EH        | DEN                  | NA                   | NA                   | NA                   | \n",
       "|   10                 |   9985               |    232               | Standard de Liège    | STL                  | NA                   | NA                   | NA                   | \n",
       "|   11                 |   8203               | 110724               | KV Mechelen          | MEC                  | NA                   | NA                   | NA                   | \n",
       "|   12                 |   8342               |    231               | Club Brugge KV       | CLB                  | NA                   | NA                   | NA                   | \n",
       "|   13                 |   9999               |    546               | KSV Roeselare        | ROS                  | NA                   | NA                   | NA                   | \n",
       "|   14                 |   8571               | 100081               | KV Kortrijk          | KOR                  | NA                   | NA                   | NA                   | \n",
       "|   15                 |   4049               |     NA               | Tubize               | TUB                  | NA                   | NA                   | NA                   | \n",
       "|   16                 |   9996               | 111560               | Royal Excel Mouscron | MOU                  | NA                   | NA                   | NA                   | \n",
       "|   17                 |  10001               |    681               | KVC Westerlo         | WES                  | NA                   | NA                   | NA                   | \n",
       "|   18                 |   9986               |    670               | Sporting Charleroi   | CHA                  | NA                   | NA                   | NA                   | \n",
       "|  614                 |   9997               |    680               | Sint-Truidense VV    | STT                  | NA                   | NA                   | NA                   | \n",
       "| 1034                 |   9989               |    239               | Lierse SK            | LIE                  | NA                   | NA                   | NA                   | \n",
       "| 1042                 |   6351               |   2013               | KAS Eupen            | EUP                  | NA                   | NA                   | NA                   | \n",
       "| 1513                 |   1773               | 100087               | Oud-Heverlee Leuven  | O-H                  | NA                   | NA                   | NA                   | \n",
       "| 2004                 |   8475               | 110913               | Waasland-Beveren     | WAA                  | NA                   | NA                   | NA                   | \n",
       "| 2476                 |   8573               |    682               | KV Oostende          | OOS                  | NA                   | NA                   | NA                   | \n",
       "| 2510                 | 274581               | 111560               | Royal Excel Mouscron | MOP                  | NA                   | NA                   | NA                   | \n",
       "| 3457                 |  10260               |     11               | Manchester United    | MUN                  | NA                   | NA                   | NA                   | \n",
       "| 3458                 |  10261               |     13               | Newcastle United     | NEW                  | NA                   | NA                   | NA                   | \n",
       "| 3459                 |   9825               |      1               | Arsenal              | ARS                  | NA                   | NA                   | NA                   | \n",
       "| 3460                 |   8659               |    109               | West Bromwich Albion | WBA                  | NA                   | NA                   | NA                   | \n",
       "| 3461                 |   8472               |    106               | Sunderland           | SUN                  | NA                   | NA                   | NA                   | \n",
       "| ... | ... | ... | ... | ... | ... | ... | ... | \n",
       "| 43053                   |  9906                   |    240                  | Atlético Madrid         | AMA                     | NA                      | NA                      | NA                      | \n",
       "| 43054                   |  9864                   |    573                  | Málaga CF               | MAL                     | NA                      | NA                      | NA                      | \n",
       "| 43800                   |  9868                   |   1742                  | Xerez Club Deportivo    | XER                     | NA                      | NA                      | NA                      | \n",
       "| 43803                   |  8394                   |    244                  | Real Zaragoza           | ZAR                     | NA                      | NA                      | NA                      | \n",
       "| 43804                   |  9867                   |    260                  | CD Tenerife             | TEN                     | NA                      | NA                      | NA                      | \n",
       "| 44557                   | 10278                   | 100879                  | Hércules Club de Fútbol | HER                     | NA                      | NA                      | NA                      | \n",
       "| 44565                   |  8581                   |   1853                  | Levante UD              | LEV                     | NA                      | NA                      | NA                      | \n",
       "| 44569                   |  8560                   |    457                  | Real Sociedad           | SOC                     | NA                      | NA                      | NA                      | \n",
       "| 45330                   |  7878                   | 110832                  | Granada CF              | GRA                     | NA                      | NA                      | NA                      | \n",
       "| 45333                   |  8370                   |    480                  | Rayo Vallecano          | RAY                     | NA                      | NA                      | NA                      | \n",
       "| 46087                   |  9910                   |    450                  | RC Celta de Vigo        | CEL                     | NA                      | NA                      | NA                      | \n",
       "| 46848                   | 10268                   |    468                  | Elche CF                | ELC                     | NA                      | NA                      | NA                      | \n",
       "| 47605                   |  8372                   |    467                  | SD Eibar                | EIB                     | NA                      | NA                      | NA                      | \n",
       "| 47612                   |  7869                   |   1867                  | Córdoba CF              | COR                     | NA                      | NA                      | NA                      | \n",
       "| 48358                   |  8306                   |    472                  | UD Las Palmas           | LAS                     | NA                      | NA                      | NA                      | \n",
       "| 49115                   |  9956                   |    322                  | Grasshopper Club Zürich | GRA                     | NA                      | NA                      | NA                      | \n",
       "| 49116                   |  6493                   |   1714                  | AC Bellinzona           | BEL                     | NA                      | NA                      | NA                      | \n",
       "| 49117                   | 10192                   |    900                  | BSC Young Boys          | YB                      | NA                      | NA                      | NA                      | \n",
       "| 49118                   |  9931                   |    896                  | FC Basel                | BAS                     | NA                      | NA                      | NA                      | \n",
       "| 49119                   |  9930                   |    434                  | FC Aarau                | AAR                     | NA                      | NA                      | NA                      | \n",
       "| 49120                   | 10179                   | 110770                  | FC Sion                 | SIO                     | NA                      | NA                      | NA                      | \n",
       "| 49121                   | 10199                   |    897                  | FC Luzern               | LUZ                     | NA                      | NA                      | NA                      | \n",
       "| 49122                   |  9824                   |    286                  | FC Vaduz                | VAD                     | NA                      | NA                      | NA                      | \n",
       "| 49123                   |  7955                   |    435                  | Neuchâtel Xamax         | XAM                     | NA                      | NA                      | NA                      | \n",
       "| 49124                   | 10243                   |    894                  | FC Zürich               | ZUR                     | NA                      | NA                      | NA                      | \n",
       "| 49479                   | 10190                   |    898                  | FC St. Gallen           | GAL                     | NA                      | NA                      | NA                      | \n",
       "| 49837                   | 10191                   |   1715                  | FC Thun                 | THU                     | NA                      | NA                      | NA                      | \n",
       "| 50201                   |  9777                   |    324                  | Servette FC             | SER                     | NA                      | NA                      | NA                      | \n",
       "| 50204                   |  7730                   |   1862                  | FC Lausanne-Sports      | LAU                     | NA                      | NA                      | NA                      | \n",
       "| 51606                   |  7896                   |     NA                  | Lugano                  | LUG                     | NA                      | NA                      | NA                      | \n",
       "\n",
       "\n"
      ],
      "text/plain": [
       "    id    team_api_id team_fifa_api_id team_long_name          team_short_name\n",
       "1      1    9987         673           KRC Genk                GEN            \n",
       "2      2    9993         675           Beerschot AC            BAC            \n",
       "3      3   10000       15005           SV Zulte-Waregem        ZUL            \n",
       "4      4    9994        2007           Sporting Lokeren        LOK            \n",
       "5      5    9984        1750           KSV Cercle Brugge       CEB            \n",
       "6      6    8635         229           RSC Anderlecht          AND            \n",
       "7      7    9991         674           KAA Gent                GEN            \n",
       "8      8    9998        1747           RAEC Mons               MON            \n",
       "9      9    7947          NA           FCV Dender EH           DEN            \n",
       "10    10    9985         232           Standard de Liège       STL            \n",
       "11    11    8203      110724           KV Mechelen             MEC            \n",
       "12    12    8342         231           Club Brugge KV          CLB            \n",
       "13    13    9999         546           KSV Roeselare           ROS            \n",
       "14    14    8571      100081           KV Kortrijk             KOR            \n",
       "15    15    4049          NA           Tubize                  TUB            \n",
       "16    16    9996      111560           Royal Excel Mouscron    MOU            \n",
       "17    17   10001         681           KVC Westerlo            WES            \n",
       "18    18    9986         670           Sporting Charleroi      CHA            \n",
       "19   614    9997         680           Sint-Truidense VV       STT            \n",
       "20  1034    9989         239           Lierse SK               LIE            \n",
       "21  1042    6351        2013           KAS Eupen               EUP            \n",
       "22  1513    1773      100087           Oud-Heverlee Leuven     O-H            \n",
       "23  2004    8475      110913           Waasland-Beveren        WAA            \n",
       "24  2476    8573         682           KV Oostende             OOS            \n",
       "25  2510  274581      111560           Royal Excel Mouscron    MOP            \n",
       "26  3457   10260          11           Manchester United       MUN            \n",
       "27  3458   10261          13           Newcastle United        NEW            \n",
       "28  3459    9825           1           Arsenal                 ARS            \n",
       "29  3460    8659         109           West Bromwich Albion    WBA            \n",
       "30  3461    8472         106           Sunderland              SUN            \n",
       "... ...   ...         ...              ...                     ...            \n",
       "270 43053  9906          240           Atlético Madrid         AMA            \n",
       "271 43054  9864          573           Málaga CF               MAL            \n",
       "272 43800  9868         1742           Xerez Club Deportivo    XER            \n",
       "273 43803  8394          244           Real Zaragoza           ZAR            \n",
       "274 43804  9867          260           CD Tenerife             TEN            \n",
       "275 44557 10278       100879           Hércules Club de Fútbol HER            \n",
       "276 44565  8581         1853           Levante UD              LEV            \n",
       "277 44569  8560          457           Real Sociedad           SOC            \n",
       "278 45330  7878       110832           Granada CF              GRA            \n",
       "279 45333  8370          480           Rayo Vallecano          RAY            \n",
       "280 46087  9910          450           RC Celta de Vigo        CEL            \n",
       "281 46848 10268          468           Elche CF                ELC            \n",
       "282 47605  8372          467           SD Eibar                EIB            \n",
       "283 47612  7869         1867           Córdoba CF              COR            \n",
       "284 48358  8306          472           UD Las Palmas           LAS            \n",
       "285 49115  9956          322           Grasshopper Club Zürich GRA            \n",
       "286 49116  6493         1714           AC Bellinzona           BEL            \n",
       "287 49117 10192          900           BSC Young Boys          YB             \n",
       "288 49118  9931          896           FC Basel                BAS            \n",
       "289 49119  9930          434           FC Aarau                AAR            \n",
       "290 49120 10179       110770           FC Sion                 SIO            \n",
       "291 49121 10199          897           FC Luzern               LUZ            \n",
       "292 49122  9824          286           FC Vaduz                VAD            \n",
       "293 49123  7955          435           Neuchâtel Xamax         XAM            \n",
       "294 49124 10243          894           FC Zürich               ZUR            \n",
       "295 49479 10190          898           FC St. Gallen           GAL            \n",
       "296 49837 10191         1715           FC Thun                 THU            \n",
       "297 50201  9777          324           Servette FC             SER            \n",
       "298 50204  7730         1862           FC Lausanne-Sports      LAU            \n",
       "299 51606  7896           NA           Lugano                  LUG            \n",
       "    buildUpPlay_sum chanceCreation_sum defence_sum\n",
       "1   NA              NA                 NA         \n",
       "2   NA              NA                 NA         \n",
       "3   NA              NA                 NA         \n",
       "4   NA              NA                 NA         \n",
       "5   NA              NA                 NA         \n",
       "6   NA              NA                 NA         \n",
       "7   NA              NA                 NA         \n",
       "8   NA              NA                 NA         \n",
       "9   NA              NA                 NA         \n",
       "10  NA              NA                 NA         \n",
       "11  NA              NA                 NA         \n",
       "12  NA              NA                 NA         \n",
       "13  NA              NA                 NA         \n",
       "14  NA              NA                 NA         \n",
       "15  NA              NA                 NA         \n",
       "16  NA              NA                 NA         \n",
       "17  NA              NA                 NA         \n",
       "18  NA              NA                 NA         \n",
       "19  NA              NA                 NA         \n",
       "20  NA              NA                 NA         \n",
       "21  NA              NA                 NA         \n",
       "22  NA              NA                 NA         \n",
       "23  NA              NA                 NA         \n",
       "24  NA              NA                 NA         \n",
       "25  NA              NA                 NA         \n",
       "26  NA              NA                 NA         \n",
       "27  NA              NA                 NA         \n",
       "28  NA              NA                 NA         \n",
       "29  NA              NA                 NA         \n",
       "30  NA              NA                 NA         \n",
       "... ...             ...                ...        \n",
       "270 NA              NA                 NA         \n",
       "271 NA              NA                 NA         \n",
       "272 NA              NA                 NA         \n",
       "273 NA              NA                 NA         \n",
       "274 NA              NA                 NA         \n",
       "275 NA              NA                 NA         \n",
       "276 NA              NA                 NA         \n",
       "277 NA              NA                 NA         \n",
       "278 NA              NA                 NA         \n",
       "279 NA              NA                 NA         \n",
       "280 NA              NA                 NA         \n",
       "281 NA              NA                 NA         \n",
       "282 NA              NA                 NA         \n",
       "283 NA              NA                 NA         \n",
       "284 NA              NA                 NA         \n",
       "285 NA              NA                 NA         \n",
       "286 NA              NA                 NA         \n",
       "287 NA              NA                 NA         \n",
       "288 NA              NA                 NA         \n",
       "289 NA              NA                 NA         \n",
       "290 NA              NA                 NA         \n",
       "291 NA              NA                 NA         \n",
       "292 NA              NA                 NA         \n",
       "293 NA              NA                 NA         \n",
       "294 NA              NA                 NA         \n",
       "295 NA              NA                 NA         \n",
       "296 NA              NA                 NA         \n",
       "297 NA              NA                 NA         \n",
       "298 NA              NA                 NA         \n",
       "299 NA              NA                 NA         "
      ]
     },
     "metadata": {},
     "output_type": "display_data"
    }
   ],
   "source": [
    "collect(team_test3)"
   ]
  },
  {
   "cell_type": "code",
   "execution_count": 192,
   "metadata": {
    "collapsed": false
   },
   "outputs": [
    {
     "data": {
      "text/html": [
       "<table>\n",
       "<thead><tr><th scope=col>id</th><th scope=col>team_fifa_api_id</th><th scope=col>team_api_id</th><th scope=col>buildUpPlay_sum</th><th scope=col>chanceCreation_sum</th><th scope=col>defence_sum</th></tr></thead>\n",
       "<tbody>\n",
       "\t<tr><td>1   </td><td>434 </td><td>9930</td><td> NA </td><td>180 </td><td>150 </td></tr>\n",
       "\t<tr><td>2   </td><td>434 </td><td>9930</td><td>156 </td><td>181 </td><td>145 </td></tr>\n",
       "\t<tr><td>3   </td><td>434 </td><td>9930</td><td>142 </td><td>181 </td><td>145 </td></tr>\n",
       "\t<tr><td>4   </td><td> 77 </td><td>8485</td><td> NA </td><td>210 </td><td>200 </td></tr>\n",
       "\t<tr><td>5   </td><td> 77 </td><td>8485</td><td> NA </td><td>153 </td><td>146 </td></tr>\n",
       "\t<tr><td>6   </td><td> 77 </td><td>8485</td><td> NA </td><td>170 </td><td>140 </td></tr>\n",
       "</tbody>\n",
       "</table>\n"
      ],
      "text/latex": [
       "\\begin{tabular}{r|llllll}\n",
       " id & team\\_fifa\\_api\\_id & team\\_api\\_id & buildUpPlay\\_sum & chanceCreation\\_sum & defence\\_sum\\\\\n",
       "\\hline\n",
       "\t 1    & 434  & 9930 &  NA  & 180  & 150 \\\\\n",
       "\t 2    & 434  & 9930 & 156  & 181  & 145 \\\\\n",
       "\t 3    & 434  & 9930 & 142  & 181  & 145 \\\\\n",
       "\t 4    &  77  & 8485 &  NA  & 210  & 200 \\\\\n",
       "\t 5    &  77  & 8485 &  NA  & 153  & 146 \\\\\n",
       "\t 6    &  77  & 8485 &  NA  & 170  & 140 \\\\\n",
       "\\end{tabular}\n"
      ],
      "text/markdown": [
       "\n",
       "id | team_fifa_api_id | team_api_id | buildUpPlay_sum | chanceCreation_sum | defence_sum | \n",
       "|---|---|---|---|---|---|\n",
       "| 1    | 434  | 9930 |  NA  | 180  | 150  | \n",
       "| 2    | 434  | 9930 | 156  | 181  | 145  | \n",
       "| 3    | 434  | 9930 | 142  | 181  | 145  | \n",
       "| 4    |  77  | 8485 |  NA  | 210  | 200  | \n",
       "| 5    |  77  | 8485 |  NA  | 153  | 146  | \n",
       "| 6    |  77  | 8485 |  NA  | 170  | 140  | \n",
       "\n",
       "\n"
      ],
      "text/plain": [
       "  id team_fifa_api_id team_api_id buildUpPlay_sum chanceCreation_sum\n",
       "1 1  434              9930         NA             180               \n",
       "2 2  434              9930        156             181               \n",
       "3 3  434              9930        142             181               \n",
       "4 4   77              8485         NA             210               \n",
       "5 5   77              8485         NA             153               \n",
       "6 6   77              8485         NA             170               \n",
       "  defence_sum\n",
       "1 150        \n",
       "2 145        \n",
       "3 145        \n",
       "4 200        \n",
       "5 146        \n",
       "6 140        "
      ]
     },
     "metadata": {},
     "output_type": "display_data"
    }
   ],
   "source": [
    "head(collect(team_test2))"
   ]
  },
  {
   "cell_type": "code",
   "execution_count": 198,
   "metadata": {
    "collapsed": true
   },
   "outputs": [],
   "source": [
    "new_team_attri<-summarise(team_attri,\n",
    "             max_build=max(buildUpPlay_sum),\n",
    "             max_chance=max(chanceCreation_sum),\n",
    "             max_defence=max(defence_sum)\n",
    "                         )"
   ]
  },
  {
   "cell_type": "code",
   "execution_count": 196,
   "metadata": {
    "collapsed": false
   },
   "outputs": [],
   "source": [
    "team_attri<-group_by(team_test2,team_api_id)\n"
   ]
  },
  {
   "cell_type": "code",
   "execution_count": 199,
   "metadata": {
    "collapsed": false
   },
   "outputs": [
    {
     "data": {
      "text/plain": [
       "Source:   query [?? x 4]\n",
       "Database: sqlite 3.11.1 [database.sqlite]\n",
       "\n",
       "   team_api_id max_build max_chance max_defence\n",
       "         <int>     <int>      <int>       <int>\n",
       "1         1601       139        186         175\n",
       "2         1773       153        157         137\n",
       "3         1957       158        163         210\n",
       "4         2033       147        165         155\n",
       "5         2182       176        196         160\n",
       "6         2183        NA        180         175\n",
       "7         2186       125        168         205\n",
       "8         4087       156        180         165\n",
       "9         4170        NA        165         200\n",
       "10        6269       179        172         151\n",
       "# ... with more rows"
      ]
     },
     "metadata": {},
     "output_type": "display_data"
    }
   ],
   "source": [
    "new_team_attri"
   ]
  },
  {
   "cell_type": "code",
   "execution_count": 121,
   "metadata": {
    "collapsed": false
   },
   "outputs": [
    {
     "data": {
      "text/html": [
       "<table>\n",
       "<thead><tr><th scope=col>id</th><th scope=col>team_api_id</th><th scope=col>team_fifa_api_id</th><th scope=col>team_long_name</th><th scope=col>team_short_name</th><th scope=col>buildUpPlay_sum</th><th scope=col>chanceCreation_sum</th><th scope=col>defence_sum</th></tr></thead>\n",
       "<tbody>\n",
       "\t<tr><td>   1                </td><td>  9987              </td><td>   673              </td><td>KRC Genk            </td><td>GEN                 </td><td>NA                  </td><td>NA                  </td><td>NA                  </td></tr>\n",
       "\t<tr><td>   2                </td><td>  9993              </td><td>   675              </td><td>Beerschot AC        </td><td>BAC                 </td><td>NA                  </td><td>NA                  </td><td>NA                  </td></tr>\n",
       "\t<tr><td>   3                </td><td> 10000              </td><td> 15005              </td><td>SV Zulte-Waregem    </td><td>ZUL                 </td><td>NA                  </td><td>NA                  </td><td>NA                  </td></tr>\n",
       "\t<tr><td>   4                </td><td>  9994              </td><td>  2007              </td><td>Sporting Lokeren    </td><td>LOK                 </td><td>NA                  </td><td>NA                  </td><td>NA                  </td></tr>\n",
       "\t<tr><td>   5                </td><td>  9984              </td><td>  1750              </td><td>KSV Cercle Brugge   </td><td>CEB                 </td><td>NA                  </td><td>NA                  </td><td>NA                  </td></tr>\n",
       "\t<tr><td>   6                </td><td>  8635              </td><td>   229              </td><td>RSC Anderlecht      </td><td>AND                 </td><td>NA                  </td><td>NA                  </td><td>NA                  </td></tr>\n",
       "\t<tr><td>   7                </td><td>  9991              </td><td>   674              </td><td>KAA Gent            </td><td>GEN                 </td><td>NA                  </td><td>NA                  </td><td>NA                  </td></tr>\n",
       "\t<tr><td>   8                </td><td>  9998              </td><td>  1747              </td><td>RAEC Mons           </td><td>MON                 </td><td>NA                  </td><td>NA                  </td><td>NA                  </td></tr>\n",
       "\t<tr><td>   9                </td><td>  7947              </td><td>    NA              </td><td>FCV Dender EH       </td><td>DEN                 </td><td>NA                  </td><td>NA                  </td><td>NA                  </td></tr>\n",
       "\t<tr><td>  10                </td><td>  9985              </td><td>   232              </td><td>Standard de Liège   </td><td>STL                 </td><td>NA                  </td><td>NA                  </td><td>NA                  </td></tr>\n",
       "\t<tr><td>  11                </td><td>  8203              </td><td>110724              </td><td>KV Mechelen         </td><td>MEC                 </td><td>NA                  </td><td>NA                  </td><td>NA                  </td></tr>\n",
       "\t<tr><td>  12                </td><td>  8342              </td><td>   231              </td><td>Club Brugge KV      </td><td>CLB                 </td><td>NA                  </td><td>NA                  </td><td>NA                  </td></tr>\n",
       "\t<tr><td>  13                </td><td>  9999              </td><td>   546              </td><td>KSV Roeselare       </td><td>ROS                 </td><td>NA                  </td><td>NA                  </td><td>NA                  </td></tr>\n",
       "\t<tr><td>  14                </td><td>  8571              </td><td>100081              </td><td>KV Kortrijk         </td><td>KOR                 </td><td>NA                  </td><td>NA                  </td><td>NA                  </td></tr>\n",
       "\t<tr><td>  15                </td><td>  4049              </td><td>    NA              </td><td>Tubize              </td><td>TUB                 </td><td>NA                  </td><td>NA                  </td><td>NA                  </td></tr>\n",
       "\t<tr><td>  16                </td><td>  9996              </td><td>111560              </td><td>Royal Excel Mouscron</td><td>MOU                 </td><td>NA                  </td><td>NA                  </td><td>NA                  </td></tr>\n",
       "\t<tr><td>  17                </td><td> 10001              </td><td>   681              </td><td>KVC Westerlo        </td><td>WES                 </td><td>NA                  </td><td>NA                  </td><td>NA                  </td></tr>\n",
       "\t<tr><td>  18                </td><td>  9986              </td><td>   670              </td><td>Sporting Charleroi  </td><td>CHA                 </td><td>NA                  </td><td>NA                  </td><td>NA                  </td></tr>\n",
       "\t<tr><td> 614                </td><td>  9997              </td><td>   680              </td><td>Sint-Truidense VV   </td><td>STT                 </td><td>NA                  </td><td>NA                  </td><td>NA                  </td></tr>\n",
       "\t<tr><td>1034                </td><td>  9989              </td><td>   239              </td><td>Lierse SK           </td><td>LIE                 </td><td>NA                  </td><td>NA                  </td><td>NA                  </td></tr>\n",
       "\t<tr><td>1042                </td><td>  6351              </td><td>  2013              </td><td>KAS Eupen           </td><td>EUP                 </td><td>NA                  </td><td>NA                  </td><td>NA                  </td></tr>\n",
       "\t<tr><td>1513                </td><td>  1773              </td><td>100087              </td><td>Oud-Heverlee Leuven </td><td>O-H                 </td><td>NA                  </td><td>NA                  </td><td>NA                  </td></tr>\n",
       "\t<tr><td>2004                </td><td>  8475              </td><td>110913              </td><td>Waasland-Beveren    </td><td>WAA                 </td><td>NA                  </td><td>NA                  </td><td>NA                  </td></tr>\n",
       "\t<tr><td>2476                </td><td>  8573              </td><td>   682              </td><td>KV Oostende         </td><td>OOS                 </td><td>NA                  </td><td>NA                  </td><td>NA                  </td></tr>\n",
       "\t<tr><td>2510                </td><td>274581              </td><td>111560              </td><td>Royal Excel Mouscron</td><td>MOP                 </td><td>NA                  </td><td>NA                  </td><td>NA                  </td></tr>\n",
       "\t<tr><td>3457                </td><td> 10260              </td><td>    11              </td><td>Manchester United   </td><td>MUN                 </td><td>NA                  </td><td>NA                  </td><td>NA                  </td></tr>\n",
       "\t<tr><td>3458                </td><td> 10261              </td><td>    13              </td><td>Newcastle United    </td><td>NEW                 </td><td>NA                  </td><td>NA                  </td><td>NA                  </td></tr>\n",
       "\t<tr><td>3459                </td><td>  9825              </td><td>     1              </td><td>Arsenal             </td><td>ARS                 </td><td>NA                  </td><td>NA                  </td><td>NA                  </td></tr>\n",
       "\t<tr><td>3460                </td><td>  8659              </td><td>   109              </td><td>West Bromwich Albion</td><td>WBA                 </td><td>NA                  </td><td>NA                  </td><td>NA                  </td></tr>\n",
       "\t<tr><td>3461                </td><td>  8472              </td><td>   106              </td><td>Sunderland          </td><td>SUN                 </td><td>NA                  </td><td>NA                  </td><td>NA                  </td></tr>\n",
       "\t<tr><td>...</td><td>...</td><td>...</td><td>...</td><td>...</td><td>...</td><td>...</td><td>...</td></tr>\n",
       "\t<tr><td>43053                  </td><td> 9906                  </td><td>   240                 </td><td>Atlético Madrid        </td><td>AMA                    </td><td>NA                     </td><td>NA                     </td><td>NA                     </td></tr>\n",
       "\t<tr><td>43054                  </td><td> 9864                  </td><td>   573                 </td><td>Málaga CF              </td><td>MAL                    </td><td>NA                     </td><td>NA                     </td><td>NA                     </td></tr>\n",
       "\t<tr><td>43800                  </td><td> 9868                  </td><td>  1742                 </td><td>Xerez Club Deportivo   </td><td>XER                    </td><td>NA                     </td><td>NA                     </td><td>NA                     </td></tr>\n",
       "\t<tr><td>43803                  </td><td> 8394                  </td><td>   244                 </td><td>Real Zaragoza          </td><td>ZAR                    </td><td>NA                     </td><td>NA                     </td><td>NA                     </td></tr>\n",
       "\t<tr><td>43804                  </td><td> 9867                  </td><td>   260                 </td><td>CD Tenerife            </td><td>TEN                    </td><td>NA                     </td><td>NA                     </td><td>NA                     </td></tr>\n",
       "\t<tr><td>44557                  </td><td>10278                  </td><td>100879                 </td><td>Hércules Club de Fútbol</td><td>HER                    </td><td>NA                     </td><td>NA                     </td><td>NA                     </td></tr>\n",
       "\t<tr><td>44565                  </td><td> 8581                  </td><td>  1853                 </td><td>Levante UD             </td><td>LEV                    </td><td>NA                     </td><td>NA                     </td><td>NA                     </td></tr>\n",
       "\t<tr><td>44569                  </td><td> 8560                  </td><td>   457                 </td><td>Real Sociedad          </td><td>SOC                    </td><td>NA                     </td><td>NA                     </td><td>NA                     </td></tr>\n",
       "\t<tr><td>45330                  </td><td> 7878                  </td><td>110832                 </td><td>Granada CF             </td><td>GRA                    </td><td>NA                     </td><td>NA                     </td><td>NA                     </td></tr>\n",
       "\t<tr><td>45333                  </td><td> 8370                  </td><td>   480                 </td><td>Rayo Vallecano         </td><td>RAY                    </td><td>NA                     </td><td>NA                     </td><td>NA                     </td></tr>\n",
       "\t<tr><td>46087                  </td><td> 9910                  </td><td>   450                 </td><td>RC Celta de Vigo       </td><td>CEL                    </td><td>NA                     </td><td>NA                     </td><td>NA                     </td></tr>\n",
       "\t<tr><td>46848                  </td><td>10268                  </td><td>   468                 </td><td>Elche CF               </td><td>ELC                    </td><td>NA                     </td><td>NA                     </td><td>NA                     </td></tr>\n",
       "\t<tr><td>47605                  </td><td> 8372                  </td><td>   467                 </td><td>SD Eibar               </td><td>EIB                    </td><td>NA                     </td><td>NA                     </td><td>NA                     </td></tr>\n",
       "\t<tr><td>47612                  </td><td> 7869                  </td><td>  1867                 </td><td>Córdoba CF             </td><td>COR                    </td><td>NA                     </td><td>NA                     </td><td>NA                     </td></tr>\n",
       "\t<tr><td>48358                  </td><td> 8306                  </td><td>   472                 </td><td>UD Las Palmas          </td><td>LAS                    </td><td>NA                     </td><td>NA                     </td><td>NA                     </td></tr>\n",
       "\t<tr><td>49115                  </td><td> 9956                  </td><td>   322                 </td><td>Grasshopper Club Zürich</td><td>GRA                    </td><td>NA                     </td><td>NA                     </td><td>NA                     </td></tr>\n",
       "\t<tr><td>49116                  </td><td> 6493                  </td><td>  1714                 </td><td>AC Bellinzona          </td><td>BEL                    </td><td>NA                     </td><td>NA                     </td><td>NA                     </td></tr>\n",
       "\t<tr><td>49117                  </td><td>10192                  </td><td>   900                 </td><td>BSC Young Boys         </td><td>YB                     </td><td>NA                     </td><td>NA                     </td><td>NA                     </td></tr>\n",
       "\t<tr><td>49118                  </td><td> 9931                  </td><td>   896                 </td><td>FC Basel               </td><td>BAS                    </td><td>NA                     </td><td>NA                     </td><td>NA                     </td></tr>\n",
       "\t<tr><td>49119                  </td><td> 9930                  </td><td>   434                 </td><td>FC Aarau               </td><td>AAR                    </td><td>NA                     </td><td>NA                     </td><td>NA                     </td></tr>\n",
       "\t<tr><td>49120                  </td><td>10179                  </td><td>110770                 </td><td>FC Sion                </td><td>SIO                    </td><td>NA                     </td><td>NA                     </td><td>NA                     </td></tr>\n",
       "\t<tr><td>49121                  </td><td>10199                  </td><td>   897                 </td><td>FC Luzern              </td><td>LUZ                    </td><td>NA                     </td><td>NA                     </td><td>NA                     </td></tr>\n",
       "\t<tr><td>49122                  </td><td> 9824                  </td><td>   286                 </td><td>FC Vaduz               </td><td>VAD                    </td><td>NA                     </td><td>NA                     </td><td>NA                     </td></tr>\n",
       "\t<tr><td>49123                  </td><td> 7955                  </td><td>   435                 </td><td>Neuchâtel Xamax        </td><td>XAM                    </td><td>NA                     </td><td>NA                     </td><td>NA                     </td></tr>\n",
       "\t<tr><td>49124                  </td><td>10243                  </td><td>   894                 </td><td>FC Zürich              </td><td>ZUR                    </td><td>NA                     </td><td>NA                     </td><td>NA                     </td></tr>\n",
       "\t<tr><td>49479                  </td><td>10190                  </td><td>   898                 </td><td>FC St. Gallen          </td><td>GAL                    </td><td>NA                     </td><td>NA                     </td><td>NA                     </td></tr>\n",
       "\t<tr><td>49837                  </td><td>10191                  </td><td>  1715                 </td><td>FC Thun                </td><td>THU                    </td><td>NA                     </td><td>NA                     </td><td>NA                     </td></tr>\n",
       "\t<tr><td>50201                  </td><td> 9777                  </td><td>   324                 </td><td>Servette FC            </td><td>SER                    </td><td>NA                     </td><td>NA                     </td><td>NA                     </td></tr>\n",
       "\t<tr><td>50204                  </td><td> 7730                  </td><td>  1862                 </td><td>FC Lausanne-Sports     </td><td>LAU                    </td><td>NA                     </td><td>NA                     </td><td>NA                     </td></tr>\n",
       "\t<tr><td>51606                  </td><td> 7896                  </td><td>    NA                 </td><td>Lugano                 </td><td>LUG                    </td><td>NA                     </td><td>NA                     </td><td>NA                     </td></tr>\n",
       "</tbody>\n",
       "</table>\n"
      ],
      "text/latex": [
       "\\begin{tabular}{r|llllllll}\n",
       " id & team\\_api\\_id & team\\_fifa\\_api\\_id & team\\_long\\_name & team\\_short\\_name & buildUpPlay\\_sum & chanceCreation\\_sum & defence\\_sum\\\\\n",
       "\\hline\n",
       "\t    1                 &   9987               &    673               & KRC Genk             & GEN                  & NA                   & NA                   & NA                  \\\\\n",
       "\t    2                 &   9993               &    675               & Beerschot AC         & BAC                  & NA                   & NA                   & NA                  \\\\\n",
       "\t    3                 &  10000               &  15005               & SV Zulte-Waregem     & ZUL                  & NA                   & NA                   & NA                  \\\\\n",
       "\t    4                 &   9994               &   2007               & Sporting Lokeren     & LOK                  & NA                   & NA                   & NA                  \\\\\n",
       "\t    5                 &   9984               &   1750               & KSV Cercle Brugge    & CEB                  & NA                   & NA                   & NA                  \\\\\n",
       "\t    6                 &   8635               &    229               & RSC Anderlecht       & AND                  & NA                   & NA                   & NA                  \\\\\n",
       "\t    7                 &   9991               &    674               & KAA Gent             & GEN                  & NA                   & NA                   & NA                  \\\\\n",
       "\t    8                 &   9998               &   1747               & RAEC Mons            & MON                  & NA                   & NA                   & NA                  \\\\\n",
       "\t    9                 &   7947               &     NA               & FCV Dender EH        & DEN                  & NA                   & NA                   & NA                  \\\\\n",
       "\t   10                 &   9985               &    232               & Standard de Liège    & STL                  & NA                   & NA                   & NA                  \\\\\n",
       "\t   11                 &   8203               & 110724               & KV Mechelen          & MEC                  & NA                   & NA                   & NA                  \\\\\n",
       "\t   12                 &   8342               &    231               & Club Brugge KV       & CLB                  & NA                   & NA                   & NA                  \\\\\n",
       "\t   13                 &   9999               &    546               & KSV Roeselare        & ROS                  & NA                   & NA                   & NA                  \\\\\n",
       "\t   14                 &   8571               & 100081               & KV Kortrijk          & KOR                  & NA                   & NA                   & NA                  \\\\\n",
       "\t   15                 &   4049               &     NA               & Tubize               & TUB                  & NA                   & NA                   & NA                  \\\\\n",
       "\t   16                 &   9996               & 111560               & Royal Excel Mouscron & MOU                  & NA                   & NA                   & NA                  \\\\\n",
       "\t   17                 &  10001               &    681               & KVC Westerlo         & WES                  & NA                   & NA                   & NA                  \\\\\n",
       "\t   18                 &   9986               &    670               & Sporting Charleroi   & CHA                  & NA                   & NA                   & NA                  \\\\\n",
       "\t  614                 &   9997               &    680               & Sint-Truidense VV    & STT                  & NA                   & NA                   & NA                  \\\\\n",
       "\t 1034                 &   9989               &    239               & Lierse SK            & LIE                  & NA                   & NA                   & NA                  \\\\\n",
       "\t 1042                 &   6351               &   2013               & KAS Eupen            & EUP                  & NA                   & NA                   & NA                  \\\\\n",
       "\t 1513                 &   1773               & 100087               & Oud-Heverlee Leuven  & O-H                  & NA                   & NA                   & NA                  \\\\\n",
       "\t 2004                 &   8475               & 110913               & Waasland-Beveren     & WAA                  & NA                   & NA                   & NA                  \\\\\n",
       "\t 2476                 &   8573               &    682               & KV Oostende          & OOS                  & NA                   & NA                   & NA                  \\\\\n",
       "\t 2510                 & 274581               & 111560               & Royal Excel Mouscron & MOP                  & NA                   & NA                   & NA                  \\\\\n",
       "\t 3457                 &  10260               &     11               & Manchester United    & MUN                  & NA                   & NA                   & NA                  \\\\\n",
       "\t 3458                 &  10261               &     13               & Newcastle United     & NEW                  & NA                   & NA                   & NA                  \\\\\n",
       "\t 3459                 &   9825               &      1               & Arsenal              & ARS                  & NA                   & NA                   & NA                  \\\\\n",
       "\t 3460                 &   8659               &    109               & West Bromwich Albion & WBA                  & NA                   & NA                   & NA                  \\\\\n",
       "\t 3461                 &   8472               &    106               & Sunderland           & SUN                  & NA                   & NA                   & NA                  \\\\\n",
       "\t ... & ... & ... & ... & ... & ... & ... & ...\\\\\n",
       "\t 43053                   &  9906                   &    240                  & Atlético Madrid         & AMA                     & NA                      & NA                      & NA                     \\\\\n",
       "\t 43054                   &  9864                   &    573                  & Málaga CF               & MAL                     & NA                      & NA                      & NA                     \\\\\n",
       "\t 43800                   &  9868                   &   1742                  & Xerez Club Deportivo    & XER                     & NA                      & NA                      & NA                     \\\\\n",
       "\t 43803                   &  8394                   &    244                  & Real Zaragoza           & ZAR                     & NA                      & NA                      & NA                     \\\\\n",
       "\t 43804                   &  9867                   &    260                  & CD Tenerife             & TEN                     & NA                      & NA                      & NA                     \\\\\n",
       "\t 44557                   & 10278                   & 100879                  & Hércules Club de Fútbol & HER                     & NA                      & NA                      & NA                     \\\\\n",
       "\t 44565                   &  8581                   &   1853                  & Levante UD              & LEV                     & NA                      & NA                      & NA                     \\\\\n",
       "\t 44569                   &  8560                   &    457                  & Real Sociedad           & SOC                     & NA                      & NA                      & NA                     \\\\\n",
       "\t 45330                   &  7878                   & 110832                  & Granada CF              & GRA                     & NA                      & NA                      & NA                     \\\\\n",
       "\t 45333                   &  8370                   &    480                  & Rayo Vallecano          & RAY                     & NA                      & NA                      & NA                     \\\\\n",
       "\t 46087                   &  9910                   &    450                  & RC Celta de Vigo        & CEL                     & NA                      & NA                      & NA                     \\\\\n",
       "\t 46848                   & 10268                   &    468                  & Elche CF                & ELC                     & NA                      & NA                      & NA                     \\\\\n",
       "\t 47605                   &  8372                   &    467                  & SD Eibar                & EIB                     & NA                      & NA                      & NA                     \\\\\n",
       "\t 47612                   &  7869                   &   1867                  & Córdoba CF              & COR                     & NA                      & NA                      & NA                     \\\\\n",
       "\t 48358                   &  8306                   &    472                  & UD Las Palmas           & LAS                     & NA                      & NA                      & NA                     \\\\\n",
       "\t 49115                   &  9956                   &    322                  & Grasshopper Club Zürich & GRA                     & NA                      & NA                      & NA                     \\\\\n",
       "\t 49116                   &  6493                   &   1714                  & AC Bellinzona           & BEL                     & NA                      & NA                      & NA                     \\\\\n",
       "\t 49117                   & 10192                   &    900                  & BSC Young Boys          & YB                      & NA                      & NA                      & NA                     \\\\\n",
       "\t 49118                   &  9931                   &    896                  & FC Basel                & BAS                     & NA                      & NA                      & NA                     \\\\\n",
       "\t 49119                   &  9930                   &    434                  & FC Aarau                & AAR                     & NA                      & NA                      & NA                     \\\\\n",
       "\t 49120                   & 10179                   & 110770                  & FC Sion                 & SIO                     & NA                      & NA                      & NA                     \\\\\n",
       "\t 49121                   & 10199                   &    897                  & FC Luzern               & LUZ                     & NA                      & NA                      & NA                     \\\\\n",
       "\t 49122                   &  9824                   &    286                  & FC Vaduz                & VAD                     & NA                      & NA                      & NA                     \\\\\n",
       "\t 49123                   &  7955                   &    435                  & Neuchâtel Xamax         & XAM                     & NA                      & NA                      & NA                     \\\\\n",
       "\t 49124                   & 10243                   &    894                  & FC Zürich               & ZUR                     & NA                      & NA                      & NA                     \\\\\n",
       "\t 49479                   & 10190                   &    898                  & FC St. Gallen           & GAL                     & NA                      & NA                      & NA                     \\\\\n",
       "\t 49837                   & 10191                   &   1715                  & FC Thun                 & THU                     & NA                      & NA                      & NA                     \\\\\n",
       "\t 50201                   &  9777                   &    324                  & Servette FC             & SER                     & NA                      & NA                      & NA                     \\\\\n",
       "\t 50204                   &  7730                   &   1862                  & FC Lausanne-Sports      & LAU                     & NA                      & NA                      & NA                     \\\\\n",
       "\t 51606                   &  7896                   &     NA                  & Lugano                  & LUG                     & NA                      & NA                      & NA                     \\\\\n",
       "\\end{tabular}\n"
      ],
      "text/markdown": [
       "\n",
       "id | team_api_id | team_fifa_api_id | team_long_name | team_short_name | buildUpPlay_sum | chanceCreation_sum | defence_sum | \n",
       "|---|---|---|---|---|---|---|---|---|---|---|---|---|---|---|---|---|---|---|---|---|---|---|---|---|---|---|---|---|---|---|---|---|---|---|---|---|---|---|---|---|---|---|---|---|---|---|---|---|---|---|---|---|---|---|---|---|---|---|---|---|\n",
       "|    1                 |   9987               |    673               | KRC Genk             | GEN                  | NA                   | NA                   | NA                   | \n",
       "|    2                 |   9993               |    675               | Beerschot AC         | BAC                  | NA                   | NA                   | NA                   | \n",
       "|    3                 |  10000               |  15005               | SV Zulte-Waregem     | ZUL                  | NA                   | NA                   | NA                   | \n",
       "|    4                 |   9994               |   2007               | Sporting Lokeren     | LOK                  | NA                   | NA                   | NA                   | \n",
       "|    5                 |   9984               |   1750               | KSV Cercle Brugge    | CEB                  | NA                   | NA                   | NA                   | \n",
       "|    6                 |   8635               |    229               | RSC Anderlecht       | AND                  | NA                   | NA                   | NA                   | \n",
       "|    7                 |   9991               |    674               | KAA Gent             | GEN                  | NA                   | NA                   | NA                   | \n",
       "|    8                 |   9998               |   1747               | RAEC Mons            | MON                  | NA                   | NA                   | NA                   | \n",
       "|    9                 |   7947               |     NA               | FCV Dender EH        | DEN                  | NA                   | NA                   | NA                   | \n",
       "|   10                 |   9985               |    232               | Standard de Liège    | STL                  | NA                   | NA                   | NA                   | \n",
       "|   11                 |   8203               | 110724               | KV Mechelen          | MEC                  | NA                   | NA                   | NA                   | \n",
       "|   12                 |   8342               |    231               | Club Brugge KV       | CLB                  | NA                   | NA                   | NA                   | \n",
       "|   13                 |   9999               |    546               | KSV Roeselare        | ROS                  | NA                   | NA                   | NA                   | \n",
       "|   14                 |   8571               | 100081               | KV Kortrijk          | KOR                  | NA                   | NA                   | NA                   | \n",
       "|   15                 |   4049               |     NA               | Tubize               | TUB                  | NA                   | NA                   | NA                   | \n",
       "|   16                 |   9996               | 111560               | Royal Excel Mouscron | MOU                  | NA                   | NA                   | NA                   | \n",
       "|   17                 |  10001               |    681               | KVC Westerlo         | WES                  | NA                   | NA                   | NA                   | \n",
       "|   18                 |   9986               |    670               | Sporting Charleroi   | CHA                  | NA                   | NA                   | NA                   | \n",
       "|  614                 |   9997               |    680               | Sint-Truidense VV    | STT                  | NA                   | NA                   | NA                   | \n",
       "| 1034                 |   9989               |    239               | Lierse SK            | LIE                  | NA                   | NA                   | NA                   | \n",
       "| 1042                 |   6351               |   2013               | KAS Eupen            | EUP                  | NA                   | NA                   | NA                   | \n",
       "| 1513                 |   1773               | 100087               | Oud-Heverlee Leuven  | O-H                  | NA                   | NA                   | NA                   | \n",
       "| 2004                 |   8475               | 110913               | Waasland-Beveren     | WAA                  | NA                   | NA                   | NA                   | \n",
       "| 2476                 |   8573               |    682               | KV Oostende          | OOS                  | NA                   | NA                   | NA                   | \n",
       "| 2510                 | 274581               | 111560               | Royal Excel Mouscron | MOP                  | NA                   | NA                   | NA                   | \n",
       "| 3457                 |  10260               |     11               | Manchester United    | MUN                  | NA                   | NA                   | NA                   | \n",
       "| 3458                 |  10261               |     13               | Newcastle United     | NEW                  | NA                   | NA                   | NA                   | \n",
       "| 3459                 |   9825               |      1               | Arsenal              | ARS                  | NA                   | NA                   | NA                   | \n",
       "| 3460                 |   8659               |    109               | West Bromwich Albion | WBA                  | NA                   | NA                   | NA                   | \n",
       "| 3461                 |   8472               |    106               | Sunderland           | SUN                  | NA                   | NA                   | NA                   | \n",
       "| ... | ... | ... | ... | ... | ... | ... | ... | \n",
       "| 43053                   |  9906                   |    240                  | Atlético Madrid         | AMA                     | NA                      | NA                      | NA                      | \n",
       "| 43054                   |  9864                   |    573                  | Málaga CF               | MAL                     | NA                      | NA                      | NA                      | \n",
       "| 43800                   |  9868                   |   1742                  | Xerez Club Deportivo    | XER                     | NA                      | NA                      | NA                      | \n",
       "| 43803                   |  8394                   |    244                  | Real Zaragoza           | ZAR                     | NA                      | NA                      | NA                      | \n",
       "| 43804                   |  9867                   |    260                  | CD Tenerife             | TEN                     | NA                      | NA                      | NA                      | \n",
       "| 44557                   | 10278                   | 100879                  | Hércules Club de Fútbol | HER                     | NA                      | NA                      | NA                      | \n",
       "| 44565                   |  8581                   |   1853                  | Levante UD              | LEV                     | NA                      | NA                      | NA                      | \n",
       "| 44569                   |  8560                   |    457                  | Real Sociedad           | SOC                     | NA                      | NA                      | NA                      | \n",
       "| 45330                   |  7878                   | 110832                  | Granada CF              | GRA                     | NA                      | NA                      | NA                      | \n",
       "| 45333                   |  8370                   |    480                  | Rayo Vallecano          | RAY                     | NA                      | NA                      | NA                      | \n",
       "| 46087                   |  9910                   |    450                  | RC Celta de Vigo        | CEL                     | NA                      | NA                      | NA                      | \n",
       "| 46848                   | 10268                   |    468                  | Elche CF                | ELC                     | NA                      | NA                      | NA                      | \n",
       "| 47605                   |  8372                   |    467                  | SD Eibar                | EIB                     | NA                      | NA                      | NA                      | \n",
       "| 47612                   |  7869                   |   1867                  | Córdoba CF              | COR                     | NA                      | NA                      | NA                      | \n",
       "| 48358                   |  8306                   |    472                  | UD Las Palmas           | LAS                     | NA                      | NA                      | NA                      | \n",
       "| 49115                   |  9956                   |    322                  | Grasshopper Club Zürich | GRA                     | NA                      | NA                      | NA                      | \n",
       "| 49116                   |  6493                   |   1714                  | AC Bellinzona           | BEL                     | NA                      | NA                      | NA                      | \n",
       "| 49117                   | 10192                   |    900                  | BSC Young Boys          | YB                      | NA                      | NA                      | NA                      | \n",
       "| 49118                   |  9931                   |    896                  | FC Basel                | BAS                     | NA                      | NA                      | NA                      | \n",
       "| 49119                   |  9930                   |    434                  | FC Aarau                | AAR                     | NA                      | NA                      | NA                      | \n",
       "| 49120                   | 10179                   | 110770                  | FC Sion                 | SIO                     | NA                      | NA                      | NA                      | \n",
       "| 49121                   | 10199                   |    897                  | FC Luzern               | LUZ                     | NA                      | NA                      | NA                      | \n",
       "| 49122                   |  9824                   |    286                  | FC Vaduz                | VAD                     | NA                      | NA                      | NA                      | \n",
       "| 49123                   |  7955                   |    435                  | Neuchâtel Xamax         | XAM                     | NA                      | NA                      | NA                      | \n",
       "| 49124                   | 10243                   |    894                  | FC Zürich               | ZUR                     | NA                      | NA                      | NA                      | \n",
       "| 49479                   | 10190                   |    898                  | FC St. Gallen           | GAL                     | NA                      | NA                      | NA                      | \n",
       "| 49837                   | 10191                   |   1715                  | FC Thun                 | THU                     | NA                      | NA                      | NA                      | \n",
       "| 50201                   |  9777                   |    324                  | Servette FC             | SER                     | NA                      | NA                      | NA                      | \n",
       "| 50204                   |  7730                   |   1862                  | FC Lausanne-Sports      | LAU                     | NA                      | NA                      | NA                      | \n",
       "| 51606                   |  7896                   |     NA                  | Lugano                  | LUG                     | NA                      | NA                      | NA                      | \n",
       "\n",
       "\n"
      ],
      "text/plain": [
       "    id    team_api_id team_fifa_api_id team_long_name          team_short_name\n",
       "1      1    9987         673           KRC Genk                GEN            \n",
       "2      2    9993         675           Beerschot AC            BAC            \n",
       "3      3   10000       15005           SV Zulte-Waregem        ZUL            \n",
       "4      4    9994        2007           Sporting Lokeren        LOK            \n",
       "5      5    9984        1750           KSV Cercle Brugge       CEB            \n",
       "6      6    8635         229           RSC Anderlecht          AND            \n",
       "7      7    9991         674           KAA Gent                GEN            \n",
       "8      8    9998        1747           RAEC Mons               MON            \n",
       "9      9    7947          NA           FCV Dender EH           DEN            \n",
       "10    10    9985         232           Standard de Liège       STL            \n",
       "11    11    8203      110724           KV Mechelen             MEC            \n",
       "12    12    8342         231           Club Brugge KV          CLB            \n",
       "13    13    9999         546           KSV Roeselare           ROS            \n",
       "14    14    8571      100081           KV Kortrijk             KOR            \n",
       "15    15    4049          NA           Tubize                  TUB            \n",
       "16    16    9996      111560           Royal Excel Mouscron    MOU            \n",
       "17    17   10001         681           KVC Westerlo            WES            \n",
       "18    18    9986         670           Sporting Charleroi      CHA            \n",
       "19   614    9997         680           Sint-Truidense VV       STT            \n",
       "20  1034    9989         239           Lierse SK               LIE            \n",
       "21  1042    6351        2013           KAS Eupen               EUP            \n",
       "22  1513    1773      100087           Oud-Heverlee Leuven     O-H            \n",
       "23  2004    8475      110913           Waasland-Beveren        WAA            \n",
       "24  2476    8573         682           KV Oostende             OOS            \n",
       "25  2510  274581      111560           Royal Excel Mouscron    MOP            \n",
       "26  3457   10260          11           Manchester United       MUN            \n",
       "27  3458   10261          13           Newcastle United        NEW            \n",
       "28  3459    9825           1           Arsenal                 ARS            \n",
       "29  3460    8659         109           West Bromwich Albion    WBA            \n",
       "30  3461    8472         106           Sunderland              SUN            \n",
       "... ...   ...         ...              ...                     ...            \n",
       "270 43053  9906          240           Atlético Madrid         AMA            \n",
       "271 43054  9864          573           Málaga CF               MAL            \n",
       "272 43800  9868         1742           Xerez Club Deportivo    XER            \n",
       "273 43803  8394          244           Real Zaragoza           ZAR            \n",
       "274 43804  9867          260           CD Tenerife             TEN            \n",
       "275 44557 10278       100879           Hércules Club de Fútbol HER            \n",
       "276 44565  8581         1853           Levante UD              LEV            \n",
       "277 44569  8560          457           Real Sociedad           SOC            \n",
       "278 45330  7878       110832           Granada CF              GRA            \n",
       "279 45333  8370          480           Rayo Vallecano          RAY            \n",
       "280 46087  9910          450           RC Celta de Vigo        CEL            \n",
       "281 46848 10268          468           Elche CF                ELC            \n",
       "282 47605  8372          467           SD Eibar                EIB            \n",
       "283 47612  7869         1867           Córdoba CF              COR            \n",
       "284 48358  8306          472           UD Las Palmas           LAS            \n",
       "285 49115  9956          322           Grasshopper Club Zürich GRA            \n",
       "286 49116  6493         1714           AC Bellinzona           BEL            \n",
       "287 49117 10192          900           BSC Young Boys          YB             \n",
       "288 49118  9931          896           FC Basel                BAS            \n",
       "289 49119  9930          434           FC Aarau                AAR            \n",
       "290 49120 10179       110770           FC Sion                 SIO            \n",
       "291 49121 10199          897           FC Luzern               LUZ            \n",
       "292 49122  9824          286           FC Vaduz                VAD            \n",
       "293 49123  7955          435           Neuchâtel Xamax         XAM            \n",
       "294 49124 10243          894           FC Zürich               ZUR            \n",
       "295 49479 10190          898           FC St. Gallen           GAL            \n",
       "296 49837 10191         1715           FC Thun                 THU            \n",
       "297 50201  9777          324           Servette FC             SER            \n",
       "298 50204  7730         1862           FC Lausanne-Sports      LAU            \n",
       "299 51606  7896           NA           Lugano                  LUG            \n",
       "    buildUpPlay_sum chanceCreation_sum defence_sum\n",
       "1   NA              NA                 NA         \n",
       "2   NA              NA                 NA         \n",
       "3   NA              NA                 NA         \n",
       "4   NA              NA                 NA         \n",
       "5   NA              NA                 NA         \n",
       "6   NA              NA                 NA         \n",
       "7   NA              NA                 NA         \n",
       "8   NA              NA                 NA         \n",
       "9   NA              NA                 NA         \n",
       "10  NA              NA                 NA         \n",
       "11  NA              NA                 NA         \n",
       "12  NA              NA                 NA         \n",
       "13  NA              NA                 NA         \n",
       "14  NA              NA                 NA         \n",
       "15  NA              NA                 NA         \n",
       "16  NA              NA                 NA         \n",
       "17  NA              NA                 NA         \n",
       "18  NA              NA                 NA         \n",
       "19  NA              NA                 NA         \n",
       "20  NA              NA                 NA         \n",
       "21  NA              NA                 NA         \n",
       "22  NA              NA                 NA         \n",
       "23  NA              NA                 NA         \n",
       "24  NA              NA                 NA         \n",
       "25  NA              NA                 NA         \n",
       "26  NA              NA                 NA         \n",
       "27  NA              NA                 NA         \n",
       "28  NA              NA                 NA         \n",
       "29  NA              NA                 NA         \n",
       "30  NA              NA                 NA         \n",
       "... ...             ...                ...        \n",
       "270 NA              NA                 NA         \n",
       "271 NA              NA                 NA         \n",
       "272 NA              NA                 NA         \n",
       "273 NA              NA                 NA         \n",
       "274 NA              NA                 NA         \n",
       "275 NA              NA                 NA         \n",
       "276 NA              NA                 NA         \n",
       "277 NA              NA                 NA         \n",
       "278 NA              NA                 NA         \n",
       "279 NA              NA                 NA         \n",
       "280 NA              NA                 NA         \n",
       "281 NA              NA                 NA         \n",
       "282 NA              NA                 NA         \n",
       "283 NA              NA                 NA         \n",
       "284 NA              NA                 NA         \n",
       "285 NA              NA                 NA         \n",
       "286 NA              NA                 NA         \n",
       "287 NA              NA                 NA         \n",
       "288 NA              NA                 NA         \n",
       "289 NA              NA                 NA         \n",
       "290 NA              NA                 NA         \n",
       "291 NA              NA                 NA         \n",
       "292 NA              NA                 NA         \n",
       "293 NA              NA                 NA         \n",
       "294 NA              NA                 NA         \n",
       "295 NA              NA                 NA         \n",
       "296 NA              NA                 NA         \n",
       "297 NA              NA                 NA         \n",
       "298 NA              NA                 NA         \n",
       "299 NA              NA                 NA         "
      ]
     },
     "metadata": {},
     "output_type": "display_data"
    }
   ],
   "source": [
    "collect(team_test4)"
   ]
  },
  {
   "cell_type": "code",
   "execution_count": 126,
   "metadata": {
    "collapsed": false
   },
   "outputs": [
    {
     "data": {
      "text/plain": [
       "Source:   query [?? x 1]\n",
       "Database: sqlite 3.11.1 [database.sqlite]\n",
       "\n",
       "   chanceCreation_sum\n",
       "                <int>\n",
       "1                 180\n",
       "2                 181\n",
       "3                 181\n",
       "4                 210\n",
       "5                 153\n",
       "6                 170\n",
       "7                 145\n",
       "8                 181\n",
       "9                 186\n",
       "10                135\n",
       "# ... with more rows"
      ]
     },
     "metadata": {},
     "output_type": "display_data"
    }
   ],
   "source": [
    "select(team_test2, max((chanceCreation_sum)))"
   ]
  },
  {
   "cell_type": "code",
   "execution_count": 200,
   "metadata": {
    "collapsed": false
   },
   "outputs": [],
   "source": [
    "team_test4<-Team %>% left_join(new_team_attri, by=\"team_api_id\")"
   ]
  },
  {
   "cell_type": "code",
   "execution_count": 201,
   "metadata": {
    "collapsed": false
   },
   "outputs": [
    {
     "data": {
      "text/plain": [
       "Source:   query [?? x 8]\n",
       "Database: sqlite 3.11.1 [database.sqlite]\n",
       "\n",
       "      id team_api_id team_fifa_api_id    team_long_name team_short_name\n",
       "   <int>       <int>            <int>             <chr>           <chr>\n",
       "1      1        9987              673          KRC Genk             GEN\n",
       "2      2        9993              675      Beerschot AC             BAC\n",
       "3      3       10000            15005  SV Zulte-Waregem             ZUL\n",
       "4      4        9994             2007  Sporting Lokeren             LOK\n",
       "5      5        9984             1750 KSV Cercle Brugge             CEB\n",
       "6      6        8635              229    RSC Anderlecht             AND\n",
       "7      7        9991              674          KAA Gent             GEN\n",
       "8      8        9998             1747         RAEC Mons             MON\n",
       "9      9        7947               NA     FCV Dender EH             DEN\n",
       "10    10        9985              232 Standard de Liège             STL\n",
       "# ... with more rows, and 3 more variables: max_build <int>, max_chance <int>,\n",
       "#   max_defence <int>"
      ]
     },
     "metadata": {},
     "output_type": "display_data"
    }
   ],
   "source": [
    "team_test4"
   ]
  },
  {
   "cell_type": "code",
   "execution_count": 188,
   "metadata": {
    "collapsed": false
   },
   "outputs": [
    {
     "data": {
      "text/html": [
       "<table>\n",
       "<thead><tr><th scope=col>id.x</th><th scope=col>team_fifa_api_id.x</th><th scope=col>team_api_id</th><th scope=col>buildUpPlay_sum</th><th scope=col>chanceCreation_sum</th><th scope=col>defence_sum</th><th scope=col>id.y</th><th scope=col>team_fifa_api_id.y</th><th scope=col>team_long_name</th><th scope=col>team_short_name</th></tr></thead>\n",
       "<tbody>\n",
       "\t<tr><td>1       </td><td>434     </td><td>9930    </td><td> NA     </td><td>180     </td><td>150     </td><td>49119   </td><td>434     </td><td>FC Aarau</td><td>AAR     </td></tr>\n",
       "\t<tr><td>2       </td><td>434     </td><td>9930    </td><td>156     </td><td>181     </td><td>145     </td><td>49119   </td><td>434     </td><td>FC Aarau</td><td>AAR     </td></tr>\n",
       "\t<tr><td>3       </td><td>434     </td><td>9930    </td><td>142     </td><td>181     </td><td>145     </td><td>49119   </td><td>434     </td><td>FC Aarau</td><td>AAR     </td></tr>\n",
       "\t<tr><td>4       </td><td> 77     </td><td>8485    </td><td> NA     </td><td>210     </td><td>200     </td><td>39393   </td><td> 77     </td><td>Aberdeen</td><td>ABE     </td></tr>\n",
       "\t<tr><td>5       </td><td> 77     </td><td>8485    </td><td> NA     </td><td>153     </td><td>146     </td><td>39393   </td><td> 77     </td><td>Aberdeen</td><td>ABE     </td></tr>\n",
       "\t<tr><td>6       </td><td> 77     </td><td>8485    </td><td> NA     </td><td>170     </td><td>140     </td><td>39393   </td><td> 77     </td><td>Aberdeen</td><td>ABE     </td></tr>\n",
       "</tbody>\n",
       "</table>\n"
      ],
      "text/latex": [
       "\\begin{tabular}{r|llllllllll}\n",
       " id.x & team\\_fifa\\_api\\_id.x & team\\_api\\_id & buildUpPlay\\_sum & chanceCreation\\_sum & defence\\_sum & id.y & team\\_fifa\\_api\\_id.y & team\\_long\\_name & team\\_short\\_name\\\\\n",
       "\\hline\n",
       "\t 1        & 434      & 9930     &  NA      & 180      & 150      & 49119    & 434      & FC Aarau & AAR     \\\\\n",
       "\t 2        & 434      & 9930     & 156      & 181      & 145      & 49119    & 434      & FC Aarau & AAR     \\\\\n",
       "\t 3        & 434      & 9930     & 142      & 181      & 145      & 49119    & 434      & FC Aarau & AAR     \\\\\n",
       "\t 4        &  77      & 8485     &  NA      & 210      & 200      & 39393    &  77      & Aberdeen & ABE     \\\\\n",
       "\t 5        &  77      & 8485     &  NA      & 153      & 146      & 39393    &  77      & Aberdeen & ABE     \\\\\n",
       "\t 6        &  77      & 8485     &  NA      & 170      & 140      & 39393    &  77      & Aberdeen & ABE     \\\\\n",
       "\\end{tabular}\n"
      ],
      "text/markdown": [
       "\n",
       "id.x | team_fifa_api_id.x | team_api_id | buildUpPlay_sum | chanceCreation_sum | defence_sum | id.y | team_fifa_api_id.y | team_long_name | team_short_name | \n",
       "|---|---|---|---|---|---|\n",
       "| 1        | 434      | 9930     |  NA      | 180      | 150      | 49119    | 434      | FC Aarau | AAR      | \n",
       "| 2        | 434      | 9930     | 156      | 181      | 145      | 49119    | 434      | FC Aarau | AAR      | \n",
       "| 3        | 434      | 9930     | 142      | 181      | 145      | 49119    | 434      | FC Aarau | AAR      | \n",
       "| 4        |  77      | 8485     |  NA      | 210      | 200      | 39393    |  77      | Aberdeen | ABE      | \n",
       "| 5        |  77      | 8485     |  NA      | 153      | 146      | 39393    |  77      | Aberdeen | ABE      | \n",
       "| 6        |  77      | 8485     |  NA      | 170      | 140      | 39393    |  77      | Aberdeen | ABE      | \n",
       "\n",
       "\n"
      ],
      "text/plain": [
       "  id.x team_fifa_api_id.x team_api_id buildUpPlay_sum chanceCreation_sum\n",
       "1 1    434                9930         NA             180               \n",
       "2 2    434                9930        156             181               \n",
       "3 3    434                9930        142             181               \n",
       "4 4     77                8485         NA             210               \n",
       "5 5     77                8485         NA             153               \n",
       "6 6     77                8485         NA             170               \n",
       "  defence_sum id.y  team_fifa_api_id.y team_long_name team_short_name\n",
       "1 150         49119 434                FC Aarau       AAR            \n",
       "2 145         49119 434                FC Aarau       AAR            \n",
       "3 145         49119 434                FC Aarau       AAR            \n",
       "4 200         39393  77                Aberdeen       ABE            \n",
       "5 146         39393  77                Aberdeen       ABE            \n",
       "6 140         39393  77                Aberdeen       ABE            "
      ]
     },
     "metadata": {},
     "output_type": "display_data"
    }
   ],
   "source": [
    "head(collect(team_test4))"
   ]
  },
  {
   "cell_type": "code",
   "execution_count": 134,
   "metadata": {
    "collapsed": false
   },
   "outputs": [
    {
     "name": "stderr",
     "output_type": "stream",
     "text": [
      "Warning message:\n",
      "\"Only first 100,000 results retrieved. Use n = Inf to retrieve all.\""
     ]
    },
    {
     "data": {
      "text/html": [
       "<table>\n",
       "<thead><tr><th scope=col>id</th><th scope=col>player_fifa_api_id</th><th scope=col>player_api_id</th><th scope=col>overall_rating</th><th scope=col>gk_sum</th></tr></thead>\n",
       "<tbody>\n",
       "\t<tr><td> 1    </td><td>218353</td><td>505942</td><td>67    </td><td>43    </td></tr>\n",
       "\t<tr><td> 2    </td><td>218353</td><td>505942</td><td>67    </td><td>43    </td></tr>\n",
       "\t<tr><td> 3    </td><td>218353</td><td>505942</td><td>62    </td><td>43    </td></tr>\n",
       "\t<tr><td> 4    </td><td>218353</td><td>505942</td><td>61    </td><td>38    </td></tr>\n",
       "\t<tr><td> 5    </td><td>218353</td><td>505942</td><td>61    </td><td>38    </td></tr>\n",
       "\t<tr><td> 6    </td><td>189615</td><td>155782</td><td>74    </td><td>51    </td></tr>\n",
       "\t<tr><td> 7    </td><td>189615</td><td>155782</td><td>74    </td><td>51    </td></tr>\n",
       "\t<tr><td> 8    </td><td>189615</td><td>155782</td><td>73    </td><td>51    </td></tr>\n",
       "\t<tr><td> 9    </td><td>189615</td><td>155782</td><td>73    </td><td>51    </td></tr>\n",
       "\t<tr><td>10    </td><td>189615</td><td>155782</td><td>73    </td><td>51    </td></tr>\n",
       "\t<tr><td>11    </td><td>189615</td><td>155782</td><td>73    </td><td>51    </td></tr>\n",
       "\t<tr><td>12    </td><td>189615</td><td>155782</td><td>74    </td><td>51    </td></tr>\n",
       "\t<tr><td>13    </td><td>189615</td><td>155782</td><td>73    </td><td>51    </td></tr>\n",
       "\t<tr><td>14    </td><td>189615</td><td>155782</td><td>71    </td><td>46    </td></tr>\n",
       "\t<tr><td>15    </td><td>189615</td><td>155782</td><td>71    </td><td>46    </td></tr>\n",
       "\t<tr><td>16    </td><td>189615</td><td>155782</td><td>71    </td><td>46    </td></tr>\n",
       "\t<tr><td>17    </td><td>189615</td><td>155782</td><td>70    </td><td>46    </td></tr>\n",
       "\t<tr><td>18    </td><td>189615</td><td>155782</td><td>70    </td><td>46    </td></tr>\n",
       "\t<tr><td>19    </td><td>189615</td><td>155782</td><td>70    </td><td>46    </td></tr>\n",
       "\t<tr><td>20    </td><td>189615</td><td>155782</td><td>70    </td><td>46    </td></tr>\n",
       "\t<tr><td>21    </td><td>189615</td><td>155782</td><td>70    </td><td>46    </td></tr>\n",
       "\t<tr><td>22    </td><td>189615</td><td>155782</td><td>70    </td><td>46    </td></tr>\n",
       "\t<tr><td>23    </td><td>189615</td><td>155782</td><td>69    </td><td>46    </td></tr>\n",
       "\t<tr><td>24    </td><td>189615</td><td>155782</td><td>69    </td><td>46    </td></tr>\n",
       "\t<tr><td>25    </td><td>189615</td><td>155782</td><td>69    </td><td>46    </td></tr>\n",
       "\t<tr><td>26    </td><td>189615</td><td>155782</td><td>69    </td><td>46    </td></tr>\n",
       "\t<tr><td>27    </td><td>189615</td><td>155782</td><td>69    </td><td>46    </td></tr>\n",
       "\t<tr><td>28    </td><td>189615</td><td>155782</td><td>69    </td><td>46    </td></tr>\n",
       "\t<tr><td>29    </td><td>189615</td><td>155782</td><td>69    </td><td>46    </td></tr>\n",
       "\t<tr><td>30    </td><td>189615</td><td>155782</td><td>68    </td><td>46    </td></tr>\n",
       "\t<tr><td>...</td><td>...</td><td>...</td><td>...</td><td>...</td></tr>\n",
       "\t<tr><td> 99971</td><td>193416</td><td>185705</td><td>65    </td><td> 54   </td></tr>\n",
       "\t<tr><td> 99972</td><td>193416</td><td>185705</td><td>65    </td><td> 54   </td></tr>\n",
       "\t<tr><td> 99973</td><td>193416</td><td>185705</td><td>65    </td><td> 54   </td></tr>\n",
       "\t<tr><td> 99974</td><td>193416</td><td>185705</td><td>65    </td><td> 54   </td></tr>\n",
       "\t<tr><td> 99975</td><td>193416</td><td>185705</td><td>65    </td><td> 54   </td></tr>\n",
       "\t<tr><td> 99976</td><td>193416</td><td>185705</td><td>65    </td><td> 54   </td></tr>\n",
       "\t<tr><td> 99977</td><td>168353</td><td> 39569</td><td>65    </td><td> 56   </td></tr>\n",
       "\t<tr><td> 99978</td><td>168353</td><td> 39569</td><td>71    </td><td> 56   </td></tr>\n",
       "\t<tr><td> 99979</td><td>168353</td><td> 39569</td><td>71    </td><td> 56   </td></tr>\n",
       "\t<tr><td> 99980</td><td>168353</td><td> 39569</td><td>72    </td><td> 51   </td></tr>\n",
       "\t<tr><td> 99981</td><td>168353</td><td> 39569</td><td>72    </td><td> 51   </td></tr>\n",
       "\t<tr><td> 99982</td><td>168353</td><td> 39569</td><td>71    </td><td> 51   </td></tr>\n",
       "\t<tr><td> 99983</td><td>168353</td><td> 39569</td><td>71    </td><td> 51   </td></tr>\n",
       "\t<tr><td> 99984</td><td>168353</td><td> 39569</td><td>71    </td><td> 51   </td></tr>\n",
       "\t<tr><td> 99985</td><td>168353</td><td> 39569</td><td>71    </td><td> 51   </td></tr>\n",
       "\t<tr><td> 99986</td><td>168353</td><td> 39569</td><td>71    </td><td> 51   </td></tr>\n",
       "\t<tr><td> 99987</td><td>168353</td><td> 39569</td><td>71    </td><td> 51   </td></tr>\n",
       "\t<tr><td> 99988</td><td>168353</td><td> 39569</td><td>71    </td><td> 51   </td></tr>\n",
       "\t<tr><td> 99989</td><td>168353</td><td> 39569</td><td>71    </td><td> 51   </td></tr>\n",
       "\t<tr><td> 99990</td><td>168353</td><td> 39569</td><td>72    </td><td> 56   </td></tr>\n",
       "\t<tr><td> 99991</td><td>168353</td><td> 39569</td><td>72    </td><td> 56   </td></tr>\n",
       "\t<tr><td> 99992</td><td>168353</td><td> 39569</td><td>72    </td><td> 56   </td></tr>\n",
       "\t<tr><td> 99993</td><td>168353</td><td> 39569</td><td>72    </td><td> 56   </td></tr>\n",
       "\t<tr><td> 99994</td><td>168353</td><td> 39569</td><td>73    </td><td> 56   </td></tr>\n",
       "\t<tr><td> 99995</td><td>168353</td><td> 39569</td><td>71    </td><td> 56   </td></tr>\n",
       "\t<tr><td> 99996</td><td>168353</td><td> 39569</td><td>72    </td><td>133   </td></tr>\n",
       "\t<tr><td> 99997</td><td>168353</td><td> 39569</td><td>73    </td><td>133   </td></tr>\n",
       "\t<tr><td> 99998</td><td>168353</td><td> 39569</td><td>73    </td><td>133   </td></tr>\n",
       "\t<tr><td> 99999</td><td>168353</td><td> 39569</td><td>56    </td><td>124   </td></tr>\n",
       "\t<tr><td>100000</td><td>168353</td><td> 39569</td><td>56    </td><td> 91   </td></tr>\n",
       "</tbody>\n",
       "</table>\n"
      ],
      "text/latex": [
       "\\begin{tabular}{r|lllll}\n",
       " id & player\\_fifa\\_api\\_id & player\\_api\\_id & overall\\_rating & gk\\_sum\\\\\n",
       "\\hline\n",
       "\t  1     & 218353 & 505942 & 67     & 43    \\\\\n",
       "\t  2     & 218353 & 505942 & 67     & 43    \\\\\n",
       "\t  3     & 218353 & 505942 & 62     & 43    \\\\\n",
       "\t  4     & 218353 & 505942 & 61     & 38    \\\\\n",
       "\t  5     & 218353 & 505942 & 61     & 38    \\\\\n",
       "\t  6     & 189615 & 155782 & 74     & 51    \\\\\n",
       "\t  7     & 189615 & 155782 & 74     & 51    \\\\\n",
       "\t  8     & 189615 & 155782 & 73     & 51    \\\\\n",
       "\t  9     & 189615 & 155782 & 73     & 51    \\\\\n",
       "\t 10     & 189615 & 155782 & 73     & 51    \\\\\n",
       "\t 11     & 189615 & 155782 & 73     & 51    \\\\\n",
       "\t 12     & 189615 & 155782 & 74     & 51    \\\\\n",
       "\t 13     & 189615 & 155782 & 73     & 51    \\\\\n",
       "\t 14     & 189615 & 155782 & 71     & 46    \\\\\n",
       "\t 15     & 189615 & 155782 & 71     & 46    \\\\\n",
       "\t 16     & 189615 & 155782 & 71     & 46    \\\\\n",
       "\t 17     & 189615 & 155782 & 70     & 46    \\\\\n",
       "\t 18     & 189615 & 155782 & 70     & 46    \\\\\n",
       "\t 19     & 189615 & 155782 & 70     & 46    \\\\\n",
       "\t 20     & 189615 & 155782 & 70     & 46    \\\\\n",
       "\t 21     & 189615 & 155782 & 70     & 46    \\\\\n",
       "\t 22     & 189615 & 155782 & 70     & 46    \\\\\n",
       "\t 23     & 189615 & 155782 & 69     & 46    \\\\\n",
       "\t 24     & 189615 & 155782 & 69     & 46    \\\\\n",
       "\t 25     & 189615 & 155782 & 69     & 46    \\\\\n",
       "\t 26     & 189615 & 155782 & 69     & 46    \\\\\n",
       "\t 27     & 189615 & 155782 & 69     & 46    \\\\\n",
       "\t 28     & 189615 & 155782 & 69     & 46    \\\\\n",
       "\t 29     & 189615 & 155782 & 69     & 46    \\\\\n",
       "\t 30     & 189615 & 155782 & 68     & 46    \\\\\n",
       "\t ... & ... & ... & ... & ...\\\\\n",
       "\t  99971 & 193416 & 185705 & 65     &  54   \\\\\n",
       "\t  99972 & 193416 & 185705 & 65     &  54   \\\\\n",
       "\t  99973 & 193416 & 185705 & 65     &  54   \\\\\n",
       "\t  99974 & 193416 & 185705 & 65     &  54   \\\\\n",
       "\t  99975 & 193416 & 185705 & 65     &  54   \\\\\n",
       "\t  99976 & 193416 & 185705 & 65     &  54   \\\\\n",
       "\t  99977 & 168353 &  39569 & 65     &  56   \\\\\n",
       "\t  99978 & 168353 &  39569 & 71     &  56   \\\\\n",
       "\t  99979 & 168353 &  39569 & 71     &  56   \\\\\n",
       "\t  99980 & 168353 &  39569 & 72     &  51   \\\\\n",
       "\t  99981 & 168353 &  39569 & 72     &  51   \\\\\n",
       "\t  99982 & 168353 &  39569 & 71     &  51   \\\\\n",
       "\t  99983 & 168353 &  39569 & 71     &  51   \\\\\n",
       "\t  99984 & 168353 &  39569 & 71     &  51   \\\\\n",
       "\t  99985 & 168353 &  39569 & 71     &  51   \\\\\n",
       "\t  99986 & 168353 &  39569 & 71     &  51   \\\\\n",
       "\t  99987 & 168353 &  39569 & 71     &  51   \\\\\n",
       "\t  99988 & 168353 &  39569 & 71     &  51   \\\\\n",
       "\t  99989 & 168353 &  39569 & 71     &  51   \\\\\n",
       "\t  99990 & 168353 &  39569 & 72     &  56   \\\\\n",
       "\t  99991 & 168353 &  39569 & 72     &  56   \\\\\n",
       "\t  99992 & 168353 &  39569 & 72     &  56   \\\\\n",
       "\t  99993 & 168353 &  39569 & 72     &  56   \\\\\n",
       "\t  99994 & 168353 &  39569 & 73     &  56   \\\\\n",
       "\t  99995 & 168353 &  39569 & 71     &  56   \\\\\n",
       "\t  99996 & 168353 &  39569 & 72     & 133   \\\\\n",
       "\t  99997 & 168353 &  39569 & 73     & 133   \\\\\n",
       "\t  99998 & 168353 &  39569 & 73     & 133   \\\\\n",
       "\t  99999 & 168353 &  39569 & 56     & 124   \\\\\n",
       "\t 100000 & 168353 &  39569 & 56     &  91   \\\\\n",
       "\\end{tabular}\n"
      ],
      "text/markdown": [
       "\n",
       "id | player_fifa_api_id | player_api_id | overall_rating | gk_sum | \n",
       "|---|---|---|---|---|---|---|---|---|---|---|---|---|---|---|---|---|---|---|---|---|---|---|---|---|---|---|---|---|---|---|---|---|---|---|---|---|---|---|---|---|---|---|---|---|---|---|---|---|---|---|---|---|---|---|---|---|---|---|---|---|\n",
       "|  1     | 218353 | 505942 | 67     | 43     | \n",
       "|  2     | 218353 | 505942 | 67     | 43     | \n",
       "|  3     | 218353 | 505942 | 62     | 43     | \n",
       "|  4     | 218353 | 505942 | 61     | 38     | \n",
       "|  5     | 218353 | 505942 | 61     | 38     | \n",
       "|  6     | 189615 | 155782 | 74     | 51     | \n",
       "|  7     | 189615 | 155782 | 74     | 51     | \n",
       "|  8     | 189615 | 155782 | 73     | 51     | \n",
       "|  9     | 189615 | 155782 | 73     | 51     | \n",
       "| 10     | 189615 | 155782 | 73     | 51     | \n",
       "| 11     | 189615 | 155782 | 73     | 51     | \n",
       "| 12     | 189615 | 155782 | 74     | 51     | \n",
       "| 13     | 189615 | 155782 | 73     | 51     | \n",
       "| 14     | 189615 | 155782 | 71     | 46     | \n",
       "| 15     | 189615 | 155782 | 71     | 46     | \n",
       "| 16     | 189615 | 155782 | 71     | 46     | \n",
       "| 17     | 189615 | 155782 | 70     | 46     | \n",
       "| 18     | 189615 | 155782 | 70     | 46     | \n",
       "| 19     | 189615 | 155782 | 70     | 46     | \n",
       "| 20     | 189615 | 155782 | 70     | 46     | \n",
       "| 21     | 189615 | 155782 | 70     | 46     | \n",
       "| 22     | 189615 | 155782 | 70     | 46     | \n",
       "| 23     | 189615 | 155782 | 69     | 46     | \n",
       "| 24     | 189615 | 155782 | 69     | 46     | \n",
       "| 25     | 189615 | 155782 | 69     | 46     | \n",
       "| 26     | 189615 | 155782 | 69     | 46     | \n",
       "| 27     | 189615 | 155782 | 69     | 46     | \n",
       "| 28     | 189615 | 155782 | 69     | 46     | \n",
       "| 29     | 189615 | 155782 | 69     | 46     | \n",
       "| 30     | 189615 | 155782 | 68     | 46     | \n",
       "| ... | ... | ... | ... | ... | \n",
       "|  99971 | 193416 | 185705 | 65     |  54    | \n",
       "|  99972 | 193416 | 185705 | 65     |  54    | \n",
       "|  99973 | 193416 | 185705 | 65     |  54    | \n",
       "|  99974 | 193416 | 185705 | 65     |  54    | \n",
       "|  99975 | 193416 | 185705 | 65     |  54    | \n",
       "|  99976 | 193416 | 185705 | 65     |  54    | \n",
       "|  99977 | 168353 |  39569 | 65     |  56    | \n",
       "|  99978 | 168353 |  39569 | 71     |  56    | \n",
       "|  99979 | 168353 |  39569 | 71     |  56    | \n",
       "|  99980 | 168353 |  39569 | 72     |  51    | \n",
       "|  99981 | 168353 |  39569 | 72     |  51    | \n",
       "|  99982 | 168353 |  39569 | 71     |  51    | \n",
       "|  99983 | 168353 |  39569 | 71     |  51    | \n",
       "|  99984 | 168353 |  39569 | 71     |  51    | \n",
       "|  99985 | 168353 |  39569 | 71     |  51    | \n",
       "|  99986 | 168353 |  39569 | 71     |  51    | \n",
       "|  99987 | 168353 |  39569 | 71     |  51    | \n",
       "|  99988 | 168353 |  39569 | 71     |  51    | \n",
       "|  99989 | 168353 |  39569 | 71     |  51    | \n",
       "|  99990 | 168353 |  39569 | 72     |  56    | \n",
       "|  99991 | 168353 |  39569 | 72     |  56    | \n",
       "|  99992 | 168353 |  39569 | 72     |  56    | \n",
       "|  99993 | 168353 |  39569 | 72     |  56    | \n",
       "|  99994 | 168353 |  39569 | 73     |  56    | \n",
       "|  99995 | 168353 |  39569 | 71     |  56    | \n",
       "|  99996 | 168353 |  39569 | 72     | 133    | \n",
       "|  99997 | 168353 |  39569 | 73     | 133    | \n",
       "|  99998 | 168353 |  39569 | 73     | 133    | \n",
       "|  99999 | 168353 |  39569 | 56     | 124    | \n",
       "| 100000 | 168353 |  39569 | 56     |  91    | \n",
       "\n",
       "\n"
      ],
      "text/plain": [
       "       id     player_fifa_api_id player_api_id overall_rating gk_sum\n",
       "1       1     218353             505942        67             43    \n",
       "2       2     218353             505942        67             43    \n",
       "3       3     218353             505942        62             43    \n",
       "4       4     218353             505942        61             38    \n",
       "5       5     218353             505942        61             38    \n",
       "6       6     189615             155782        74             51    \n",
       "7       7     189615             155782        74             51    \n",
       "8       8     189615             155782        73             51    \n",
       "9       9     189615             155782        73             51    \n",
       "10     10     189615             155782        73             51    \n",
       "11     11     189615             155782        73             51    \n",
       "12     12     189615             155782        74             51    \n",
       "13     13     189615             155782        73             51    \n",
       "14     14     189615             155782        71             46    \n",
       "15     15     189615             155782        71             46    \n",
       "16     16     189615             155782        71             46    \n",
       "17     17     189615             155782        70             46    \n",
       "18     18     189615             155782        70             46    \n",
       "19     19     189615             155782        70             46    \n",
       "20     20     189615             155782        70             46    \n",
       "21     21     189615             155782        70             46    \n",
       "22     22     189615             155782        70             46    \n",
       "23     23     189615             155782        69             46    \n",
       "24     24     189615             155782        69             46    \n",
       "25     25     189615             155782        69             46    \n",
       "26     26     189615             155782        69             46    \n",
       "27     27     189615             155782        69             46    \n",
       "28     28     189615             155782        69             46    \n",
       "29     29     189615             155782        69             46    \n",
       "30     30     189615             155782        68             46    \n",
       "...    ...    ...                ...           ...            ...   \n",
       "99971   99971 193416             185705        65              54   \n",
       "99972   99972 193416             185705        65              54   \n",
       "99973   99973 193416             185705        65              54   \n",
       "99974   99974 193416             185705        65              54   \n",
       "99975   99975 193416             185705        65              54   \n",
       "99976   99976 193416             185705        65              54   \n",
       "99977   99977 168353              39569        65              56   \n",
       "99978   99978 168353              39569        71              56   \n",
       "99979   99979 168353              39569        71              56   \n",
       "99980   99980 168353              39569        72              51   \n",
       "99981   99981 168353              39569        72              51   \n",
       "99982   99982 168353              39569        71              51   \n",
       "99983   99983 168353              39569        71              51   \n",
       "99984   99984 168353              39569        71              51   \n",
       "99985   99985 168353              39569        71              51   \n",
       "99986   99986 168353              39569        71              51   \n",
       "99987   99987 168353              39569        71              51   \n",
       "99988   99988 168353              39569        71              51   \n",
       "99989   99989 168353              39569        71              51   \n",
       "99990   99990 168353              39569        72              56   \n",
       "99991   99991 168353              39569        72              56   \n",
       "99992   99992 168353              39569        72              56   \n",
       "99993   99993 168353              39569        72              56   \n",
       "99994   99994 168353              39569        73              56   \n",
       "99995   99995 168353              39569        71              56   \n",
       "99996   99996 168353              39569        72             133   \n",
       "99997   99997 168353              39569        73             133   \n",
       "99998   99998 168353              39569        73             133   \n",
       "99999   99999 168353              39569        56             124   \n",
       "100000 100000 168353              39569        56              91   "
      ]
     },
     "metadata": {},
     "output_type": "display_data"
    }
   ],
   "source": [
    "collect(Player_test2)"
   ]
  },
  {
   "cell_type": "code",
   "execution_count": 171,
   "metadata": {
    "collapsed": true
   },
   "outputs": [],
   "source": [
    "by_ranking <- group_by(Player_test2, player_api_id)\n",
    "ranking1 <- summarise( by_ranking,\n",
    "overall_rate = max(overall_rating),\n",
    "                      gk_rate=max(gk_sum)\n",
    ")"
   ]
  },
  {
   "cell_type": "code",
   "execution_count": 172,
   "metadata": {
    "collapsed": false
   },
   "outputs": [
    {
     "data": {
      "text/plain": [
       "Source:   query [?? x 3]\n",
       "Database: sqlite 3.11.1 [database.sqlite]\n",
       "\n",
       "   player_api_id overall_rate gk_rate\n",
       "           <int>        <int>   <int>\n",
       "1           2625           63     153\n",
       "2           2752           72      53\n",
       "3           2768           75     128\n",
       "4           2770           74     148\n",
       "5           2790           73     144\n",
       "6           2796           69     340\n",
       "7           2802           82     146\n",
       "8           2805           76     141\n",
       "9           2857           72     143\n",
       "10          2862           76     146\n",
       "# ... with more rows"
      ]
     },
     "metadata": {},
     "output_type": "display_data"
    }
   ],
   "source": [
    "ranking1"
   ]
  },
  {
   "cell_type": "code",
   "execution_count": 179,
   "metadata": {
    "collapsed": false,
    "scrolled": true
   },
   "outputs": [],
   "source": [
    "Player_test4<-ranking1 %>% left_join(Player_test3, by = \"player_api_id\")"
   ]
  },
  {
   "cell_type": "code",
   "execution_count": 162,
   "metadata": {
    "collapsed": false
   },
   "outputs": [
    {
     "data": {},
     "metadata": {},
     "output_type": "display_data"
    }
   ],
   "source": [
    "by_ranking %>% inner_join(ranking, by = \"player_api_id\")"
   ]
  },
  {
   "cell_type": "code",
   "execution_count": 182,
   "metadata": {
    "collapsed": false
   },
   "outputs": [],
   "source": [
    "Player_test4<-select(Player_test4,player_api_id,overall_rate,gk_rate,id,player_name,player_fifa_api_id)"
   ]
  },
  {
   "cell_type": "code",
   "execution_count": 183,
   "metadata": {
    "collapsed": false
   },
   "outputs": [
    {
     "data": {
      "text/html": [
       "<table>\n",
       "<thead><tr><th scope=col>player_api_id</th><th scope=col>overall_rate</th><th scope=col>gk_rate</th><th scope=col>id</th><th scope=col>player_name</th><th scope=col>player_fifa_api_id</th></tr></thead>\n",
       "<tbody>\n",
       "\t<tr><td>2625             </td><td>63               </td><td>153              </td><td>8372             </td><td>Patryk Rachwal,18</td><td>148544           </td></tr>\n",
       "\t<tr><td>2752             </td><td>72               </td><td> 53              </td><td>2639             </td><td>Diego Mainz      </td><td>135819           </td></tr>\n",
       "\t<tr><td>2768             </td><td>75               </td><td>128              </td><td>5319             </td><td>Jose Dorado      </td><td>110019           </td></tr>\n",
       "\t<tr><td>2770             </td><td>74               </td><td>148              </td><td>4339             </td><td>Ignacio Gonzalez </td><td>182861           </td></tr>\n",
       "\t<tr><td>2790             </td><td>73               </td><td>144              </td><td> 306             </td><td>Alberto Rey      </td><td>110809           </td></tr>\n",
       "\t<tr><td>2796             </td><td>69               </td><td>340              </td><td>4734             </td><td>Javier Jimenez   </td><td>198735           </td></tr>\n",
       "</tbody>\n",
       "</table>\n"
      ],
      "text/latex": [
       "\\begin{tabular}{r|llllll}\n",
       " player\\_api\\_id & overall\\_rate & gk\\_rate & id & player\\_name & player\\_fifa\\_api\\_id\\\\\n",
       "\\hline\n",
       "\t 2625              & 63                & 153               & 8372              & Patryk Rachwal,18 & 148544           \\\\\n",
       "\t 2752              & 72                &  53               & 2639              & Diego Mainz       & 135819           \\\\\n",
       "\t 2768              & 75                & 128               & 5319              & Jose Dorado       & 110019           \\\\\n",
       "\t 2770              & 74                & 148               & 4339              & Ignacio Gonzalez  & 182861           \\\\\n",
       "\t 2790              & 73                & 144               &  306              & Alberto Rey       & 110809           \\\\\n",
       "\t 2796              & 69                & 340               & 4734              & Javier Jimenez    & 198735           \\\\\n",
       "\\end{tabular}\n"
      ],
      "text/markdown": [
       "\n",
       "player_api_id | overall_rate | gk_rate | id | player_name | player_fifa_api_id | \n",
       "|---|---|---|---|---|---|\n",
       "| 2625              | 63                | 153               | 8372              | Patryk Rachwal,18 | 148544            | \n",
       "| 2752              | 72                |  53               | 2639              | Diego Mainz       | 135819            | \n",
       "| 2768              | 75                | 128               | 5319              | Jose Dorado       | 110019            | \n",
       "| 2770              | 74                | 148               | 4339              | Ignacio Gonzalez  | 182861            | \n",
       "| 2790              | 73                | 144               |  306              | Alberto Rey       | 110809            | \n",
       "| 2796              | 69                | 340               | 4734              | Javier Jimenez    | 198735            | \n",
       "\n",
       "\n"
      ],
      "text/plain": [
       "  player_api_id overall_rate gk_rate id   player_name       player_fifa_api_id\n",
       "1 2625          63           153     8372 Patryk Rachwal,18 148544            \n",
       "2 2752          72            53     2639 Diego Mainz       135819            \n",
       "3 2768          75           128     5319 Jose Dorado       110019            \n",
       "4 2770          74           148     4339 Ignacio Gonzalez  182861            \n",
       "5 2790          73           144      306 Alberto Rey       110809            \n",
       "6 2796          69           340     4734 Javier Jimenez    198735            "
      ]
     },
     "metadata": {},
     "output_type": "display_data"
    }
   ],
   "source": [
    "head(collect(Player_test4))"
   ]
  },
  {
   "cell_type": "code",
   "execution_count": 202,
   "metadata": {
    "collapsed": false
   },
   "outputs": [
    {
     "data": {
      "text/html": [
       "<table>\n",
       "<thead><tr><th scope=col>id</th><th scope=col>team_api_id</th><th scope=col>team_fifa_api_id</th><th scope=col>team_long_name</th><th scope=col>team_short_name</th><th scope=col>max_build</th><th scope=col>max_chance</th><th scope=col>max_defence</th></tr></thead>\n",
       "<tbody>\n",
       "\t<tr><td>1                </td><td> 9987            </td><td>  673            </td><td>KRC Genk         </td><td>GEN              </td><td>148              </td><td>182              </td><td>205              </td></tr>\n",
       "\t<tr><td>2                </td><td> 9993            </td><td>  675            </td><td>Beerschot AC     </td><td>BAC              </td><td> NA              </td><td>185              </td><td>210              </td></tr>\n",
       "\t<tr><td>3                </td><td>10000            </td><td>15005            </td><td>SV Zulte-Waregem </td><td>ZUL              </td><td>147              </td><td>153              </td><td>200              </td></tr>\n",
       "\t<tr><td>4                </td><td> 9994            </td><td> 2007            </td><td>Sporting Lokeren </td><td>LOK              </td><td>159              </td><td>154              </td><td>200              </td></tr>\n",
       "\t<tr><td>5                </td><td> 9984            </td><td> 1750            </td><td>KSV Cercle Brugge</td><td>CEB              </td><td>145              </td><td>200              </td><td>195              </td></tr>\n",
       "\t<tr><td>6                </td><td> 8635            </td><td>  229            </td><td>RSC Anderlecht   </td><td>AND              </td><td>149              </td><td>182              </td><td>190              </td></tr>\n",
       "</tbody>\n",
       "</table>\n"
      ],
      "text/latex": [
       "\\begin{tabular}{r|llllllll}\n",
       " id & team\\_api\\_id & team\\_fifa\\_api\\_id & team\\_long\\_name & team\\_short\\_name & max\\_build & max\\_chance & max\\_defence\\\\\n",
       "\\hline\n",
       "\t 1                 &  9987             &   673             & KRC Genk          & GEN               & 148               & 182               & 205              \\\\\n",
       "\t 2                 &  9993             &   675             & Beerschot AC      & BAC               &  NA               & 185               & 210              \\\\\n",
       "\t 3                 & 10000             & 15005             & SV Zulte-Waregem  & ZUL               & 147               & 153               & 200              \\\\\n",
       "\t 4                 &  9994             &  2007             & Sporting Lokeren  & LOK               & 159               & 154               & 200              \\\\\n",
       "\t 5                 &  9984             &  1750             & KSV Cercle Brugge & CEB               & 145               & 200               & 195              \\\\\n",
       "\t 6                 &  8635             &   229             & RSC Anderlecht    & AND               & 149               & 182               & 190              \\\\\n",
       "\\end{tabular}\n"
      ],
      "text/markdown": [
       "\n",
       "id | team_api_id | team_fifa_api_id | team_long_name | team_short_name | max_build | max_chance | max_defence | \n",
       "|---|---|---|---|---|---|\n",
       "| 1                 |  9987             |   673             | KRC Genk          | GEN               | 148               | 182               | 205               | \n",
       "| 2                 |  9993             |   675             | Beerschot AC      | BAC               |  NA               | 185               | 210               | \n",
       "| 3                 | 10000             | 15005             | SV Zulte-Waregem  | ZUL               | 147               | 153               | 200               | \n",
       "| 4                 |  9994             |  2007             | Sporting Lokeren  | LOK               | 159               | 154               | 200               | \n",
       "| 5                 |  9984             |  1750             | KSV Cercle Brugge | CEB               | 145               | 200               | 195               | \n",
       "| 6                 |  8635             |   229             | RSC Anderlecht    | AND               | 149               | 182               | 190               | \n",
       "\n",
       "\n"
      ],
      "text/plain": [
       "  id team_api_id team_fifa_api_id team_long_name    team_short_name max_build\n",
       "1 1   9987         673            KRC Genk          GEN             148      \n",
       "2 2   9993         675            Beerschot AC      BAC              NA      \n",
       "3 3  10000       15005            SV Zulte-Waregem  ZUL             147      \n",
       "4 4   9994        2007            Sporting Lokeren  LOK             159      \n",
       "5 5   9984        1750            KSV Cercle Brugge CEB             145      \n",
       "6 6   8635         229            RSC Anderlecht    AND             149      \n",
       "  max_chance max_defence\n",
       "1 182        205        \n",
       "2 185        210        \n",
       "3 153        200        \n",
       "4 154        200        \n",
       "5 200        195        \n",
       "6 182        190        "
      ]
     },
     "metadata": {},
     "output_type": "display_data"
    }
   ],
   "source": [
    "head(collect(team_test4))"
   ]
  },
  {
   "cell_type": "code",
   "execution_count": 203,
   "metadata": {
    "collapsed": true
   },
   "outputs": [],
   "source": [
    "write.csv(team_test4,file=\"team_test4.csv\")"
   ]
  },
  {
   "cell_type": "code",
   "execution_count": 204,
   "metadata": {
    "collapsed": true
   },
   "outputs": [],
   "source": [
    "write.csv(Player_test4,file=\"Player_test4.csv\")"
   ]
  },
  {
   "cell_type": "code",
   "execution_count": 205,
   "metadata": {
    "collapsed": false
   },
   "outputs": [
    {
     "data": {
      "text/plain": [
       "Source:   query [?? x 3]\n",
       "Database: sqlite 3.11.1 [database.sqlite]\n",
       "\n",
       "   league_id match_api_id home_player_1\n",
       "       <int>        <int>         <int>\n",
       "1          1       492473            NA\n",
       "2          1       492474            NA\n",
       "3          1       492475            NA\n",
       "4          1       492476            NA\n",
       "5          1       492477            NA\n",
       "6          1       492478            NA\n",
       "7          1       492479            NA\n",
       "8          1       492480            NA\n",
       "9          1       492481            NA\n",
       "10         1       492564            NA\n",
       "# ... with more rows"
      ]
     },
     "metadata": {},
     "output_type": "display_data"
    }
   ],
   "source": [
    "select(Match,league_id,match_api_id,home_player_1)"
   ]
  },
  {
   "cell_type": "code",
   "execution_count": 208,
   "metadata": {
    "collapsed": false
   },
   "outputs": [
    {
     "ename": "ERROR",
     "evalue": "Error in parse(text = x, srcfile = src): <text>:1:46: unexpected ','\n1: Match_temp<-stack(Match,select=(home_player_1,\n                                                 ^\n",
     "output_type": "error",
     "traceback": [
      "Error in parse(text = x, srcfile = src): <text>:1:46: unexpected ','\n1: Match_temp<-stack(Match,select=(home_player_1,\n                                                 ^\nTraceback:\n"
     ]
    }
   ],
   "source": [
    "Match_temp<-stack(Match,select=(home_player_1, home_player_2 ,\n",
    "  home_player_3 , home_player_4 , home_player_5 ,\n",
    "   home_player_6 , home_player_7 , home_player_8 ,\n",
    "   home_player_9 , home_player_10 , home_player_11,\n",
    "   away_player_1 , away_player_2 , away_player_3 ,\n",
    "   away_player_4 , away_player_5 , away_player_6 ,\n",
    "   away_player_7 , away_player_8 , away_player_9 ,\n",
    "  away_player_10 , away_player_11 ))"
   ]
  },
  {
   "cell_type": "code",
   "execution_count": 269,
   "metadata": {
    "collapsed": false
   },
   "outputs": [],
   "source": [
    "Match_temp<-select(Match, home_player_1, home_player_2 ,\n",
    "  home_player_3 , home_player_4 , home_player_5 ,\n",
    "   home_player_6 , home_player_7 , home_player_8 ,\n",
    "   home_player_9 , home_player_10 , home_player_11,\n",
    "   away_player_1 , away_player_2 , away_player_3 ,\n",
    "   away_player_4 , away_player_5 , away_player_6 ,\n",
    "   away_player_7 , away_player_8 , away_player_9 ,\n",
    "  away_player_10 , away_player_11)"
   ]
  },
  {
   "cell_type": "code",
   "execution_count": 214,
   "metadata": {
    "collapsed": false
   },
   "outputs": [],
   "source": [
    "Match_temp<-collect(Match_temp)"
   ]
  },
  {
   "cell_type": "code",
   "execution_count": 216,
   "metadata": {
    "collapsed": false
   },
   "outputs": [],
   "source": [
    "Player_stack<-stack(Match_temp)"
   ]
  },
  {
   "cell_type": "code",
   "execution_count": 219,
   "metadata": {
    "collapsed": false
   },
   "outputs": [
    {
     "data": {
      "text/html": [
       "<table>\n",
       "<thead><tr><th scope=col>player_api_id</th><th scope=col>ind</th></tr></thead>\n",
       "<tbody>\n",
       "\t<tr><td>NA           </td><td>home_player_1</td></tr>\n",
       "\t<tr><td>NA           </td><td>home_player_1</td></tr>\n",
       "\t<tr><td>NA           </td><td>home_player_1</td></tr>\n",
       "\t<tr><td>NA           </td><td>home_player_1</td></tr>\n",
       "\t<tr><td>NA           </td><td>home_player_1</td></tr>\n",
       "\t<tr><td>NA           </td><td>home_player_1</td></tr>\n",
       "</tbody>\n",
       "</table>\n"
      ],
      "text/latex": [
       "\\begin{tabular}{r|ll}\n",
       " player\\_api\\_id & ind\\\\\n",
       "\\hline\n",
       "\t NA                & home\\_player\\_1\\\\\n",
       "\t NA                & home\\_player\\_1\\\\\n",
       "\t NA                & home\\_player\\_1\\\\\n",
       "\t NA                & home\\_player\\_1\\\\\n",
       "\t NA                & home\\_player\\_1\\\\\n",
       "\t NA                & home\\_player\\_1\\\\\n",
       "\\end{tabular}\n"
      ],
      "text/markdown": [
       "\n",
       "player_api_id | ind | \n",
       "|---|---|---|---|---|---|\n",
       "| NA            | home_player_1 | \n",
       "| NA            | home_player_1 | \n",
       "| NA            | home_player_1 | \n",
       "| NA            | home_player_1 | \n",
       "| NA            | home_player_1 | \n",
       "| NA            | home_player_1 | \n",
       "\n",
       "\n"
      ],
      "text/plain": [
       "  player_api_id ind          \n",
       "1 NA            home_player_1\n",
       "2 NA            home_player_1\n",
       "3 NA            home_player_1\n",
       "4 NA            home_player_1\n",
       "5 NA            home_player_1\n",
       "6 NA            home_player_1"
      ]
     },
     "metadata": {},
     "output_type": "display_data"
    }
   ],
   "source": [
    "head(Player_stack)"
   ]
  },
  {
   "cell_type": "code",
   "execution_count": 218,
   "metadata": {
    "collapsed": true
   },
   "outputs": [],
   "source": [
    "names(Player_stack)<-c(\"player_api_id\",\"ind\")"
   ]
  },
  {
   "cell_type": "code",
   "execution_count": 220,
   "metadata": {
    "collapsed": true
   },
   "outputs": [],
   "source": [
    "by_player_id <- group_by(Player_stack, player_api_id )\n",
    "stack_group <- summarise(by_player_id,\n",
    "  appear = n()\n",
    ")"
   ]
  },
  {
   "cell_type": "code",
   "execution_count": 225,
   "metadata": {
    "collapsed": false
   },
   "outputs": [
    {
     "data": {
      "text/html": [
       "<table>\n",
       "<thead><tr><th scope=col>player_api_id</th><th scope=col>appear</th></tr></thead>\n",
       "<tbody>\n",
       "\t<tr><td>2625</td><td>90  </td></tr>\n",
       "\t<tr><td>2752</td><td>81  </td></tr>\n",
       "\t<tr><td>2768</td><td>71  </td></tr>\n",
       "\t<tr><td>2770</td><td>16  </td></tr>\n",
       "\t<tr><td>2790</td><td>50  </td></tr>\n",
       "\t<tr><td>2796</td><td> 1  </td></tr>\n",
       "</tbody>\n",
       "</table>\n"
      ],
      "text/latex": [
       "\\begin{tabular}{r|ll}\n",
       " player\\_api\\_id & appear\\\\\n",
       "\\hline\n",
       "\t 2625 & 90  \\\\\n",
       "\t 2752 & 81  \\\\\n",
       "\t 2768 & 71  \\\\\n",
       "\t 2770 & 16  \\\\\n",
       "\t 2790 & 50  \\\\\n",
       "\t 2796 &  1  \\\\\n",
       "\\end{tabular}\n"
      ],
      "text/markdown": [
       "\n",
       "player_api_id | appear | \n",
       "|---|---|---|---|---|---|\n",
       "| 2625 | 90   | \n",
       "| 2752 | 81   | \n",
       "| 2768 | 71   | \n",
       "| 2770 | 16   | \n",
       "| 2790 | 50   | \n",
       "| 2796 |  1   | \n",
       "\n",
       "\n"
      ],
      "text/plain": [
       "  player_api_id appear\n",
       "1 2625          90    \n",
       "2 2752          81    \n",
       "3 2768          71    \n",
       "4 2770          16    \n",
       "5 2790          50    \n",
       "6 2796           1    "
      ]
     },
     "metadata": {},
     "output_type": "display_data"
    }
   ],
   "source": [
    "head(stack_group)"
   ]
  },
  {
   "cell_type": "code",
   "execution_count": 230,
   "metadata": {
    "collapsed": false
   },
   "outputs": [],
   "source": [
    "Player_test5<-Player_test4 %>% left_join(stack_group, by = \"player_api_id\")"
   ]
  },
  {
   "cell_type": "code",
   "execution_count": 229,
   "metadata": {
    "collapsed": false
   },
   "outputs": [],
   "source": [
    "Player_test4<-data.frame(Player_test4)"
   ]
  },
  {
   "cell_type": "code",
   "execution_count": 231,
   "metadata": {
    "collapsed": false
   },
   "outputs": [
    {
     "data": {
      "text/html": [
       "<table>\n",
       "<thead><tr><th scope=col>player_api_id</th><th scope=col>overall_rate</th><th scope=col>gk_rate</th><th scope=col>id</th><th scope=col>player_name</th><th scope=col>player_fifa_api_id</th><th scope=col>appear</th></tr></thead>\n",
       "<tbody>\n",
       "\t<tr><td>2625             </td><td>63               </td><td>153              </td><td>8372             </td><td>Patryk Rachwal,18</td><td>148544           </td><td>90               </td></tr>\n",
       "\t<tr><td>2752             </td><td>72               </td><td> 53              </td><td>2639             </td><td>Diego Mainz      </td><td>135819           </td><td>81               </td></tr>\n",
       "\t<tr><td>2768             </td><td>75               </td><td>128              </td><td>5319             </td><td>Jose Dorado      </td><td>110019           </td><td>71               </td></tr>\n",
       "\t<tr><td>2770             </td><td>74               </td><td>148              </td><td>4339             </td><td>Ignacio Gonzalez </td><td>182861           </td><td>16               </td></tr>\n",
       "\t<tr><td>2790             </td><td>73               </td><td>144              </td><td> 306             </td><td>Alberto Rey      </td><td>110809           </td><td>50               </td></tr>\n",
       "\t<tr><td>2796             </td><td>69               </td><td>340              </td><td>4734             </td><td>Javier Jimenez   </td><td>198735           </td><td> 1               </td></tr>\n",
       "</tbody>\n",
       "</table>\n"
      ],
      "text/latex": [
       "\\begin{tabular}{r|lllllll}\n",
       " player\\_api\\_id & overall\\_rate & gk\\_rate & id & player\\_name & player\\_fifa\\_api\\_id & appear\\\\\n",
       "\\hline\n",
       "\t 2625              & 63                & 153               & 8372              & Patryk Rachwal,18 & 148544            & 90               \\\\\n",
       "\t 2752              & 72                &  53               & 2639              & Diego Mainz       & 135819            & 81               \\\\\n",
       "\t 2768              & 75                & 128               & 5319              & Jose Dorado       & 110019            & 71               \\\\\n",
       "\t 2770              & 74                & 148               & 4339              & Ignacio Gonzalez  & 182861            & 16               \\\\\n",
       "\t 2790              & 73                & 144               &  306              & Alberto Rey       & 110809            & 50               \\\\\n",
       "\t 2796              & 69                & 340               & 4734              & Javier Jimenez    & 198735            &  1               \\\\\n",
       "\\end{tabular}\n"
      ],
      "text/markdown": [
       "\n",
       "player_api_id | overall_rate | gk_rate | id | player_name | player_fifa_api_id | appear | \n",
       "|---|---|---|---|---|---|\n",
       "| 2625              | 63                | 153               | 8372              | Patryk Rachwal,18 | 148544            | 90                | \n",
       "| 2752              | 72                |  53               | 2639              | Diego Mainz       | 135819            | 81                | \n",
       "| 2768              | 75                | 128               | 5319              | Jose Dorado       | 110019            | 71                | \n",
       "| 2770              | 74                | 148               | 4339              | Ignacio Gonzalez  | 182861            | 16                | \n",
       "| 2790              | 73                | 144               |  306              | Alberto Rey       | 110809            | 50                | \n",
       "| 2796              | 69                | 340               | 4734              | Javier Jimenez    | 198735            |  1                | \n",
       "\n",
       "\n"
      ],
      "text/plain": [
       "  player_api_id overall_rate gk_rate id   player_name       player_fifa_api_id\n",
       "1 2625          63           153     8372 Patryk Rachwal,18 148544            \n",
       "2 2752          72            53     2639 Diego Mainz       135819            \n",
       "3 2768          75           128     5319 Jose Dorado       110019            \n",
       "4 2770          74           148     4339 Ignacio Gonzalez  182861            \n",
       "5 2790          73           144      306 Alberto Rey       110809            \n",
       "6 2796          69           340     4734 Javier Jimenez    198735            \n",
       "  appear\n",
       "1 90    \n",
       "2 81    \n",
       "3 71    \n",
       "4 16    \n",
       "5 50    \n",
       "6  1    "
      ]
     },
     "metadata": {},
     "output_type": "display_data"
    }
   ],
   "source": [
    "head(Player_test5)"
   ]
  },
  {
   "cell_type": "code",
   "execution_count": 243,
   "metadata": {
    "collapsed": false
   },
   "outputs": [],
   "source": [
    "a_1<-select(Match, league_id, away_player_1 )\n",
    "a_2<-select(Match, league_id, away_player_2 )\n",
    "a_3<-select(Match, league_id, away_player_3 )\n",
    "a_4<-select(Match, league_id, away_player_4 )\n",
    "a_5<-select(Match, league_id, away_player_5 )\n",
    "a_6<-select(Match, league_id, away_player_6 )\n",
    "a_7<-select(Match, league_id, away_player_7 )\n",
    "a_8<-select(Match, league_id, away_player_8 )\n",
    "a_9<-select(Match, league_id, away_player_9 )\n",
    "a_10<-select(Match, league_id, away_player_10 )\n",
    "a_11<-select(Match, league_id, away_player_11 )"
   ]
  },
  {
   "cell_type": "code",
   "execution_count": 312,
   "metadata": {
    "collapsed": false
   },
   "outputs": [],
   "source": [
    "a<-rbind(a_1,a_2,a_3,a_4,a_5,a_6,a_7,a_8,a_9,a_10,a_11)"
   ]
  },
  {
   "cell_type": "code",
   "execution_count": 270,
   "metadata": {
    "collapsed": true
   },
   "outputs": [],
   "source": [
    "Match_temp1<-select(Match, league_id, home_player_1, home_player_2 ,\n",
    "  home_player_3 , home_player_4 , home_player_5 ,\n",
    "   home_player_6 , home_player_7 , home_player_8 ,\n",
    "   home_player_9 , home_player_10 , home_player_11,\n",
    "   away_player_1 , away_player_2 , away_player_3 ,\n",
    "   away_player_4 , away_player_5 , away_player_6 ,\n",
    "   away_player_7 , away_player_8 , away_player_9 ,\n",
    "  away_player_10 , away_player_11)"
   ]
  },
  {
   "cell_type": "code",
   "execution_count": 284,
   "metadata": {
    "collapsed": false
   },
   "outputs": [],
   "source": [
    "temp<-  left_join(Player, Match_temp1, by= c('player_api_id' = 'home_player_1','player_api_id'='home_player_2'))"
   ]
  },
  {
   "cell_type": "code",
   "execution_count": 295,
   "metadata": {
    "collapsed": false
   },
   "outputs": [],
   "source": [
    "a_1<-collect(a_1)\n",
    "a_2<-collect(a_2)\n",
    "a_3<-collect(a_3)\n",
    "a_4<-collect(a_4)\n",
    "a_5<-collect(a_5)\n",
    "a_6<-collect(a_6)\n",
    "a_7<-collect(a_7)\n",
    "a_8<-collect(a_8)\n",
    "a_9<-collect(a_9)\n",
    "a_10<-collect(a_10)\n",
    "a_11<-collect(a_11)\n",
    "h_1<-collect(h_1)\n",
    "h_2<-collect(h_2)\n",
    "h_3<-collect(h_3)\n",
    "h_4<-collect(h_4)\n",
    "h_5<-collect(h_5)\n",
    "h_6<-collect(h_6)\n",
    "h_7<-collect(h_7)\n",
    "h_8<-collect(h_8)\n",
    "h_9<-collect(h_9)\n",
    "h_10<-collect(h_10)\n",
    "h_11<-collect(h_11)"
   ]
  },
  {
   "cell_type": "code",
   "execution_count": 309,
   "metadata": {
    "collapsed": false
   },
   "outputs": [],
   "source": [
    "names(h_1)<-c(\"league_id\",\"player_api_id\")\n",
    "names(h_2)<-c(\"league_id\",\"player_api_id\")\n",
    "names(h_3)<-c(\"league_id\",\"player_api_id\")\n",
    "names(h_4)<-c(\"league_id\",\"player_api_id\")\n",
    "names(h_5)<-c(\"league_id\",\"player_api_id\")\n",
    "names(h_6)<-c(\"league_id\",\"player_api_id\")\n",
    "names(h_7)<-c(\"league_id\",\"player_api_id\")\n",
    "names(h_8)<-c(\"league_id\",\"player_api_id\")\n",
    "names(h_9)<-c(\"league_id\",\"player_api_id\")\n",
    "names(h_10)<-c(\"league_id\",\"player_api_id\")\n",
    "names(h_11)<-c(\"league_id\",\"player_api_id\")"
   ]
  },
  {
   "cell_type": "code",
   "execution_count": 292,
   "metadata": {
    "collapsed": false
   },
   "outputs": [],
   "source": [
    "h_1<-select(Match, league_id, home_player_1 )"
   ]
  },
  {
   "cell_type": "code",
   "execution_count": 313,
   "metadata": {
    "collapsed": false
   },
   "outputs": [],
   "source": [
    "temp<-rbind(h,a)"
   ]
  },
  {
   "cell_type": "code",
   "execution_count": 314,
   "metadata": {
    "collapsed": false
   },
   "outputs": [
    {
     "data": {
      "text/html": [
       "<table>\n",
       "<thead><tr><th scope=col>league_id</th><th scope=col>player_api_id</th></tr></thead>\n",
       "<tbody>\n",
       "\t<tr><td>1 </td><td>NA</td></tr>\n",
       "\t<tr><td>1 </td><td>NA</td></tr>\n",
       "\t<tr><td>1 </td><td>NA</td></tr>\n",
       "\t<tr><td>1 </td><td>NA</td></tr>\n",
       "\t<tr><td>1 </td><td>NA</td></tr>\n",
       "\t<tr><td>1 </td><td>NA</td></tr>\n",
       "</tbody>\n",
       "</table>\n"
      ],
      "text/latex": [
       "\\begin{tabular}{r|ll}\n",
       " league\\_id & player\\_api\\_id\\\\\n",
       "\\hline\n",
       "\t 1  & NA\\\\\n",
       "\t 1  & NA\\\\\n",
       "\t 1  & NA\\\\\n",
       "\t 1  & NA\\\\\n",
       "\t 1  & NA\\\\\n",
       "\t 1  & NA\\\\\n",
       "\\end{tabular}\n"
      ],
      "text/markdown": [
       "\n",
       "league_id | player_api_id | \n",
       "|---|---|---|---|---|---|\n",
       "| 1  | NA | \n",
       "| 1  | NA | \n",
       "| 1  | NA | \n",
       "| 1  | NA | \n",
       "| 1  | NA | \n",
       "| 1  | NA | \n",
       "\n",
       "\n"
      ],
      "text/plain": [
       "  league_id player_api_id\n",
       "1 1         NA           \n",
       "2 1         NA           \n",
       "3 1         NA           \n",
       "4 1         NA           \n",
       "5 1         NA           \n",
       "6 1         NA           "
      ]
     },
     "metadata": {},
     "output_type": "display_data"
    }
   ],
   "source": [
    "head(temp)"
   ]
  },
  {
   "cell_type": "code",
   "execution_count": 316,
   "metadata": {
    "collapsed": false
   },
   "outputs": [],
   "source": [
    "write.csv(Player_test5,\"Player_test5.csv\")"
   ]
  },
  {
   "cell_type": "code",
   "execution_count": 317,
   "metadata": {
    "collapsed": true
   },
   "outputs": [],
   "source": [
    "temp2<-unique(temp)"
   ]
  },
  {
   "cell_type": "code",
   "execution_count": 318,
   "metadata": {
    "collapsed": true
   },
   "outputs": [],
   "source": [
    "by_league <- group_by(temp2, player_api_id)\n",
    "league_1 <- summarise(by_league,\n",
    "  league = n()\n",
    ")"
   ]
  },
  {
   "cell_type": "code",
   "execution_count": 319,
   "metadata": {
    "collapsed": false
   },
   "outputs": [
    {
     "data": {
      "text/html": [
       "<table>\n",
       "<thead><tr><th scope=col>player_api_id</th><th scope=col>league</th></tr></thead>\n",
       "<tbody>\n",
       "\t<tr><td>2625</td><td>1   </td></tr>\n",
       "\t<tr><td>2752</td><td>1   </td></tr>\n",
       "\t<tr><td>2768</td><td>1   </td></tr>\n",
       "\t<tr><td>2770</td><td>2   </td></tr>\n",
       "\t<tr><td>2790</td><td>1   </td></tr>\n",
       "\t<tr><td>2796</td><td>1   </td></tr>\n",
       "</tbody>\n",
       "</table>\n"
      ],
      "text/latex": [
       "\\begin{tabular}{r|ll}\n",
       " player\\_api\\_id & league\\\\\n",
       "\\hline\n",
       "\t 2625 & 1   \\\\\n",
       "\t 2752 & 1   \\\\\n",
       "\t 2768 & 1   \\\\\n",
       "\t 2770 & 2   \\\\\n",
       "\t 2790 & 1   \\\\\n",
       "\t 2796 & 1   \\\\\n",
       "\\end{tabular}\n"
      ],
      "text/markdown": [
       "\n",
       "player_api_id | league | \n",
       "|---|---|---|---|---|---|\n",
       "| 2625 | 1    | \n",
       "| 2752 | 1    | \n",
       "| 2768 | 1    | \n",
       "| 2770 | 2    | \n",
       "| 2790 | 1    | \n",
       "| 2796 | 1    | \n",
       "\n",
       "\n"
      ],
      "text/plain": [
       "  player_api_id league\n",
       "1 2625          1     \n",
       "2 2752          1     \n",
       "3 2768          1     \n",
       "4 2770          2     \n",
       "5 2790          1     \n",
       "6 2796          1     "
      ]
     },
     "metadata": {},
     "output_type": "display_data"
    }
   ],
   "source": [
    "head(league_1)"
   ]
  },
  {
   "cell_type": "code",
   "execution_count": 321,
   "metadata": {
    "collapsed": false
   },
   "outputs": [],
   "source": [
    "Player_test6<-Player_test5 %>% left_join(league_1, by = \"player_api_id\")"
   ]
  },
  {
   "cell_type": "code",
   "execution_count": 322,
   "metadata": {
    "collapsed": false
   },
   "outputs": [
    {
     "data": {
      "text/html": [
       "<table>\n",
       "<thead><tr><th scope=col>player_api_id</th><th scope=col>overall_rate</th><th scope=col>gk_rate</th><th scope=col>id</th><th scope=col>player_name</th><th scope=col>player_fifa_api_id</th><th scope=col>appear</th><th scope=col>league</th></tr></thead>\n",
       "<tbody>\n",
       "\t<tr><td>2625             </td><td>63               </td><td>153              </td><td>8372             </td><td>Patryk Rachwal,18</td><td>148544           </td><td>90               </td><td>1                </td></tr>\n",
       "\t<tr><td>2752             </td><td>72               </td><td> 53              </td><td>2639             </td><td>Diego Mainz      </td><td>135819           </td><td>81               </td><td>1                </td></tr>\n",
       "\t<tr><td>2768             </td><td>75               </td><td>128              </td><td>5319             </td><td>Jose Dorado      </td><td>110019           </td><td>71               </td><td>1                </td></tr>\n",
       "\t<tr><td>2770             </td><td>74               </td><td>148              </td><td>4339             </td><td>Ignacio Gonzalez </td><td>182861           </td><td>16               </td><td>2                </td></tr>\n",
       "\t<tr><td>2790             </td><td>73               </td><td>144              </td><td> 306             </td><td>Alberto Rey      </td><td>110809           </td><td>50               </td><td>1                </td></tr>\n",
       "\t<tr><td>2796             </td><td>69               </td><td>340              </td><td>4734             </td><td>Javier Jimenez   </td><td>198735           </td><td> 1               </td><td>1                </td></tr>\n",
       "</tbody>\n",
       "</table>\n"
      ],
      "text/latex": [
       "\\begin{tabular}{r|llllllll}\n",
       " player\\_api\\_id & overall\\_rate & gk\\_rate & id & player\\_name & player\\_fifa\\_api\\_id & appear & league\\\\\n",
       "\\hline\n",
       "\t 2625              & 63                & 153               & 8372              & Patryk Rachwal,18 & 148544            & 90                & 1                \\\\\n",
       "\t 2752              & 72                &  53               & 2639              & Diego Mainz       & 135819            & 81                & 1                \\\\\n",
       "\t 2768              & 75                & 128               & 5319              & Jose Dorado       & 110019            & 71                & 1                \\\\\n",
       "\t 2770              & 74                & 148               & 4339              & Ignacio Gonzalez  & 182861            & 16                & 2                \\\\\n",
       "\t 2790              & 73                & 144               &  306              & Alberto Rey       & 110809            & 50                & 1                \\\\\n",
       "\t 2796              & 69                & 340               & 4734              & Javier Jimenez    & 198735            &  1                & 1                \\\\\n",
       "\\end{tabular}\n"
      ],
      "text/markdown": [
       "\n",
       "player_api_id | overall_rate | gk_rate | id | player_name | player_fifa_api_id | appear | league | \n",
       "|---|---|---|---|---|---|\n",
       "| 2625              | 63                | 153               | 8372              | Patryk Rachwal,18 | 148544            | 90                | 1                 | \n",
       "| 2752              | 72                |  53               | 2639              | Diego Mainz       | 135819            | 81                | 1                 | \n",
       "| 2768              | 75                | 128               | 5319              | Jose Dorado       | 110019            | 71                | 1                 | \n",
       "| 2770              | 74                | 148               | 4339              | Ignacio Gonzalez  | 182861            | 16                | 2                 | \n",
       "| 2790              | 73                | 144               |  306              | Alberto Rey       | 110809            | 50                | 1                 | \n",
       "| 2796              | 69                | 340               | 4734              | Javier Jimenez    | 198735            |  1                | 1                 | \n",
       "\n",
       "\n"
      ],
      "text/plain": [
       "  player_api_id overall_rate gk_rate id   player_name       player_fifa_api_id\n",
       "1 2625          63           153     8372 Patryk Rachwal,18 148544            \n",
       "2 2752          72            53     2639 Diego Mainz       135819            \n",
       "3 2768          75           128     5319 Jose Dorado       110019            \n",
       "4 2770          74           148     4339 Ignacio Gonzalez  182861            \n",
       "5 2790          73           144      306 Alberto Rey       110809            \n",
       "6 2796          69           340     4734 Javier Jimenez    198735            \n",
       "  appear league\n",
       "1 90     1     \n",
       "2 81     1     \n",
       "3 71     1     \n",
       "4 16     2     \n",
       "5 50     1     \n",
       "6  1     1     "
      ]
     },
     "metadata": {},
     "output_type": "display_data"
    }
   ],
   "source": [
    "head(Player_test6)"
   ]
  },
  {
   "cell_type": "code",
   "execution_count": 323,
   "metadata": {
    "collapsed": true
   },
   "outputs": [],
   "source": [
    "write.csv(Player_test6,file=\"Players.csv\")"
   ]
  },
  {
   "cell_type": "code",
   "execution_count": 324,
   "metadata": {
    "collapsed": true
   },
   "outputs": [],
   "source": [
    "Player_test7<-select(Player_test6,player_api_id,overall_rate,gk_rate,player_name,appear,league)"
   ]
  },
  {
   "cell_type": "code",
   "execution_count": 326,
   "metadata": {
    "collapsed": false
   },
   "outputs": [],
   "source": [
    "write.csv(Player_test7,file=\"Players_1.csv\")"
   ]
  },
  {
   "cell_type": "code",
   "execution_count": 329,
   "metadata": {
    "collapsed": false
   },
   "outputs": [],
   "source": [
    "t1<-select(Match,home_team_api_id,home_team_goal)\n",
    "t2<-select(Match,away_team_api_id,away_team_goal)\n",
    "t1<-collect(t1)\n",
    "t2<-collect(t2)\n",
    "names(t1)<-c(\"team_api_id\",\"no_goal\")\n",
    "names(t2)<-c(\"team_api_id\",\"no_goal\")\n",
    "goal<-rbind(t1,t2)"
   ]
  },
  {
   "cell_type": "code",
   "execution_count": 330,
   "metadata": {
    "collapsed": true
   },
   "outputs": [],
   "source": [
    "by_goals <- group_by(goal, team_api_id)\n",
    "goal_temp <- summarise(by_goals,\n",
    "  goal = sum(no_goal)\n",
    ")"
   ]
  },
  {
   "cell_type": "code",
   "execution_count": 331,
   "metadata": {
    "collapsed": false
   },
   "outputs": [
    {
     "data": {
      "text/html": [
       "<table>\n",
       "<thead><tr><th scope=col>team_api_id</th><th scope=col>goal</th></tr></thead>\n",
       "<tbody>\n",
       "\t<tr><td>1601</td><td>280 </td></tr>\n",
       "\t<tr><td>1773</td><td>126 </td></tr>\n",
       "\t<tr><td>1957</td><td>287 </td></tr>\n",
       "\t<tr><td>2033</td><td>138 </td></tr>\n",
       "\t<tr><td>2182</td><td>372 </td></tr>\n",
       "\t<tr><td>2183</td><td>184 </td></tr>\n",
       "</tbody>\n",
       "</table>\n"
      ],
      "text/latex": [
       "\\begin{tabular}{r|ll}\n",
       " team\\_api\\_id & goal\\\\\n",
       "\\hline\n",
       "\t 1601 & 280 \\\\\n",
       "\t 1773 & 126 \\\\\n",
       "\t 1957 & 287 \\\\\n",
       "\t 2033 & 138 \\\\\n",
       "\t 2182 & 372 \\\\\n",
       "\t 2183 & 184 \\\\\n",
       "\\end{tabular}\n"
      ],
      "text/markdown": [
       "\n",
       "team_api_id | goal | \n",
       "|---|---|---|---|---|---|\n",
       "| 1601 | 280  | \n",
       "| 1773 | 126  | \n",
       "| 1957 | 287  | \n",
       "| 2033 | 138  | \n",
       "| 2182 | 372  | \n",
       "| 2183 | 184  | \n",
       "\n",
       "\n"
      ],
      "text/plain": [
       "  team_api_id goal\n",
       "1 1601        280 \n",
       "2 1773        126 \n",
       "3 1957        287 \n",
       "4 2033        138 \n",
       "5 2182        372 \n",
       "6 2183        184 "
      ]
     },
     "metadata": {},
     "output_type": "display_data"
    }
   ],
   "source": [
    "head(goal_temp)"
   ]
  },
  {
   "cell_type": "code",
   "execution_count": 332,
   "metadata": {
    "collapsed": false
   },
   "outputs": [
    {
     "data": {
      "text/plain": [
       "Source:   query [?? x 8]\n",
       "Database: sqlite 3.11.1 [database.sqlite]\n",
       "\n",
       "     id team_api_id team_fifa_api_id    team_long_name team_short_name\n",
       "  <int>       <int>            <int>             <chr>           <chr>\n",
       "1     1        9987              673          KRC Genk             GEN\n",
       "2     2        9993              675      Beerschot AC             BAC\n",
       "3     3       10000            15005  SV Zulte-Waregem             ZUL\n",
       "4     4        9994             2007  Sporting Lokeren             LOK\n",
       "5     5        9984             1750 KSV Cercle Brugge             CEB\n",
       "6     6        8635              229    RSC Anderlecht             AND\n",
       "# ... with 3 more variables: max_build <int>, max_chance <int>,\n",
       "#   max_defence <int>"
      ]
     },
     "metadata": {},
     "output_type": "display_data"
    }
   ],
   "source": [
    "head(team_test4)"
   ]
  },
  {
   "cell_type": "code",
   "execution_count": 335,
   "metadata": {
    "collapsed": false
   },
   "outputs": [],
   "source": [
    "team_test5<-team_test4_df %>% left_join(goal_temp, by = \"team_api_id\")"
   ]
  },
  {
   "cell_type": "code",
   "execution_count": 334,
   "metadata": {
    "collapsed": true
   },
   "outputs": [],
   "source": [
    "team_test4_df<-collect(team_test4)"
   ]
  },
  {
   "cell_type": "code",
   "execution_count": 336,
   "metadata": {
    "collapsed": false
   },
   "outputs": [
    {
     "data": {
      "text/html": [
       "<table>\n",
       "<thead><tr><th scope=col>id</th><th scope=col>team_api_id</th><th scope=col>team_fifa_api_id</th><th scope=col>team_long_name</th><th scope=col>team_short_name</th><th scope=col>max_build</th><th scope=col>max_chance</th><th scope=col>max_defence</th><th scope=col>goal</th></tr></thead>\n",
       "<tbody>\n",
       "\t<tr><td>1                </td><td> 9987            </td><td>  673            </td><td>KRC Genk         </td><td>GEN              </td><td>148              </td><td>182              </td><td>205              </td><td>348              </td></tr>\n",
       "\t<tr><td>2                </td><td> 9993            </td><td>  675            </td><td>Beerschot AC     </td><td>BAC              </td><td> NA              </td><td>185              </td><td>210              </td><td>174              </td></tr>\n",
       "\t<tr><td>3                </td><td>10000            </td><td>15005            </td><td>SV Zulte-Waregem </td><td>ZUL              </td><td>147              </td><td>153              </td><td>200              </td><td>306              </td></tr>\n",
       "\t<tr><td>4                </td><td> 9994            </td><td> 2007            </td><td>Sporting Lokeren </td><td>LOK              </td><td>159              </td><td>154              </td><td>200              </td><td>279              </td></tr>\n",
       "\t<tr><td>5                </td><td> 9984            </td><td> 1750            </td><td>KSV Cercle Brugge</td><td>CEB              </td><td>145              </td><td>200              </td><td>195              </td><td>213              </td></tr>\n",
       "\t<tr><td>6                </td><td> 8635            </td><td>  229            </td><td>RSC Anderlecht   </td><td>AND              </td><td>149              </td><td>182              </td><td>190              </td><td>427              </td></tr>\n",
       "</tbody>\n",
       "</table>\n"
      ],
      "text/latex": [
       "\\begin{tabular}{r|lllllllll}\n",
       " id & team\\_api\\_id & team\\_fifa\\_api\\_id & team\\_long\\_name & team\\_short\\_name & max\\_build & max\\_chance & max\\_defence & goal\\\\\n",
       "\\hline\n",
       "\t 1                 &  9987             &   673             & KRC Genk          & GEN               & 148               & 182               & 205               & 348              \\\\\n",
       "\t 2                 &  9993             &   675             & Beerschot AC      & BAC               &  NA               & 185               & 210               & 174              \\\\\n",
       "\t 3                 & 10000             & 15005             & SV Zulte-Waregem  & ZUL               & 147               & 153               & 200               & 306              \\\\\n",
       "\t 4                 &  9994             &  2007             & Sporting Lokeren  & LOK               & 159               & 154               & 200               & 279              \\\\\n",
       "\t 5                 &  9984             &  1750             & KSV Cercle Brugge & CEB               & 145               & 200               & 195               & 213              \\\\\n",
       "\t 6                 &  8635             &   229             & RSC Anderlecht    & AND               & 149               & 182               & 190               & 427              \\\\\n",
       "\\end{tabular}\n"
      ],
      "text/markdown": [
       "\n",
       "id | team_api_id | team_fifa_api_id | team_long_name | team_short_name | max_build | max_chance | max_defence | goal | \n",
       "|---|---|---|---|---|---|\n",
       "| 1                 |  9987             |   673             | KRC Genk          | GEN               | 148               | 182               | 205               | 348               | \n",
       "| 2                 |  9993             |   675             | Beerschot AC      | BAC               |  NA               | 185               | 210               | 174               | \n",
       "| 3                 | 10000             | 15005             | SV Zulte-Waregem  | ZUL               | 147               | 153               | 200               | 306               | \n",
       "| 4                 |  9994             |  2007             | Sporting Lokeren  | LOK               | 159               | 154               | 200               | 279               | \n",
       "| 5                 |  9984             |  1750             | KSV Cercle Brugge | CEB               | 145               | 200               | 195               | 213               | \n",
       "| 6                 |  8635             |   229             | RSC Anderlecht    | AND               | 149               | 182               | 190               | 427               | \n",
       "\n",
       "\n"
      ],
      "text/plain": [
       "  id team_api_id team_fifa_api_id team_long_name    team_short_name max_build\n",
       "1 1   9987         673            KRC Genk          GEN             148      \n",
       "2 2   9993         675            Beerschot AC      BAC              NA      \n",
       "3 3  10000       15005            SV Zulte-Waregem  ZUL             147      \n",
       "4 4   9994        2007            Sporting Lokeren  LOK             159      \n",
       "5 5   9984        1750            KSV Cercle Brugge CEB             145      \n",
       "6 6   8635         229            RSC Anderlecht    AND             149      \n",
       "  max_chance max_defence goal\n",
       "1 182        205         348 \n",
       "2 185        210         174 \n",
       "3 153        200         306 \n",
       "4 154        200         279 \n",
       "5 200        195         213 \n",
       "6 182        190         427 "
      ]
     },
     "metadata": {},
     "output_type": "display_data"
    }
   ],
   "source": [
    "head(team_test5)"
   ]
  },
  {
   "cell_type": "code",
   "execution_count": 337,
   "metadata": {
    "collapsed": true
   },
   "outputs": [],
   "source": [
    "write.csv(team_test5,file=\"Team.csv\")"
   ]
  },
  {
   "cell_type": "code",
   "execution_count": null,
   "metadata": {
    "collapsed": true
   },
   "outputs": [],
   "source": []
  }
 ],
 "metadata": {
  "anaconda-cloud": {},
  "kernelspec": {
   "display_name": "R 3.3",
   "language": "R",
   "name": "ir33"
  },
  "language_info": {
   "codemirror_mode": "r",
   "file_extension": ".r",
   "mimetype": "text/x-r-source",
   "name": "R",
   "pygments_lexer": "r",
   "version": "3.3.1"
  }
 },
 "nbformat": 4,
 "nbformat_minor": 0
}
