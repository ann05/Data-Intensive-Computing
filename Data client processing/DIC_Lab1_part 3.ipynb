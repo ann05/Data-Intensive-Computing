{
 "cells": [
  {
   "cell_type": "code",
   "execution_count": 3,
   "metadata": {
    "collapsed": false
   },
   "outputs": [
    {
     "ename": "ERROR",
     "evalue": "Error in eval(expr, envir, enclos): could not find function \"availableTrendLocations\"\n",
     "output_type": "error",
     "traceback": [
      "Error in eval(expr, envir, enclos): could not find function \"availableTrendLocations\"\nTraceback:\n"
     ]
    }
   ],
   "source": [
    "avail_trends=availableTrendLocations()"
   ]
  },
  {
   "cell_type": "code",
   "execution_count": 4,
   "metadata": {
    "collapsed": false
   },
   "outputs": [
    {
     "ename": "ERROR",
     "evalue": "Error in eval(expr, envir, enclos): could not find function \"setup_twitter_oauth\"\n",
     "output_type": "error",
     "traceback": [
      "Error in eval(expr, envir, enclos): could not find function \"setup_twitter_oauth\"\nTraceback:\n"
     ]
    }
   ],
   "source": [
    "setup_twitter_oauth(\"dIhjRcszok2R3LyK0VgYSded8\",\"IxujimHa6JJcWS8mzfC57i9GbgQSc7qst49Fvqu0aglyuykecQ\",\"2493349752-ao5qcIqhAga9jdk2N6RJTxeRIuQXaFwRk9RUhRb\",\"T0sYiVKJQsYRShQopO1Kvqwbr7Bx0Ky3DXs8kdRuxEUTZ\")"
   ]
  },
  {
   "cell_type": "code",
   "execution_count": 5,
   "metadata": {
    "collapsed": false
   },
   "outputs": [
    {
     "name": "stderr",
     "output_type": "stream",
     "text": [
      "Warning message:\n",
      "\"package 'twitteR' was built under R version 3.3.2\""
     ]
    }
   ],
   "source": [
    "library('twitteR')"
   ]
  },
  {
   "cell_type": "code",
   "execution_count": 6,
   "metadata": {
    "collapsed": false
   },
   "outputs": [
    {
     "name": "stdout",
     "output_type": "stream",
     "text": [
      "[1] \"Using direct authentication\"\n"
     ]
    }
   ],
   "source": [
    "setup_twitter_oauth(\"dIhjRcszok2R3LyK0VgYSded8\",\"IxujimHa6JJcWS8mzfC57i9GbgQSc7qst49Fvqu0aglyuykecQ\",\"2493349752-ao5qcIqhAga9jdk2N6RJTxeRIuQXaFwRk9RUhRb\",\"T0sYiVKJQsYRShQopO1Kvqwbr7Bx0Ky3DXs8kdRuxEUTZ\")"
   ]
  },
  {
   "cell_type": "code",
   "execution_count": 8,
   "metadata": {
    "collapsed": false
   },
   "outputs": [],
   "source": [
    "avail_trends=availableTrendLocations()"
   ]
  },
  {
   "cell_type": "code",
   "execution_count": 9,
   "metadata": {
    "collapsed": false
   },
   "outputs": [
    {
     "data": {
      "text/html": [
       "<table>\n",
       "<thead><tr><th scope=col>name</th><th scope=col>country</th><th scope=col>woeid</th></tr></thead>\n",
       "<tbody>\n",
       "\t<tr><td>Worldwide     </td><td>              </td><td>1             </td></tr>\n",
       "\t<tr><td>Winnipeg      </td><td>Canada        </td><td>2972          </td></tr>\n",
       "\t<tr><td>Ottawa        </td><td>Canada        </td><td>3369          </td></tr>\n",
       "\t<tr><td>Quebec        </td><td>Canada        </td><td>3444          </td></tr>\n",
       "\t<tr><td>Montreal      </td><td>Canada        </td><td>3534          </td></tr>\n",
       "\t<tr><td>Toronto       </td><td>Canada        </td><td>4118          </td></tr>\n",
       "\t<tr><td>Edmonton      </td><td>Canada        </td><td>8676          </td></tr>\n",
       "\t<tr><td>Calgary       </td><td>Canada        </td><td>8775          </td></tr>\n",
       "\t<tr><td>Vancouver     </td><td>Canada        </td><td>9807          </td></tr>\n",
       "\t<tr><td>Birmingham    </td><td>United Kingdom</td><td>12723         </td></tr>\n",
       "</tbody>\n",
       "</table>\n"
      ],
      "text/latex": [
       "\\begin{tabular}{r|lll}\n",
       " name & country & woeid\\\\\n",
       "\\hline\n",
       "\t Worldwide      &                & 1             \\\\\n",
       "\t Winnipeg       & Canada         & 2972          \\\\\n",
       "\t Ottawa         & Canada         & 3369          \\\\\n",
       "\t Quebec         & Canada         & 3444          \\\\\n",
       "\t Montreal       & Canada         & 3534          \\\\\n",
       "\t Toronto        & Canada         & 4118          \\\\\n",
       "\t Edmonton       & Canada         & 8676          \\\\\n",
       "\t Calgary        & Canada         & 8775          \\\\\n",
       "\t Vancouver      & Canada         & 9807          \\\\\n",
       "\t Birmingham     & United Kingdom & 12723         \\\\\n",
       "\\end{tabular}\n"
      ],
      "text/markdown": [
       "\n",
       "name | country | woeid | \n",
       "|---|---|---|---|---|---|---|---|---|---|\n",
       "| Worldwide      |                | 1              | \n",
       "| Winnipeg       | Canada         | 2972           | \n",
       "| Ottawa         | Canada         | 3369           | \n",
       "| Quebec         | Canada         | 3444           | \n",
       "| Montreal       | Canada         | 3534           | \n",
       "| Toronto        | Canada         | 4118           | \n",
       "| Edmonton       | Canada         | 8676           | \n",
       "| Calgary        | Canada         | 8775           | \n",
       "| Vancouver      | Canada         | 9807           | \n",
       "| Birmingham     | United Kingdom | 12723          | \n",
       "\n",
       "\n"
      ],
      "text/plain": [
       "   name       country        woeid\n",
       "1  Worldwide                 1    \n",
       "2  Winnipeg   Canada         2972 \n",
       "3  Ottawa     Canada         3369 \n",
       "4  Quebec     Canada         3444 \n",
       "5  Montreal   Canada         3534 \n",
       "6  Toronto    Canada         4118 \n",
       "7  Edmonton   Canada         8676 \n",
       "8  Calgary    Canada         8775 \n",
       "9  Vancouver  Canada         9807 \n",
       "10 Birmingham United Kingdom 12723"
      ]
     },
     "metadata": {},
     "output_type": "display_data"
    }
   ],
   "source": [
    "head(avail_trends,10)"
   ]
  },
  {
   "cell_type": "code",
   "execution_count": 10,
   "metadata": {
    "collapsed": true
   },
   "outputs": [],
   "source": [
    "trends=getTrends(4118)"
   ]
  },
  {
   "cell_type": "code",
   "execution_count": 11,
   "metadata": {
    "collapsed": false
   },
   "outputs": [
    {
     "data": {
      "text/html": [
       "<table>\n",
       "<thead><tr><th scope=col>name</th><th scope=col>url</th><th scope=col>query</th><th scope=col>woeid</th></tr></thead>\n",
       "<tbody>\n",
       "\t<tr><td>Jamal Murray                                  </td><td>http://twitter.com/search?q=%22Jamal+Murray%22</td><td>%22Jamal+Murray%22                            </td><td>4118                                          </td></tr>\n",
       "\t<tr><td>#NBACelebGame                                 </td><td>http://twitter.com/search?q=%23NBACelebGame   </td><td>%23NBACelebGame                               </td><td>4118                                          </td></tr>\n",
       "\t<tr><td>#BlueJackets                                  </td><td>http://twitter.com/search?q=%23BlueJackets    </td><td>%23BlueJackets                                </td><td>4118                                          </td></tr>\n",
       "\t<tr><td>Owen Sound                                    </td><td>http://twitter.com/search?q=%22Owen+Sound%22  </td><td>%22Owen+Sound%22                              </td><td>4118                                          </td></tr>\n",
       "\t<tr><td>#CanM20                                       </td><td>http://twitter.com/search?q=%23CanM20         </td><td>%23CanM20                                     </td><td>4118                                          </td></tr>\n",
       "\t<tr><td>Kyrie Irving                                  </td><td>http://twitter.com/search?q=%22Kyrie+Irving%22</td><td>%22Kyrie+Irving%22                            </td><td>4118                                          </td></tr>\n",
       "</tbody>\n",
       "</table>\n"
      ],
      "text/latex": [
       "\\begin{tabular}{r|llll}\n",
       " name & url & query & woeid\\\\\n",
       "\\hline\n",
       "\t Jamal Murray                                       & http://twitter.com/search?q=\\%22Jamal+Murray\\%22 & \\%22Jamal+Murray\\%22                             & 4118                                              \\\\\n",
       "\t \\#NBACelebGame                                  & http://twitter.com/search?q=\\%23NBACelebGame    & \\%23NBACelebGame                                & 4118                                            \\\\\n",
       "\t \\#BlueJackets                                   & http://twitter.com/search?q=\\%23BlueJackets     & \\%23BlueJackets                                 & 4118                                            \\\\\n",
       "\t Owen Sound                                         & http://twitter.com/search?q=\\%22Owen+Sound\\%22   & \\%22Owen+Sound\\%22                               & 4118                                              \\\\\n",
       "\t \\#CanM20                                        & http://twitter.com/search?q=\\%23CanM20          & \\%23CanM20                                      & 4118                                            \\\\\n",
       "\t Kyrie Irving                                       & http://twitter.com/search?q=\\%22Kyrie+Irving\\%22 & \\%22Kyrie+Irving\\%22                             & 4118                                              \\\\\n",
       "\\end{tabular}\n"
      ],
      "text/markdown": [
       "\n",
       "name | url | query | woeid | \n",
       "|---|---|---|---|---|---|\n",
       "| Jamal Murray                                   | http://twitter.com/search?q=%22Jamal+Murray%22 | %22Jamal+Murray%22                             | 4118                                           | \n",
       "| #NBACelebGame                                  | http://twitter.com/search?q=%23NBACelebGame    | %23NBACelebGame                                | 4118                                           | \n",
       "| #BlueJackets                                   | http://twitter.com/search?q=%23BlueJackets     | %23BlueJackets                                 | 4118                                           | \n",
       "| Owen Sound                                     | http://twitter.com/search?q=%22Owen+Sound%22   | %22Owen+Sound%22                               | 4118                                           | \n",
       "| #CanM20                                        | http://twitter.com/search?q=%23CanM20          | %23CanM20                                      | 4118                                           | \n",
       "| Kyrie Irving                                   | http://twitter.com/search?q=%22Kyrie+Irving%22 | %22Kyrie+Irving%22                             | 4118                                           | \n",
       "\n",
       "\n"
      ],
      "text/plain": [
       "  name          url                                           \n",
       "1 Jamal Murray  http://twitter.com/search?q=%22Jamal+Murray%22\n",
       "2 #NBACelebGame http://twitter.com/search?q=%23NBACelebGame   \n",
       "3 #BlueJackets  http://twitter.com/search?q=%23BlueJackets    \n",
       "4 Owen Sound    http://twitter.com/search?q=%22Owen+Sound%22  \n",
       "5 #CanM20       http://twitter.com/search?q=%23CanM20         \n",
       "6 Kyrie Irving  http://twitter.com/search?q=%22Kyrie+Irving%22\n",
       "  query              woeid\n",
       "1 %22Jamal+Murray%22 4118 \n",
       "2 %23NBACelebGame    4118 \n",
       "3 %23BlueJackets     4118 \n",
       "4 %22Owen+Sound%22   4118 \n",
       "5 %23CanM20          4118 \n",
       "6 %22Kyrie+Irving%22 4118 "
      ]
     },
     "metadata": {},
     "output_type": "display_data"
    }
   ],
   "source": [
    "head(trends)"
   ]
  },
  {
   "cell_type": "code",
   "execution_count": 12,
   "metadata": {
    "collapsed": true
   },
   "outputs": [],
   "source": [
    "summary<-trends$name"
   ]
  },
  {
   "cell_type": "code",
   "execution_count": 13,
   "metadata": {
    "collapsed": false
   },
   "outputs": [
    {
     "data": {
      "text/html": [
       "<ol class=list-inline>\n",
       "\t<li>'Jamal Murray'</li>\n",
       "\t<li>'#NBACelebGame'</li>\n",
       "\t<li>'#BlueJackets'</li>\n",
       "\t<li>'Owen Sound'</li>\n",
       "\t<li>'#CanM20'</li>\n",
       "\t<li>'Kyrie Irving'</li>\n",
       "</ol>\n"
      ],
      "text/latex": [
       "\\begin{enumerate*}\n",
       "\\item 'Jamal Murray'\n",
       "\\item '\\#NBACelebGame'\n",
       "\\item '\\#BlueJackets'\n",
       "\\item 'Owen Sound'\n",
       "\\item '\\#CanM20'\n",
       "\\item 'Kyrie Irving'\n",
       "\\end{enumerate*}\n"
      ],
      "text/markdown": [
       "1. 'Jamal Murray'\n",
       "2. '#NBACelebGame'\n",
       "3. '#BlueJackets'\n",
       "4. 'Owen Sound'\n",
       "5. '#CanM20'\n",
       "6. 'Kyrie Irving'\n",
       "\n",
       "\n"
      ],
      "text/plain": [
       "[1] \"Jamal Murray\"  \"#NBACelebGame\" \"#BlueJackets\"  \"Owen Sound\"   \n",
       "[5] \"#CanM20\"       \"Kyrie Irving\" "
      ]
     },
     "metadata": {},
     "output_type": "display_data"
    }
   ],
   "source": [
    "head(summary)"
   ]
  },
  {
   "cell_type": "code",
   "execution_count": 14,
   "metadata": {
    "collapsed": false
   },
   "outputs": [
    {
     "data": {
      "text/html": [
       "<ol class=list-inline>\n",
       "\t<li>'Jamal Murray'</li>\n",
       "\t<li>'#NBACelebGame'</li>\n",
       "\t<li>'#BlueJackets'</li>\n",
       "\t<li>'Owen Sound'</li>\n",
       "\t<li>'#CanM20'</li>\n",
       "\t<li>'Kyrie Irving'</li>\n",
       "\t<li>'#FridayFeeling'</li>\n",
       "\t<li>'#FamilyDay'</li>\n",
       "\t<li>'Game 3'</li>\n",
       "\t<li>'Donald Glover'</li>\n",
       "\t<li>'Tigres'</li>\n",
       "\t<li>'Win Butler'</li>\n",
       "\t<li>'Sea Dogs'</li>\n",
       "\t<li>'Marlies'</li>\n",
       "\t<li>'Voltigeurs'</li>\n",
       "\t<li>'Ryerson'</li>\n",
       "\t<li>'Islam as Muslims'</li>\n",
       "\t<li>'Logan'</li>\n",
       "\t<li>'Cougars'</li>\n",
       "\t<li>'Mounties'</li>\n",
       "\t<li>'Pens'</li>\n",
       "\t<li>'The Animal'</li>\n",
       "\t<li>'#advocacyworks'</li>\n",
       "\t<li>'#CJDLTV'</li>\n",
       "\t<li>'#MakeASongWhiny'</li>\n",
       "\t<li>'#CWplayoffs'</li>\n",
       "\t<li>'#ItsAboutTimeI'</li>\n",
       "\t<li>'#RealTime'</li>\n",
       "\t<li>'#BCPainSummit'</li>\n",
       "\t<li>'#LivePD'</li>\n",
       "\t<li>'#longestnightpeel'</li>\n",
       "\t<li>'#GARTHinedmonton'</li>\n",
       "\t<li>'#BlueBloods'</li>\n",
       "\t<li>'#GAvsTOR'</li>\n",
       "\t<li>'#winefest2017'</li>\n",
       "\t<li>'#paparagilles'</li>\n",
       "\t<li>'#GoDinos'</li>\n",
       "\t<li>'#GoLaval'</li>\n",
       "\t<li>'#JoinTheRegiment'</li>\n",
       "\t<li>'#olympiques'</li>\n",
       "\t<li>'#TrueNorthCalling'</li>\n",
       "\t<li>'#RDSCH'</li>\n",
       "\t<li>'#LARain'</li>\n",
       "\t<li>'#QuestForTheCup'</li>\n",
       "\t<li>'#RandomActsOfKindnessDay'</li>\n",
       "\t<li>'#DayofFacts'</li>\n",
       "\t<li>'#Garland'</li>\n",
       "\t<li>'#M103'</li>\n",
       "\t<li>'#CdnAgDay'</li>\n",
       "\t<li>'#WinterShakeUp'</li>\n",
       "</ol>\n"
      ],
      "text/latex": [
       "\\begin{enumerate*}\n",
       "\\item 'Jamal Murray'\n",
       "\\item '\\#NBACelebGame'\n",
       "\\item '\\#BlueJackets'\n",
       "\\item 'Owen Sound'\n",
       "\\item '\\#CanM20'\n",
       "\\item 'Kyrie Irving'\n",
       "\\item '\\#FridayFeeling'\n",
       "\\item '\\#FamilyDay'\n",
       "\\item 'Game 3'\n",
       "\\item 'Donald Glover'\n",
       "\\item 'Tigres'\n",
       "\\item 'Win Butler'\n",
       "\\item 'Sea Dogs'\n",
       "\\item 'Marlies'\n",
       "\\item 'Voltigeurs'\n",
       "\\item 'Ryerson'\n",
       "\\item 'Islam as Muslims'\n",
       "\\item 'Logan'\n",
       "\\item 'Cougars'\n",
       "\\item 'Mounties'\n",
       "\\item 'Pens'\n",
       "\\item 'The Animal'\n",
       "\\item '\\#advocacyworks'\n",
       "\\item '\\#CJDLTV'\n",
       "\\item '\\#MakeASongWhiny'\n",
       "\\item '\\#CWplayoffs'\n",
       "\\item '\\#ItsAboutTimeI'\n",
       "\\item '\\#RealTime'\n",
       "\\item '\\#BCPainSummit'\n",
       "\\item '\\#LivePD'\n",
       "\\item '\\#longestnightpeel'\n",
       "\\item '\\#GARTHinedmonton'\n",
       "\\item '\\#BlueBloods'\n",
       "\\item '\\#GAvsTOR'\n",
       "\\item '\\#winefest2017'\n",
       "\\item '\\#paparagilles'\n",
       "\\item '\\#GoDinos'\n",
       "\\item '\\#GoLaval'\n",
       "\\item '\\#JoinTheRegiment'\n",
       "\\item '\\#olympiques'\n",
       "\\item '\\#TrueNorthCalling'\n",
       "\\item '\\#RDSCH'\n",
       "\\item '\\#LARain'\n",
       "\\item '\\#QuestForTheCup'\n",
       "\\item '\\#RandomActsOfKindnessDay'\n",
       "\\item '\\#DayofFacts'\n",
       "\\item '\\#Garland'\n",
       "\\item '\\#M103'\n",
       "\\item '\\#CdnAgDay'\n",
       "\\item '\\#WinterShakeUp'\n",
       "\\end{enumerate*}\n"
      ],
      "text/markdown": [
       "1. 'Jamal Murray'\n",
       "2. '#NBACelebGame'\n",
       "3. '#BlueJackets'\n",
       "4. 'Owen Sound'\n",
       "5. '#CanM20'\n",
       "6. 'Kyrie Irving'\n",
       "7. '#FridayFeeling'\n",
       "8. '#FamilyDay'\n",
       "9. 'Game 3'\n",
       "10. 'Donald Glover'\n",
       "11. 'Tigres'\n",
       "12. 'Win Butler'\n",
       "13. 'Sea Dogs'\n",
       "14. 'Marlies'\n",
       "15. 'Voltigeurs'\n",
       "16. 'Ryerson'\n",
       "17. 'Islam as Muslims'\n",
       "18. 'Logan'\n",
       "19. 'Cougars'\n",
       "20. 'Mounties'\n",
       "21. 'Pens'\n",
       "22. 'The Animal'\n",
       "23. '#advocacyworks'\n",
       "24. '#CJDLTV'\n",
       "25. '#MakeASongWhiny'\n",
       "26. '#CWplayoffs'\n",
       "27. '#ItsAboutTimeI'\n",
       "28. '#RealTime'\n",
       "29. '#BCPainSummit'\n",
       "30. '#LivePD'\n",
       "31. '#longestnightpeel'\n",
       "32. '#GARTHinedmonton'\n",
       "33. '#BlueBloods'\n",
       "34. '#GAvsTOR'\n",
       "35. '#winefest2017'\n",
       "36. '#paparagilles'\n",
       "37. '#GoDinos'\n",
       "38. '#GoLaval'\n",
       "39. '#JoinTheRegiment'\n",
       "40. '#olympiques'\n",
       "41. '#TrueNorthCalling'\n",
       "42. '#RDSCH'\n",
       "43. '#LARain'\n",
       "44. '#QuestForTheCup'\n",
       "45. '#RandomActsOfKindnessDay'\n",
       "46. '#DayofFacts'\n",
       "47. '#Garland'\n",
       "48. '#M103'\n",
       "49. '#CdnAgDay'\n",
       "50. '#WinterShakeUp'\n",
       "\n",
       "\n"
      ],
      "text/plain": [
       " [1] \"Jamal Murray\"             \"#NBACelebGame\"           \n",
       " [3] \"#BlueJackets\"             \"Owen Sound\"              \n",
       " [5] \"#CanM20\"                  \"Kyrie Irving\"            \n",
       " [7] \"#FridayFeeling\"           \"#FamilyDay\"              \n",
       " [9] \"Game 3\"                   \"Donald Glover\"           \n",
       "[11] \"Tigres\"                   \"Win Butler\"              \n",
       "[13] \"Sea Dogs\"                 \"Marlies\"                 \n",
       "[15] \"Voltigeurs\"               \"Ryerson\"                 \n",
       "[17] \"Islam as Muslims\"         \"Logan\"                   \n",
       "[19] \"Cougars\"                  \"Mounties\"                \n",
       "[21] \"Pens\"                     \"The Animal\"              \n",
       "[23] \"#advocacyworks\"           \"#CJDLTV\"                 \n",
       "[25] \"#MakeASongWhiny\"          \"#CWplayoffs\"             \n",
       "[27] \"#ItsAboutTimeI\"           \"#RealTime\"               \n",
       "[29] \"#BCPainSummit\"            \"#LivePD\"                 \n",
       "[31] \"#longestnightpeel\"        \"#GARTHinedmonton\"        \n",
       "[33] \"#BlueBloods\"              \"#GAvsTOR\"                \n",
       "[35] \"#winefest2017\"            \"#paparagilles\"           \n",
       "[37] \"#GoDinos\"                 \"#GoLaval\"                \n",
       "[39] \"#JoinTheRegiment\"         \"#olympiques\"             \n",
       "[41] \"#TrueNorthCalling\"        \"#RDSCH\"                  \n",
       "[43] \"#LARain\"                  \"#QuestForTheCup\"         \n",
       "[45] \"#RandomActsOfKindnessDay\" \"#DayofFacts\"             \n",
       "[47] \"#Garland\"                 \"#M103\"                   \n",
       "[49] \"#CdnAgDay\"                \"#WinterShakeUp\"          "
      ]
     },
     "metadata": {},
     "output_type": "display_data"
    }
   ],
   "source": [
    "summary"
   ]
  },
  {
   "cell_type": "code",
   "execution_count": 15,
   "metadata": {
    "collapsed": true
   },
   "outputs": [],
   "source": [
    "location='New York'"
   ]
  },
  {
   "cell_type": "code",
   "execution_count": 16,
   "metadata": {
    "collapsed": false
   },
   "outputs": [
    {
     "ename": "ERROR",
     "evalue": "Error in eval(expr, envir, enclos): could not find function \"geocode\"\n",
     "output_type": "error",
     "traceback": [
      "Error in eval(expr, envir, enclos): could not find function \"geocode\"\nTraceback:\n"
     ]
    }
   ],
   "source": [
    "geocode<-geocode(location)"
   ]
  },
  {
   "cell_type": "code",
   "execution_count": 18,
   "metadata": {
    "collapsed": false
   },
   "outputs": [
    {
     "name": "stderr",
     "output_type": "stream",
     "text": [
      "Warning message:\n",
      "\"package 'ggmap' was built under R version 3.3.2\"Loading required package: ggplot2\n",
      "Warning message:\n",
      "\"package 'ggplot2' was built under R version 3.3.2\""
     ]
    }
   ],
   "source": [
    "library('ggmap')"
   ]
  },
  {
   "cell_type": "code",
   "execution_count": 19,
   "metadata": {
    "collapsed": true
   },
   "outputs": [],
   "source": [
    "library('ggplot2')"
   ]
  },
  {
   "cell_type": "code",
   "execution_count": 20,
   "metadata": {
    "collapsed": false
   },
   "outputs": [
    {
     "name": "stderr",
     "output_type": "stream",
     "text": [
      "Information from URL : http://maps.googleapis.com/maps/api/geocode/json?address=New%20York&sensor=false\n"
     ]
    }
   ],
   "source": [
    "geocode<-geocode(location)"
   ]
  },
  {
   "cell_type": "code",
   "execution_count": 21,
   "metadata": {
    "collapsed": false
   },
   "outputs": [
    {
     "ename": "ERROR",
     "evalue": "Error in closestTrendLocations(geocode): argument \"long\" is missing, with no default\n",
     "output_type": "error",
     "traceback": [
      "Error in closestTrendLocations(geocode): argument \"long\" is missing, with no default\nTraceback:\n",
      "1. closestTrendLocations(geocode)"
     ]
    }
   ],
   "source": [
    "closest_trends<-closestTrendLocations(geocode)"
   ]
  },
  {
   "cell_type": "code",
   "execution_count": 23,
   "metadata": {
    "collapsed": false
   },
   "outputs": [
    {
     "data": {
      "text/html": [
       "<table>\n",
       "<thead><tr><th scope=col>lon</th><th scope=col>lat</th></tr></thead>\n",
       "<tbody>\n",
       "\t<tr><td>-74.00594</td><td>40.71278 </td></tr>\n",
       "</tbody>\n",
       "</table>\n"
      ],
      "text/latex": [
       "\\begin{tabular}{r|ll}\n",
       " lon & lat\\\\\n",
       "\\hline\n",
       "\t -74.00594 & 40.71278 \\\\\n",
       "\\end{tabular}\n"
      ],
      "text/markdown": [
       "\n",
       "lon | lat | \n",
       "|---|\n",
       "| -74.00594 | 40.71278  | \n",
       "\n",
       "\n"
      ],
      "text/plain": [
       "  lon       lat     \n",
       "1 -74.00594 40.71278"
      ]
     },
     "metadata": {},
     "output_type": "display_data"
    }
   ],
   "source": [
    "geocode"
   ]
  },
  {
   "cell_type": "code",
   "execution_count": 26,
   "metadata": {
    "collapsed": true
   },
   "outputs": [],
   "source": [
    "closest_trends<-closestTrendLocations(40.71278,-74.00594)"
   ]
  },
  {
   "cell_type": "code",
   "execution_count": 27,
   "metadata": {
    "collapsed": false
   },
   "outputs": [
    {
     "data": {
      "text/html": [
       "<table>\n",
       "<thead><tr><th scope=col>name</th><th scope=col>country</th><th scope=col>woeid</th></tr></thead>\n",
       "<tbody>\n",
       "\t<tr><td>New York     </td><td>United States</td><td>2459115      </td></tr>\n",
       "</tbody>\n",
       "</table>\n"
      ],
      "text/latex": [
       "\\begin{tabular}{r|lll}\n",
       " name & country & woeid\\\\\n",
       "\\hline\n",
       "\t New York      & United States & 2459115      \\\\\n",
       "\\end{tabular}\n"
      ],
      "text/markdown": [
       "\n",
       "name | country | woeid | \n",
       "|---|\n",
       "| New York      | United States | 2459115       | \n",
       "\n",
       "\n"
      ],
      "text/plain": [
       "  name     country       woeid  \n",
       "1 New York United States 2459115"
      ]
     },
     "metadata": {},
     "output_type": "display_data"
    }
   ],
   "source": [
    "head(closest_trends)"
   ]
  },
  {
   "cell_type": "code",
   "execution_count": 28,
   "metadata": {
    "collapsed": true
   },
   "outputs": [],
   "source": [
    "trends=getTrends(2459115)"
   ]
  },
  {
   "cell_type": "code",
   "execution_count": 29,
   "metadata": {
    "collapsed": false
   },
   "outputs": [
    {
     "data": {
      "text/html": [
       "<table>\n",
       "<thead><tr><th scope=col>name</th><th scope=col>url</th><th scope=col>query</th><th scope=col>woeid</th></tr></thead>\n",
       "<tbody>\n",
       "\t<tr><td>#married2med                                    </td><td>http://twitter.com/search?q=%23married2med      </td><td>%23married2med                                  </td><td>2459115                                         </td></tr>\n",
       "\t<tr><td>Kylie Lip Kits                                  </td><td>http://twitter.com/search?q=%22Kylie+Lip+Kits%22</td><td>%22Kylie+Lip+Kits%22                            </td><td>2459115                                         </td></tr>\n",
       "\t<tr><td>#HTGAWM                                         </td><td>http://twitter.com/search?q=%23HTGAWM           </td><td>%23HTGAWM                                       </td><td>2459115                                         </td></tr>\n",
       "\t<tr><td>#Scandal                                        </td><td>http://twitter.com/search?q=%23Scandal          </td><td>%23Scandal                                      </td><td>2459115                                         </td></tr>\n",
       "\t<tr><td>#hurtbae                                        </td><td>http://twitter.com/search?q=%23hurtbae          </td><td>%23hurtbae                                      </td><td>2459115                                         </td></tr>\n",
       "\t<tr><td>#WeChoose                                       </td><td>http://twitter.com/search?q=%23WeChoose         </td><td>%23WeChoose                                     </td><td>2459115                                         </td></tr>\n",
       "</tbody>\n",
       "</table>\n"
      ],
      "text/latex": [
       "\\begin{tabular}{r|llll}\n",
       " name & url & query & woeid\\\\\n",
       "\\hline\n",
       "\t \\#married2med                                     & http://twitter.com/search?q=\\%23married2med       & \\%23married2med                                   & 2459115                                           \\\\\n",
       "\t Kylie Lip Kits                                       & http://twitter.com/search?q=\\%22Kylie+Lip+Kits\\%22 & \\%22Kylie+Lip+Kits\\%22                             & 2459115                                             \\\\\n",
       "\t \\#HTGAWM                                          & http://twitter.com/search?q=\\%23HTGAWM            & \\%23HTGAWM                                        & 2459115                                           \\\\\n",
       "\t \\#Scandal                                         & http://twitter.com/search?q=\\%23Scandal           & \\%23Scandal                                       & 2459115                                           \\\\\n",
       "\t \\#hurtbae                                         & http://twitter.com/search?q=\\%23hurtbae           & \\%23hurtbae                                       & 2459115                                           \\\\\n",
       "\t \\#WeChoose                                        & http://twitter.com/search?q=\\%23WeChoose          & \\%23WeChoose                                      & 2459115                                           \\\\\n",
       "\\end{tabular}\n"
      ],
      "text/markdown": [
       "\n",
       "name | url | query | woeid | \n",
       "|---|---|---|---|---|---|\n",
       "| #married2med                                     | http://twitter.com/search?q=%23married2med       | %23married2med                                   | 2459115                                          | \n",
       "| Kylie Lip Kits                                   | http://twitter.com/search?q=%22Kylie+Lip+Kits%22 | %22Kylie+Lip+Kits%22                             | 2459115                                          | \n",
       "| #HTGAWM                                          | http://twitter.com/search?q=%23HTGAWM            | %23HTGAWM                                        | 2459115                                          | \n",
       "| #Scandal                                         | http://twitter.com/search?q=%23Scandal           | %23Scandal                                       | 2459115                                          | \n",
       "| #hurtbae                                         | http://twitter.com/search?q=%23hurtbae           | %23hurtbae                                       | 2459115                                          | \n",
       "| #WeChoose                                        | http://twitter.com/search?q=%23WeChoose          | %23WeChoose                                      | 2459115                                          | \n",
       "\n",
       "\n"
      ],
      "text/plain": [
       "  name           url                                             \n",
       "1 #married2med   http://twitter.com/search?q=%23married2med      \n",
       "2 Kylie Lip Kits http://twitter.com/search?q=%22Kylie+Lip+Kits%22\n",
       "3 #HTGAWM        http://twitter.com/search?q=%23HTGAWM           \n",
       "4 #Scandal       http://twitter.com/search?q=%23Scandal          \n",
       "5 #hurtbae       http://twitter.com/search?q=%23hurtbae          \n",
       "6 #WeChoose      http://twitter.com/search?q=%23WeChoose         \n",
       "  query                woeid  \n",
       "1 %23married2med       2459115\n",
       "2 %22Kylie+Lip+Kits%22 2459115\n",
       "3 %23HTGAWM            2459115\n",
       "4 %23Scandal           2459115\n",
       "5 %23hurtbae           2459115\n",
       "6 %23WeChoose          2459115"
      ]
     },
     "metadata": {},
     "output_type": "display_data"
    }
   ],
   "source": [
    "head(trends)"
   ]
  },
  {
   "cell_type": "code",
   "execution_count": 30,
   "metadata": {
    "collapsed": true
   },
   "outputs": [],
   "source": [
    "summary2<-trends$name"
   ]
  },
  {
   "cell_type": "code",
   "execution_count": 31,
   "metadata": {
    "collapsed": false
   },
   "outputs": [
    {
     "data": {
      "text/html": [
       "<ol class=list-inline>\n",
       "\t<li>'#married2med'</li>\n",
       "\t<li>'Kylie Lip Kits'</li>\n",
       "\t<li>'#HTGAWM'</li>\n",
       "\t<li>'#Scandal'</li>\n",
       "\t<li>'#hurtbae'</li>\n",
       "\t<li>'#WeChoose'</li>\n",
       "\t<li>'Jamal Murray'</li>\n",
       "\t<li>'Kyrie Irving'</li>\n",
       "\t<li>'Lion King'</li>\n",
       "\t<li>'Master P'</li>\n",
       "\t<li>'Buddy Hield'</li>\n",
       "\t<li>'Enemy of the American People'</li>\n",
       "\t<li>'Brandon Ingram'</li>\n",
       "\t<li>'Frank Kaminsky'</li>\n",
       "\t<li>'Win Butler'</li>\n",
       "\t<li>'Ys VIII'</li>\n",
       "\t<li>'John Harkes'</li>\n",
       "\t<li>'Jokic'</li>\n",
       "\t<li>'Warren Frost'</li>\n",
       "\t<li>'Dubinsky'</li>\n",
       "\t<li>'Donald Young'</li>\n",
       "\t<li>'#SJUBase'</li>\n",
       "\t<li>'#umes'</li>\n",
       "\t<li>'#RealTime'</li>\n",
       "\t<li>'#TheRapGame'</li>\n",
       "\t<li>'#LARain'</li>\n",
       "\t<li>'#LivePD'</li>\n",
       "\t<li>'#MakeASongWhiny'</li>\n",
       "\t<li>'#NBACelebGame'</li>\n",
       "\t<li>'#ItsAboutTimeI'</li>\n",
       "\t<li>'#BringIt'</li>\n",
       "\t<li>'#NotTheEnemy'</li>\n",
       "\t<li>'#PresidentialNursery'</li>\n",
       "\t<li>'#Dateline'</li>\n",
       "\t<li>'#BlueBloods'</li>\n",
       "\t<li>'#EmeraldCity'</li>\n",
       "\t<li>'#SharkTank'</li>\n",
       "\t<li>'#Grimm'</li>\n",
       "\t<li>'#LFA4'</li>\n",
       "\t<li>'#ABC2020'</li>\n",
       "\t<li>'#FLAvsANA'</li>\n",
       "\t<li>'#LaGala'</li>\n",
       "\t<li>'#aajala'</li>\n",
       "\t<li>'#DrKen'</li>\n",
       "\t<li>'#BMovieManiacs'</li>\n",
       "\t<li>'#ParanormalLockdown'</li>\n",
       "\t<li>'#LouisExposedLarry'</li>\n",
       "\t<li>'#MacGyver'</li>\n",
       "\t<li>'#Rosewood'</li>\n",
       "\t<li>'#SleepyHollow'</li>\n",
       "</ol>\n"
      ],
      "text/latex": [
       "\\begin{enumerate*}\n",
       "\\item '\\#married2med'\n",
       "\\item 'Kylie Lip Kits'\n",
       "\\item '\\#HTGAWM'\n",
       "\\item '\\#Scandal'\n",
       "\\item '\\#hurtbae'\n",
       "\\item '\\#WeChoose'\n",
       "\\item 'Jamal Murray'\n",
       "\\item 'Kyrie Irving'\n",
       "\\item 'Lion King'\n",
       "\\item 'Master P'\n",
       "\\item 'Buddy Hield'\n",
       "\\item 'Enemy of the American People'\n",
       "\\item 'Brandon Ingram'\n",
       "\\item 'Frank Kaminsky'\n",
       "\\item 'Win Butler'\n",
       "\\item 'Ys VIII'\n",
       "\\item 'John Harkes'\n",
       "\\item 'Jokic'\n",
       "\\item 'Warren Frost'\n",
       "\\item 'Dubinsky'\n",
       "\\item 'Donald Young'\n",
       "\\item '\\#SJUBase'\n",
       "\\item '\\#umes'\n",
       "\\item '\\#RealTime'\n",
       "\\item '\\#TheRapGame'\n",
       "\\item '\\#LARain'\n",
       "\\item '\\#LivePD'\n",
       "\\item '\\#MakeASongWhiny'\n",
       "\\item '\\#NBACelebGame'\n",
       "\\item '\\#ItsAboutTimeI'\n",
       "\\item '\\#BringIt'\n",
       "\\item '\\#NotTheEnemy'\n",
       "\\item '\\#PresidentialNursery'\n",
       "\\item '\\#Dateline'\n",
       "\\item '\\#BlueBloods'\n",
       "\\item '\\#EmeraldCity'\n",
       "\\item '\\#SharkTank'\n",
       "\\item '\\#Grimm'\n",
       "\\item '\\#LFA4'\n",
       "\\item '\\#ABC2020'\n",
       "\\item '\\#FLAvsANA'\n",
       "\\item '\\#LaGala'\n",
       "\\item '\\#aajala'\n",
       "\\item '\\#DrKen'\n",
       "\\item '\\#BMovieManiacs'\n",
       "\\item '\\#ParanormalLockdown'\n",
       "\\item '\\#LouisExposedLarry'\n",
       "\\item '\\#MacGyver'\n",
       "\\item '\\#Rosewood'\n",
       "\\item '\\#SleepyHollow'\n",
       "\\end{enumerate*}\n"
      ],
      "text/markdown": [
       "1. '#married2med'\n",
       "2. 'Kylie Lip Kits'\n",
       "3. '#HTGAWM'\n",
       "4. '#Scandal'\n",
       "5. '#hurtbae'\n",
       "6. '#WeChoose'\n",
       "7. 'Jamal Murray'\n",
       "8. 'Kyrie Irving'\n",
       "9. 'Lion King'\n",
       "10. 'Master P'\n",
       "11. 'Buddy Hield'\n",
       "12. 'Enemy of the American People'\n",
       "13. 'Brandon Ingram'\n",
       "14. 'Frank Kaminsky'\n",
       "15. 'Win Butler'\n",
       "16. 'Ys VIII'\n",
       "17. 'John Harkes'\n",
       "18. 'Jokic'\n",
       "19. 'Warren Frost'\n",
       "20. 'Dubinsky'\n",
       "21. 'Donald Young'\n",
       "22. '#SJUBase'\n",
       "23. '#umes'\n",
       "24. '#RealTime'\n",
       "25. '#TheRapGame'\n",
       "26. '#LARain'\n",
       "27. '#LivePD'\n",
       "28. '#MakeASongWhiny'\n",
       "29. '#NBACelebGame'\n",
       "30. '#ItsAboutTimeI'\n",
       "31. '#BringIt'\n",
       "32. '#NotTheEnemy'\n",
       "33. '#PresidentialNursery'\n",
       "34. '#Dateline'\n",
       "35. '#BlueBloods'\n",
       "36. '#EmeraldCity'\n",
       "37. '#SharkTank'\n",
       "38. '#Grimm'\n",
       "39. '#LFA4'\n",
       "40. '#ABC2020'\n",
       "41. '#FLAvsANA'\n",
       "42. '#LaGala'\n",
       "43. '#aajala'\n",
       "44. '#DrKen'\n",
       "45. '#BMovieManiacs'\n",
       "46. '#ParanormalLockdown'\n",
       "47. '#LouisExposedLarry'\n",
       "48. '#MacGyver'\n",
       "49. '#Rosewood'\n",
       "50. '#SleepyHollow'\n",
       "\n",
       "\n"
      ],
      "text/plain": [
       " [1] \"#married2med\"                 \"Kylie Lip Kits\"              \n",
       " [3] \"#HTGAWM\"                      \"#Scandal\"                    \n",
       " [5] \"#hurtbae\"                     \"#WeChoose\"                   \n",
       " [7] \"Jamal Murray\"                 \"Kyrie Irving\"                \n",
       " [9] \"Lion King\"                    \"Master P\"                    \n",
       "[11] \"Buddy Hield\"                  \"Enemy of the American People\"\n",
       "[13] \"Brandon Ingram\"               \"Frank Kaminsky\"              \n",
       "[15] \"Win Butler\"                   \"Ys VIII\"                     \n",
       "[17] \"John Harkes\"                  \"Jokic\"                       \n",
       "[19] \"Warren Frost\"                 \"Dubinsky\"                    \n",
       "[21] \"Donald Young\"                 \"#SJUBase\"                    \n",
       "[23] \"#umes\"                        \"#RealTime\"                   \n",
       "[25] \"#TheRapGame\"                  \"#LARain\"                     \n",
       "[27] \"#LivePD\"                      \"#MakeASongWhiny\"             \n",
       "[29] \"#NBACelebGame\"                \"#ItsAboutTimeI\"              \n",
       "[31] \"#BringIt\"                     \"#NotTheEnemy\"                \n",
       "[33] \"#PresidentialNursery\"         \"#Dateline\"                   \n",
       "[35] \"#BlueBloods\"                  \"#EmeraldCity\"                \n",
       "[37] \"#SharkTank\"                   \"#Grimm\"                      \n",
       "[39] \"#LFA4\"                        \"#ABC2020\"                    \n",
       "[41] \"#FLAvsANA\"                    \"#LaGala\"                     \n",
       "[43] \"#aajala\"                      \"#DrKen\"                      \n",
       "[45] \"#BMovieManiacs\"               \"#ParanormalLockdown\"         \n",
       "[47] \"#LouisExposedLarry\"           \"#MacGyver\"                   \n",
       "[49] \"#Rosewood\"                    \"#SleepyHollow\"               "
      ]
     },
     "metadata": {},
     "output_type": "display_data"
    }
   ],
   "source": [
    "summary2"
   ]
  },
  {
   "cell_type": "code",
   "execution_count": null,
   "metadata": {
    "collapsed": true
   },
   "outputs": [],
   "source": [
    "function(){library('ggmap')\n",
    "          library('ggplot2')\n",
    "           geocode<-geocode(location)\n",
    "           closest_trends<-closestTrendLocations(geocode$lat,geocode$lon)\n",
    "           trends=getTrends(closest_trends$woeid)\n",
    "           summary2<-trends$name\n",
    "           summary2\n",
    "          }"
   ]
  },
  {
   "cell_type": "code",
   "execution_count": 33,
   "metadata": {
    "collapsed": true
   },
   "outputs": [],
   "source": [
    "myfunction<-function(location){\n",
    "           library('ggmap')\n",
    "           library('ggplot2')\n",
    "           geocode<-geocode(location)\n",
    "           closest_trends<-closestTrendLocations(geocode$lat,geocode$lon)\n",
    "           trends=getTrends(closest_trends$woeid)\n",
    "           summary2<-trends$name\n",
    "           summary2\n",
    "          }"
   ]
  },
  {
   "cell_type": "code",
   "execution_count": 34,
   "metadata": {
    "collapsed": false
   },
   "outputs": [
    {
     "name": "stderr",
     "output_type": "stream",
     "text": [
      "Information from URL : http://maps.googleapis.com/maps/api/geocode/json?address=New%20York&sensor=false\n"
     ]
    },
    {
     "data": {
      "text/html": [
       "<ol class=list-inline>\n",
       "\t<li>'#married2med'</li>\n",
       "\t<li>'Kylie Lip Kits'</li>\n",
       "\t<li>'#HTGAWM'</li>\n",
       "\t<li>'#Scandal'</li>\n",
       "\t<li>'#hurtbae'</li>\n",
       "\t<li>'#WeChoose'</li>\n",
       "\t<li>'Jamal Murray'</li>\n",
       "\t<li>'Kyrie Irving'</li>\n",
       "\t<li>'Lion King'</li>\n",
       "\t<li>'Master P'</li>\n",
       "\t<li>'Buddy Hield'</li>\n",
       "\t<li>'Enemy of the American People'</li>\n",
       "\t<li>'Brandon Ingram'</li>\n",
       "\t<li>'Frank Kaminsky'</li>\n",
       "\t<li>'Win Butler'</li>\n",
       "\t<li>'Ys VIII'</li>\n",
       "\t<li>'Warren Frost'</li>\n",
       "\t<li>'John Harkes'</li>\n",
       "\t<li>'Jokic'</li>\n",
       "\t<li>'Dubinsky'</li>\n",
       "\t<li>'Larry Wilmore'</li>\n",
       "\t<li>'Donald Young'</li>\n",
       "\t<li>'#SJUBase'</li>\n",
       "\t<li>'#umes'</li>\n",
       "\t<li>'#RealTime'</li>\n",
       "\t<li>'#TheRapGame'</li>\n",
       "\t<li>'#LARain'</li>\n",
       "\t<li>'#LivePD'</li>\n",
       "\t<li>'#MakeASongWhiny'</li>\n",
       "\t<li>'#NBACelebGame'</li>\n",
       "\t<li>'#ItsAboutTimeI'</li>\n",
       "\t<li>'#NotTheEnemy'</li>\n",
       "\t<li>'#PresidentialNursery'</li>\n",
       "\t<li>'#BringIt'</li>\n",
       "\t<li>'#Dateline'</li>\n",
       "\t<li>'#BlueBloods'</li>\n",
       "\t<li>'#EmeraldCity'</li>\n",
       "\t<li>'#LFA4'</li>\n",
       "\t<li>'#SharkTank'</li>\n",
       "\t<li>'#Grimm'</li>\n",
       "\t<li>'#ABC2020'</li>\n",
       "\t<li>'#FLAvsANA'</li>\n",
       "\t<li>'#LaGala'</li>\n",
       "\t<li>'#aajala'</li>\n",
       "\t<li>'#DrKen'</li>\n",
       "\t<li>'#BMovieManiacs'</li>\n",
       "\t<li>'#ParanormalLockdown'</li>\n",
       "\t<li>'#LouisExposedLarry'</li>\n",
       "\t<li>'#MacGyver'</li>\n",
       "\t<li>'#SleepyHollow'</li>\n",
       "</ol>\n"
      ],
      "text/latex": [
       "\\begin{enumerate*}\n",
       "\\item '\\#married2med'\n",
       "\\item 'Kylie Lip Kits'\n",
       "\\item '\\#HTGAWM'\n",
       "\\item '\\#Scandal'\n",
       "\\item '\\#hurtbae'\n",
       "\\item '\\#WeChoose'\n",
       "\\item 'Jamal Murray'\n",
       "\\item 'Kyrie Irving'\n",
       "\\item 'Lion King'\n",
       "\\item 'Master P'\n",
       "\\item 'Buddy Hield'\n",
       "\\item 'Enemy of the American People'\n",
       "\\item 'Brandon Ingram'\n",
       "\\item 'Frank Kaminsky'\n",
       "\\item 'Win Butler'\n",
       "\\item 'Ys VIII'\n",
       "\\item 'Warren Frost'\n",
       "\\item 'John Harkes'\n",
       "\\item 'Jokic'\n",
       "\\item 'Dubinsky'\n",
       "\\item 'Larry Wilmore'\n",
       "\\item 'Donald Young'\n",
       "\\item '\\#SJUBase'\n",
       "\\item '\\#umes'\n",
       "\\item '\\#RealTime'\n",
       "\\item '\\#TheRapGame'\n",
       "\\item '\\#LARain'\n",
       "\\item '\\#LivePD'\n",
       "\\item '\\#MakeASongWhiny'\n",
       "\\item '\\#NBACelebGame'\n",
       "\\item '\\#ItsAboutTimeI'\n",
       "\\item '\\#NotTheEnemy'\n",
       "\\item '\\#PresidentialNursery'\n",
       "\\item '\\#BringIt'\n",
       "\\item '\\#Dateline'\n",
       "\\item '\\#BlueBloods'\n",
       "\\item '\\#EmeraldCity'\n",
       "\\item '\\#LFA4'\n",
       "\\item '\\#SharkTank'\n",
       "\\item '\\#Grimm'\n",
       "\\item '\\#ABC2020'\n",
       "\\item '\\#FLAvsANA'\n",
       "\\item '\\#LaGala'\n",
       "\\item '\\#aajala'\n",
       "\\item '\\#DrKen'\n",
       "\\item '\\#BMovieManiacs'\n",
       "\\item '\\#ParanormalLockdown'\n",
       "\\item '\\#LouisExposedLarry'\n",
       "\\item '\\#MacGyver'\n",
       "\\item '\\#SleepyHollow'\n",
       "\\end{enumerate*}\n"
      ],
      "text/markdown": [
       "1. '#married2med'\n",
       "2. 'Kylie Lip Kits'\n",
       "3. '#HTGAWM'\n",
       "4. '#Scandal'\n",
       "5. '#hurtbae'\n",
       "6. '#WeChoose'\n",
       "7. 'Jamal Murray'\n",
       "8. 'Kyrie Irving'\n",
       "9. 'Lion King'\n",
       "10. 'Master P'\n",
       "11. 'Buddy Hield'\n",
       "12. 'Enemy of the American People'\n",
       "13. 'Brandon Ingram'\n",
       "14. 'Frank Kaminsky'\n",
       "15. 'Win Butler'\n",
       "16. 'Ys VIII'\n",
       "17. 'Warren Frost'\n",
       "18. 'John Harkes'\n",
       "19. 'Jokic'\n",
       "20. 'Dubinsky'\n",
       "21. 'Larry Wilmore'\n",
       "22. 'Donald Young'\n",
       "23. '#SJUBase'\n",
       "24. '#umes'\n",
       "25. '#RealTime'\n",
       "26. '#TheRapGame'\n",
       "27. '#LARain'\n",
       "28. '#LivePD'\n",
       "29. '#MakeASongWhiny'\n",
       "30. '#NBACelebGame'\n",
       "31. '#ItsAboutTimeI'\n",
       "32. '#NotTheEnemy'\n",
       "33. '#PresidentialNursery'\n",
       "34. '#BringIt'\n",
       "35. '#Dateline'\n",
       "36. '#BlueBloods'\n",
       "37. '#EmeraldCity'\n",
       "38. '#LFA4'\n",
       "39. '#SharkTank'\n",
       "40. '#Grimm'\n",
       "41. '#ABC2020'\n",
       "42. '#FLAvsANA'\n",
       "43. '#LaGala'\n",
       "44. '#aajala'\n",
       "45. '#DrKen'\n",
       "46. '#BMovieManiacs'\n",
       "47. '#ParanormalLockdown'\n",
       "48. '#LouisExposedLarry'\n",
       "49. '#MacGyver'\n",
       "50. '#SleepyHollow'\n",
       "\n",
       "\n"
      ],
      "text/plain": [
       " [1] \"#married2med\"                 \"Kylie Lip Kits\"              \n",
       " [3] \"#HTGAWM\"                      \"#Scandal\"                    \n",
       " [5] \"#hurtbae\"                     \"#WeChoose\"                   \n",
       " [7] \"Jamal Murray\"                 \"Kyrie Irving\"                \n",
       " [9] \"Lion King\"                    \"Master P\"                    \n",
       "[11] \"Buddy Hield\"                  \"Enemy of the American People\"\n",
       "[13] \"Brandon Ingram\"               \"Frank Kaminsky\"              \n",
       "[15] \"Win Butler\"                   \"Ys VIII\"                     \n",
       "[17] \"Warren Frost\"                 \"John Harkes\"                 \n",
       "[19] \"Jokic\"                        \"Dubinsky\"                    \n",
       "[21] \"Larry Wilmore\"                \"Donald Young\"                \n",
       "[23] \"#SJUBase\"                     \"#umes\"                       \n",
       "[25] \"#RealTime\"                    \"#TheRapGame\"                 \n",
       "[27] \"#LARain\"                      \"#LivePD\"                     \n",
       "[29] \"#MakeASongWhiny\"              \"#NBACelebGame\"               \n",
       "[31] \"#ItsAboutTimeI\"               \"#NotTheEnemy\"                \n",
       "[33] \"#PresidentialNursery\"         \"#BringIt\"                    \n",
       "[35] \"#Dateline\"                    \"#BlueBloods\"                 \n",
       "[37] \"#EmeraldCity\"                 \"#LFA4\"                       \n",
       "[39] \"#SharkTank\"                   \"#Grimm\"                      \n",
       "[41] \"#ABC2020\"                     \"#FLAvsANA\"                   \n",
       "[43] \"#LaGala\"                      \"#aajala\"                     \n",
       "[45] \"#DrKen\"                       \"#BMovieManiacs\"              \n",
       "[47] \"#ParanormalLockdown\"          \"#LouisExposedLarry\"          \n",
       "[49] \"#MacGyver\"                    \"#SleepyHollow\"               "
      ]
     },
     "metadata": {},
     "output_type": "display_data"
    }
   ],
   "source": [
    "myfunction(location)"
   ]
  },
  {
   "cell_type": "code",
   "execution_count": 38,
   "metadata": {
    "collapsed": true
   },
   "outputs": [],
   "source": [
    "summary<-function(location){\n",
    "           library('twitteR')\n",
    "           setup_twitter_oauth(\"dIhjRcszok2R3LyK0VgYSded8\",\"IxujimHa6JJcWS8mzfC57i9GbgQSc7qst49Fvqu0aglyuykecQ\",\"2493349752-ao5qcIqhAga9jdk2N6RJTxeRIuQXaFwRk9RUhRb\",\"T0sYiVKJQsYRShQopO1Kvqwbr7Bx0Ky3DXs8kdRuxEUTZ\")\n",
    "           library('ggmap')\n",
    "           library('ggplot2')\n",
    "           geocode<-geocode(location)\n",
    "           closest_trends<-closestTrendLocations(geocode$lat,geocode$lon)\n",
    "           trends=getTrends(closest_trends$woeid)\n",
    "           summary2<-trends$name\n",
    "           summary2\n",
    "          }"
   ]
  },
  {
   "cell_type": "code",
   "execution_count": 36,
   "metadata": {
    "collapsed": false
   },
   "outputs": [
    {
     "name": "stderr",
     "output_type": "stream",
     "text": [
      "Information from URL : http://maps.googleapis.com/maps/api/geocode/json?address=New%20York&sensor=false\n"
     ]
    },
    {
     "data": {
      "text/html": [
       "<ol class=list-inline>\n",
       "\t<li>'#married2med'</li>\n",
       "\t<li>'Kylie Lip Kits'</li>\n",
       "\t<li>'#HTGAWM'</li>\n",
       "\t<li>'#Scandal'</li>\n",
       "\t<li>'#hurtbae'</li>\n",
       "\t<li>'#WeChoose'</li>\n",
       "\t<li>'Jamal Murray'</li>\n",
       "\t<li>'Kyrie Irving'</li>\n",
       "\t<li>'Lion King'</li>\n",
       "\t<li>'Master P'</li>\n",
       "\t<li>'Buddy Hield'</li>\n",
       "\t<li>'Enemy of the American People'</li>\n",
       "\t<li>'Brandon Ingram'</li>\n",
       "\t<li>'Frank Kaminsky'</li>\n",
       "\t<li>'Win Butler'</li>\n",
       "\t<li>'Ys VIII'</li>\n",
       "\t<li>'Warren Frost'</li>\n",
       "\t<li>'John Harkes'</li>\n",
       "\t<li>'Jokic'</li>\n",
       "\t<li>'Dubinsky'</li>\n",
       "\t<li>'Larry Wilmore'</li>\n",
       "\t<li>'Donald Young'</li>\n",
       "\t<li>'#SJUBase'</li>\n",
       "\t<li>'#umes'</li>\n",
       "\t<li>'#RealTime'</li>\n",
       "\t<li>'#TheRapGame'</li>\n",
       "\t<li>'#LARain'</li>\n",
       "\t<li>'#LivePD'</li>\n",
       "\t<li>'#MakeASongWhiny'</li>\n",
       "\t<li>'#NBACelebGame'</li>\n",
       "\t<li>'#ItsAboutTimeI'</li>\n",
       "\t<li>'#NotTheEnemy'</li>\n",
       "\t<li>'#PresidentialNursery'</li>\n",
       "\t<li>'#BringIt'</li>\n",
       "\t<li>'#Dateline'</li>\n",
       "\t<li>'#BlueBloods'</li>\n",
       "\t<li>'#EmeraldCity'</li>\n",
       "\t<li>'#LFA4'</li>\n",
       "\t<li>'#SharkTank'</li>\n",
       "\t<li>'#Grimm'</li>\n",
       "\t<li>'#ABC2020'</li>\n",
       "\t<li>'#FLAvsANA'</li>\n",
       "\t<li>'#LaGala'</li>\n",
       "\t<li>'#aajala'</li>\n",
       "\t<li>'#DrKen'</li>\n",
       "\t<li>'#BMovieManiacs'</li>\n",
       "\t<li>'#ParanormalLockdown'</li>\n",
       "\t<li>'#LouisExposedLarry'</li>\n",
       "\t<li>'#MacGyver'</li>\n",
       "\t<li>'#SleepyHollow'</li>\n",
       "</ol>\n"
      ],
      "text/latex": [
       "\\begin{enumerate*}\n",
       "\\item '\\#married2med'\n",
       "\\item 'Kylie Lip Kits'\n",
       "\\item '\\#HTGAWM'\n",
       "\\item '\\#Scandal'\n",
       "\\item '\\#hurtbae'\n",
       "\\item '\\#WeChoose'\n",
       "\\item 'Jamal Murray'\n",
       "\\item 'Kyrie Irving'\n",
       "\\item 'Lion King'\n",
       "\\item 'Master P'\n",
       "\\item 'Buddy Hield'\n",
       "\\item 'Enemy of the American People'\n",
       "\\item 'Brandon Ingram'\n",
       "\\item 'Frank Kaminsky'\n",
       "\\item 'Win Butler'\n",
       "\\item 'Ys VIII'\n",
       "\\item 'Warren Frost'\n",
       "\\item 'John Harkes'\n",
       "\\item 'Jokic'\n",
       "\\item 'Dubinsky'\n",
       "\\item 'Larry Wilmore'\n",
       "\\item 'Donald Young'\n",
       "\\item '\\#SJUBase'\n",
       "\\item '\\#umes'\n",
       "\\item '\\#RealTime'\n",
       "\\item '\\#TheRapGame'\n",
       "\\item '\\#LARain'\n",
       "\\item '\\#LivePD'\n",
       "\\item '\\#MakeASongWhiny'\n",
       "\\item '\\#NBACelebGame'\n",
       "\\item '\\#ItsAboutTimeI'\n",
       "\\item '\\#NotTheEnemy'\n",
       "\\item '\\#PresidentialNursery'\n",
       "\\item '\\#BringIt'\n",
       "\\item '\\#Dateline'\n",
       "\\item '\\#BlueBloods'\n",
       "\\item '\\#EmeraldCity'\n",
       "\\item '\\#LFA4'\n",
       "\\item '\\#SharkTank'\n",
       "\\item '\\#Grimm'\n",
       "\\item '\\#ABC2020'\n",
       "\\item '\\#FLAvsANA'\n",
       "\\item '\\#LaGala'\n",
       "\\item '\\#aajala'\n",
       "\\item '\\#DrKen'\n",
       "\\item '\\#BMovieManiacs'\n",
       "\\item '\\#ParanormalLockdown'\n",
       "\\item '\\#LouisExposedLarry'\n",
       "\\item '\\#MacGyver'\n",
       "\\item '\\#SleepyHollow'\n",
       "\\end{enumerate*}\n"
      ],
      "text/markdown": [
       "1. '#married2med'\n",
       "2. 'Kylie Lip Kits'\n",
       "3. '#HTGAWM'\n",
       "4. '#Scandal'\n",
       "5. '#hurtbae'\n",
       "6. '#WeChoose'\n",
       "7. 'Jamal Murray'\n",
       "8. 'Kyrie Irving'\n",
       "9. 'Lion King'\n",
       "10. 'Master P'\n",
       "11. 'Buddy Hield'\n",
       "12. 'Enemy of the American People'\n",
       "13. 'Brandon Ingram'\n",
       "14. 'Frank Kaminsky'\n",
       "15. 'Win Butler'\n",
       "16. 'Ys VIII'\n",
       "17. 'Warren Frost'\n",
       "18. 'John Harkes'\n",
       "19. 'Jokic'\n",
       "20. 'Dubinsky'\n",
       "21. 'Larry Wilmore'\n",
       "22. 'Donald Young'\n",
       "23. '#SJUBase'\n",
       "24. '#umes'\n",
       "25. '#RealTime'\n",
       "26. '#TheRapGame'\n",
       "27. '#LARain'\n",
       "28. '#LivePD'\n",
       "29. '#MakeASongWhiny'\n",
       "30. '#NBACelebGame'\n",
       "31. '#ItsAboutTimeI'\n",
       "32. '#NotTheEnemy'\n",
       "33. '#PresidentialNursery'\n",
       "34. '#BringIt'\n",
       "35. '#Dateline'\n",
       "36. '#BlueBloods'\n",
       "37. '#EmeraldCity'\n",
       "38. '#LFA4'\n",
       "39. '#SharkTank'\n",
       "40. '#Grimm'\n",
       "41. '#ABC2020'\n",
       "42. '#FLAvsANA'\n",
       "43. '#LaGala'\n",
       "44. '#aajala'\n",
       "45. '#DrKen'\n",
       "46. '#BMovieManiacs'\n",
       "47. '#ParanormalLockdown'\n",
       "48. '#LouisExposedLarry'\n",
       "49. '#MacGyver'\n",
       "50. '#SleepyHollow'\n",
       "\n",
       "\n"
      ],
      "text/plain": [
       " [1] \"#married2med\"                 \"Kylie Lip Kits\"              \n",
       " [3] \"#HTGAWM\"                      \"#Scandal\"                    \n",
       " [5] \"#hurtbae\"                     \"#WeChoose\"                   \n",
       " [7] \"Jamal Murray\"                 \"Kyrie Irving\"                \n",
       " [9] \"Lion King\"                    \"Master P\"                    \n",
       "[11] \"Buddy Hield\"                  \"Enemy of the American People\"\n",
       "[13] \"Brandon Ingram\"               \"Frank Kaminsky\"              \n",
       "[15] \"Win Butler\"                   \"Ys VIII\"                     \n",
       "[17] \"Warren Frost\"                 \"John Harkes\"                 \n",
       "[19] \"Jokic\"                        \"Dubinsky\"                    \n",
       "[21] \"Larry Wilmore\"                \"Donald Young\"                \n",
       "[23] \"#SJUBase\"                     \"#umes\"                       \n",
       "[25] \"#RealTime\"                    \"#TheRapGame\"                 \n",
       "[27] \"#LARain\"                      \"#LivePD\"                     \n",
       "[29] \"#MakeASongWhiny\"              \"#NBACelebGame\"               \n",
       "[31] \"#ItsAboutTimeI\"               \"#NotTheEnemy\"                \n",
       "[33] \"#PresidentialNursery\"         \"#BringIt\"                    \n",
       "[35] \"#Dateline\"                    \"#BlueBloods\"                 \n",
       "[37] \"#EmeraldCity\"                 \"#LFA4\"                       \n",
       "[39] \"#SharkTank\"                   \"#Grimm\"                      \n",
       "[41] \"#ABC2020\"                     \"#FLAvsANA\"                   \n",
       "[43] \"#LaGala\"                      \"#aajala\"                     \n",
       "[45] \"#DrKen\"                       \"#BMovieManiacs\"              \n",
       "[47] \"#ParanormalLockdown\"          \"#LouisExposedLarry\"          \n",
       "[49] \"#MacGyver\"                    \"#SleepyHollow\"               "
      ]
     },
     "metadata": {},
     "output_type": "display_data"
    }
   ],
   "source": [
    "summary('New York')"
   ]
  },
  {
   "cell_type": "code",
   "execution_count": 37,
   "metadata": {
    "collapsed": false
   },
   "outputs": [
    {
     "name": "stderr",
     "output_type": "stream",
     "text": [
      "Information from URL : http://maps.googleapis.com/maps/api/geocode/json?address=Buffalo&sensor=false\n"
     ]
    },
    {
     "data": {
      "text/html": [
       "<ol class=list-inline>\n",
       "\t<li>'Jamal Murray'</li>\n",
       "\t<li>'#NBACelebGame'</li>\n",
       "\t<li>'#BlueJackets'</li>\n",
       "\t<li>'Owen Sound'</li>\n",
       "\t<li>'#CanM20'</li>\n",
       "\t<li>'Kyrie Irving'</li>\n",
       "\t<li>'#FridayFeeling'</li>\n",
       "\t<li>'#FamilyDay'</li>\n",
       "\t<li>'Game 3'</li>\n",
       "\t<li>'Donald Glover'</li>\n",
       "\t<li>'Tigres'</li>\n",
       "\t<li>'Win Butler'</li>\n",
       "\t<li>'Marlies'</li>\n",
       "\t<li>'Voltigeurs'</li>\n",
       "\t<li>'Islam as Muslims'</li>\n",
       "\t<li>'Ryerson'</li>\n",
       "\t<li>'Sea Dogs'</li>\n",
       "\t<li>'Jughead'</li>\n",
       "\t<li>'Logan'</li>\n",
       "\t<li>'Cougars'</li>\n",
       "\t<li>'Pens'</li>\n",
       "\t<li>'The Animal'</li>\n",
       "\t<li>'Sidney Crosby'</li>\n",
       "\t<li>'Nancy Elgie'</li>\n",
       "\t<li>'#longestnightpeel'</li>\n",
       "\t<li>'#CJDLTV'</li>\n",
       "\t<li>'#CWplayoffs'</li>\n",
       "\t<li>'#advocacyworks'</li>\n",
       "\t<li>'#MakeASongWhiny'</li>\n",
       "\t<li>'#ItsAboutTimeI'</li>\n",
       "\t<li>'#GARTHinedmonton'</li>\n",
       "\t<li>'#RealTime'</li>\n",
       "\t<li>'#BCPainSummit'</li>\n",
       "\t<li>'#LivePD'</li>\n",
       "\t<li>'#winefest2017'</li>\n",
       "\t<li>'#BlueBloods'</li>\n",
       "\t<li>'#GAvsTOR'</li>\n",
       "\t<li>'#paparagilles'</li>\n",
       "\t<li>'#GoLaval'</li>\n",
       "\t<li>'#JoinTheRegiment'</li>\n",
       "\t<li>'#olympiques'</li>\n",
       "\t<li>'#TrueNorthCalling'</li>\n",
       "\t<li>'#LARain'</li>\n",
       "\t<li>'#DayofFacts'</li>\n",
       "\t<li>'#Garland'</li>\n",
       "\t<li>'#M103'</li>\n",
       "\t<li>'#CdnAgDay'</li>\n",
       "\t<li>'#WinterShakeUp'</li>\n",
       "\t<li>'#PresidentialTVShows'</li>\n",
       "\t<li>'#RVNMO'</li>\n",
       "</ol>\n"
      ],
      "text/latex": [
       "\\begin{enumerate*}\n",
       "\\item 'Jamal Murray'\n",
       "\\item '\\#NBACelebGame'\n",
       "\\item '\\#BlueJackets'\n",
       "\\item 'Owen Sound'\n",
       "\\item '\\#CanM20'\n",
       "\\item 'Kyrie Irving'\n",
       "\\item '\\#FridayFeeling'\n",
       "\\item '\\#FamilyDay'\n",
       "\\item 'Game 3'\n",
       "\\item 'Donald Glover'\n",
       "\\item 'Tigres'\n",
       "\\item 'Win Butler'\n",
       "\\item 'Marlies'\n",
       "\\item 'Voltigeurs'\n",
       "\\item 'Islam as Muslims'\n",
       "\\item 'Ryerson'\n",
       "\\item 'Sea Dogs'\n",
       "\\item 'Jughead'\n",
       "\\item 'Logan'\n",
       "\\item 'Cougars'\n",
       "\\item 'Pens'\n",
       "\\item 'The Animal'\n",
       "\\item 'Sidney Crosby'\n",
       "\\item 'Nancy Elgie'\n",
       "\\item '\\#longestnightpeel'\n",
       "\\item '\\#CJDLTV'\n",
       "\\item '\\#CWplayoffs'\n",
       "\\item '\\#advocacyworks'\n",
       "\\item '\\#MakeASongWhiny'\n",
       "\\item '\\#ItsAboutTimeI'\n",
       "\\item '\\#GARTHinedmonton'\n",
       "\\item '\\#RealTime'\n",
       "\\item '\\#BCPainSummit'\n",
       "\\item '\\#LivePD'\n",
       "\\item '\\#winefest2017'\n",
       "\\item '\\#BlueBloods'\n",
       "\\item '\\#GAvsTOR'\n",
       "\\item '\\#paparagilles'\n",
       "\\item '\\#GoLaval'\n",
       "\\item '\\#JoinTheRegiment'\n",
       "\\item '\\#olympiques'\n",
       "\\item '\\#TrueNorthCalling'\n",
       "\\item '\\#LARain'\n",
       "\\item '\\#DayofFacts'\n",
       "\\item '\\#Garland'\n",
       "\\item '\\#M103'\n",
       "\\item '\\#CdnAgDay'\n",
       "\\item '\\#WinterShakeUp'\n",
       "\\item '\\#PresidentialTVShows'\n",
       "\\item '\\#RVNMO'\n",
       "\\end{enumerate*}\n"
      ],
      "text/markdown": [
       "1. 'Jamal Murray'\n",
       "2. '#NBACelebGame'\n",
       "3. '#BlueJackets'\n",
       "4. 'Owen Sound'\n",
       "5. '#CanM20'\n",
       "6. 'Kyrie Irving'\n",
       "7. '#FridayFeeling'\n",
       "8. '#FamilyDay'\n",
       "9. 'Game 3'\n",
       "10. 'Donald Glover'\n",
       "11. 'Tigres'\n",
       "12. 'Win Butler'\n",
       "13. 'Marlies'\n",
       "14. 'Voltigeurs'\n",
       "15. 'Islam as Muslims'\n",
       "16. 'Ryerson'\n",
       "17. 'Sea Dogs'\n",
       "18. 'Jughead'\n",
       "19. 'Logan'\n",
       "20. 'Cougars'\n",
       "21. 'Pens'\n",
       "22. 'The Animal'\n",
       "23. 'Sidney Crosby'\n",
       "24. 'Nancy Elgie'\n",
       "25. '#longestnightpeel'\n",
       "26. '#CJDLTV'\n",
       "27. '#CWplayoffs'\n",
       "28. '#advocacyworks'\n",
       "29. '#MakeASongWhiny'\n",
       "30. '#ItsAboutTimeI'\n",
       "31. '#GARTHinedmonton'\n",
       "32. '#RealTime'\n",
       "33. '#BCPainSummit'\n",
       "34. '#LivePD'\n",
       "35. '#winefest2017'\n",
       "36. '#BlueBloods'\n",
       "37. '#GAvsTOR'\n",
       "38. '#paparagilles'\n",
       "39. '#GoLaval'\n",
       "40. '#JoinTheRegiment'\n",
       "41. '#olympiques'\n",
       "42. '#TrueNorthCalling'\n",
       "43. '#LARain'\n",
       "44. '#DayofFacts'\n",
       "45. '#Garland'\n",
       "46. '#M103'\n",
       "47. '#CdnAgDay'\n",
       "48. '#WinterShakeUp'\n",
       "49. '#PresidentialTVShows'\n",
       "50. '#RVNMO'\n",
       "\n",
       "\n"
      ],
      "text/plain": [
       " [1] \"Jamal Murray\"         \"#NBACelebGame\"        \"#BlueJackets\"        \n",
       " [4] \"Owen Sound\"           \"#CanM20\"              \"Kyrie Irving\"        \n",
       " [7] \"#FridayFeeling\"       \"#FamilyDay\"           \"Game 3\"              \n",
       "[10] \"Donald Glover\"        \"Tigres\"               \"Win Butler\"          \n",
       "[13] \"Marlies\"              \"Voltigeurs\"           \"Islam as Muslims\"    \n",
       "[16] \"Ryerson\"              \"Sea Dogs\"             \"Jughead\"             \n",
       "[19] \"Logan\"                \"Cougars\"              \"Pens\"                \n",
       "[22] \"The Animal\"           \"Sidney Crosby\"        \"Nancy Elgie\"         \n",
       "[25] \"#longestnightpeel\"    \"#CJDLTV\"              \"#CWplayoffs\"         \n",
       "[28] \"#advocacyworks\"       \"#MakeASongWhiny\"      \"#ItsAboutTimeI\"      \n",
       "[31] \"#GARTHinedmonton\"     \"#RealTime\"            \"#BCPainSummit\"       \n",
       "[34] \"#LivePD\"              \"#winefest2017\"        \"#BlueBloods\"         \n",
       "[37] \"#GAvsTOR\"             \"#paparagilles\"        \"#GoLaval\"            \n",
       "[40] \"#JoinTheRegiment\"     \"#olympiques\"          \"#TrueNorthCalling\"   \n",
       "[43] \"#LARain\"              \"#DayofFacts\"          \"#Garland\"            \n",
       "[46] \"#M103\"                \"#CdnAgDay\"            \"#WinterShakeUp\"      \n",
       "[49] \"#PresidentialTVShows\" \"#RVNMO\"              "
      ]
     },
     "metadata": {},
     "output_type": "display_data"
    }
   ],
   "source": [
    "summary('Buffalo')"
   ]
  },
  {
   "cell_type": "code",
   "execution_count": 39,
   "metadata": {
    "collapsed": false
   },
   "outputs": [
    {
     "name": "stdout",
     "output_type": "stream",
     "text": [
      "[1] \"Using direct authentication\"\n"
     ]
    },
    {
     "name": "stderr",
     "output_type": "stream",
     "text": [
      "Information from URL : http://maps.googleapis.com/maps/api/geocode/json?address=India&sensor=false\n"
     ]
    },
    {
     "data": {
      "text/html": [
       "<ol class=list-inline>\n",
       "\t<li>'#कारनामे_बोलते_है'</li>\n",
       "\t<li>'#DJFirstLook'</li>\n",
       "\t<li>'#TNAssembly'</li>\n",
       "\t<li>'#ProbeBJP_ISI_Link'</li>\n",
       "\t<li>'#Bhavana'</li>\n",
       "\t<li>'Times of India'</li>\n",
       "\t<li>'PSUs'</li>\n",
       "\t<li>'Priyanka'</li>\n",
       "\t<li>'Sufi'</li>\n",
       "\t<li>'Rajiv Bajaj'</li>\n",
       "\t<li>'Rangoon Next Friday'</li>\n",
       "\t<li>'Sunday With Shivaay'</li>\n",
       "\t<li>'Aditya Puri'</li>\n",
       "\t<li>'New Zealand'</li>\n",
       "\t<li>'#113CrIn8Days'</li>\n",
       "\t<li>'#सेक्स_देशद्रोह_BJP'</li>\n",
       "\t<li>'#ArunKumar'</li>\n",
       "\t<li>'#Shahabuddin'</li>\n",
       "\t<li>'#saturdaymorning'</li>\n",
       "\t<li>'#Dinakaran'</li>\n",
       "\t<li>'#ServerSundaram'</li>\n",
       "\t<li>'#SajidNadiadwala'</li>\n",
       "\t<li>'#KimJongNam'</li>\n",
       "\t<li>'#Judges'</li>\n",
       "\t<li>'#SuperheroesonSonySIX'</li>\n",
       "\t<li>'#StandWithArmy'</li>\n",
       "\t<li>'#Humsafar'</li>\n",
       "\t<li>'#PatanjaliMisleadingConsumers'</li>\n",
       "\t<li>'#MangalBhanushali4BMC'</li>\n",
       "\t<li>'#INDAvAUS'</li>\n",
       "\t<li>'#गठबंधन_की_आंधी'</li>\n",
       "\t<li>'#Velaikkaran'</li>\n",
       "\t<li>'#RunningShaadi'</li>\n",
       "\t<li>'#RukminiSahay'</li>\n",
       "\t<li>'#MomentumJharkhand'</li>\n",
       "\t<li>'#VoteToSaveAarey'</li>\n",
       "\t<li>'#PrayForChetanCheeta'</li>\n",
       "\t<li>'#DoraTeaser'</li>\n",
       "\t<li>'#Ignis'</li>\n",
       "\t<li>'#Panjumittai'</li>\n",
       "\t<li>'#weekend'</li>\n",
       "\t<li>'#Balloon'</li>\n",
       "\t<li>'#LalShahbazQalandar'</li>\n",
       "\t<li>'#Palaniswami'</li>\n",
       "\t<li>'#HebbulionFeb23'</li>\n",
       "\t<li>'#RandomActsOfKindnessDay'</li>\n",
       "</ol>\n"
      ],
      "text/latex": [
       "\\begin{enumerate*}\n",
       "\\item '\\#कारनामे\\_बोलते\\_है'\n",
       "\\item '\\#DJFirstLook'\n",
       "\\item '\\#TNAssembly'\n",
       "\\item '\\#ProbeBJP\\_ISI\\_Link'\n",
       "\\item '\\#Bhavana'\n",
       "\\item 'Times of India'\n",
       "\\item 'PSUs'\n",
       "\\item 'Priyanka'\n",
       "\\item 'Sufi'\n",
       "\\item 'Rajiv Bajaj'\n",
       "\\item 'Rangoon Next Friday'\n",
       "\\item 'Sunday With Shivaay'\n",
       "\\item 'Aditya Puri'\n",
       "\\item 'New Zealand'\n",
       "\\item '\\#113CrIn8Days'\n",
       "\\item '\\#सेक्स\\_देशद्रोह\\_BJP'\n",
       "\\item '\\#ArunKumar'\n",
       "\\item '\\#Shahabuddin'\n",
       "\\item '\\#saturdaymorning'\n",
       "\\item '\\#Dinakaran'\n",
       "\\item '\\#ServerSundaram'\n",
       "\\item '\\#SajidNadiadwala'\n",
       "\\item '\\#KimJongNam'\n",
       "\\item '\\#Judges'\n",
       "\\item '\\#SuperheroesonSonySIX'\n",
       "\\item '\\#StandWithArmy'\n",
       "\\item '\\#Humsafar'\n",
       "\\item '\\#PatanjaliMisleadingConsumers'\n",
       "\\item '\\#MangalBhanushali4BMC'\n",
       "\\item '\\#INDAvAUS'\n",
       "\\item '\\#गठबंधन\\_की\\_आंधी'\n",
       "\\item '\\#Velaikkaran'\n",
       "\\item '\\#RunningShaadi'\n",
       "\\item '\\#RukminiSahay'\n",
       "\\item '\\#MomentumJharkhand'\n",
       "\\item '\\#VoteToSaveAarey'\n",
       "\\item '\\#PrayForChetanCheeta'\n",
       "\\item '\\#DoraTeaser'\n",
       "\\item '\\#Ignis'\n",
       "\\item '\\#Panjumittai'\n",
       "\\item '\\#weekend'\n",
       "\\item '\\#Balloon'\n",
       "\\item '\\#LalShahbazQalandar'\n",
       "\\item '\\#Palaniswami'\n",
       "\\item '\\#HebbulionFeb23'\n",
       "\\item '\\#RandomActsOfKindnessDay'\n",
       "\\end{enumerate*}\n"
      ],
      "text/markdown": [
       "1. '#कारनामे_बोलते_है'\n",
       "2. '#DJFirstLook'\n",
       "3. '#TNAssembly'\n",
       "4. '#ProbeBJP_ISI_Link'\n",
       "5. '#Bhavana'\n",
       "6. 'Times of India'\n",
       "7. 'PSUs'\n",
       "8. 'Priyanka'\n",
       "9. 'Sufi'\n",
       "10. 'Rajiv Bajaj'\n",
       "11. 'Rangoon Next Friday'\n",
       "12. 'Sunday With Shivaay'\n",
       "13. 'Aditya Puri'\n",
       "14. 'New Zealand'\n",
       "15. '#113CrIn8Days'\n",
       "16. '#सेक्स_देशद्रोह_BJP'\n",
       "17. '#ArunKumar'\n",
       "18. '#Shahabuddin'\n",
       "19. '#saturdaymorning'\n",
       "20. '#Dinakaran'\n",
       "21. '#ServerSundaram'\n",
       "22. '#SajidNadiadwala'\n",
       "23. '#KimJongNam'\n",
       "24. '#Judges'\n",
       "25. '#SuperheroesonSonySIX'\n",
       "26. '#StandWithArmy'\n",
       "27. '#Humsafar'\n",
       "28. '#PatanjaliMisleadingConsumers'\n",
       "29. '#MangalBhanushali4BMC'\n",
       "30. '#INDAvAUS'\n",
       "31. '#गठबंधन_की_आंधी'\n",
       "32. '#Velaikkaran'\n",
       "33. '#RunningShaadi'\n",
       "34. '#RukminiSahay'\n",
       "35. '#MomentumJharkhand'\n",
       "36. '#VoteToSaveAarey'\n",
       "37. '#PrayForChetanCheeta'\n",
       "38. '#DoraTeaser'\n",
       "39. '#Ignis'\n",
       "40. '#Panjumittai'\n",
       "41. '#weekend'\n",
       "42. '#Balloon'\n",
       "43. '#LalShahbazQalandar'\n",
       "44. '#Palaniswami'\n",
       "45. '#HebbulionFeb23'\n",
       "46. '#RandomActsOfKindnessDay'\n",
       "\n",
       "\n"
      ],
      "text/plain": [
       " [1] \"#<U+0915><U+093E><U+0930><U+0928><U+093E><U+092E><U+0947>_<U+092C><U+094B><U+0932><U+0924><U+0947>_<U+0939><U+0948>\" \"#DJFirstLook\"                 \n",
       " [3] \"#TNAssembly\"                   \"#ProbeBJP_ISI_Link\"           \n",
       " [5] \"#Bhavana\"                      \"Times of India\"               \n",
       " [7] \"PSUs\"                          \"Priyanka\"                     \n",
       " [9] \"Sufi\"                          \"Rajiv Bajaj\"                  \n",
       "[11] \"Rangoon Next Friday\"           \"Sunday With Shivaay\"          \n",
       "[13] \"Aditya Puri\"                   \"New Zealand\"                  \n",
       "[15] \"#113CrIn8Days\"                 \"#<U+0938><U+0947><U+0915><U+094D><U+0938>_<U+0926><U+0947><U+0936><U+0926><U+094D><U+0930><U+094B><U+0939>_BJP\"\n",
       "[17] \"#ArunKumar\"                    \"#Shahabuddin\"                 \n",
       "[19] \"#saturdaymorning\"              \"#Dinakaran\"                   \n",
       "[21] \"#ServerSundaram\"               \"#SajidNadiadwala\"             \n",
       "[23] \"#KimJongNam\"                   \"#Judges\"                      \n",
       "[25] \"#SuperheroesonSonySIX\"         \"#StandWithArmy\"               \n",
       "[27] \"#Humsafar\"                     \"#PatanjaliMisleadingConsumers\"\n",
       "[29] \"#MangalBhanushali4BMC\"         \"#INDAvAUS\"                    \n",
       "[31] \"#<U+0917><U+0920><U+092C><U+0902><U+0927><U+0928>_<U+0915><U+0940>_<U+0906><U+0902><U+0927><U+0940>\" \"#Velaikkaran\"                 \n",
       "[33] \"#RunningShaadi\"                \"#RukminiSahay\"                \n",
       "[35] \"#MomentumJharkhand\"            \"#VoteToSaveAarey\"             \n",
       "[37] \"#PrayForChetanCheeta\"          \"#DoraTeaser\"                  \n",
       "[39] \"#Ignis\"                        \"#Panjumittai\"                 \n",
       "[41] \"#weekend\"                      \"#Balloon\"                     \n",
       "[43] \"#LalShahbazQalandar\"           \"#Palaniswami\"                 \n",
       "[45] \"#HebbulionFeb23\"               \"#RandomActsOfKindnessDay\"     "
      ]
     },
     "metadata": {},
     "output_type": "display_data"
    }
   ],
   "source": [
    "summary('India')"
   ]
  },
  {
   "cell_type": "code",
   "execution_count": 46,
   "metadata": {
    "collapsed": true
   },
   "outputs": [],
   "source": [
    "summary<-function(location){\n",
    "           library('twitteR')\n",
    "           setup_twitter_oauth(\"dIhjRcszok2R3LyK0VgYSded8\",\"IxujimHa6JJcWS8mzfC57i9GbgQSc7qst49Fvqu0aglyuykecQ\",\"2493349752-ao5qcIqhAga9jdk2N6RJTxeRIuQXaFwRk9RUhRb\",\"T0sYiVKJQsYRShQopO1Kvqwbr7Bx0Ky3DXs8kdRuxEUTZ\")\n",
    "           library('ggmap')\n",
    "           library('ggplot2')\n",
    "           geocode<-geocode(location)\n",
    "           closest_trends<-closestTrendLocations(geocode$lat,geocode$lon)\n",
    "           trends=getTrends(closest_trends$woeid)\n",
    "           summary2<-trends$name\n",
    "           print('The top 10 trends are')\n",
    "           head(summary2,10)\n",
    "          }"
   ]
  },
  {
   "cell_type": "code",
   "execution_count": 41,
   "metadata": {
    "collapsed": false
   },
   "outputs": [
    {
     "name": "stdout",
     "output_type": "stream",
     "text": [
      "[1] \"Using direct authentication\"\n"
     ]
    },
    {
     "name": "stderr",
     "output_type": "stream",
     "text": [
      "Information from URL : http://maps.googleapis.com/maps/api/geocode/json?address=New%20York&sensor=false\n"
     ]
    },
    {
     "data": {
      "text/html": [
       "<ol class=list-inline>\n",
       "\t<li>'#drummer'</li>\n",
       "\t<li>'#SJUBase'</li>\n",
       "\t<li>'Prod'</li>\n",
       "\t<li>'Spring'</li>\n",
       "\t<li>'#HurtBae'</li>\n",
       "\t<li>'#UMES'</li>\n",
       "\t<li>'#Bears'</li>\n",
       "\t<li>'Norma McCorvey'</li>\n",
       "\t<li>'Rocko'</li>\n",
       "\t<li>'CPAC'</li>\n",
       "</ol>\n"
      ],
      "text/latex": [
       "\\begin{enumerate*}\n",
       "\\item '\\#drummer'\n",
       "\\item '\\#SJUBase'\n",
       "\\item 'Prod'\n",
       "\\item 'Spring'\n",
       "\\item '\\#HurtBae'\n",
       "\\item '\\#UMES'\n",
       "\\item '\\#Bears'\n",
       "\\item 'Norma McCorvey'\n",
       "\\item 'Rocko'\n",
       "\\item 'CPAC'\n",
       "\\end{enumerate*}\n"
      ],
      "text/markdown": [
       "1. '#drummer'\n",
       "2. '#SJUBase'\n",
       "3. 'Prod'\n",
       "4. 'Spring'\n",
       "5. '#HurtBae'\n",
       "6. '#UMES'\n",
       "7. '#Bears'\n",
       "8. 'Norma McCorvey'\n",
       "9. 'Rocko'\n",
       "10. 'CPAC'\n",
       "\n",
       "\n"
      ],
      "text/plain": [
       " [1] \"#drummer\"       \"#SJUBase\"       \"Prod\"           \"Spring\"        \n",
       " [5] \"#HurtBae\"       \"#UMES\"          \"#Bears\"         \"Norma McCorvey\"\n",
       " [9] \"Rocko\"          \"CPAC\"          "
      ]
     },
     "metadata": {},
     "output_type": "display_data"
    }
   ],
   "source": [
    "summary('New York')"
   ]
  },
  {
   "cell_type": "code",
   "execution_count": 42,
   "metadata": {
    "collapsed": false
   },
   "outputs": [
    {
     "name": "stdout",
     "output_type": "stream",
     "text": [
      "[1] \"The top 10 trends are\"\n"
     ]
    }
   ],
   "source": [
    "print('The top 10 trends are')"
   ]
  },
  {
   "cell_type": "code",
   "execution_count": 45,
   "metadata": {
    "collapsed": false
   },
   "outputs": [
    {
     "name": "stdout",
     "output_type": "stream",
     "text": [
      "[1] \"The top 10 trends are\"\n",
      "[1] \"Using direct authentication\"\n"
     ]
    },
    {
     "name": "stderr",
     "output_type": "stream",
     "text": [
      "Information from URL : http://maps.googleapis.com/maps/api/geocode/json?address=New%20York&sensor=false\n"
     ]
    },
    {
     "name": "stdout",
     "output_type": "stream",
     "text": [
      " [1] \"#drummer\"       \"#SJUBase\"       \"Prod\"           \"Spring\"        \n",
      " [5] \"#hurtbae\"       \"#UMES\"          \"#Bears\"         \"Eron Harris\"   \n",
      " [9] \"Norma McCorvey\" \"Rocko\"         \n"
     ]
    },
    {
     "ename": "ERROR",
     "evalue": "Error in print(\"The top 10 trends are\") + print(summary(location)): non-numeric argument to binary operator\n",
     "output_type": "error",
     "traceback": [
      "Error in print(\"The top 10 trends are\") + print(summary(location)): non-numeric argument to binary operator\nTraceback:\n"
     ]
    }
   ],
   "source": [
    "print('The top 10 trends are')+print(summary(location))"
   ]
  },
  {
   "cell_type": "code",
   "execution_count": 47,
   "metadata": {
    "collapsed": false
   },
   "outputs": [
    {
     "name": "stdout",
     "output_type": "stream",
     "text": [
      "[1] \"Using direct authentication\"\n"
     ]
    },
    {
     "name": "stderr",
     "output_type": "stream",
     "text": [
      "Information from URL : http://maps.googleapis.com/maps/api/geocode/json?address=New%20York&sensor=false\n"
     ]
    },
    {
     "name": "stdout",
     "output_type": "stream",
     "text": [
      "[1] \"The top 10 trends are\"\n"
     ]
    },
    {
     "data": {
      "text/html": [
       "<ol class=list-inline>\n",
       "\t<li>'#drummer'</li>\n",
       "\t<li>'#SJUBase'</li>\n",
       "\t<li>'Prod'</li>\n",
       "\t<li>'Spring'</li>\n",
       "\t<li>'#hurtbae'</li>\n",
       "\t<li>'#UMES'</li>\n",
       "\t<li>'#Bears'</li>\n",
       "\t<li>'Eron Harris'</li>\n",
       "\t<li>'Norma McCorvey'</li>\n",
       "\t<li>'Rocko'</li>\n",
       "</ol>\n"
      ],
      "text/latex": [
       "\\begin{enumerate*}\n",
       "\\item '\\#drummer'\n",
       "\\item '\\#SJUBase'\n",
       "\\item 'Prod'\n",
       "\\item 'Spring'\n",
       "\\item '\\#hurtbae'\n",
       "\\item '\\#UMES'\n",
       "\\item '\\#Bears'\n",
       "\\item 'Eron Harris'\n",
       "\\item 'Norma McCorvey'\n",
       "\\item 'Rocko'\n",
       "\\end{enumerate*}\n"
      ],
      "text/markdown": [
       "1. '#drummer'\n",
       "2. '#SJUBase'\n",
       "3. 'Prod'\n",
       "4. 'Spring'\n",
       "5. '#hurtbae'\n",
       "6. '#UMES'\n",
       "7. '#Bears'\n",
       "8. 'Eron Harris'\n",
       "9. 'Norma McCorvey'\n",
       "10. 'Rocko'\n",
       "\n",
       "\n"
      ],
      "text/plain": [
       " [1] \"#drummer\"       \"#SJUBase\"       \"Prod\"           \"Spring\"        \n",
       " [5] \"#hurtbae\"       \"#UMES\"          \"#Bears\"         \"Eron Harris\"   \n",
       " [9] \"Norma McCorvey\" \"Rocko\"         "
      ]
     },
     "metadata": {},
     "output_type": "display_data"
    }
   ],
   "source": [
    "summary(location)"
   ]
  },
  {
   "cell_type": "code",
   "execution_count": 48,
   "metadata": {
    "collapsed": false
   },
   "outputs": [
    {
     "name": "stdout",
     "output_type": "stream",
     "text": [
      "[1] \"Using direct authentication\"\n"
     ]
    },
    {
     "name": "stderr",
     "output_type": "stream",
     "text": [
      "Information from URL : http://maps.googleapis.com/maps/api/geocode/json?address=Buffalo&sensor=false\n"
     ]
    },
    {
     "name": "stdout",
     "output_type": "stream",
     "text": [
      "[1] \"The top 10 trends are\"\n"
     ]
    },
    {
     "data": {
      "text/html": [
       "<ol class=list-inline>\n",
       "\t<li>'#TrumpRally'</li>\n",
       "\t<li>'Patrik Laine'</li>\n",
       "\t<li>'Florida'</li>\n",
       "\t<li>'Parkdale'</li>\n",
       "\t<li>'Carey Price'</li>\n",
       "\t<li>'#TEDxUofT'</li>\n",
       "\t<li>'Josh Donaldson'</li>\n",
       "\t<li>'#cbccurl'</li>\n",
       "\t<li>'#NationalDrinkWineDay'</li>\n",
       "\t<li>'#HockeyDay'</li>\n",
       "</ol>\n"
      ],
      "text/latex": [
       "\\begin{enumerate*}\n",
       "\\item '\\#TrumpRally'\n",
       "\\item 'Patrik Laine'\n",
       "\\item 'Florida'\n",
       "\\item 'Parkdale'\n",
       "\\item 'Carey Price'\n",
       "\\item '\\#TEDxUofT'\n",
       "\\item 'Josh Donaldson'\n",
       "\\item '\\#cbccurl'\n",
       "\\item '\\#NationalDrinkWineDay'\n",
       "\\item '\\#HockeyDay'\n",
       "\\end{enumerate*}\n"
      ],
      "text/markdown": [
       "1. '#TrumpRally'\n",
       "2. 'Patrik Laine'\n",
       "3. 'Florida'\n",
       "4. 'Parkdale'\n",
       "5. 'Carey Price'\n",
       "6. '#TEDxUofT'\n",
       "7. 'Josh Donaldson'\n",
       "8. '#cbccurl'\n",
       "9. '#NationalDrinkWineDay'\n",
       "10. '#HockeyDay'\n",
       "\n",
       "\n"
      ],
      "text/plain": [
       " [1] \"#TrumpRally\"           \"Patrik Laine\"          \"Florida\"              \n",
       " [4] \"Parkdale\"              \"Carey Price\"           \"#TEDxUofT\"            \n",
       " [7] \"Josh Donaldson\"        \"#cbccurl\"              \"#NationalDrinkWineDay\"\n",
       "[10] \"#HockeyDay\"           "
      ]
     },
     "metadata": {},
     "output_type": "display_data"
    }
   ],
   "source": [
    "summary('Buffalo')"
   ]
  },
  {
   "cell_type": "code",
   "execution_count": null,
   "metadata": {
    "collapsed": true
   },
   "outputs": [],
   "source": []
  }
 ],
 "metadata": {
  "anaconda-cloud": {},
  "kernelspec": {
   "display_name": "R 3.3",
   "language": "R",
   "name": "ir33"
  },
  "language_info": {
   "codemirror_mode": "r",
   "file_extension": ".r",
   "mimetype": "text/x-r-source",
   "name": "R",
   "pygments_lexer": "r",
   "version": "3.3.1"
  }
 },
 "nbformat": 4,
 "nbformat_minor": 0
}
