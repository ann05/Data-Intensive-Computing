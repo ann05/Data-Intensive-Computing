{
 "cells": [
  {
   "cell_type": "code",
   "execution_count": 1,
   "metadata": {
    "collapsed": false
   },
   "outputs": [
    {
     "name": "stderr",
     "output_type": "stream",
     "text": [
      "Warning message:\n",
      "\"package 'twitteR' was built under R version 3.3.2\""
     ]
    }
   ],
   "source": [
    "library('twitteR')"
   ]
  },
  {
   "cell_type": "code",
   "execution_count": 3,
   "metadata": {
    "collapsed": false
   },
   "outputs": [
    {
     "name": "stderr",
     "output_type": "stream",
     "text": [
      "Warning message:\n",
      "\"package 'RSQLite' was built under R version 3.3.2\""
     ]
    }
   ],
   "source": [
    "library('RSQLite')"
   ]
  },
  {
   "cell_type": "code",
   "execution_count": 4,
   "metadata": {
    "collapsed": false
   },
   "outputs": [
    {
     "name": "stdout",
     "output_type": "stream",
     "text": [
      "[1] \"Using direct authentication\"\n"
     ]
    }
   ],
   "source": [
    "setup_twitter_oauth(\"dIhjRcszok2R3LyK0VgYSded8\",\"IxujimHa6JJcWS8mzfC57i9GbgQSc7qst49Fvqu0aglyuykecQ\",\"2493349752-ao5qcIqhAga9jdk2N6RJTxeRIuQXaFwRk9RUhRb\",\"T0sYiVKJQsYRShQopO1Kvqwbr7Bx0Ky3DXs8kdRuxEUTZ\")"
   ]
  },
  {
   "cell_type": "code",
   "execution_count": 5,
   "metadata": {
    "collapsed": true
   },
   "outputs": [],
   "source": [
    "tweets <- searchTwitter('#Valentinesday', n=50)"
   ]
  },
  {
   "cell_type": "code",
   "execution_count": 6,
   "metadata": {
    "collapsed": false
   },
   "outputs": [
    {
     "data": {
      "text/plain": [
       "[[1]]\n",
       "[1] \"fauxsterpoetry: #ValentinesDay #poem If you're a fan of #RupiKaur &amp; #MilkandHoney check out #Fauxster. #WOC #AAPI #poetry #love",
       " https://t.co/BWO9NSO1dR\"\n",
       "\n",
       "[[2]]\n",
       "[1] \"ElizabethEcosta: RT @RachaelRayShow: This is what Rachael is made John for their first dinner <ed><U+00A0><U+00BD><ed><U+00B2><U+0098>: https://t.co/d0aUEKX79v  #ValentinesDay https://t.co/eoS3M9",
       "\"\n",
       "\n",
       "[[3]]\n",
       "[1] \"CusackV: RT @NHSOrganDonor: Valentine's Day and organ donation fit like a glove. At the end of the day, they're both about love. #ValentinesDay http",
       "\"\n",
       "\n",
       "[[4]]\n",
       "[1] \"GoofyFan32: #Disney #WaltDisneyWorld #MagicKingdom #Pez #VintagePez #PezCollectors #MickeyMouse #MinnieMouse #ValentinesDay\\n\\nhttps://t.co/BW11YFUmDu\"\n",
       "\n",
       "[[5]]\n",
       "[1] \"carlgershon: RT @carlgershon: #NEWMUSIC ! A #slowjam for all the lovers and lonely hearts on #valentinesday . retweet if you dig it!  #np https://t.co/F",
       "\"\n",
       "\n",
       "[[6]]\n",
       "[1] \"72Eduargonzas: RT @LuisGregoyo: El día del amor y la amistad en los tiempos de los filmes de DC Comics <ed><U+00A0><U+00BD><ed><U+00B8><U+0092> #ValentinesDay https://t.co/kSh65KkRRt\"\n"
      ]
     },
     "metadata": {},
     "output_type": "display_data"
    }
   ],
   "source": [
    "head(tweets)"
   ]
  },
  {
   "cell_type": "code",
   "execution_count": 7,
   "metadata": {
    "collapsed": false
   },
   "outputs": [
    {
     "data": {
      "text/plain": [
       "[[1]]\n",
       "[1] \"fauxsterpoetry: #ValentinesDay #poem If you're a fan of #RupiKaur &amp; #MilkandHoney check out #Fauxster. #WOC #AAPI #poetry #love",
       " https://t.co/BWO9NSO1dR\"\n",
       "\n",
       "[[2]]\n",
       "[1] \"GoofyFan32: #Disney #WaltDisneyWorld #MagicKingdom #Pez #VintagePez #PezCollectors #MickeyMouse #MinnieMouse #ValentinesDay\\n\\nhttps://t.co/BW11YFUmDu\"\n",
       "\n",
       "[[3]]\n",
       "[1] \"stephy905: #WIN 3 Fabulous @ShoutFactory DVD's @naturalycracked #ValentinesDay \\n#CANWIN #US #GIVEAWAY #DVD #KIDS \\n  https://t.co/aoG4fUEJQP\"\n",
       "\n",
       "[[4]]\n",
       "[1] \"robert72894: #Disney #WaltDisneyWorld #MagicKingdom #Pez #VintagePez #PezCollectors #MickeyMouse #MinnieMouse #ValentinesDay\\n\\nhttps://t.co/gJ6bJORRyK\"\n",
       "\n",
       "[[5]]\n",
       "[1] \"SGDanielsAuthor: Want the sweetest romance for #ValentinesDay? #Read PINK #JellybeanKisses by @aammyyss  #Free https://t.co/MM384x8iFy #romcom #YA #MTLBWY\"\n",
       "\n",
       "[[6]]\n",
       "[1] \"buzz8: The new IT bag for your sweetheart! Aerio Messenger from @moshi_life #Giveaway @lburgcouponmama #ValentinesDay https://t.co/17S53zcT2l\"\n"
      ]
     },
     "metadata": {},
     "output_type": "display_data"
    }
   ],
   "source": [
    "head(strip_retweets(tweets,strip_manual=TRUE,strip_mt=TRUE))"
   ]
  },
  {
   "cell_type": "code",
   "execution_count": 9,
   "metadata": {
    "collapsed": true
   },
   "outputs": [],
   "source": [
    "user<-getUser('arjunk26')"
   ]
  },
  {
   "cell_type": "code",
   "execution_count": 10,
   "metadata": {
    "collapsed": false
   },
   "outputs": [
    {
     "data": {
      "text/html": [
       "'Son, Brother, Friend, Actor ( all 4 work in progress)'"
      ],
      "text/latex": [
       "'Son, Brother, Friend, Actor ( all 4 work in progress)'"
      ],
      "text/markdown": [
       "'Son, Brother, Friend, Actor ( all 4 work in progress)'"
      ],
      "text/plain": [
       "[1] \"Son, Brother, Friend, Actor ( all 4 work in progress)\""
      ]
     },
     "metadata": {},
     "output_type": "display_data"
    }
   ],
   "source": [
    "user$getDescription()"
   ]
  },
  {
   "cell_type": "code",
   "execution_count": 11,
   "metadata": {
    "collapsed": false
   },
   "outputs": [
    {
     "data": {
      "text/html": [
       "2702870"
      ],
      "text/latex": [
       "2702870"
      ],
      "text/markdown": [
       "2702870"
      ],
      "text/plain": [
       "[1] 2702870"
      ]
     },
     "metadata": {},
     "output_type": "display_data"
    }
   ],
   "source": [
    "user$getFollowersCount()"
   ]
  },
  {
   "cell_type": "code",
   "execution_count": 12,
   "metadata": {
    "collapsed": false
   },
   "outputs": [
    {
     "data": {
      "text/plain": [
       "$`830360126347309056`\n",
       "[1] \"gaurikhan08\"\n",
       "\n",
       "$`16228398`\n",
       "[1] \"mcuban\"\n",
       "\n",
       "$`468583731`\n",
       "[1] \"ABCSharkTank\"\n",
       "\n",
       "$`39275966`\n",
       "[1] \"robertherjavec\"\n",
       "\n",
       "$`16225240`\n",
       "[1] \"TheSharkDaymond\"\n"
      ]
     },
     "metadata": {},
     "output_type": "display_data"
    }
   ],
   "source": [
    "user$getFriends(n=5)"
   ]
  },
  {
   "cell_type": "code",
   "execution_count": 13,
   "metadata": {
    "collapsed": false
   },
   "outputs": [
    {
     "data": {
      "text/plain": [
       "[[1]]\n",
       "[1] \"FarOutAkhtar: Couldn't agree more with you @akshayerathi .. https://t.co/Xina5ZfGtX\"\n",
       "\n",
       "[[2]]\n",
       "[1] \"AnilKapoor: Channeling my inner #UsainBolt for @gqindia... My stride is longer than yours @kunalrawalvibe! This ones for",
       " https://t.co/Qprwtkq50d\"\n",
       "\n",
       "[[3]]\n",
       "[1] \"aliabbaszafar: Bad boys @RanveerOfficial @arjunk26 &amp; beautiful girl @priyankachopra #throwback @GundayTheFilm \\\" blood &amp; bullets on",
       " https://t.co/vfXUY5QZmY\"\n",
       "\n",
       "[[4]]\n",
       "[1] \"iFaridoon: Always quote correctly, dont indulge in gossip,be courteous and polite but still retain distance with celebs... Be",
       " https://t.co/ZXBV3xsaso\"\n",
       "\n",
       "[[5]]\n",
       "[1] \"TheSharkDaymond: I dont sleep enough. But I've never met someone successful who says I wish I slept more. @robertherjavec #SharkQuote\"\n"
      ]
     },
     "metadata": {},
     "output_type": "display_data"
    }
   ],
   "source": [
    "user$getFavorites(n=5)"
   ]
  },
  {
   "cell_type": "code",
   "execution_count": 14,
   "metadata": {
    "collapsed": false
   },
   "outputs": [
    {
     "data": {
      "text/html": [
       "<table>\n",
       "<thead><tr><th scope=col>text</th><th scope=col>favorited</th><th scope=col>favoriteCount</th><th scope=col>replyToSN</th><th scope=col>created</th><th scope=col>truncated</th><th scope=col>replyToSID</th><th scope=col>id</th><th scope=col>replyToUID</th><th scope=col>statusSource</th><th scope=col>screenName</th><th scope=col>retweetCount</th><th scope=col>isRetweet</th><th scope=col>retweeted</th><th scope=col>longitude</th><th scope=col>latitude</th></tr></thead>\n",
       "<tbody>\n",
       "\t<tr><td><span style=white-space:pre-wrap>#ValentinesDay #poem If you're a fan of #RupiKaur &amp;amp; #MilkandHoney check out #Fauxster. #WOC #AAPI #poetry #love… https://t.co/BWO9NSO1dR                                       </span></td><td>FALSE                                                                                                                                                                                                                          </td><td>0                                                                                                                                                                                                                              </td><td>NA                                                                                                                                                                                                                             </td><td>2017-02-18 22:53:27                                                                                                                                                                                                            </td><td> TRUE                                                                                                                                                                                                                          </td><td>NA                                                                                                                                                                                                                             </td><td>833087057794723841                                                                                                                                                                                                             </td><td>NA                                                                                                                                                                                                                             </td><td><span style=white-space:pre-wrap>&lt;a href=\"http://twitter.com\" rel=\"nofollow\"&gt;Twitter Web Client&lt;/a&gt;                  </span>                                                                                       </td><td>fauxsterpoetry                                                                                                                                                                                                                 </td><td> 0                                                                                                                                                                                                                             </td><td>FALSE                                                                                                                                                                                                                          </td><td>FALSE                                                                                                                                                                                                                          </td><td>NA                                                                                                                                                                                                                             </td><td>NA                                                                                                                                                                                                                             </td></tr>\n",
       "\t<tr><td><span style=white-space:pre-wrap>RT @RachaelRayShow: This is what Rachael is made John for their first dinner &lt;ed&gt;&lt;U+00A0&gt;&lt;U+00BD&gt;&lt;ed&gt;&lt;U+00B2&gt;&lt;U+0098&gt;: https://t.co/d0aUEKX79v  #ValentinesDay https://t.co/eoS3M9…</span></td><td>FALSE                                                                                                                                                                                                                                                          </td><td>0                                                                                                                                                                                                                                                              </td><td>NA                                                                                                                                                                                                                                                             </td><td>2017-02-18 22:53:22                                                                                                                                                                                                                                            </td><td>FALSE                                                                                                                                                                                                                                                          </td><td>NA                                                                                                                                                                                                                                                             </td><td>833087039222456321                                                                                                                                                                                                                                             </td><td>NA                                                                                                                                                                                                                                                             </td><td><span style=white-space:pre-wrap>&lt;a href=\"http://twitter.com/download/iphone\" rel=\"nofollow\"&gt;Twitter for iPhone&lt;/a&gt;  </span>                                                                                                                       </td><td>ElizabethEcosta                                                                                                                                                                                                                                                </td><td> 4                                                                                                                                                                                                                                                             </td><td> TRUE                                                                                                                                                                                                                                                          </td><td>FALSE                                                                                                                                                                                                                                                          </td><td>NA                                                                                                                                                                                                                                                             </td><td>NA                                                                                                                                                                                                                                                             </td></tr>\n",
       "\t<tr><td><span style=white-space:pre-wrap>RT @NHSOrganDonor: Valentine's Day and organ donation fit like a glove. At the end of the day, they're both about love. #ValentinesDay http…                                       </span></td><td>FALSE                                                                                                                                                                                                                      </td><td>0                                                                                                                                                                                                                          </td><td>NA                                                                                                                                                                                                                         </td><td>2017-02-18 22:53:22                                                                                                                                                                                                        </td><td>FALSE                                                                                                                                                                                                                      </td><td>NA                                                                                                                                                                                                                         </td><td>833087038085877760                                                                                                                                                                                                         </td><td>NA                                                                                                                                                                                                                         </td><td><span style=white-space:pre-wrap>&lt;a href=\"http://twitter.com/#!/download/ipad\" rel=\"nofollow\"&gt;Twitter for iPad&lt;/a&gt;   </span>                                                                                   </td><td><span style=white-space:pre-wrap>CusackV        </span>                                                                                                                                                                    </td><td>50                                                                                                                                                                                                                         </td><td> TRUE                                                                                                                                                                                                                      </td><td>FALSE                                                                                                                                                                                                                      </td><td>NA                                                                                                                                                                                                                         </td><td>NA                                                                                                                                                                                                                         </td></tr>\n",
       "\t<tr><td><span style=white-space:pre-wrap>#Disney #WaltDisneyWorld #MagicKingdom #Pez #VintagePez #PezCollectors #MickeyMouse #MinnieMouse #ValentinesDay\n",
       "\n",
       "https://t.co/BW11YFUmDu                                         </span></td><td>FALSE                                                                                                                                                                                                                      </td><td>0                                                                                                                                                                                                                          </td><td>NA                                                                                                                                                                                                                         </td><td>2017-02-18 22:52:55                                                                                                                                                                                                        </td><td>FALSE                                                                                                                                                                                                                      </td><td>NA                                                                                                                                                                                                                         </td><td>833086923010867202                                                                                                                                                                                                         </td><td>NA                                                                                                                                                                                                                         </td><td><span style=white-space:pre-wrap>&lt;a href=\"http://twitter.com\" rel=\"nofollow\"&gt;Twitter Web Client&lt;/a&gt;                  </span>                                                                                   </td><td><span style=white-space:pre-wrap>GoofyFan32     </span>                                                                                                                                                                    </td><td> 0                                                                                                                                                                                                                         </td><td>FALSE                                                                                                                                                                                                                      </td><td>FALSE                                                                                                                                                                                                                      </td><td>NA                                                                                                                                                                                                                         </td><td>NA                                                                                                                                                                                                                         </td></tr>\n",
       "\t<tr><td><span style=white-space:pre-wrap>RT @carlgershon: #NEWMUSIC ! A #slowjam for all the lovers and lonely hearts on #valentinesday . retweet if you dig it!  #np https://t.co/F…                                       </span></td><td>FALSE                                                                                                                                                                                                                      </td><td>0                                                                                                                                                                                                                          </td><td>NA                                                                                                                                                                                                                         </td><td>2017-02-18 22:52:52                                                                                                                                                                                                        </td><td>FALSE                                                                                                                                                                                                                      </td><td>NA                                                                                                                                                                                                                         </td><td>833086913334616064                                                                                                                                                                                                         </td><td>NA                                                                                                                                                                                                                         </td><td><span style=white-space:pre-wrap>&lt;a href=\"http://twitter.com/download/iphone\" rel=\"nofollow\"&gt;Twitter for iPhone&lt;/a&gt;  </span>                                                                                   </td><td><span style=white-space:pre-wrap>carlgershon    </span>                                                                                                                                                                    </td><td> 1                                                                                                                                                                                                                         </td><td> TRUE                                                                                                                                                                                                                      </td><td>FALSE                                                                                                                                                                                                                      </td><td>NA                                                                                                                                                                                                                         </td><td>NA                                                                                                                                                                                                                         </td></tr>\n",
       "\t<tr><td><span style=white-space:pre-wrap>RT @LuisGregoyo: El día del amor y la amistad en los tiempos de los filmes de DC Comics &lt;ed&gt;&lt;U+00A0&gt;&lt;U+00BD&gt;&lt;ed&gt;&lt;U+00B8&gt;&lt;U+0092&gt; #ValentinesDay https://t.co/kSh65KkRRt            </span></td><td>FALSE                                                                                                                                                                                                                                                          </td><td>0                                                                                                                                                                                                                                                              </td><td>NA                                                                                                                                                                                                                                                             </td><td>2017-02-18 22:52:46                                                                                                                                                                                                                                            </td><td>FALSE                                                                                                                                                                                                                                                          </td><td>NA                                                                                                                                                                                                                                                             </td><td>833086885027258370                                                                                                                                                                                                                                             </td><td>NA                                                                                                                                                                                                                                                             </td><td>&lt;a href=\"http://twitter.com/download/android\" rel=\"nofollow\"&gt;Twitter for Android&lt;/a&gt;                                                                                                                                                               </td><td><span style=white-space:pre-wrap>72Eduargonzas  </span>                                                                                                                                                                                                        </td><td> 1                                                                                                                                                                                                                                                             </td><td> TRUE                                                                                                                                                                                                                                                          </td><td>FALSE                                                                                                                                                                                                                                                          </td><td>NA                                                                                                                                                                                                                                                             </td><td>NA                                                                                                                                                                                                                                                             </td></tr>\n",
       "</tbody>\n",
       "</table>\n"
      ],
      "text/latex": [
       "\\begin{tabular}{r|llllllllllllllll}\n",
       " text & favorited & favoriteCount & replyToSN & created & truncated & replyToSID & id & replyToUID & statusSource & screenName & retweetCount & isRetweet & retweeted & longitude & latitude\\\\\n",
       "\\hline\n",
       "\t \\#ValentinesDay \\#poem If you're a fan of \\#RupiKaur \\&amp; \\#MilkandHoney check out \\#Fauxster. \\#WOC \\#AAPI \\#poetry \\#love… https://t.co/BWO9NSO1dR                                        & FALSE                                                                                                                                                                                                   & 0                                                                                                                                                                                                       & NA                                                                                                                                                                                                      & 2017-02-18 22:53:27                                                                                                                                                                                     &  TRUE                                                                                                                                                                                                   & NA                                                                                                                                                                                                      & 833087057794723841                                                                                                                                                                                      & NA                                                                                                                                                                                                      & <a href=\"http://twitter.com\" rel=\"nofollow\">Twitter Web Client</a>                                                                                                                                      & fauxsterpoetry                                                                                                                                                                                          &  0                                                                                                                                                                                                      & FALSE                                                                                                                                                                                                   & FALSE                                                                                                                                                                                                   & NA                                                                                                                                                                                                      & NA                                                                                                                                                                                                     \\\\\n",
       "\t RT @RachaelRayShow: This is what Rachael is made John for their first dinner <ed><U+00A0><U+00BD><ed><U+00B2><U+0098>: https://t.co/d0aUEKX79v  \\#ValentinesDay https://t.co/eoS3M9… & FALSE                                                                                                                                                                                 & 0                                                                                                                                                                                     & NA                                                                                                                                                                                    & 2017-02-18 22:53:22                                                                                                                                                                   & FALSE                                                                                                                                                                                 & NA                                                                                                                                                                                    & 833087039222456321                                                                                                                                                                    & NA                                                                                                                                                                                    & <a href=\"http://twitter.com/download/iphone\" rel=\"nofollow\">Twitter for iPhone</a>                                                                                                    & ElizabethEcosta                                                                                                                                                                       &  4                                                                                                                                                                                    &  TRUE                                                                                                                                                                                 & FALSE                                                                                                                                                                                 & NA                                                                                                                                                                                    & NA                                                                                                                                                                                   \\\\\n",
       "\t RT @NHSOrganDonor: Valentine's Day and organ donation fit like a glove. At the end of the day, they're both about love. \\#ValentinesDay http…                                        & FALSE                                                                                                                                                                                 & 0                                                                                                                                                                                     & NA                                                                                                                                                                                    & 2017-02-18 22:53:22                                                                                                                                                                   & FALSE                                                                                                                                                                                 & NA                                                                                                                                                                                    & 833087038085877760                                                                                                                                                                    & NA                                                                                                                                                                                    & <a href=\"http://twitter.com/\\#!/download/ipad\" rel=\"nofollow\">Twitter for iPad</a>                                                                                                   & CusackV                                                                                                                                                                               & 50                                                                                                                                                                                    &  TRUE                                                                                                                                                                                 & FALSE                                                                                                                                                                                 & NA                                                                                                                                                                                    & NA                                                                                                                                                                                   \\\\\n",
       "\t \\#Disney \\#WaltDisneyWorld \\#MagicKingdom \\#Pez \\#VintagePez \\#PezCollectors \\#MickeyMouse \\#MinnieMouse \\#ValentinesDay\n",
       "\n",
       "https://t.co/BW11YFUmDu                                          & FALSE                                                                                                                                                                                                 & 0                                                                                                                                                                                                     & NA                                                                                                                                                                                                    & 2017-02-18 22:52:55                                                                                                                                                                                   & FALSE                                                                                                                                                                                                 & NA                                                                                                                                                                                                    & 833086923010867202                                                                                                                                                                                    & NA                                                                                                                                                                                                    & <a href=\"http://twitter.com\" rel=\"nofollow\">Twitter Web Client</a>                                                                                                                                    & GoofyFan32                                                                                                                                                                                            &  0                                                                                                                                                                                                    & FALSE                                                                                                                                                                                                 & FALSE                                                                                                                                                                                                 & NA                                                                                                                                                                                                    & NA                                                                                                                                                                                                   \\\\\n",
       "\t RT @carlgershon: \\#NEWMUSIC ! A \\#slowjam for all the lovers and lonely hearts on \\#valentinesday . retweet if you dig it!  \\#np https://t.co/F…                                        & FALSE                                                                                                                                                                                       & 0                                                                                                                                                                                           & NA                                                                                                                                                                                          & 2017-02-18 22:52:52                                                                                                                                                                         & FALSE                                                                                                                                                                                       & NA                                                                                                                                                                                          & 833086913334616064                                                                                                                                                                          & NA                                                                                                                                                                                          & <a href=\"http://twitter.com/download/iphone\" rel=\"nofollow\">Twitter for iPhone</a>                                                                                                          & carlgershon                                                                                                                                                                                 &  1                                                                                                                                                                                          &  TRUE                                                                                                                                                                                       & FALSE                                                                                                                                                                                       & NA                                                                                                                                                                                          & NA                                                                                                                                                                                         \\\\\n",
       "\t RT @LuisGregoyo: El día del amor y la amistad en los tiempos de los filmes de DC Comics <ed><U+00A0><U+00BD><ed><U+00B8><U+0092> \\#ValentinesDay https://t.co/kSh65KkRRt             & FALSE                                                                                                                                                                                 & 0                                                                                                                                                                                     & NA                                                                                                                                                                                    & 2017-02-18 22:52:46                                                                                                                                                                   & FALSE                                                                                                                                                                                 & NA                                                                                                                                                                                    & 833086885027258370                                                                                                                                                                    & NA                                                                                                                                                                                    & <a href=\"http://twitter.com/download/android\" rel=\"nofollow\">Twitter for Android</a>                                                                                                  & 72Eduargonzas                                                                                                                                                                         &  1                                                                                                                                                                                    &  TRUE                                                                                                                                                                                 & FALSE                                                                                                                                                                                 & NA                                                                                                                                                                                    & NA                                                                                                                                                                                   \\\\\n",
       "\\end{tabular}\n"
      ],
      "text/markdown": [
       "\n",
       "text | favorited | favoriteCount | replyToSN | created | truncated | replyToSID | id | replyToUID | statusSource | screenName | retweetCount | isRetweet | retweeted | longitude | latitude | \n",
       "|---|---|---|---|---|---|\n",
       "| #ValentinesDay #poem If you're a fan of #RupiKaur &amp; #MilkandHoney check out #Fauxster. #WOC #AAPI #poetry #love… https://t.co/BWO9NSO1dR                                        | FALSE                                                                                                                                                                               | 0                                                                                                                                                                                   | NA                                                                                                                                                                                  | 2017-02-18 22:53:27                                                                                                                                                                 |  TRUE                                                                                                                                                                               | NA                                                                                                                                                                                  | 833087057794723841                                                                                                                                                                  | NA                                                                                                                                                                                  | <a href=\"http://twitter.com\" rel=\"nofollow\">Twitter Web Client</a>                                                                                                                  | fauxsterpoetry                                                                                                                                                                      |  0                                                                                                                                                                                  | FALSE                                                                                                                                                                               | FALSE                                                                                                                                                                               | NA                                                                                                                                                                                  | NA                                                                                                                                                                                  | \n",
       "| RT @RachaelRayShow: This is what Rachael is made John for their first dinner <ed><U+00A0><U+00BD><ed><U+00B2><U+0098>: https://t.co/d0aUEKX79v  #ValentinesDay https://t.co/eoS3M9… | FALSE                                                                                                                                                                               | 0                                                                                                                                                                                   | NA                                                                                                                                                                                  | 2017-02-18 22:53:22                                                                                                                                                                 | FALSE                                                                                                                                                                               | NA                                                                                                                                                                                  | 833087039222456321                                                                                                                                                                  | NA                                                                                                                                                                                  | <a href=\"http://twitter.com/download/iphone\" rel=\"nofollow\">Twitter for iPhone</a>                                                                                                  | ElizabethEcosta                                                                                                                                                                     |  4                                                                                                                                                                                  |  TRUE                                                                                                                                                                               | FALSE                                                                                                                                                                               | NA                                                                                                                                                                                  | NA                                                                                                                                                                                  | \n",
       "| RT @NHSOrganDonor: Valentine's Day and organ donation fit like a glove. At the end of the day, they're both about love. #ValentinesDay http…                                        | FALSE                                                                                                                                                                               | 0                                                                                                                                                                                   | NA                                                                                                                                                                                  | 2017-02-18 22:53:22                                                                                                                                                                 | FALSE                                                                                                                                                                               | NA                                                                                                                                                                                  | 833087038085877760                                                                                                                                                                  | NA                                                                                                                                                                                  | <a href=\"http://twitter.com/#!/download/ipad\" rel=\"nofollow\">Twitter for iPad</a>                                                                                                   | CusackV                                                                                                                                                                             | 50                                                                                                                                                                                  |  TRUE                                                                                                                                                                               | FALSE                                                                                                                                                                               | NA                                                                                                                                                                                  | NA                                                                                                                                                                                  | \n",
       "| #Disney #WaltDisneyWorld #MagicKingdom #Pez #VintagePez #PezCollectors #MickeyMouse #MinnieMouse #ValentinesDay\n",
       "\n",
       "https://t.co/BW11YFUmDu                                          | FALSE                                                                                                                                                                               | 0                                                                                                                                                                                   | NA                                                                                                                                                                                  | 2017-02-18 22:52:55                                                                                                                                                                 | FALSE                                                                                                                                                                               | NA                                                                                                                                                                                  | 833086923010867202                                                                                                                                                                  | NA                                                                                                                                                                                  | <a href=\"http://twitter.com\" rel=\"nofollow\">Twitter Web Client</a>                                                                                                                  | GoofyFan32                                                                                                                                                                          |  0                                                                                                                                                                                  | FALSE                                                                                                                                                                               | FALSE                                                                                                                                                                               | NA                                                                                                                                                                                  | NA                                                                                                                                                                                  | \n",
       "| RT @carlgershon: #NEWMUSIC ! A #slowjam for all the lovers and lonely hearts on #valentinesday . retweet if you dig it!  #np https://t.co/F…                                        | FALSE                                                                                                                                                                               | 0                                                                                                                                                                                   | NA                                                                                                                                                                                  | 2017-02-18 22:52:52                                                                                                                                                                 | FALSE                                                                                                                                                                               | NA                                                                                                                                                                                  | 833086913334616064                                                                                                                                                                  | NA                                                                                                                                                                                  | <a href=\"http://twitter.com/download/iphone\" rel=\"nofollow\">Twitter for iPhone</a>                                                                                                  | carlgershon                                                                                                                                                                         |  1                                                                                                                                                                                  |  TRUE                                                                                                                                                                               | FALSE                                                                                                                                                                               | NA                                                                                                                                                                                  | NA                                                                                                                                                                                  | \n",
       "| RT @LuisGregoyo: El día del amor y la amistad en los tiempos de los filmes de DC Comics <ed><U+00A0><U+00BD><ed><U+00B8><U+0092> #ValentinesDay https://t.co/kSh65KkRRt             | FALSE                                                                                                                                                                               | 0                                                                                                                                                                                   | NA                                                                                                                                                                                  | 2017-02-18 22:52:46                                                                                                                                                                 | FALSE                                                                                                                                                                               | NA                                                                                                                                                                                  | 833086885027258370                                                                                                                                                                  | NA                                                                                                                                                                                  | <a href=\"http://twitter.com/download/android\" rel=\"nofollow\">Twitter for Android</a>                                                                                                | 72Eduargonzas                                                                                                                                                                       |  1                                                                                                                                                                                  |  TRUE                                                                                                                                                                               | FALSE                                                                                                                                                                               | NA                                                                                                                                                                                  | NA                                                                                                                                                                                  | \n",
       "\n",
       "\n"
      ],
      "text/plain": [
       "  text                                                                                                                                                                               \n",
       "1 #ValentinesDay #poem If you're a fan of #RupiKaur &amp; #MilkandHoney check out #Fauxster. #WOC #AAPI #poetry #love",
       " https://t.co/BWO9NSO1dR                                       \n",
       "2 RT @RachaelRayShow: This is what Rachael is made John for their first dinner <ed><U+00A0><U+00BD><ed><U+00B2><U+0098>: https://t.co/d0aUEKX79v  #ValentinesDay https://t.co/eoS3M9",
       "\n",
       "3 RT @NHSOrganDonor: Valentine's Day and organ donation fit like a glove. At the end of the day, they're both about love. #ValentinesDay http",
       "                                       \n",
       "4 #Disney #WaltDisneyWorld #MagicKingdom #Pez #VintagePez #PezCollectors #MickeyMouse #MinnieMouse #ValentinesDay\\n\\nhttps://t.co/BW11YFUmDu                                         \n",
       "5 RT @carlgershon: #NEWMUSIC ! A #slowjam for all the lovers and lonely hearts on #valentinesday . retweet if you dig it!  #np https://t.co/F",
       "                                       \n",
       "6 RT @LuisGregoyo: El día del amor y la amistad en los tiempos de los filmes de DC Comics <ed><U+00A0><U+00BD><ed><U+00B8><U+0092> #ValentinesDay https://t.co/kSh65KkRRt            \n",
       "  favorited favoriteCount replyToSN created             truncated replyToSID\n",
       "1 FALSE     0             NA        2017-02-18 22:53:27  TRUE     NA        \n",
       "2 FALSE     0             NA        2017-02-18 22:53:22 FALSE     NA        \n",
       "3 FALSE     0             NA        2017-02-18 22:53:22 FALSE     NA        \n",
       "4 FALSE     0             NA        2017-02-18 22:52:55 FALSE     NA        \n",
       "5 FALSE     0             NA        2017-02-18 22:52:52 FALSE     NA        \n",
       "6 FALSE     0             NA        2017-02-18 22:52:46 FALSE     NA        \n",
       "  id                 replyToUID\n",
       "1 833087057794723841 NA        \n",
       "2 833087039222456321 NA        \n",
       "3 833087038085877760 NA        \n",
       "4 833086923010867202 NA        \n",
       "5 833086913334616064 NA        \n",
       "6 833086885027258370 NA        \n",
       "  statusSource                                                                        \n",
       "1 <a href=\"http://twitter.com\" rel=\"nofollow\">Twitter Web Client</a>                  \n",
       "2 <a href=\"http://twitter.com/download/iphone\" rel=\"nofollow\">Twitter for iPhone</a>  \n",
       "3 <a href=\"http://twitter.com/#!/download/ipad\" rel=\"nofollow\">Twitter for iPad</a>   \n",
       "4 <a href=\"http://twitter.com\" rel=\"nofollow\">Twitter Web Client</a>                  \n",
       "5 <a href=\"http://twitter.com/download/iphone\" rel=\"nofollow\">Twitter for iPhone</a>  \n",
       "6 <a href=\"http://twitter.com/download/android\" rel=\"nofollow\">Twitter for Android</a>\n",
       "  screenName      retweetCount isRetweet retweeted longitude latitude\n",
       "1 fauxsterpoetry   0           FALSE     FALSE     NA        NA      \n",
       "2 ElizabethEcosta  4            TRUE     FALSE     NA        NA      \n",
       "3 CusackV         50            TRUE     FALSE     NA        NA      \n",
       "4 GoofyFan32       0           FALSE     FALSE     NA        NA      \n",
       "5 carlgershon      1            TRUE     FALSE     NA        NA      \n",
       "6 72Eduargonzas    1            TRUE     FALSE     NA        NA      "
      ]
     },
     "metadata": {},
     "output_type": "display_data"
    }
   ],
   "source": [
    "df<-twListToDF(tweets)\n",
    "head(df)"
   ]
  },
  {
   "cell_type": "code",
   "execution_count": 15,
   "metadata": {
    "collapsed": true
   },
   "outputs": [],
   "source": [
    "library('RSQLite')"
   ]
  },
  {
   "cell_type": "code",
   "execution_count": 16,
   "metadata": {
    "collapsed": false
   },
   "outputs": [
    {
     "data": {
      "text/html": [
       "TRUE"
      ],
      "text/latex": [
       "TRUE"
      ],
      "text/markdown": [
       "TRUE"
      ],
      "text/plain": [
       "[1] TRUE"
      ]
     },
     "metadata": {},
     "output_type": "display_data"
    }
   ],
   "source": [
    "sql_lite_file=tempfile()\n",
    "register_sqlite_backend(sql_lite_file)\n",
    "store_tweets_db(tweets)"
   ]
  },
  {
   "cell_type": "code",
   "execution_count": 17,
   "metadata": {
    "collapsed": false
   },
   "outputs": [
    {
     "data": {
      "text/plain": [
       "[[1]]\n",
       "[1] \"fauxsterpoetry: #ValentinesDay #poem If you're a fan of #RupiKaur &amp; #MilkandHoney check out #Fauxster. #WOC #AAPI #poetry #love",
       " https://t.co/BWO9NSO1dR\"\n",
       "\n",
       "[[2]]\n",
       "[1] \"ElizabethEcosta: RT @RachaelRayShow: This is what Rachael is made John for their first dinner <ed><U+00A0><U+00BD><ed><U+00B2><U+0098>: https://t.co/d0aUEKX79v  #ValentinesDay https://t.co/eoS3M9",
       "\"\n",
       "\n",
       "[[3]]\n",
       "[1] \"CusackV: RT @NHSOrganDonor: Valentine's Day and organ donation fit like a glove. At the end of the day, they're both about love. #ValentinesDay http",
       "\"\n",
       "\n",
       "[[4]]\n",
       "[1] \"GoofyFan32: #Disney #WaltDisneyWorld #MagicKingdom #Pez #VintagePez #PezCollectors #MickeyMouse #MinnieMouse #ValentinesDay\\n\\nhttps://t.co/BW11YFUmDu\"\n",
       "\n",
       "[[5]]\n",
       "[1] \"carlgershon: RT @carlgershon: #NEWMUSIC ! A #slowjam for all the lovers and lonely hearts on #valentinesday . retweet if you dig it!  #np https://t.co/F",
       "\"\n",
       "\n",
       "[[6]]\n",
       "[1] \"72Eduargonzas: RT @LuisGregoyo: El día del amor y la amistad en los tiempos de los filmes de DC Comics <ed><U+00A0><U+00BD><ed><U+00B8><U+0092> #ValentinesDay https://t.co/kSh65KkRRt\"\n"
      ]
     },
     "metadata": {},
     "output_type": "display_data"
    }
   ],
   "source": [
    "from_db=load_tweets_db()\n",
    "head(from_db)"
   ]
  },
  {
   "cell_type": "code",
   "execution_count": 18,
   "metadata": {
    "collapsed": false
   },
   "outputs": [
    {
     "data": {
      "text/plain": [
       "[[1]]\n",
       "[1] \"arjun26: @passportsevamea , @SushmaSwaraj\"\n",
       "\n",
       "[[2]]\n",
       "[1] \"arjun26: @passportsevamea https://t.co/kzTLljo0CB\"\n",
       "\n",
       "[[3]]\n",
       "[1] \"arjun26: @passportsevamea File No. CA2069112378916 Not getting Passport of my Wife since a month, its returned back due to Fault of Postman\"\n",
       "\n",
       "[[4]]\n",
       "[1] \"arjun26: @Dorkstar Mom, in 1st place cd nt decide nd fwded to the court for help..court instead of a verdict..returned the ball back to where it was.\"\n",
       "\n",
       "[[5]]\n",
       "[1] \"arjun26: want to start a real internet biz this year? you must check this out - http://t.co/0m4bYAlO\"\n"
      ]
     },
     "metadata": {},
     "output_type": "display_data"
    }
   ],
   "source": [
    "user_tweets<-userTimeline('arjun26')\n",
    "user_tweets[1:5]"
   ]
  },
  {
   "cell_type": "code",
   "execution_count": 32,
   "metadata": {
    "collapsed": false
   },
   "outputs": [
    {
     "data": {
      "text/html": [
       "100"
      ],
      "text/latex": [
       "100"
      ],
      "text/markdown": [
       "100"
      ],
      "text/plain": [
       "[1] 100"
      ]
     },
     "metadata": {},
     "output_type": "display_data"
    }
   ],
   "source": [
    "cran_tweets_large<-userTimeline('BeingSalmanKhan', n=100)\n",
    "length(cran_tweets_large)"
   ]
  },
  {
   "cell_type": "code",
   "execution_count": 33,
   "metadata": {
    "collapsed": false
   },
   "outputs": [
    {
     "data": {
      "text/html": [
       "<table>\n",
       "<thead><tr><th scope=col>name</th><th scope=col>country</th><th scope=col>woeid</th></tr></thead>\n",
       "<tbody>\n",
       "\t<tr><td>Worldwide</td><td>         </td><td>1        </td></tr>\n",
       "\t<tr><td>Winnipeg </td><td>Canada   </td><td>2972     </td></tr>\n",
       "\t<tr><td>Ottawa   </td><td>Canada   </td><td>3369     </td></tr>\n",
       "\t<tr><td>Quebec   </td><td>Canada   </td><td>3444     </td></tr>\n",
       "\t<tr><td>Montreal </td><td>Canada   </td><td>3534     </td></tr>\n",
       "\t<tr><td>Toronto  </td><td>Canada   </td><td>4118     </td></tr>\n",
       "</tbody>\n",
       "</table>\n"
      ],
      "text/latex": [
       "\\begin{tabular}{r|lll}\n",
       " name & country & woeid\\\\\n",
       "\\hline\n",
       "\t Worldwide &           & 1        \\\\\n",
       "\t Winnipeg  & Canada    & 2972     \\\\\n",
       "\t Ottawa    & Canada    & 3369     \\\\\n",
       "\t Quebec    & Canada    & 3444     \\\\\n",
       "\t Montreal  & Canada    & 3534     \\\\\n",
       "\t Toronto   & Canada    & 4118     \\\\\n",
       "\\end{tabular}\n"
      ],
      "text/markdown": [
       "\n",
       "name | country | woeid | \n",
       "|---|---|---|---|---|---|\n",
       "| Worldwide |           | 1         | \n",
       "| Winnipeg  | Canada    | 2972      | \n",
       "| Ottawa    | Canada    | 3369      | \n",
       "| Quebec    | Canada    | 3444      | \n",
       "| Montreal  | Canada    | 3534      | \n",
       "| Toronto   | Canada    | 4118      | \n",
       "\n",
       "\n"
      ],
      "text/plain": [
       "  name      country woeid\n",
       "1 Worldwide         1    \n",
       "2 Winnipeg  Canada  2972 \n",
       "3 Ottawa    Canada  3369 \n",
       "4 Quebec    Canada  3444 \n",
       "5 Montreal  Canada  3534 \n",
       "6 Toronto   Canada  4118 "
      ]
     },
     "metadata": {},
     "output_type": "display_data"
    }
   ],
   "source": [
    "avail_trends=availableTrendLocations()\n",
    "head(avail_trends)"
   ]
  },
  {
   "cell_type": "code",
   "execution_count": 34,
   "metadata": {
    "collapsed": false
   },
   "outputs": [
    {
     "data": {
      "text/html": [
       "<table>\n",
       "<thead><tr><th scope=col>name</th><th scope=col>country</th><th scope=col>woeid</th></tr></thead>\n",
       "<tbody>\n",
       "\t<tr><td>Concepcion</td><td>Chile     </td><td>349860    </td></tr>\n",
       "</tbody>\n",
       "</table>\n"
      ],
      "text/latex": [
       "\\begin{tabular}{r|lll}\n",
       " name & country & woeid\\\\\n",
       "\\hline\n",
       "\t Concepcion & Chile      & 349860    \\\\\n",
       "\\end{tabular}\n"
      ],
      "text/markdown": [
       "\n",
       "name | country | woeid | \n",
       "|---|\n",
       "| Concepcion | Chile      | 349860     | \n",
       "\n",
       "\n"
      ],
      "text/plain": [
       "  name       country woeid \n",
       "1 Concepcion Chile   349860"
      ]
     },
     "metadata": {},
     "output_type": "display_data"
    }
   ],
   "source": [
    "close_trends=closestTrendLocations(-42.8,-71.1)\n",
    "head(close_trends)"
   ]
  },
  {
   "cell_type": "code",
   "execution_count": 35,
   "metadata": {
    "collapsed": false
   },
   "outputs": [
    {
     "data": {
      "text/html": [
       "<table>\n",
       "<thead><tr><th scope=col>name</th><th scope=col>url</th><th scope=col>query</th><th scope=col>woeid</th></tr></thead>\n",
       "<tbody>\n",
       "\t<tr><td>#NationalDrinkWineDay                              </td><td>http://twitter.com/search?q=%23NationalDrinkWineDay</td><td>%23NationalDrinkWineDay                            </td><td>2367105                                            </td></tr>\n",
       "\t<tr><td>#Boskone                                           </td><td>http://twitter.com/search?q=%23Boskone             </td><td>%23Boskone                                         </td><td>2367105                                            </td></tr>\n",
       "\t<tr><td>#AAASmtg                                           </td><td>http://twitter.com/search?q=%23AAASmtg             </td><td>%23AAASmtg                                         </td><td>2367105                                            </td></tr>\n",
       "\t<tr><td>#ZGWL                                              </td><td>http://twitter.com/search?q=%23ZGWL                </td><td>%23ZGWL                                            </td><td>2367105                                            </td></tr>\n",
       "\t<tr><td>#GoNU                                              </td><td>http://twitter.com/search?q=%23GoNU                </td><td>%23GoNU                                            </td><td>2367105                                            </td></tr>\n",
       "\t<tr><td>Eron Harris                                        </td><td>http://twitter.com/search?q=%22Eron+Harris%22      </td><td>%22Eron+Harris%22                                  </td><td>2367105                                            </td></tr>\n",
       "</tbody>\n",
       "</table>\n"
      ],
      "text/latex": [
       "\\begin{tabular}{r|llll}\n",
       " name & url & query & woeid\\\\\n",
       "\\hline\n",
       "\t \\#NationalDrinkWineDay                               & http://twitter.com/search?q=\\%23NationalDrinkWineDay & \\%23NationalDrinkWineDay                             & 2367105                                              \\\\\n",
       "\t \\#Boskone                                            & http://twitter.com/search?q=\\%23Boskone              & \\%23Boskone                                          & 2367105                                              \\\\\n",
       "\t \\#AAASmtg                                            & http://twitter.com/search?q=\\%23AAASmtg              & \\%23AAASmtg                                          & 2367105                                              \\\\\n",
       "\t \\#ZGWL                                               & http://twitter.com/search?q=\\%23ZGWL                 & \\%23ZGWL                                             & 2367105                                              \\\\\n",
       "\t \\#GoNU                                               & http://twitter.com/search?q=\\%23GoNU                 & \\%23GoNU                                             & 2367105                                              \\\\\n",
       "\t Eron Harris                                             & http://twitter.com/search?q=\\%22Eron+Harris\\%22       & \\%22Eron+Harris\\%22                                   & 2367105                                                \\\\\n",
       "\\end{tabular}\n"
      ],
      "text/markdown": [
       "\n",
       "name | url | query | woeid | \n",
       "|---|---|---|---|---|---|\n",
       "| #NationalDrinkWineDay                               | http://twitter.com/search?q=%23NationalDrinkWineDay | %23NationalDrinkWineDay                             | 2367105                                             | \n",
       "| #Boskone                                            | http://twitter.com/search?q=%23Boskone              | %23Boskone                                          | 2367105                                             | \n",
       "| #AAASmtg                                            | http://twitter.com/search?q=%23AAASmtg              | %23AAASmtg                                          | 2367105                                             | \n",
       "| #ZGWL                                               | http://twitter.com/search?q=%23ZGWL                 | %23ZGWL                                             | 2367105                                             | \n",
       "| #GoNU                                               | http://twitter.com/search?q=%23GoNU                 | %23GoNU                                             | 2367105                                             | \n",
       "| Eron Harris                                         | http://twitter.com/search?q=%22Eron+Harris%22       | %22Eron+Harris%22                                   | 2367105                                             | \n",
       "\n",
       "\n"
      ],
      "text/plain": [
       "  name                  url                                                \n",
       "1 #NationalDrinkWineDay http://twitter.com/search?q=%23NationalDrinkWineDay\n",
       "2 #Boskone              http://twitter.com/search?q=%23Boskone             \n",
       "3 #AAASmtg              http://twitter.com/search?q=%23AAASmtg             \n",
       "4 #ZGWL                 http://twitter.com/search?q=%23ZGWL                \n",
       "5 #GoNU                 http://twitter.com/search?q=%23GoNU                \n",
       "6 Eron Harris           http://twitter.com/search?q=%22Eron+Harris%22      \n",
       "  query                   woeid  \n",
       "1 %23NationalDrinkWineDay 2367105\n",
       "2 %23Boskone              2367105\n",
       "3 %23AAASmtg              2367105\n",
       "4 %23ZGWL                 2367105\n",
       "5 %23GoNU                 2367105\n",
       "6 %22Eron+Harris%22       2367105"
      ]
     },
     "metadata": {},
     "output_type": "display_data"
    }
   ],
   "source": [
    "trends=getTrends(2367105)\n",
    "head(trends)"
   ]
  },
  {
   "cell_type": "code",
   "execution_count": 36,
   "metadata": {
    "collapsed": false
   },
   "outputs": [
    {
     "data": {
      "image/png": "[encoded data removed]",
      "text/plain": [
       "plot without title"
      ]
     },
     "metadata": {},
     "output_type": "display_data"
    }
   ],
   "source": [
    "r_tweets<-searchTwitter(\"#Valentines\",n=300)\n",
    "sources<-sapply(r_tweets,function(x)x$getStatusSource())\n",
    "sources<-gsub(\"</a>\",\"\",sources)\n",
    "sources<-strsplit(sources,\">\")\n",
    "sources<-sapply(sources,function(x)ifelse(length(x)>1,x[2],x[1]))\n",
    "source_table=table(sources)\n",
    "pie(source_table[source_table>10])"
   ]
  },
  {
   "cell_type": "code",
   "execution_count": null,
   "metadata": {
    "collapsed": true
   },
   "outputs": [],
   "source": []
  }
 ],
 "metadata": {
  "kernelspec": {
   "display_name": "R 3.3",
   "language": "R",
   "name": "ir33"
  },
  "language_info": {
   "codemirror_mode": "r",
   "file_extension": ".r",
   "mimetype": "text/x-r-source",
   "name": "R",
   "pygments_lexer": "r",
   "version": "3.3.1"
  }
 },
 "nbformat": 4,
 "nbformat_minor": 0
}
